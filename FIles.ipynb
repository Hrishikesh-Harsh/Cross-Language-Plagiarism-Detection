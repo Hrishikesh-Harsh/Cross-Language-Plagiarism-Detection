{
 "cells": [
  {
   "cell_type": "code",
   "execution_count": 10,
   "metadata": {},
   "outputs": [],
   "source": [
    "from PyPDF2 import PdfReader\n",
    "from deep_translator import GoogleTranslator\n",
    "from zipfile import ZipFile\n",
    "import os"
   ]
  },
  {
   "cell_type": "code",
   "execution_count": 3,
   "metadata": {},
   "outputs": [],
   "source": [
    "# ZIP file should be in the same folder as the .ipynb file obviously\n",
    "zipFileName = 'corpus.zip'\n",
    "# extract the zip file\n",
    "with ZipFile(zipFileName, 'r') as zipObj:\n",
    "    zipObj.extractall()"
   ]
  },
  {
   "cell_type": "code",
   "execution_count": 11,
   "metadata": {},
   "outputs": [],
   "source": [
    "# corpus will hae a list of all the files in the zip file\n",
    "corpus = []\n",
    "for x in os.listdir():\n",
    "    if (x.endswith(\".pdf\")):\n",
    "        corpus.append(x)\n"
   ]
  },
  {
   "cell_type": "code",
   "execution_count": 12,
   "metadata": {},
   "outputs": [],
   "source": [
    "# Split string into two equal halves\n",
    "def split_string(s):\n",
    "    l = len(s)\n",
    "    i = s.find('. ',l//2)\n",
    "    \n",
    "    s1 = s[0:i+1]\n",
    "    s2 = s[i+1:]\n",
    "    \n",
    "    return s1,s2"
   ]
  },
  {
   "cell_type": "code",
   "execution_count": 17,
   "metadata": {},
   "outputs": [],
   "source": [
    "# Translate the .pdf file and return the string\n",
    "def translate_file(fileName):\n",
    "    reader = PdfReader(fileName)\n",
    "    pages = len(reader.pages)\n",
    "    story = \"\"\"\"\"\"\n",
    "\n",
    "    for i in range(0,pages):\n",
    "        page = reader.pages[i]\n",
    "        str1,str2 = split_string(page.extractText())\n",
    "        translated = GoogleTranslator(source='auto', target='en').translate(text=str1)\n",
    "        story = story + str(translated)\n",
    "\n",
    "        translated = GoogleTranslator(source='auto', target='en').translate(text=str2)\n",
    "        story = story + str(translated)\n",
    "    \n",
    "    story = story.replace('\\n', ' ')\n",
    "    story = story.replace('\\t', '')\n",
    "\n",
    "    return story"
   ]
  },
  {
   "cell_type": "code",
   "execution_count": 18,
   "metadata": {},
   "outputs": [],
   "source": [
    "# translateCorpus is list of the translated corpus in string format\n",
    "translatedCorpus = []\n",
    "\n",
    "for x in corpus:\n",
    "    translatedCorpus.append(translate_file(x))"
   ]
  },
  {
   "cell_type": "code",
   "execution_count": null,
   "metadata": {},
   "outputs": [],
   "source": [
    "translatedCorpus[2]"
   ]
  }
 ],
 "metadata": {
  "kernelspec": {
   "display_name": "Python 3.9.5 ('base')",
   "language": "python",
   "name": "python3"
  },
  "language_info": {
   "codemirror_mode": {
    "name": "ipython",
    "version": 3
   },
   "file_extension": ".py",
   "mimetype": "text/x-python",
   "name": "python",
   "nbconvert_exporter": "python",
   "pygments_lexer": "ipython3",
   "version": "3.9.5"
  },
  "orig_nbformat": 4,
  "vscode": {
   "interpreter": {
    "hash": "4ded07237dbfafc8373e566cfe932557d647581b6f69415d805b7b9e9b0c4bcc"
   }
  }
 },
 "nbformat": 4,
 "nbformat_minor": 2
}
