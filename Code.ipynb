{
 "cells": [
  {
   "cell_type": "markdown",
   "metadata": {},
   "source": [
    "#### In this notebook, we are going to put together all the features we have built till now and upscale it\n",
    "#### (May the Force be with Us)"
   ]
  },
  {
   "cell_type": "code",
   "execution_count": 146,
   "metadata": {},
   "outputs": [],
   "source": [
    "import re\n",
    "import nltk\n",
    "from nltk.util import ngrams, pad_sequence, everygrams\n",
    "from nltk.lm import MLE, WittenBellInterpolated\n",
    "from scipy.ndimage import gaussian_filter\n",
    "from tabulate import tabulate\n",
    "import numpy as np\n",
    "import pandas as pd\n",
    "import plotly.graph_objects as go\n",
    "import plotly.express as px\n",
    "import spacy\n",
    "from zipfile import ZipFile\n",
    "# from deep_translator import GoogleTranslator\n",
    "from googletrans import Translator\n",
    "import googletrans\n",
    "from PyPDF2 import PdfReader\n",
    "import tkinter as tk\n",
    "from tkinter import *\n",
    "from tkinter.ttk import *\n",
    "from pdfminer.pdfinterp import PDFResourceManager, PDFPageInterpreter\n",
    "from pdfminer.converter import TextConverter\n",
    "from pdfminer.layout import LAParams\n",
    "from pdfminer.pdfpage import PDFPage\n",
    "import io\n",
    "import os\n",
    "from io import StringIO"
   ]
  },
  {
   "cell_type": "markdown",
   "metadata": {},
   "source": [
    "-> preProcess(text): returns text\n",
    "\n",
    "- Remove puctuation, new lines, tabs and extra spaces.\n",
    "- Remove \"Machine Translated By Google\" tag\n",
    "- Remove the Bibliography and References Section\n"
   ]
  },
  {
   "cell_type": "code",
   "execution_count": 147,
   "metadata": {},
   "outputs": [],
   "source": [
    "def preProcess(text):\n",
    "    text = re.sub(r'[^\\w\\s]','',text)\n",
    "    text = text.replace('\\n', ' ')\n",
    "    text = text.replace('\\t', ' ')\n",
    "    text = text.replace(\"Machine Translated by Google\",' ')\n",
    "    text = re.sub(r'^https?:\\/\\/.*[\\r\\n]*', ' ', text, flags=re.MULTILINE)\n",
    "    text = \" \".join(text.split())\n",
    "\n",
    "    i = text.find('Bibliography')\n",
    "    if i != -1:\n",
    "        text = text[:i]\n",
    "    i = text.find('References')\n",
    "    if i != -1:\n",
    "        text = text[:i]\n",
    "    \n",
    "    return text"
   ]
  },
  {
   "cell_type": "markdown",
   "metadata": {},
   "source": [
    "-> extractText(fileName,start): \n",
    "- Returns extracted text from 'fileName' PDF from 'start' page"
   ]
  },
  {
   "cell_type": "code",
   "execution_count": 148,
   "metadata": {},
   "outputs": [],
   "source": [
    "# def extractText(fileName,start):\n",
    "#     reader = PdfReader(fileName)\n",
    "#     pages = len(reader.pages)\n",
    "#     story = \"\"\"\"\"\"\n",
    "\n",
    "#     for i in range(start,pages):\n",
    "#         page = reader.pages[i]\n",
    "#         story = story + str(page.extractText())\n",
    "#     return story\n",
    "\n",
    "def extractText(fileName,start):\n",
    "    rsrcmgr = PDFResourceManager()\n",
    "    codec = 'utf-8'\n",
    "    laparams = LAParams()\n",
    "\n",
    "    with io.StringIO() as retstr:\n",
    "        with TextConverter(rsrcmgr, retstr, codec=codec,\n",
    "                           laparams=laparams) as device:\n",
    "            with open(fileName, 'rb') as fp:\n",
    "                interpreter = PDFPageInterpreter(rsrcmgr, device)\n",
    "                password = \"\"\n",
    "                maxpages = 0\n",
    "                caching = True\n",
    "                pagenos = set()\n",
    "                pgNo = 0\n",
    "\n",
    "                for page in PDFPage.get_pages(fp,\n",
    "                                              pagenos,\n",
    "                                              maxpages=maxpages,\n",
    "                                              password=password,\n",
    "                                              caching=caching,\n",
    "                                              check_extractable=True):\n",
    "                    if(pgNo != (start-1)):\n",
    "                        interpreter.process_page(page)\n",
    "                    pgNo += 1\n",
    "\n",
    "                return retstr.getvalue()\n"
   ]
  },
  {
   "cell_type": "markdown",
   "metadata": {},
   "source": [
    "-> extractFromZIP(zipFileName):\n",
    "- Extracts the Corpus PDFs from the specified ZIP File"
   ]
  },
  {
   "cell_type": "code",
   "execution_count": 149,
   "metadata": {},
   "outputs": [],
   "source": [
    "def extractFromZIP(zipFileName):\n",
    "    # ZIP file should be in the same folder as the .ipynb file obviously\n",
    "    # extract the zip file\n",
    "    with ZipFile(zipFileName, 'r') as zipObj:\n",
    "        zipObj.extractall()"
   ]
  },
  {
   "cell_type": "code",
   "execution_count": 150,
   "metadata": {},
   "outputs": [],
   "source": [
    "# Load the language library\n",
    "nlp = spacy.load('en_core_web_lg')"
   ]
  },
  {
   "cell_type": "code",
   "execution_count": 151,
   "metadata": {},
   "outputs": [],
   "source": [
    "def getSourceLangs():\n",
    "    lang_dict = googletrans.LANGUAGES\n",
    "    for i in lang_dict:\n",
    "        lang_dict[i] = lang_dict[i][0].upper() + lang_dict[i][1:]\n",
    "        \n",
    "    translator = Translator()\n",
    "    source_lang_dict = {}\n",
    "    i=0\n",
    "    for x in os.listdir():\n",
    "        if x.endswith(\".pdf\") and not x.startswith(\"Suspicious\"):\n",
    "            reader = PdfReader(x)\n",
    "            pages = len(reader.pages)\n",
    "            story = \"\"\"\"\"\"\n",
    "            story = story + str(reader.pages[0].extractText())\n",
    "            lang = translator.detect(story)\n",
    "            source_lang_dict[i] = lang_dict[lang.lang]\n",
    "            os.remove(x)\n",
    "            i+=1\n",
    "    \n",
    "    return source_lang_dict"
   ]
  },
  {
   "cell_type": "markdown",
   "metadata": {},
   "source": [
    "-> createCorpus():\n",
    "- Create and Return List of Source Doc Names"
   ]
  },
  {
   "cell_type": "code",
   "execution_count": 152,
   "metadata": {},
   "outputs": [],
   "source": [
    "def createCorpus():\n",
    "    corpus = []\n",
    "    for x in os.listdir():\n",
    "        if ((x.endswith(\".pdf\") or x.endswith(\".PDF\")) and not(x.startswith(\"Sus\"))):\n",
    "            corpus.append(x)\n",
    "    return corpus"
   ]
  },
  {
   "cell_type": "markdown",
   "metadata": {},
   "source": [
    "-> createListOfCorpus(corpus):\n",
    "- Create and return list of Individual contents of the Corpus Docs"
   ]
  },
  {
   "cell_type": "code",
   "execution_count": 153,
   "metadata": {},
   "outputs": [],
   "source": [
    "def createListOfCorpus(corpus):\n",
    "    listOfCorpus = []\n",
    "    for x in range(len(corpus)):\n",
    "        text = extractText(corpus[x],1)\n",
    "        text = preProcess(text)\n",
    "        listOfCorpus.append(text)\n",
    "    return listOfCorpus"
   ]
  },
  {
   "cell_type": "markdown",
   "metadata": {},
   "source": [
    "-> createReferences(corpus):\n",
    "- Create and return dictionary of the Corpus Doc Names for mapping back Plagiarised Portions"
   ]
  },
  {
   "cell_type": "code",
   "execution_count": 154,
   "metadata": {},
   "outputs": [],
   "source": [
    "def createReferences(corpus):\n",
    "    references = {}\n",
    "    for x in range(len(corpus)):\n",
    "        references[x] = corpus[x]\n",
    "    \n",
    "    return references"
   ]
  },
  {
   "cell_type": "markdown",
   "metadata": {},
   "source": [
    "-> createVector(listOfCorpus):\n",
    "- Create and return list of vectors of the Individual contents of the Corpus Docs"
   ]
  },
  {
   "cell_type": "code",
   "execution_count": 155,
   "metadata": {},
   "outputs": [],
   "source": [
    "def createVector(listOfCorpus):\n",
    "    vector = []\n",
    "    for x in listOfCorpus:\n",
    "        vector.append(nlp(x))\n",
    "    return vector"
   ]
  },
  {
   "cell_type": "markdown",
   "metadata": {},
   "source": [
    "-> trainModel(trainingVector, n):\n",
    "- Trains model based on Witten Bell Interpolation over trainingVector (of entire Corpus combined) and n-gram value 'n'\n",
    "- Returns model"
   ]
  },
  {
   "cell_type": "code",
   "execution_count": 156,
   "metadata": {},
   "outputs": [],
   "source": [
    "def trainModel(trainingVector, n):\n",
    "    words = [w.text for w in trainingVector]\n",
    "    training_data = list(pad_sequence(words, n, \n",
    "                                    pad_left=True, \n",
    "                                    left_pad_symbol=\"<s>\"))\n",
    "    # Generate n-grams from the training data\n",
    "    ngrams = list(everygrams(training_data, max_len=n))\n",
    "    # Build n-gram language model\n",
    "    model = WittenBellInterpolated(n)\n",
    "    model.fit([ngrams],vocabulary_text=training_data)\n",
    "    return model"
   ]
  },
  {
   "cell_type": "markdown",
   "metadata": {},
   "source": [
    "-> createTestData(fileName):\n",
    "- Create the test data from the Suspicious Doc and return its vector"
   ]
  },
  {
   "cell_type": "code",
   "execution_count": 157,
   "metadata": {},
   "outputs": [],
   "source": [
    "def createTestData(fileName):\n",
    "    suspiciousText = extractText(fileName,0)\n",
    "    suspiciousText = preProcess(suspiciousText)\n",
    "    testVector = nlp(suspiciousText)\n",
    "    words = [w.text for w in testVector]\n",
    "    test_data = list(pad_sequence(words, n,\n",
    "                                pad_left=True,\n",
    "                                left_pad_symbol=\"<s>\"))\n",
    "    return test_data,testVector,suspiciousText\n"
   ]
  },
  {
   "cell_type": "markdown",
   "metadata": {},
   "source": [
    "-> generateScores(model, test_data):\n",
    "- Get scores of probability of plagiarism on individual words based on context of neighbouring 'n' words\n",
    "- Return numpy array of those scores"
   ]
  },
  {
   "cell_type": "code",
   "execution_count": 158,
   "metadata": {},
   "outputs": [],
   "source": [
    "def generateScores(model, test_data):\n",
    "    score=[]\n",
    "    #source = []\n",
    "    # Generate score\n",
    "    for i,ele in enumerate(test_data[n-1:]):\n",
    "        s = model.score(ele,test_data[i:i+n-1])\n",
    "        score.append(s)\n",
    "\n",
    "    # Convert to numpy array\n",
    "    score_np=np.array(score)\n",
    "    return score_np"
   ]
  },
  {
   "cell_type": "markdown",
   "metadata": {},
   "source": [
    "-> generateData(width,score_np):\n",
    "- Creating another numpy array of matrix dimensions to fit in a heatmap\n",
    "- Creating source labels to label individual Plagiarised portions\n",
    "- returning diff of size b/w 1D 'a' and score_np\n"
   ]
  },
  {
   "cell_type": "code",
   "execution_count": 159,
   "metadata": {},
   "outputs": [],
   "source": [
    "def generateData(width,score_np):\n",
    "    height=np.ceil(len(score_np)/width).astype(\"int32\")\n",
    "    # source label to be used to identify original source of plagiarised portions\n",
    "    # Copy the score_np to a new array with shape (height,width)\n",
    "    a=np.zeros(width*height)\n",
    "    sourceLabel = [\"Unplagiarised\"]*(width*height)\n",
    "    a[:len(score_np)] = score_np\n",
    "\n",
    "    diff = len(a) - len(score_np)\n",
    "    # Apply gaussian filter to the array\n",
    "    a = gaussian_filter(a, sigma=1.0)\n",
    "    # Reshape to fit rectangular shape\n",
    "    a = a.reshape(-1,width)\n",
    "    return a, sourceLabel, diff"
   ]
  },
  {
   "cell_type": "markdown",
   "metadata": {},
   "source": [
    "-> getPlagPercentage(a,diff):\n",
    "- Get back the Pecentage of Plagiarism\n",
    "- Get back the indexes of the Plagiarised words"
   ]
  },
  {
   "cell_type": "code",
   "execution_count": 160,
   "metadata": {},
   "outputs": [],
   "source": [
    "def getPlagPercentage(a,diff):\n",
    "    a = a.reshape(-1)\n",
    "    plagWds = 0\n",
    "    plID=[] \n",
    "    # If a[i] > 0.62 or a[i-1]>0.58 or a[i+1]>0.58, then increase plagWds by 1\n",
    "    for i in range(0,a.shape[0]-2): \n",
    "        if a[i] > 0.62 or a[i+1]>0.60 or a[i+2]>0.60:\n",
    "            plagWds += 1\n",
    "            plID.append(i)\n",
    "\n",
    "    plagPercentage = plagWds*100/(len(a)-diff)\n",
    "\n",
    "    return plagPercentage,plID"
   ]
  },
  {
   "cell_type": "markdown",
   "metadata": {},
   "source": [
    "-> check_plagiarised(j,vecO,vecP,id,fin,plag_dict):\n",
    "- Mapping the Plagiarised portions to their Sources\n",
    "- Returns the dictionary with indexes of Plagiarised portions and their corresponding portions"
   ]
  },
  {
   "cell_type": "code",
   "execution_count": 161,
   "metadata": {},
   "outputs": [],
   "source": [
    "def check_plagiarised(j,vecO,vecP,id,fin,plag_dict):\n",
    "    for k in range(len(vecO)-3):\n",
    "        # X is Vector of the plagiarized text present between indexes id and fin\n",
    "        X1=vecP[id:id+12]\n",
    "        X2 = vecP[fin-12:fin]\n",
    "        X3 = vecP[(id+fin)//2-6:(id+fin)//2+6]\n",
    "        # Y is Vector of the original text present between indexes j and j+l\n",
    "        Y1=vecO[k:k+12]\n",
    "        # Y2 = vecO[k:k+fin-id+1]\n",
    "        \n",
    "        #Computing cosine similarity\n",
    "        sim1 = X1.similarity(Y1)\n",
    "        sim2 = X2.similarity(Y1)\n",
    "        sim3 = X3.similarity(Y1)\n",
    "\n",
    "        # If the cosine similarity is greater than 0.997, then we get a match from original text\n",
    "        if(sim1>0.995 or sim2>0.995 or sim3>0.997):\n",
    "            if(j in plag_dict):\n",
    "                a=[id,fin]\n",
    "                b=[k,k+fin-id+1]\n",
    "                plag_dict[j].append([a,b])\n",
    "            else:\n",
    "                a=[id,fin]\n",
    "                b=[k,k+fin-id+1]\n",
    "                plag_dict[j] = [[a,b]]\n",
    "            break\n",
    "    \n",
    "    return plag_dict"
   ]
  },
  {
   "cell_type": "markdown",
   "metadata": {},
   "source": [
    "-> getJumpStates(plID):\n",
    "- Returns the specific Indexes of the Plagiarised portions from the Suspicious Doc"
   ]
  },
  {
   "cell_type": "code",
   "execution_count": 162,
   "metadata": {},
   "outputs": [],
   "source": [
    "def getJumpStates(plID):\n",
    "    jumpStates=[]\n",
    "    jumpStates.append(plID[0])\n",
    "    for i in range(len(plID)):\n",
    "        if(plID[i]-plID[i-1]>11):\n",
    "            jumpStates.append(plID[i-1])\n",
    "            jumpStates.append(plID[i])\n",
    "\n",
    "    jumpStates.append(plID[-1])\n",
    "    return jumpStates"
   ]
  },
  {
   "cell_type": "markdown",
   "metadata": {},
   "source": [
    "-> getPlagDict(jumpStates,vector,testVector):\n",
    "- For each pair in the jumpStates, it adds its source to the plag_dict and returns the plag_dict after completion"
   ]
  },
  {
   "cell_type": "code",
   "execution_count": 163,
   "metadata": {},
   "outputs": [],
   "source": [
    "def getPlagDict(jumpStates,vector,testVector):\n",
    "    plag_dict = {}\n",
    "    # Fill plag_dict with the plagiarised portions\n",
    "    for i in range(0,len(jumpStates),2):\n",
    "        id=jumpStates[i]\n",
    "        fin=jumpStates[i+1]\n",
    "\n",
    "        # Checking which document the plagiarised portion belongs to\n",
    "        for j,vec in enumerate(vector):\n",
    "            plag_dict=check_plagiarised(j,vector[j],testVector,id,fin,plag_dict)\n",
    "            \n",
    "    return plag_dict"
   ]
  },
  {
   "cell_type": "markdown",
   "metadata": {},
   "source": [
    "-> populateSourceLabel(plag_dict,sourceLabel,references,width):\n",
    "- Fills the SourceLabels with the original names of the sources from which plagiarised portions have been taken"
   ]
  },
  {
   "cell_type": "code",
   "execution_count": 164,
   "metadata": {},
   "outputs": [],
   "source": [
    "def populateSourceLabel(plag_dict,sourceLabel,references,width):\n",
    "    # Iterate over plag_dict\n",
    "    for i in plag_dict:\n",
    "        v = plag_dict[i]\n",
    "        for j in v:\n",
    "            # Extracting the plagiarised portions\n",
    "            st = j[0][0]\n",
    "            en = j[0][1]\n",
    "\n",
    "            # Labelling those portions\n",
    "            sourceLabel[st:en+1] = [references[i] for x in sourceLabel[st:en+1]]\n",
    "            \n",
    "    sourceLabel = np.array(sourceLabel)\n",
    "    sourceLabel = sourceLabel.reshape(-1,width)\n",
    "    return sourceLabel"
   ]
  },
  {
   "cell_type": "markdown",
   "metadata": {},
   "source": [
    "-> createLabels(testVector,width,diff):\n",
    "- Creates the content for writing in the Heatmaps\n",
    "- Basically the entire suspicious doc"
   ]
  },
  {
   "cell_type": "code",
   "execution_count": 165,
   "metadata": {},
   "outputs": [],
   "source": [
    "def createLabels(testVector,width,diff):\n",
    "    # format labels\n",
    "    labels = [\" \".join(testVector[i:i+width].text.split()) for i in range(0, len(testVector), width)]\n",
    "    labels_individual = [x.split() for x in labels]\n",
    "    labels_individual[-1] += [\"\"]*diff\n",
    "    labels = [f\"{x:60.60}\" for x in labels]\n",
    "\n",
    "    return labels,labels_individual"
   ]
  },
  {
   "cell_type": "markdown",
   "metadata": {},
   "source": [
    "-> generateHeatMap(a,sourceLabel,width,height,labels_individual):\n",
    "- Generates heatmap to help visualise the plagiarised portions\n",
    "- Returns the created figure"
   ]
  },
  {
   "cell_type": "code",
   "execution_count": 166,
   "metadata": {},
   "outputs": [],
   "source": [
    "def generateHeatMap(a,sourceLabel,width,height,labels_individual):\n",
    "    # create heatmap of the Plagiarized Text\n",
    "    a=a.reshape(-1,width)\n",
    "    fig = go.Figure(data=go.Heatmap(\n",
    "                    z=a, x0=0, dx=1,\n",
    "                    #y=labels, \n",
    "                    zmin=0, zmax=1,\n",
    "                    customdata=sourceLabel,\n",
    "                    hovertemplate='%{customdata} <br><b>Score:%{z:.3f}<extra></extra>',\n",
    "                    text=labels_individual,\n",
    "                    texttemplate='%{text}',\n",
    "                    textfont={\"size\":7},\n",
    "                    colorscale='reds'\n",
    "                    ))\n",
    "    fig.update_layout({\"height\":height*25, \"width\":1000, \"font\":{\"family\":\"sans-serif\"}})\n",
    "    fig['layout']['yaxis']['autorange'] = \"reversed\"\n",
    "    return fig"
   ]
  },
  {
   "cell_type": "markdown",
   "metadata": {},
   "source": [
    "-> displayDoc(jumpStates,testVector,suspiciousText)\n",
    "- Displays the Entire Suspicious Doc in a TextBox\n",
    "- Has two buttons: Highlight and Exit\n",
    "- Highlight button highlights the Plagiarised Portions and Exit button closes the window\n"
   ]
  },
  {
   "cell_type": "code",
   "execution_count": 167,
   "metadata": {},
   "outputs": [],
   "source": [
    "def displayDoc(jumpStates,testVector,suspiciousText):\n",
    "    root = Tk()\n",
    "    \n",
    "    # specify size of window.\n",
    "    root.geometry(\"1000x800\")\n",
    "    root.config(bg='#59FC97')\n",
    "\n",
    "    style = Style()\n",
    "\n",
    "    style.configure('W.TButton', font =\n",
    "               ('calibri', 10, 'bold'),\n",
    "                foreground = 'black',\n",
    "                background = 'purple')\n",
    "    \n",
    "    # Create text widget and specify size.\n",
    "    T = Text(root, wrap = 'word', height = 38, width = 120, font=(\"calibri\", 12), bg='black', fg='white')\n",
    "    \n",
    "    # Create label\n",
    "    l = Label(root, text = \"Suspicious Document\")\n",
    "    l.config(font =(\"calibri\", 20), background='#59FC97', foreground='black')\n",
    "            \n",
    "    \n",
    "    # Create an Exit button.\n",
    "    b1 = Button(root, text = \"Exit\",\n",
    "                style='W.TButton',\n",
    "                command = root.destroy)\n",
    "\n",
    "    l.pack()\n",
    "    T.pack()\n",
    "    b1.pack(side=RIGHT, padx=350, pady=25)\n",
    "\n",
    "    # Insert The Text\n",
    "    T.insert(tk.END, suspiciousText)\n",
    "\n",
    "    def search_re(pattern):\n",
    "        \"\"\"\n",
    "        Uses the python re library to match patterns.\n",
    "\n",
    "        pattern - the pattern to match.\n",
    "        \"\"\"\n",
    "        matches = []\n",
    "        text = T.get(\"1.0\", tk.END).splitlines()\n",
    "        for i, line in enumerate(text):\n",
    "            for match in re.finditer(pattern, line):\n",
    "                matches.append(f\"{i + 1}.{match.start()}\")\n",
    "                matches.append(f\"{i + 1}.{match.end()}\")\n",
    "        \n",
    "        return matches\n",
    "    \n",
    "    def getLocDict(jumpStates):\n",
    "        loc_dict = {}\n",
    "        for i in range(0,len(jumpStates),2):\n",
    "            a = search_re(testVector[jumpStates[i]:jumpStates[i]+4].text)\n",
    "            b = search_re(testVector[jumpStates[i+1]-3:jumpStates[i+1]+1].text)\n",
    "            loc_dict[a[0]] = b[1]\n",
    "        return loc_dict\n",
    "\n",
    "    def add_highlighter(s,e):\n",
    "        T.tag_add(\"start\", s, e)\n",
    "        T.tag_config(\"start\", background= \"#FE5E61\", foreground= \"white\")\n",
    "\n",
    "    def highlight_all(loc_dict):\n",
    "        for i in loc_dict:\n",
    "            add_highlighter(i, loc_dict[i])\n",
    "    \n",
    "    loc_dict = getLocDict(jumpStates)\n",
    "\n",
    "    b2 = Button(root, text= \"Highlight Plagiarised Portions\", style= 'W.TButton', command = lambda: highlight_all(loc_dict))\n",
    "    b2.pack(side = BOTTOM, padx = 200, pady = 25)\n",
    "\n",
    "    root.mainloop()"
   ]
  },
  {
   "cell_type": "markdown",
   "metadata": {},
   "source": [
    "-> getPieLabelAndVals_1(plag_dict,plID):\n",
    "- Set and return the labels for the Pie Chart 1 which will contain overall results of Plagiarism Check\n",
    "- Set and return the values for calculating percentage values in Pie Chart"
   ]
  },
  {
   "cell_type": "code",
   "execution_count": 168,
   "metadata": {},
   "outputs": [],
   "source": [
    "def getPieLabelAndVals_1(plag_dict,plID):\n",
    "    pieL1 = []\n",
    "\n",
    "    pieL1.append(\"Unplagiarised\")\n",
    "    pieL1.append(\"Plagiarised\")\n",
    "\n",
    "    pieVal1 = []\n",
    "    pieVal1.append(len(score_np)-len(plID))\n",
    "\n",
    "    # Iterate over plag_dict\n",
    "    s=0\n",
    "    for i in plag_dict:\n",
    "        v = plag_dict[i]\n",
    "        \n",
    "        for j in v:\n",
    "            # Extracting the plagiarised portions\n",
    "            st = j[0][0]\n",
    "            en = j[0][1]\n",
    "\n",
    "            s=s+en-st+1\n",
    "            \n",
    "    pieVal1.append(s)\n",
    "    return pieL1,pieVal1"
   ]
  },
  {
   "cell_type": "markdown",
   "metadata": {},
   "source": [
    "-> getPieLabelAndVals_1(plag_dict,plID,references):\n",
    "- Set and return the labels for the Pie Chart 2 which will contain detailed results of Plagiarism Check depicting percentage of Plagiarism\n",
    "    attributed to each Source\n",
    "- Set and return the values for calculating percentage values in Pie Chart 2"
   ]
  },
  {
   "cell_type": "code",
   "execution_count": 169,
   "metadata": {},
   "outputs": [],
   "source": [
    "def getPieLabelAndVals_2(plag_dict,plID,references):\n",
    "    pieL2 =[]\n",
    "    pieL2.append(\"Unplagiarised\")\n",
    "\n",
    "    for i in references:\n",
    "        pieL2.append(references[i])\n",
    "\n",
    "    pieVal2 = [0]*len(pieL2)\n",
    "    pieVal2[0]=(len(score_np)-len(plID))\n",
    "\n",
    "    # Iterate over plag_dict\n",
    "    for i in plag_dict:\n",
    "        v = plag_dict[i]\n",
    "        s=0\n",
    "        for j in v:\n",
    "            # Extracting the plagiarised portions\n",
    "            st = j[0][0]\n",
    "            en = j[0][1]\n",
    "\n",
    "            s=s+en-st+1\n",
    "        pieVal2[i+1]=s\n",
    "    \n",
    "    return pieL2,pieVal2"
   ]
  },
  {
   "cell_type": "markdown",
   "metadata": {},
   "source": [
    "-> createDataFrames(pieL1,pieL2,pieVal1,pieVal2):\n",
    "- Create pandas Data Frame of Labels and Values for both Pie Charts "
   ]
  },
  {
   "cell_type": "code",
   "execution_count": 170,
   "metadata": {},
   "outputs": [],
   "source": [
    "def createDataFrames(pieL1,pieL2,pieVal1,pieVal2):\n",
    "    df1 = pd.DataFrame({\"Status\":pieL1,\"No. of Words\":pieVal1})\n",
    "    df2 = pd.DataFrame({\"Source\":pieL2,\"No. of Words\":pieVal2})\n",
    "    return df1,df2"
   ]
  },
  {
   "cell_type": "markdown",
   "metadata": {},
   "source": [
    "-> createPieCharts(df1,df2):\n",
    "- Create the Pie charts for both data frames with custom features for better visibility"
   ]
  },
  {
   "cell_type": "code",
   "execution_count": 171,
   "metadata": {},
   "outputs": [],
   "source": [
    "def createPieCharts(df1,df2):\n",
    "    figP1 = px.pie(df1,values='No. of Words', names='Status',\n",
    "             title = \"Plagiarism Status\",\n",
    "             color_discrete_sequence=px.colors.sequential.Bluered_r,\n",
    "             hole=0.5)\n",
    "    figP1.update_layout({\"height\":400, \"width\":400, \"font\":{\"family\":\"sans-serif\"}})\n",
    "    figP1.update_layout(paper_bgcolor=\"#000000\")\n",
    "    figP1.update_layout(\n",
    "                            font_family=\"sans-serif\",\n",
    "                            font_color=\"cyan\",\n",
    "                            title_font_family=\"sans-serif\",\n",
    "                            title_font_color=\"white\",\n",
    "                            legend_title_font_color=\"cyan\"\n",
    "                        )\n",
    "    figP1.update_layout(margin=dict(t=40, b=0, l=0, r=0))\n",
    "\n",
    "    figP2 = px.pie(df2,values='No. of Words', names='Source',\n",
    "                title = \"Plagiarism Source\",\n",
    "                color_discrete_sequence=px.colors.sequential.Rainbow_r,\n",
    "                hole=0.5)\n",
    "    figP2.update_layout({\"height\":400, \"width\":800, \"font\":{\"family\":\"sans-serif\"}})\n",
    "    figP2.update_layout(paper_bgcolor=\"#000000\")\n",
    "    figP2.update_layout(\n",
    "                            font_family=\"sans-serif\",\n",
    "                            font_color=\"cyan\",\n",
    "                            title_font_family=\"sans-serif\",\n",
    "                            title_font_color=\"white\",\n",
    "                            legend_title_font_color=\"cyan\"\n",
    "                        )\n",
    "    figP2.update_layout(margin=dict(t=40, b=0, l=0, r=0))\n",
    "\n",
    "    return figP1,figP2"
   ]
  },
  {
   "cell_type": "code",
   "execution_count": 172,
   "metadata": {},
   "outputs": [],
   "source": [
    "def modify_df(df2,source_lang_dict):\n",
    "    df2['Percent'] = df2['No. of Words']/sum(df2['No. of Words'])*100\n",
    "    df2['Source Language'] = ''\n",
    "    \n",
    "    for x in df2.index:\n",
    "        if x==0:\n",
    "            df2.loc[x,'Source Language'] = '---'\n",
    "        else:\n",
    "            df2.loc[x,'Source Language'] = source_lang_dict[x-1]\n",
    "    \n",
    "    def make_clickable(val):\n",
    "        return f'<a target=\"_blank\" href=\"{val}\">{val}</a>'\n",
    "\n",
    "    df2 = df2.style.format({'Source': make_clickable})\n",
    "    return df2"
   ]
  },
  {
   "cell_type": "markdown",
   "metadata": {},
   "source": [
    "- The real code execution begins here\n",
    "- Please take care of the following points:\n",
    "    - All the source docs (in Translated format) must be in .zip file\n",
    "    - The Suspicious Doc must be named \"Suspicious Doc.pdf\"\n",
    "- You will be prompted to enter the Name of the .zip file during execution"
   ]
  },
  {
   "cell_type": "code",
   "execution_count": 173,
   "metadata": {},
   "outputs": [],
   "source": [
    "zipFileName = input(\"Name of the Corpus (Untranslated) zip file: \")"
   ]
  },
  {
   "cell_type": "code",
   "execution_count": 174,
   "metadata": {},
   "outputs": [],
   "source": [
    "extractFromZIP(zipFileName)\n",
    "source_lang_dict = getSourceLangs()"
   ]
  },
  {
   "cell_type": "code",
   "execution_count": 175,
   "metadata": {},
   "outputs": [],
   "source": [
    "zipFileName = input(\"Name of the Corpus (Translated) zip file: \")"
   ]
  },
  {
   "cell_type": "code",
   "execution_count": 176,
   "metadata": {},
   "outputs": [],
   "source": [
    "# Call all the functions\n",
    "extractFromZIP(zipFileName)\n",
    "corpus = createCorpus()\n",
    "references = createReferences(corpus)\n",
    "listOfCorpus = createListOfCorpus(corpus)\n",
    "vector = createVector(listOfCorpus)"
   ]
  },
  {
   "cell_type": "code",
   "execution_count": 177,
   "metadata": {},
   "outputs": [],
   "source": [
    "megaCorpus = '\\n'.join(listOfCorpus)\n",
    "trainingVector = nlp(megaCorpus)"
   ]
  },
  {
   "cell_type": "code",
   "execution_count": 178,
   "metadata": {},
   "outputs": [],
   "source": [
    "# Value of n for n-grams\n",
    "n = 5"
   ]
  },
  {
   "cell_type": "code",
   "execution_count": 179,
   "metadata": {},
   "outputs": [],
   "source": [
    "# Call function to train the model\n",
    "model = trainModel(trainingVector,n)\n"
   ]
  },
  {
   "cell_type": "code",
   "execution_count": 180,
   "metadata": {},
   "outputs": [],
   "source": [
    "test_data,testVector,suspiciousText = createTestData(\"Suspicious Doc.pdf\")"
   ]
  },
  {
   "cell_type": "code",
   "execution_count": 181,
   "metadata": {},
   "outputs": [],
   "source": [
    "score_np = generateScores(model,test_data)"
   ]
  },
  {
   "cell_type": "code",
   "execution_count": 182,
   "metadata": {},
   "outputs": [],
   "source": [
    "# Keeping width = 22 for readability\n",
    "a,sourceLabel,diff = generateData(22,score_np)"
   ]
  },
  {
   "cell_type": "code",
   "execution_count": 183,
   "metadata": {},
   "outputs": [],
   "source": [
    "plagPercentage,plID = getPlagPercentage(a,diff)"
   ]
  },
  {
   "cell_type": "code",
   "execution_count": 184,
   "metadata": {},
   "outputs": [],
   "source": [
    "jumpStates = getJumpStates(plID)"
   ]
  },
  {
   "cell_type": "code",
   "execution_count": 185,
   "metadata": {},
   "outputs": [],
   "source": [
    "plag_dict = getPlagDict(jumpStates,vector,testVector)"
   ]
  },
  {
   "cell_type": "code",
   "execution_count": 186,
   "metadata": {},
   "outputs": [],
   "source": [
    "sourceLabel = populateSourceLabel(plag_dict,sourceLabel,references,22)"
   ]
  },
  {
   "cell_type": "code",
   "execution_count": 187,
   "metadata": {},
   "outputs": [],
   "source": [
    "labels,labels_individual = createLabels(testVector,22,diff)"
   ]
  },
  {
   "cell_type": "code",
   "execution_count": 188,
   "metadata": {},
   "outputs": [],
   "source": [
    "height = np.ceil(len(score_np)/22).astype(\"int32\")\n",
    "fig = generateHeatMap(a,sourceLabel,22,height,labels_individual)"
   ]
  },
  {
   "cell_type": "code",
   "execution_count": 189,
   "metadata": {},
   "outputs": [],
   "source": [
    "pieL1,pieVal1 = getPieLabelAndVals_1(plag_dict,plID)\n",
    "pieL2,pieVal2 = getPieLabelAndVals_2(plag_dict,plID,references)"
   ]
  },
  {
   "cell_type": "code",
   "execution_count": 190,
   "metadata": {},
   "outputs": [],
   "source": [
    "df1,df2 = createDataFrames(pieL1,pieL2,pieVal1,pieVal2)\n",
    "figP1,figP2 = createPieCharts(df1,df2)"
   ]
  },
  {
   "cell_type": "code",
   "execution_count": 191,
   "metadata": {},
   "outputs": [],
   "source": [
    "# A Seperate DataFrame for the Suspicious Text\n",
    "data = [[\"Suspicious Doc.pdf\",sum(df2['No. of Words']),plagPercentage,\"English\"]]\n",
    "df3 = pd.DataFrame(data,columns=['File Name','No. of Words','Plagiarised Percentage','Language'])"
   ]
  },
  {
   "cell_type": "code",
   "execution_count": 192,
   "metadata": {},
   "outputs": [],
   "source": [
    "# Modify the DataFrame for the Suspicious Text to make it clickable\n",
    "def make_clickable(val):\n",
    "        return f'<a target=\"_blank\" href=\"{val}\">{val}</a>'\n",
    "df3 = df3.style.format({'File Name': make_clickable})"
   ]
  },
  {
   "cell_type": "markdown",
   "metadata": {},
   "source": [
    "- Below this point, there are 5 ways to visualise/view the Results\n",
    "- The ways are:\n",
    "    - Suspicious Document Heatmap:\n",
    "        - Entire Document broken into block of words\n",
    "        - Plagiarised portions highlighted in varying shades of red\n",
    "        - Hover over any Plagiarised Portion to reveal Original Source Document\n",
    "    - Suspicious Document Textbox:\n",
    "        - View entire Document\n",
    "        - Two buttons Highlight and Exit\n",
    "        - Click on Highlight to highlight plagiarised portions in Red\n",
    "    - Pie Chart 1:\n",
    "        - Displays Overall percentages of Plagiarism\n",
    "    - Pie Chart 2:\n",
    "        - Detailed Percentages of Plagiarism from each source\n",
    "    - Table:\n",
    "        - Table to display all details of Pie Chart 2 in tabular format (and a seperate one to view Suspicious Document)\n",
    "        - Contains a column 'Source Language' to display language of Source Document\n",
    "        - Has Clickable Link in 'Source' column which opens that Document in a seperate tab"
   ]
  },
  {
   "cell_type": "code",
   "execution_count": 193,
   "metadata": {},
   "outputs": [
    {
     "data": {
      "application/vnd.plotly.v1+json": {
       "config": {
        "plotlyServerURL": "https://plot.ly"
       },
       "data": [
        {
         "colorscale": [
          [
           0,
           "rgb(255,245,240)"
          ],
          [
           0.125,
           "rgb(254,224,210)"
          ],
          [
           0.25,
           "rgb(252,187,161)"
          ],
          [
           0.375,
           "rgb(252,146,114)"
          ],
          [
           0.5,
           "rgb(251,106,74)"
          ],
          [
           0.625,
           "rgb(239,59,44)"
          ],
          [
           0.75,
           "rgb(203,24,29)"
          ],
          [
           0.875,
           "rgb(165,15,21)"
          ],
          [
           1,
           "rgb(103,0,13)"
          ]
         ],
         "customdata": [
          [
           "Unplagiarised",
           "Unplagiarised",
           "Unplagiarised",
           "Unplagiarised",
           "Unplagiarised",
           "Unplagiarised",
           "Unplagiarised",
           "Unplagiarised",
           "Unplagiarised",
           "Unplagiarised",
           "Unplagiarised",
           "Unplagiarised",
           "Unplagiarised",
           "Unplagiarised",
           "Unplagiarised",
           "Unplagiarised",
           "Unplagiarised",
           "Unplagiarised",
           "Unplagiarised",
           "Unplagiarised",
           "Unplagiarised",
           "Unplagiarised"
          ],
          [
           "Unplagiarised",
           "Unplagiarised",
           "Unplagiarised",
           "Unplagiarised",
           "Unplagiarised",
           "Unplagiarised",
           "Unplagiarised",
           "Unplagiarised",
           "Unplagiarised",
           "Unplagiarised",
           "Unplagiarised",
           "Unplagiarised",
           "Unplagiarised",
           "Unplagiarised",
           "Unplagiarised",
           "Unplagiarised",
           "Unplagiarised",
           "Unplagiarised",
           "Unplagiarised",
           "Unplagiarised",
           "Unplagiarised",
           "Unplagiarised"
          ],
          [
           "Unplagiarised",
           "Unplagiarised",
           "Unplagiarised",
           "Unplagiarised",
           "Unplagiarised",
           "Unplagiarised",
           "Unplagiarised",
           "Unplagiarised",
           "Unplagiarised",
           "Unplagiarised",
           "Unplagiarised",
           "Unplagiarised",
           "Unplagiarised",
           "Unplagiarised",
           "Unplagiarised",
           "Unplagiarised",
           "Unplagiarised",
           "Unplagiarised",
           "Unplagiarised",
           "Unplagiarised",
           "Unplagiarised",
           "Unplagiarised"
          ],
          [
           "Unplagiarised",
           "Unplagiarised",
           "Unplagiarised",
           "Unplagiarised",
           "Unplagiarised",
           "Unplagiarised",
           "Unplagiarised",
           "Unplagiarised",
           "Unplagiarised",
           "Unplagiarised",
           "Unplagiarised",
           "Unplagiarised",
           "Unplagiarised",
           "Unplagiarised",
           "Unplagiarised",
           "Unplagiarised",
           "Unplagiarised",
           "Unplagiarised",
           "Unplagiarised",
           "Unplagiarised",
           "Unplagiarised",
           "Unplagiarised"
          ],
          [
           "Unplagiarised",
           "Unplagiarised",
           "Unplagiarised",
           "Unplagiarised",
           "Unplagiarised",
           "Unplagiarised",
           "Unplagiarised",
           "Unplagiarised",
           "Unplagiarised",
           "Unplagiarised",
           "Unplagiarised",
           "Unplagiarised",
           "Unplagiarised",
           "Unplagiarised",
           "Unplagiarised",
           "Unplagiarised",
           "Unplagiarised",
           "Unplagiarised",
           "Unplagiarised",
           "Unplagiarised",
           "Unplagiarised",
           "Unplagiarised"
          ],
          [
           "Unplagiarised",
           "Unplagiarised",
           "Unplagiarised",
           "Unplagiarised",
           "Unplagiarised",
           "Unplagiarised",
           "Unplagiarised",
           "Unplagiarised",
           "Unplagiarised",
           "Unplagiarised",
           "Unplagiarised",
           "Unplagiarised",
           "Unplagiarised",
           "Unplagiarised",
           "Unplagiarised",
           "Unplagiarised",
           "Unplagiarised",
           "Unplagiarised",
           "Unplagiarised",
           "Unplagiarised",
           "Unplagiarised",
           "Unplagiarised"
          ],
          [
           "Unplagiarised",
           "Unplagiarised",
           "Unplagiarised",
           "Unplagiarised",
           "Unplagiarised",
           "Unplagiarised",
           "Unplagiarised",
           "Unplagiarised",
           "Unplagiarised",
           "Unplagiarised",
           "Unplagiarised",
           "Unplagiarised",
           "Unplagiarised",
           "Unplagiarised",
           "Unplagiarised",
           "The Nuclear Mirage.pdf",
           "The Nuclear Mirage.pdf",
           "The Nuclear Mirage.pdf",
           "The Nuclear Mirage.pdf",
           "The Nuclear Mirage.pdf",
           "The Nuclear Mirage.pdf",
           "The Nuclear Mirage.pdf"
          ],
          [
           "The Nuclear Mirage.pdf",
           "The Nuclear Mirage.pdf",
           "The Nuclear Mirage.pdf",
           "The Nuclear Mirage.pdf",
           "The Nuclear Mirage.pdf",
           "The Nuclear Mirage.pdf",
           "The Nuclear Mirage.pdf",
           "The Nuclear Mirage.pdf",
           "The Nuclear Mirage.pdf",
           "The Nuclear Mirage.pdf",
           "The Nuclear Mirage.pdf",
           "The Nuclear Mirage.pdf",
           "The Nuclear Mirage.pdf",
           "The Nuclear Mirage.pdf",
           "The Nuclear Mirage.pdf",
           "The Nuclear Mirage.pdf",
           "The Nuclear Mirage.pdf",
           "The Nuclear Mirage.pdf",
           "The Nuclear Mirage.pdf",
           "The Nuclear Mirage.pdf",
           "The Nuclear Mirage.pdf",
           "The Nuclear Mirage.pdf"
          ],
          [
           "The Nuclear Mirage.pdf",
           "The Nuclear Mirage.pdf",
           "The Nuclear Mirage.pdf",
           "The Nuclear Mirage.pdf",
           "The Nuclear Mirage.pdf",
           "The Nuclear Mirage.pdf",
           "The Nuclear Mirage.pdf",
           "The Nuclear Mirage.pdf",
           "The Nuclear Mirage.pdf",
           "The Nuclear Mirage.pdf",
           "The Nuclear Mirage.pdf",
           "The Nuclear Mirage.pdf",
           "The Nuclear Mirage.pdf",
           "The Nuclear Mirage.pdf",
           "The Nuclear Mirage.pdf",
           "The Nuclear Mirage.pdf",
           "The Nuclear Mirage.pdf",
           "The Nuclear Mirage.pdf",
           "The Nuclear Mirage.pdf",
           "The Nuclear Mirage.pdf",
           "The Nuclear Mirage.pdf",
           "The Nuclear Mirage.pdf"
          ],
          [
           "The Nuclear Mirage.pdf",
           "The Nuclear Mirage.pdf",
           "The Nuclear Mirage.pdf",
           "The Nuclear Mirage.pdf",
           "The Nuclear Mirage.pdf",
           "The Nuclear Mirage.pdf",
           "The Nuclear Mirage.pdf",
           "The Nuclear Mirage.pdf",
           "The Nuclear Mirage.pdf",
           "The Nuclear Mirage.pdf",
           "The Nuclear Mirage.pdf",
           "The Nuclear Mirage.pdf",
           "The Nuclear Mirage.pdf",
           "The Nuclear Mirage.pdf",
           "The Nuclear Mirage.pdf",
           "The Nuclear Mirage.pdf",
           "The Nuclear Mirage.pdf",
           "The Nuclear Mirage.pdf",
           "The Nuclear Mirage.pdf",
           "The Nuclear Mirage.pdf",
           "The Nuclear Mirage.pdf",
           "The Nuclear Mirage.pdf"
          ],
          [
           "The Nuclear Mirage.pdf",
           "The Nuclear Mirage.pdf",
           "The Nuclear Mirage.pdf",
           "The Nuclear Mirage.pdf",
           "The Nuclear Mirage.pdf",
           "The Nuclear Mirage.pdf",
           "The Nuclear Mirage.pdf",
           "The Nuclear Mirage.pdf",
           "The Nuclear Mirage.pdf",
           "The Nuclear Mirage.pdf",
           "The Nuclear Mirage.pdf",
           "The Nuclear Mirage.pdf",
           "The Nuclear Mirage.pdf",
           "The Nuclear Mirage.pdf",
           "The Nuclear Mirage.pdf",
           "The Nuclear Mirage.pdf",
           "The Nuclear Mirage.pdf",
           "The Nuclear Mirage.pdf",
           "The Nuclear Mirage.pdf",
           "The Nuclear Mirage.pdf",
           "The Nuclear Mirage.pdf",
           "The Nuclear Mirage.pdf"
          ],
          [
           "The Nuclear Mirage.pdf",
           "The Nuclear Mirage.pdf",
           "The Nuclear Mirage.pdf",
           "The Nuclear Mirage.pdf",
           "The Nuclear Mirage.pdf",
           "The Nuclear Mirage.pdf",
           "The Nuclear Mirage.pdf",
           "The Nuclear Mirage.pdf",
           "The Nuclear Mirage.pdf",
           "The Nuclear Mirage.pdf",
           "The Nuclear Mirage.pdf",
           "The Nuclear Mirage.pdf",
           "The Nuclear Mirage.pdf",
           "The Nuclear Mirage.pdf",
           "The Nuclear Mirage.pdf",
           "The Nuclear Mirage.pdf",
           "The Nuclear Mirage.pdf",
           "The Nuclear Mirage.pdf",
           "The Nuclear Mirage.pdf",
           "The Nuclear Mirage.pdf",
           "The Nuclear Mirage.pdf",
           "The Nuclear Mirage.pdf"
          ],
          [
           "The Nuclear Mirage.pdf",
           "The Nuclear Mirage.pdf",
           "The Nuclear Mirage.pdf",
           "The Nuclear Mirage.pdf",
           "The Nuclear Mirage.pdf",
           "The Nuclear Mirage.pdf",
           "The Nuclear Mirage.pdf",
           "The Nuclear Mirage.pdf",
           "The Nuclear Mirage.pdf",
           "The Nuclear Mirage.pdf",
           "The Nuclear Mirage.pdf",
           "The Nuclear Mirage.pdf",
           "The Nuclear Mirage.pdf",
           "The Nuclear Mirage.pdf",
           "The Nuclear Mirage.pdf",
           "The Nuclear Mirage.pdf",
           "The Nuclear Mirage.pdf",
           "The Nuclear Mirage.pdf",
           "The Nuclear Mirage.pdf",
           "The Nuclear Mirage.pdf",
           "The Nuclear Mirage.pdf",
           "The Nuclear Mirage.pdf"
          ],
          [
           "The Nuclear Mirage.pdf",
           "The Nuclear Mirage.pdf",
           "The Nuclear Mirage.pdf",
           "The Nuclear Mirage.pdf",
           "The Nuclear Mirage.pdf",
           "The Nuclear Mirage.pdf",
           "The Nuclear Mirage.pdf",
           "The Nuclear Mirage.pdf",
           "The Nuclear Mirage.pdf",
           "The Nuclear Mirage.pdf",
           "The Nuclear Mirage.pdf",
           "The Nuclear Mirage.pdf",
           "The Nuclear Mirage.pdf",
           "The Nuclear Mirage.pdf",
           "The Nuclear Mirage.pdf",
           "The Nuclear Mirage.pdf",
           "The Nuclear Mirage.pdf",
           "The Nuclear Mirage.pdf",
           "The Nuclear Mirage.pdf",
           "The Nuclear Mirage.pdf",
           "The Nuclear Mirage.pdf",
           "The Nuclear Mirage.pdf"
          ],
          [
           "The Nuclear Mirage.pdf",
           "The Nuclear Mirage.pdf",
           "The Nuclear Mirage.pdf",
           "The Nuclear Mirage.pdf",
           "The Nuclear Mirage.pdf",
           "The Nuclear Mirage.pdf",
           "The Nuclear Mirage.pdf",
           "The Nuclear Mirage.pdf",
           "The Nuclear Mirage.pdf",
           "The Nuclear Mirage.pdf",
           "The Nuclear Mirage.pdf",
           "The Nuclear Mirage.pdf",
           "The Nuclear Mirage.pdf",
           "The Nuclear Mirage.pdf",
           "The Nuclear Mirage.pdf",
           "The Nuclear Mirage.pdf",
           "The Nuclear Mirage.pdf",
           "The Nuclear Mirage.pdf",
           "The Nuclear Mirage.pdf",
           "The Nuclear Mirage.pdf",
           "The Nuclear Mirage.pdf",
           "The Nuclear Mirage.pdf"
          ],
          [
           "The Nuclear Mirage.pdf",
           "The Nuclear Mirage.pdf",
           "The Nuclear Mirage.pdf",
           "The Nuclear Mirage.pdf",
           "The Nuclear Mirage.pdf",
           "The Nuclear Mirage.pdf",
           "The Nuclear Mirage.pdf",
           "The Nuclear Mirage.pdf",
           "The Nuclear Mirage.pdf",
           "The Nuclear Mirage.pdf",
           "The Nuclear Mirage.pdf",
           "The Nuclear Mirage.pdf",
           "The Nuclear Mirage.pdf",
           "The Nuclear Mirage.pdf",
           "The Nuclear Mirage.pdf",
           "The Nuclear Mirage.pdf",
           "The Nuclear Mirage.pdf",
           "The Nuclear Mirage.pdf",
           "The Nuclear Mirage.pdf",
           "The Nuclear Mirage.pdf",
           "The Nuclear Mirage.pdf",
           "The Nuclear Mirage.pdf"
          ],
          [
           "The Nuclear Mirage.pdf",
           "The Nuclear Mirage.pdf",
           "The Nuclear Mirage.pdf",
           "The Nuclear Mirage.pdf",
           "The Nuclear Mirage.pdf",
           "The Nuclear Mirage.pdf",
           "The Nuclear Mirage.pdf",
           "The Nuclear Mirage.pdf",
           "The Nuclear Mirage.pdf",
           "The Nuclear Mirage.pdf",
           "The Nuclear Mirage.pdf",
           "The Nuclear Mirage.pdf",
           "The Nuclear Mirage.pdf",
           "The Nuclear Mirage.pdf",
           "The Nuclear Mirage.pdf",
           "The Nuclear Mirage.pdf",
           "The Nuclear Mirage.pdf",
           "The Nuclear Mirage.pdf",
           "The Nuclear Mirage.pdf",
           "The Nuclear Mirage.pdf",
           "The Nuclear Mirage.pdf",
           "The Nuclear Mirage.pdf"
          ],
          [
           "The Nuclear Mirage.pdf",
           "Unplagiarised",
           "Unplagiarised",
           "Unplagiarised",
           "Unplagiarised",
           "Unplagiarised",
           "Unplagiarised",
           "Unplagiarised",
           "Unplagiarised",
           "Unplagiarised",
           "Unplagiarised",
           "Unplagiarised",
           "Unplagiarised",
           "Unplagiarised",
           "Unplagiarised",
           "Unplagiarised",
           "Unplagiarised",
           "Unplagiarised",
           "Unplagiarised",
           "Unplagiarised",
           "Unplagiarised",
           "Unplagiarised"
          ],
          [
           "Unplagiarised",
           "Unplagiarised",
           "Unplagiarised",
           "Unplagiarised",
           "Unplagiarised",
           "Unplagiarised",
           "Unplagiarised",
           "Unplagiarised",
           "Unplagiarised",
           "Unplagiarised",
           "Unplagiarised",
           "Unplagiarised",
           "Unplagiarised",
           "Unplagiarised",
           "Unplagiarised",
           "Unplagiarised",
           "Unplagiarised",
           "Unplagiarised",
           "Unplagiarised",
           "Unplagiarised",
           "Unplagiarised",
           "Unplagiarised"
          ],
          [
           "Unplagiarised",
           "Unplagiarised",
           "Unplagiarised",
           "Unplagiarised",
           "Unplagiarised",
           "Unplagiarised",
           "Unplagiarised",
           "Unplagiarised",
           "Unplagiarised",
           "Unplagiarised",
           "Unplagiarised",
           "Unplagiarised",
           "Unplagiarised",
           "Unplagiarised",
           "Unplagiarised",
           "Unplagiarised",
           "Unplagiarised",
           "Unplagiarised",
           "Unplagiarised",
           "Unplagiarised",
           "Unplagiarised",
           "Unplagiarised"
          ],
          [
           "Unplagiarised",
           "Unplagiarised",
           "Unplagiarised",
           "Unplagiarised",
           "Unplagiarised",
           "Unplagiarised",
           "Unplagiarised",
           "Unplagiarised",
           "Unplagiarised",
           "Unplagiarised",
           "Unplagiarised",
           "Unplagiarised",
           "Unplagiarised",
           "Unplagiarised",
           "Unplagiarised",
           "Unplagiarised",
           "Unplagiarised",
           "Unplagiarised",
           "Unplagiarised",
           "Unplagiarised",
           "Unplagiarised",
           "Unplagiarised"
          ],
          [
           "Unplagiarised",
           "Unplagiarised",
           "Unplagiarised",
           "Unplagiarised",
           "Unplagiarised",
           "Unplagiarised",
           "Unplagiarised",
           "Unplagiarised",
           "Unplagiarised",
           "Unplagiarised",
           "Unplagiarised",
           "Unplagiarised",
           "Is it possible to develop quantum computing in Venezuela.pdf",
           "Is it possible to develop quantum computing in Venezuela.pdf",
           "Is it possible to develop quantum computing in Venezuela.pdf",
           "Is it possible to develop quantum computing in Venezuela.pdf",
           "Is it possible to develop quantum computing in Venezuela.pdf",
           "Is it possible to develop quantum computing in Venezuela.pdf",
           "Is it possible to develop quantum computing in Venezuela.pdf",
           "Is it possible to develop quantum computing in Venezuela.pdf",
           "Is it possible to develop quantum computing in Venezuela.pdf",
           "Is it possible to develop quantum computing in Venezuela.pdf"
          ],
          [
           "Is it possible to develop quantum computing in Venezuela.pdf",
           "Is it possible to develop quantum computing in Venezuela.pdf",
           "Is it possible to develop quantum computing in Venezuela.pdf",
           "Is it possible to develop quantum computing in Venezuela.pdf",
           "Is it possible to develop quantum computing in Venezuela.pdf",
           "Is it possible to develop quantum computing in Venezuela.pdf",
           "Is it possible to develop quantum computing in Venezuela.pdf",
           "Is it possible to develop quantum computing in Venezuela.pdf",
           "Is it possible to develop quantum computing in Venezuela.pdf",
           "Is it possible to develop quantum computing in Venezuela.pdf",
           "Is it possible to develop quantum computing in Venezuela.pdf",
           "Is it possible to develop quantum computing in Venezuela.pdf",
           "Is it possible to develop quantum computing in Venezuela.pdf",
           "Is it possible to develop quantum computing in Venezuela.pdf",
           "Is it possible to develop quantum computing in Venezuela.pdf",
           "Is it possible to develop quantum computing in Venezuela.pdf",
           "Is it possible to develop quantum computing in Venezuela.pdf",
           "Is it possible to develop quantum computing in Venezuela.pdf",
           "Is it possible to develop quantum computing in Venezuela.pdf",
           "Is it possible to develop quantum computing in Venezuela.pdf",
           "Is it possible to develop quantum computing in Venezuela.pdf",
           "Is it possible to develop quantum computing in Venezuela.pdf"
          ],
          [
           "Is it possible to develop quantum computing in Venezuela.pdf",
           "Is it possible to develop quantum computing in Venezuela.pdf",
           "Is it possible to develop quantum computing in Venezuela.pdf",
           "Is it possible to develop quantum computing in Venezuela.pdf",
           "Is it possible to develop quantum computing in Venezuela.pdf",
           "Is it possible to develop quantum computing in Venezuela.pdf",
           "Is it possible to develop quantum computing in Venezuela.pdf",
           "Is it possible to develop quantum computing in Venezuela.pdf",
           "Is it possible to develop quantum computing in Venezuela.pdf",
           "Is it possible to develop quantum computing in Venezuela.pdf",
           "Is it possible to develop quantum computing in Venezuela.pdf",
           "Is it possible to develop quantum computing in Venezuela.pdf",
           "Is it possible to develop quantum computing in Venezuela.pdf",
           "Is it possible to develop quantum computing in Venezuela.pdf",
           "Is it possible to develop quantum computing in Venezuela.pdf",
           "Is it possible to develop quantum computing in Venezuela.pdf",
           "Is it possible to develop quantum computing in Venezuela.pdf",
           "Is it possible to develop quantum computing in Venezuela.pdf",
           "Is it possible to develop quantum computing in Venezuela.pdf",
           "Is it possible to develop quantum computing in Venezuela.pdf",
           "Is it possible to develop quantum computing in Venezuela.pdf",
           "Is it possible to develop quantum computing in Venezuela.pdf"
          ],
          [
           "Is it possible to develop quantum computing in Venezuela.pdf",
           "Is it possible to develop quantum computing in Venezuela.pdf",
           "Is it possible to develop quantum computing in Venezuela.pdf",
           "Is it possible to develop quantum computing in Venezuela.pdf",
           "Is it possible to develop quantum computing in Venezuela.pdf",
           "Is it possible to develop quantum computing in Venezuela.pdf",
           "Is it possible to develop quantum computing in Venezuela.pdf",
           "Is it possible to develop quantum computing in Venezuela.pdf",
           "Is it possible to develop quantum computing in Venezuela.pdf",
           "Is it possible to develop quantum computing in Venezuela.pdf",
           "Is it possible to develop quantum computing in Venezuela.pdf",
           "Is it possible to develop quantum computing in Venezuela.pdf",
           "Is it possible to develop quantum computing in Venezuela.pdf",
           "Is it possible to develop quantum computing in Venezuela.pdf",
           "Is it possible to develop quantum computing in Venezuela.pdf",
           "Is it possible to develop quantum computing in Venezuela.pdf",
           "Is it possible to develop quantum computing in Venezuela.pdf",
           "Is it possible to develop quantum computing in Venezuela.pdf",
           "Is it possible to develop quantum computing in Venezuela.pdf",
           "Is it possible to develop quantum computing in Venezuela.pdf",
           "Is it possible to develop quantum computing in Venezuela.pdf",
           "Is it possible to develop quantum computing in Venezuela.pdf"
          ],
          [
           "Is it possible to develop quantum computing in Venezuela.pdf",
           "Is it possible to develop quantum computing in Venezuela.pdf",
           "Is it possible to develop quantum computing in Venezuela.pdf",
           "Is it possible to develop quantum computing in Venezuela.pdf",
           "Is it possible to develop quantum computing in Venezuela.pdf",
           "Is it possible to develop quantum computing in Venezuela.pdf",
           "Is it possible to develop quantum computing in Venezuela.pdf",
           "Is it possible to develop quantum computing in Venezuela.pdf",
           "Is it possible to develop quantum computing in Venezuela.pdf",
           "Is it possible to develop quantum computing in Venezuela.pdf",
           "Is it possible to develop quantum computing in Venezuela.pdf",
           "Is it possible to develop quantum computing in Venezuela.pdf",
           "Is it possible to develop quantum computing in Venezuela.pdf",
           "Is it possible to develop quantum computing in Venezuela.pdf",
           "Is it possible to develop quantum computing in Venezuela.pdf",
           "Is it possible to develop quantum computing in Venezuela.pdf",
           "Is it possible to develop quantum computing in Venezuela.pdf",
           "Is it possible to develop quantum computing in Venezuela.pdf",
           "Is it possible to develop quantum computing in Venezuela.pdf",
           "Is it possible to develop quantum computing in Venezuela.pdf",
           "Is it possible to develop quantum computing in Venezuela.pdf",
           "Is it possible to develop quantum computing in Venezuela.pdf"
          ],
          [
           "Is it possible to develop quantum computing in Venezuela.pdf",
           "Is it possible to develop quantum computing in Venezuela.pdf",
           "Is it possible to develop quantum computing in Venezuela.pdf",
           "Is it possible to develop quantum computing in Venezuela.pdf",
           "Is it possible to develop quantum computing in Venezuela.pdf",
           "Is it possible to develop quantum computing in Venezuela.pdf",
           "Is it possible to develop quantum computing in Venezuela.pdf",
           "Is it possible to develop quantum computing in Venezuela.pdf",
           "Is it possible to develop quantum computing in Venezuela.pdf",
           "Is it possible to develop quantum computing in Venezuela.pdf",
           "Is it possible to develop quantum computing in Venezuela.pdf",
           "Is it possible to develop quantum computing in Venezuela.pdf",
           "Is it possible to develop quantum computing in Venezuela.pdf",
           "Is it possible to develop quantum computing in Venezuela.pdf",
           "Is it possible to develop quantum computing in Venezuela.pdf",
           "Is it possible to develop quantum computing in Venezuela.pdf",
           "Is it possible to develop quantum computing in Venezuela.pdf",
           "Is it possible to develop quantum computing in Venezuela.pdf",
           "Is it possible to develop quantum computing in Venezuela.pdf",
           "Is it possible to develop quantum computing in Venezuela.pdf",
           "Is it possible to develop quantum computing in Venezuela.pdf",
           "Is it possible to develop quantum computing in Venezuela.pdf"
          ],
          [
           "Is it possible to develop quantum computing in Venezuela.pdf",
           "Is it possible to develop quantum computing in Venezuela.pdf",
           "Is it possible to develop quantum computing in Venezuela.pdf",
           "Is it possible to develop quantum computing in Venezuela.pdf",
           "Is it possible to develop quantum computing in Venezuela.pdf",
           "Is it possible to develop quantum computing in Venezuela.pdf",
           "Is it possible to develop quantum computing in Venezuela.pdf",
           "Is it possible to develop quantum computing in Venezuela.pdf",
           "Is it possible to develop quantum computing in Venezuela.pdf",
           "Is it possible to develop quantum computing in Venezuela.pdf",
           "Is it possible to develop quantum computing in Venezuela.pdf",
           "Is it possible to develop quantum computing in Venezuela.pdf",
           "Is it possible to develop quantum computing in Venezuela.pdf",
           "Is it possible to develop quantum computing in Venezuela.pdf",
           "Is it possible to develop quantum computing in Venezuela.pdf",
           "Is it possible to develop quantum computing in Venezuela.pdf",
           "Is it possible to develop quantum computing in Venezuela.pdf",
           "Is it possible to develop quantum computing in Venezuela.pdf",
           "Is it possible to develop quantum computing in Venezuela.pdf",
           "Is it possible to develop quantum computing in Venezuela.pdf",
           "Is it possible to develop quantum computing in Venezuela.pdf",
           "Is it possible to develop quantum computing in Venezuela.pdf"
          ],
          [
           "Is it possible to develop quantum computing in Venezuela.pdf",
           "Is it possible to develop quantum computing in Venezuela.pdf",
           "Is it possible to develop quantum computing in Venezuela.pdf",
           "Is it possible to develop quantum computing in Venezuela.pdf",
           "Is it possible to develop quantum computing in Venezuela.pdf",
           "Is it possible to develop quantum computing in Venezuela.pdf",
           "Is it possible to develop quantum computing in Venezuela.pdf",
           "Is it possible to develop quantum computing in Venezuela.pdf",
           "Is it possible to develop quantum computing in Venezuela.pdf",
           "Is it possible to develop quantum computing in Venezuela.pdf",
           "Is it possible to develop quantum computing in Venezuela.pdf",
           "Is it possible to develop quantum computing in Venezuela.pdf",
           "Is it possible to develop quantum computing in Venezuela.pdf",
           "Is it possible to develop quantum computing in Venezuela.pdf",
           "Is it possible to develop quantum computing in Venezuela.pdf",
           "Is it possible to develop quantum computing in Venezuela.pdf",
           "Is it possible to develop quantum computing in Venezuela.pdf",
           "Is it possible to develop quantum computing in Venezuela.pdf",
           "Is it possible to develop quantum computing in Venezuela.pdf",
           "Is it possible to develop quantum computing in Venezuela.pdf",
           "Is it possible to develop quantum computing in Venezuela.pdf",
           "Is it possible to develop quantum computing in Venezuela.pdf"
          ],
          [
           "Is it possible to develop quantum computing in Venezuela.pdf",
           "Is it possible to develop quantum computing in Venezuela.pdf",
           "Is it possible to develop quantum computing in Venezuela.pdf",
           "Is it possible to develop quantum computing in Venezuela.pdf",
           "Is it possible to develop quantum computing in Venezuela.pdf",
           "Is it possible to develop quantum computing in Venezuela.pdf",
           "Is it possible to develop quantum computing in Venezuela.pdf",
           "Is it possible to develop quantum computing in Venezuela.pdf",
           "Is it possible to develop quantum computing in Venezuela.pdf",
           "Is it possible to develop quantum computing in Venezuela.pdf",
           "Is it possible to develop quantum computing in Venezuela.pdf",
           "Is it possible to develop quantum computing in Venezuela.pdf",
           "Is it possible to develop quantum computing in Venezuela.pdf",
           "Is it possible to develop quantum computing in Venezuela.pdf",
           "Is it possible to develop quantum computing in Venezuela.pdf",
           "Is it possible to develop quantum computing in Venezuela.pdf",
           "Is it possible to develop quantum computing in Venezuela.pdf",
           "Is it possible to develop quantum computing in Venezuela.pdf",
           "Is it possible to develop quantum computing in Venezuela.pdf",
           "Is it possible to develop quantum computing in Venezuela.pdf",
           "Is it possible to develop quantum computing in Venezuela.pdf",
           "Is it possible to develop quantum computing in Venezuela.pdf"
          ],
          [
           "Is it possible to develop quantum computing in Venezuela.pdf",
           "Is it possible to develop quantum computing in Venezuela.pdf",
           "Is it possible to develop quantum computing in Venezuela.pdf",
           "Is it possible to develop quantum computing in Venezuela.pdf",
           "Is it possible to develop quantum computing in Venezuela.pdf",
           "Is it possible to develop quantum computing in Venezuela.pdf",
           "Is it possible to develop quantum computing in Venezuela.pdf",
           "Is it possible to develop quantum computing in Venezuela.pdf",
           "Is it possible to develop quantum computing in Venezuela.pdf",
           "Is it possible to develop quantum computing in Venezuela.pdf",
           "Is it possible to develop quantum computing in Venezuela.pdf",
           "Is it possible to develop quantum computing in Venezuela.pdf",
           "Is it possible to develop quantum computing in Venezuela.pdf",
           "Is it possible to develop quantum computing in Venezuela.pdf",
           "Is it possible to develop quantum computing in Venezuela.pdf",
           "Is it possible to develop quantum computing in Venezuela.pdf",
           "Is it possible to develop quantum computing in Venezuela.pdf",
           "Is it possible to develop quantum computing in Venezuela.pdf",
           "Is it possible to develop quantum computing in Venezuela.pdf",
           "Is it possible to develop quantum computing in Venezuela.pdf",
           "Is it possible to develop quantum computing in Venezuela.pdf",
           "Is it possible to develop quantum computing in Venezuela.pdf"
          ],
          [
           "Unplagiarised",
           "Unplagiarised",
           "Unplagiarised",
           "Unplagiarised",
           "Unplagiarised",
           "Unplagiarised",
           "Unplagiarised",
           "Unplagiarised",
           "Unplagiarised",
           "Unplagiarised",
           "Unplagiarised",
           "Unplagiarised",
           "Unplagiarised",
           "Unplagiarised",
           "Unplagiarised",
           "Unplagiarised",
           "Unplagiarised",
           "Unplagiarised",
           "Unplagiarised",
           "Unplagiarised",
           "Unplagiarised",
           "Unplagiarised"
          ],
          [
           "Unplagiarised",
           "Unplagiarised",
           "Unplagiarised",
           "Unplagiarised",
           "Unplagiarised",
           "Unplagiarised",
           "Unplagiarised",
           "Unplagiarised",
           "Unplagiarised",
           "Unplagiarised",
           "Unplagiarised",
           "Unplagiarised",
           "Unplagiarised",
           "Unplagiarised",
           "Unplagiarised",
           "Unplagiarised",
           "Unplagiarised",
           "Unplagiarised",
           "Unplagiarised",
           "Unplagiarised",
           "Unplagiarised",
           "Unplagiarised"
          ],
          [
           "Unplagiarised",
           "Unplagiarised",
           "Unplagiarised",
           "Unplagiarised",
           "Unplagiarised",
           "Unplagiarised",
           "Unplagiarised",
           "Unplagiarised",
           "Unplagiarised",
           "Unplagiarised",
           "Unplagiarised",
           "Unplagiarised",
           "Unplagiarised",
           "Unplagiarised",
           "Unplagiarised",
           "Unplagiarised",
           "Unplagiarised",
           "Unplagiarised",
           "Unplagiarised",
           "Unplagiarised",
           "Unplagiarised",
           "Unplagiarised"
          ],
          [
           "Unplagiarised",
           "Unplagiarised",
           "Unplagiarised",
           "Unplagiarised",
           "Unplagiarised",
           "Unplagiarised",
           "Unplagiarised",
           "Unplagiarised",
           "Unplagiarised",
           "Unplagiarised",
           "Unplagiarised",
           "Unplagiarised",
           "Unplagiarised",
           "Unplagiarised",
           "Unplagiarised",
           "Unplagiarised",
           "Unplagiarised",
           "Unplagiarised",
           "Unplagiarised",
           "Unplagiarised",
           "Unplagiarised",
           "Unplagiarised"
          ],
          [
           "Unplagiarised",
           "Unplagiarised",
           "Unplagiarised",
           "Unplagiarised",
           "Unplagiarised",
           "Unplagiarised",
           "Unplagiarised",
           "Unplagiarised",
           "Unplagiarised",
           "Unplagiarised",
           "Unplagiarised",
           "Unplagiarised",
           "Unplagiarised",
           "Unplagiarised",
           "Unplagiarised",
           "Unplagiarised",
           "Unplagiarised",
           "Unplagiarised",
           "Unplagiarised",
           "Unplagiarised",
           "Unplagiarised",
           "Unplagiarised"
          ],
          [
           "Unplagiarised",
           "Unplagiarised",
           "Unplagiarised",
           "Unplagiarised",
           "Unplagiarised",
           "Unplagiarised",
           "Unplagiarised",
           "Unplagiarised",
           "Unplagiarised",
           "Unplagiarised",
           "Unplagiarised",
           "Unplagiarised",
           "Unplagiarised",
           "Unplagiarised",
           "Unplagiarised",
           "Unplagiarised",
           "Unplagiarised",
           "Unplagiarised",
           "Applications of neural networks and deep learning to biomedical engineering.pdf",
           "Applications of neural networks and deep learning to biomedical engineering.pdf",
           "Applications of neural networks and deep learning to biomedical engineering.pdf",
           "Applications of neural networks and deep learning to biomedical engineering.pdf"
          ],
          [
           "Applications of neural networks and deep learning to biomedical engineering.pdf",
           "Applications of neural networks and deep learning to biomedical engineering.pdf",
           "Applications of neural networks and deep learning to biomedical engineering.pdf",
           "Applications of neural networks and deep learning to biomedical engineering.pdf",
           "Applications of neural networks and deep learning to biomedical engineering.pdf",
           "Applications of neural networks and deep learning to biomedical engineering.pdf",
           "Applications of neural networks and deep learning to biomedical engineering.pdf",
           "Applications of neural networks and deep learning to biomedical engineering.pdf",
           "Applications of neural networks and deep learning to biomedical engineering.pdf",
           "Applications of neural networks and deep learning to biomedical engineering.pdf",
           "Applications of neural networks and deep learning to biomedical engineering.pdf",
           "Applications of neural networks and deep learning to biomedical engineering.pdf",
           "Applications of neural networks and deep learning to biomedical engineering.pdf",
           "Applications of neural networks and deep learning to biomedical engineering.pdf",
           "Applications of neural networks and deep learning to biomedical engineering.pdf",
           "Applications of neural networks and deep learning to biomedical engineering.pdf",
           "Applications of neural networks and deep learning to biomedical engineering.pdf",
           "Applications of neural networks and deep learning to biomedical engineering.pdf",
           "Applications of neural networks and deep learning to biomedical engineering.pdf",
           "Applications of neural networks and deep learning to biomedical engineering.pdf",
           "Applications of neural networks and deep learning to biomedical engineering.pdf",
           "Applications of neural networks and deep learning to biomedical engineering.pdf"
          ],
          [
           "Applications of neural networks and deep learning to biomedical engineering.pdf",
           "Applications of neural networks and deep learning to biomedical engineering.pdf",
           "Applications of neural networks and deep learning to biomedical engineering.pdf",
           "Applications of neural networks and deep learning to biomedical engineering.pdf",
           "Applications of neural networks and deep learning to biomedical engineering.pdf",
           "Applications of neural networks and deep learning to biomedical engineering.pdf",
           "Applications of neural networks and deep learning to biomedical engineering.pdf",
           "Applications of neural networks and deep learning to biomedical engineering.pdf",
           "Applications of neural networks and deep learning to biomedical engineering.pdf",
           "Applications of neural networks and deep learning to biomedical engineering.pdf",
           "Applications of neural networks and deep learning to biomedical engineering.pdf",
           "Applications of neural networks and deep learning to biomedical engineering.pdf",
           "Applications of neural networks and deep learning to biomedical engineering.pdf",
           "Applications of neural networks and deep learning to biomedical engineering.pdf",
           "Applications of neural networks and deep learning to biomedical engineering.pdf",
           "Applications of neural networks and deep learning to biomedical engineering.pdf",
           "Applications of neural networks and deep learning to biomedical engineering.pdf",
           "Applications of neural networks and deep learning to biomedical engineering.pdf",
           "Applications of neural networks and deep learning to biomedical engineering.pdf",
           "Applications of neural networks and deep learning to biomedical engineering.pdf",
           "Applications of neural networks and deep learning to biomedical engineering.pdf",
           "Applications of neural networks and deep learning to biomedical engineering.pdf"
          ],
          [
           "Applications of neural networks and deep learning to biomedical engineering.pdf",
           "Applications of neural networks and deep learning to biomedical engineering.pdf",
           "Applications of neural networks and deep learning to biomedical engineering.pdf",
           "Applications of neural networks and deep learning to biomedical engineering.pdf",
           "Applications of neural networks and deep learning to biomedical engineering.pdf",
           "Applications of neural networks and deep learning to biomedical engineering.pdf",
           "Applications of neural networks and deep learning to biomedical engineering.pdf",
           "Applications of neural networks and deep learning to biomedical engineering.pdf",
           "Applications of neural networks and deep learning to biomedical engineering.pdf",
           "Applications of neural networks and deep learning to biomedical engineering.pdf",
           "Applications of neural networks and deep learning to biomedical engineering.pdf",
           "Applications of neural networks and deep learning to biomedical engineering.pdf",
           "Applications of neural networks and deep learning to biomedical engineering.pdf",
           "Applications of neural networks and deep learning to biomedical engineering.pdf",
           "Applications of neural networks and deep learning to biomedical engineering.pdf",
           "Applications of neural networks and deep learning to biomedical engineering.pdf",
           "Applications of neural networks and deep learning to biomedical engineering.pdf",
           "Applications of neural networks and deep learning to biomedical engineering.pdf",
           "Applications of neural networks and deep learning to biomedical engineering.pdf",
           "Applications of neural networks and deep learning to biomedical engineering.pdf",
           "Applications of neural networks and deep learning to biomedical engineering.pdf",
           "Applications of neural networks and deep learning to biomedical engineering.pdf"
          ],
          [
           "Applications of neural networks and deep learning to biomedical engineering.pdf",
           "Applications of neural networks and deep learning to biomedical engineering.pdf",
           "Applications of neural networks and deep learning to biomedical engineering.pdf",
           "Applications of neural networks and deep learning to biomedical engineering.pdf",
           "Applications of neural networks and deep learning to biomedical engineering.pdf",
           "Applications of neural networks and deep learning to biomedical engineering.pdf",
           "Applications of neural networks and deep learning to biomedical engineering.pdf",
           "Applications of neural networks and deep learning to biomedical engineering.pdf",
           "Applications of neural networks and deep learning to biomedical engineering.pdf",
           "Applications of neural networks and deep learning to biomedical engineering.pdf",
           "Applications of neural networks and deep learning to biomedical engineering.pdf",
           "Applications of neural networks and deep learning to biomedical engineering.pdf",
           "Applications of neural networks and deep learning to biomedical engineering.pdf",
           "Applications of neural networks and deep learning to biomedical engineering.pdf",
           "Applications of neural networks and deep learning to biomedical engineering.pdf",
           "Applications of neural networks and deep learning to biomedical engineering.pdf",
           "Applications of neural networks and deep learning to biomedical engineering.pdf",
           "Applications of neural networks and deep learning to biomedical engineering.pdf",
           "Applications of neural networks and deep learning to biomedical engineering.pdf",
           "Applications of neural networks and deep learning to biomedical engineering.pdf",
           "Applications of neural networks and deep learning to biomedical engineering.pdf",
           "Applications of neural networks and deep learning to biomedical engineering.pdf"
          ],
          [
           "Applications of neural networks and deep learning to biomedical engineering.pdf",
           "Applications of neural networks and deep learning to biomedical engineering.pdf",
           "Applications of neural networks and deep learning to biomedical engineering.pdf",
           "Applications of neural networks and deep learning to biomedical engineering.pdf",
           "Applications of neural networks and deep learning to biomedical engineering.pdf",
           "Applications of neural networks and deep learning to biomedical engineering.pdf",
           "Applications of neural networks and deep learning to biomedical engineering.pdf",
           "Applications of neural networks and deep learning to biomedical engineering.pdf",
           "Applications of neural networks and deep learning to biomedical engineering.pdf",
           "Applications of neural networks and deep learning to biomedical engineering.pdf",
           "Applications of neural networks and deep learning to biomedical engineering.pdf",
           "Applications of neural networks and deep learning to biomedical engineering.pdf",
           "Applications of neural networks and deep learning to biomedical engineering.pdf",
           "Applications of neural networks and deep learning to biomedical engineering.pdf",
           "Applications of neural networks and deep learning to biomedical engineering.pdf",
           "Applications of neural networks and deep learning to biomedical engineering.pdf",
           "Applications of neural networks and deep learning to biomedical engineering.pdf",
           "Unplagiarised",
           "Unplagiarised",
           "Unplagiarised",
           "Unplagiarised",
           "Unplagiarised"
          ],
          [
           "Unplagiarised",
           "Unplagiarised",
           "Unplagiarised",
           "Unplagiarised",
           "Unplagiarised",
           "Unplagiarised",
           "Unplagiarised",
           "Unplagiarised",
           "Unplagiarised",
           "Unplagiarised",
           "Unplagiarised",
           "Unplagiarised",
           "Unplagiarised",
           "Unplagiarised",
           "Unplagiarised",
           "Unplagiarised",
           "Unplagiarised",
           "Unplagiarised",
           "Unplagiarised",
           "Unplagiarised",
           "Unplagiarised",
           "Unplagiarised"
          ],
          [
           "Unplagiarised",
           "Unplagiarised",
           "Unplagiarised",
           "Unplagiarised",
           "Unplagiarised",
           "Unplagiarised",
           "Unplagiarised",
           "Unplagiarised",
           "Unplagiarised",
           "Unplagiarised",
           "Unplagiarised",
           "Unplagiarised",
           "Unplagiarised",
           "Unplagiarised",
           "Unplagiarised",
           "Unplagiarised",
           "Unplagiarised",
           "Unplagiarised",
           "Unplagiarised",
           "Unplagiarised",
           "Unplagiarised",
           "Unplagiarised"
          ],
          [
           "Unplagiarised",
           "Unplagiarised",
           "Unplagiarised",
           "Unplagiarised",
           "Unplagiarised",
           "Unplagiarised",
           "Unplagiarised",
           "Unplagiarised",
           "Unplagiarised",
           "Unplagiarised",
           "Unplagiarised",
           "Unplagiarised",
           "Unplagiarised",
           "Unplagiarised",
           "Unplagiarised",
           "Unplagiarised",
           "Unplagiarised",
           "Unplagiarised",
           "Unplagiarised",
           "Unplagiarised",
           "Unplagiarised",
           "Unplagiarised"
          ],
          [
           "Unplagiarised",
           "Unplagiarised",
           "Unplagiarised",
           "Unplagiarised",
           "Unplagiarised",
           "Unplagiarised",
           "Unplagiarised",
           "Unplagiarised",
           "Unplagiarised",
           "Unplagiarised",
           "Unplagiarised",
           "Unplagiarised",
           "Unplagiarised",
           "Unplagiarised",
           "Unplagiarised",
           "Unplagiarised",
           "Unplagiarised",
           "Unplagiarised",
           "Unplagiarised",
           "Unplagiarised",
           "Unplagiarised",
           "Unplagiarised"
          ],
          [
           "Unplagiarised",
           "Unplagiarised",
           "Unplagiarised",
           "Unplagiarised",
           "Unplagiarised",
           "Unplagiarised",
           "Unplagiarised",
           "Unplagiarised",
           "Unplagiarised",
           "Unplagiarised",
           "Unplagiarised",
           "Unplagiarised",
           "Unplagiarised",
           "Unplagiarised",
           "Unplagiarised",
           "Unplagiarised",
           "Unplagiarised",
           "Unplagiarised",
           "Unplagiarised",
           "Unplagiarised",
           "Unplagiarised",
           "Unplagiarised"
          ]
         ],
         "dx": 1,
         "hovertemplate": "%{customdata} <br><b>Score:%{z:.3f}<extra></extra>",
         "text": [
          [
           "First",
           "of",
           "all",
           "Indian",
           "origin",
           "religions",
           "are",
           "Hinduism",
           "Buddhism",
           "Jainism",
           "and",
           "Sikhism",
           "All",
           "of",
           "these",
           "religions",
           "are",
           "based",
           "on",
           "karma",
           "and",
           "dharma"
          ],
          [
           "Furthermore",
           "these",
           "four",
           "are",
           "called",
           "as",
           "Indian",
           "religions",
           "Indian",
           "religions",
           "are",
           "a",
           "major",
           "category",
           "of",
           "world",
           "religions",
           "along",
           "with",
           "Abrahamic",
           "religions",
           "Also"
          ],
          [
           "many",
           "foreign",
           "religions",
           "are",
           "present",
           "in",
           "India",
           "as",
           "well",
           "These",
           "foreign",
           "religions",
           "include",
           "Abrahamic",
           "religions",
           "The",
           "Abrahamic",
           "religions",
           "in",
           "India",
           "certainly",
           "are"
          ],
          [
           "Judaism",
           "Christianity",
           "and",
           "Islam",
           "Besides",
           "Abrahamic",
           "religions",
           "Zoroastrianism",
           "and",
           "Baháí",
           "Faith",
           "are",
           "the",
           "other",
           "foreign",
           "religions",
           "which",
           "exist",
           "in",
           "India",
           "Consequently",
           "the"
          ],
          [
           "presence",
           "of",
           "so",
           "many",
           "diverse",
           "religions",
           "has",
           "given",
           "rise",
           "to",
           "tolerance",
           "and",
           "secularism",
           "in",
           "Indian",
           "culture",
           "The",
           "Joint",
           "family",
           "system",
           "is",
           "the"
          ],
          [
           "prevailing",
           "system",
           "of",
           "Indian",
           "culture",
           "Most",
           "noteworthy",
           "the",
           "family",
           "members",
           "consist",
           "of",
           "parents",
           "children",
           "childrens",
           "spouses",
           "and",
           "offspring",
           "All",
           "of",
           "these",
           "family"
          ],
          [
           "members",
           "live",
           "together",
           "Furthermore",
           "the",
           "eldest",
           "male",
           "member",
           "is",
           "the",
           "head",
           "of",
           "the",
           "family",
           "In",
           "an",
           "article",
           "in",
           "Energy",
           "Crisis",
           "2004",
           "by"
          ],
          [
           "Coderch",
           "clear",
           "data",
           "was",
           "already",
           "offered",
           "on",
           "whether",
           "it",
           "is",
           "possible",
           "to",
           "meet",
           "the",
           "current",
           "and",
           "future",
           "energy",
           "needs",
           "of",
           "our",
           "industrial"
          ],
          [
           "civilization",
           "by",
           "building",
           "enough",
           "nuclear",
           "power",
           "plants",
           "and",
           "without",
           "contributing",
           "to",
           "the",
           "greenhouse",
           "effect",
           "or",
           "if",
           "the",
           "energy",
           "transition",
           "fossil",
           "fuels",
           "to"
          ],
          [
           "nuclear",
           "power",
           "can",
           "be",
           "done",
           "in",
           "well",
           "under",
           "50",
           "years",
           "Coderch",
           "starts",
           "from",
           "reality",
           "There",
           "are",
           "currently",
           "some",
           "450",
           "nuclear",
           "power",
           "plants"
          ],
          [
           "in",
           "the",
           "world",
           "that",
           "produces",
           "12",
           "of",
           "all",
           "the",
           "electricity",
           "consumed",
           "in",
           "the",
           "world",
           "which",
           "is",
           "equivalent",
           "to",
           "5",
           "of",
           "all",
           "the"
          ],
          [
           "energy",
           "consumed",
           "Therefore",
           "without",
           "considering",
           "increases",
           "in",
           "demand",
           "to",
           "produce",
           "all",
           "the",
           "electrical",
           "energy",
           "that",
           "the",
           "world",
           "consumes",
           "today",
           "it",
           "would",
           "be"
          ],
          [
           "necessary",
           "to",
           "build",
           "some",
           "3600",
           "additional",
           "plants",
           "which",
           "would",
           "possibly",
           "cover",
           "close",
           "to",
           "40",
           "of",
           "all",
           "the",
           "energy",
           "we",
           "consume",
           "Bearing",
           "in"
          ],
          [
           "mind",
           "that",
           "it",
           "takes",
           "about",
           "10",
           "years",
           "to",
           "build",
           "a",
           "nuclear",
           "power",
           "plant",
           "that",
           "it",
           "took",
           "more",
           "than",
           "15",
           "years",
           "to",
           "build"
          ],
          [
           "the",
           "current",
           "450",
           "plants",
           "and",
           "even",
           "assuming",
           "that",
           "despite",
           "the",
           "fact",
           "that",
           "practically",
           "no",
           "new",
           "plants",
           "have",
           "been",
           "built",
           "since",
           "the",
           "1970s"
          ],
          [
           "there",
           "are",
           "still",
           "We",
           "have",
           "the",
           "same",
           "construction",
           "capacity",
           "as",
           "in",
           "the",
           "peak",
           "decade",
           "of",
           "the",
           "1960s",
           "it",
           "would",
           "take",
           "120",
           "years"
          ],
          [
           "to",
           "build",
           "the",
           "3600",
           "new",
           "plants",
           "Even",
           "assuming",
           "we",
           "doubled",
           "the",
           "maximum",
           "capacity",
           "we",
           "had",
           "we",
           "couldnt",
           "finish",
           "construction",
           "before",
           "60"
          ],
          [
           "years",
           "Arranged",
           "marriages",
           "are",
           "the",
           "norm",
           "in",
           "Indian",
           "culture",
           "Probably",
           "most",
           "Indians",
           "have",
           "their",
           "marriages",
           "planned",
           "by",
           "their",
           "parents",
           "In",
           "almost",
           "all"
          ],
          [
           "Indian",
           "marriages",
           "the",
           "brides",
           "family",
           "gives",
           "dowry",
           "to",
           "bridegroom",
           "Weddings",
           "are",
           "certainly",
           "festive",
           "occasions",
           "in",
           "Indian",
           "culture",
           "There",
           "is",
           "involvement",
           "of",
           "striking"
          ],
          [
           "decorations",
           "clothing",
           "music",
           "dance",
           "rituals",
           "in",
           "Indian",
           "weddings",
           "Most",
           "noteworthy",
           "the",
           "divorce",
           "rates",
           "in",
           "India",
           "are",
           "very",
           "low",
           "India",
           "celebrates",
           "a",
           "huge"
          ],
          [
           "number",
           "of",
           "festivals",
           "These",
           "festivals",
           "are",
           "very",
           "diverse",
           "due",
           "to",
           "multireligious",
           "and",
           "multicultural",
           "Indian",
           "society",
           "Indians",
           "greatly",
           "value",
           "festive",
           "occasions",
           "Above",
           "all"
          ],
          [
           "the",
           "whole",
           "country",
           "joins",
           "in",
           "the",
           "celebrations",
           "irrespective",
           "of",
           "the",
           "differences",
           "There",
           "is",
           "a",
           "set",
           "of",
           "physical",
           "phenomena",
           "that",
           "can",
           "only",
           "be"
          ],
          [
           "explained",
           "from",
           "the",
           "theory",
           "of",
           "quantum",
           "mechanics",
           "among",
           "which",
           "we",
           "have",
           "the",
           "waveparticle",
           "duality",
           "of",
           "light",
           "the",
           "wave",
           "behavior",
           "of",
           "subatomic",
           "particles"
          ],
          [
           "such",
           "as",
           "electrons",
           "the",
           "tunnel",
           "effect",
           "the",
           "spin",
           "superconductivity",
           "quantum",
           "superposition",
           "and",
           "quantum",
           "entanglement",
           "In",
           "relation",
           "to",
           "the",
           "socalled",
           "waveparticle",
           "dual",
           "behavior"
          ],
          [
           "of",
           "light",
           "in",
           "principle",
           "it",
           "should",
           "be",
           "noted",
           "that",
           "it",
           "is",
           "a",
           "concept",
           "introduced",
           "in",
           "the",
           "theory",
           "of",
           "quantum",
           "mechanics",
           "by",
           "the"
          ],
          [
           "Danish",
           "physicist",
           "Bohr",
           "for",
           "express",
           "that",
           "a",
           "system",
           "can",
           "behave",
           "like",
           "a",
           "wave",
           "or",
           "a",
           "particle",
           "but",
           "not",
           "both",
           "at",
           "the",
           "same"
          ],
          [
           "time",
           "depending",
           "on",
           "the",
           "experiment",
           "that",
           "is",
           "carried",
           "out",
           "Bohr",
           "1935",
           "For",
           "example",
           "in",
           "interference",
           "experiments",
           "light",
           "shows",
           "a",
           "wave",
           "nature",
           "on"
          ],
          [
           "the",
           "other",
           "hand",
           "when",
           "light",
           "of",
           "a",
           "certain",
           "frequency",
           "illuminates",
           "a",
           "certain",
           "metal",
           "causing",
           "the",
           "expulsion",
           "of",
           "electrons",
           "from",
           "the",
           "material",
           "photoelectric"
          ],
          [
           "effect",
           "the",
           "light",
           "behaves",
           "as",
           "if",
           "it",
           "were",
           "made",
           "up",
           "of",
           "particles",
           "called",
           "photons",
           "The",
           "interpretation",
           "of",
           "the",
           "photoelectric",
           "effect",
           "in",
           "terms"
          ],
          [
           "of",
           "photons",
           "or",
           "quanta",
           "of",
           "light",
           "as",
           "well",
           "as",
           "the",
           "explanation",
           "of",
           "the",
           "phenomenon",
           "of",
           "the",
           "wave",
           "behavior",
           "of",
           "the",
           "electron",
           "in"
          ],
          [
           "diffraction",
           "experiments",
           "are",
           "based",
           "on",
           "the",
           "quantum",
           "theory",
           "of",
           "electromagnetic",
           "radiation",
           "and",
           "matter",
           "theory",
           "that",
           "unifies",
           "matter",
           "and",
           "radiation",
           "at",
           "the",
           "atomic"
          ],
          [
           "level",
           "Indian",
           "culture",
           "has",
           "been",
           "an",
           "inspiration",
           "to",
           "many",
           "writers",
           "India",
           "is",
           "certainly",
           "a",
           "symbol",
           "of",
           "unity",
           "around",
           "the",
           "world",
           "Indian",
           "culture"
          ],
          [
           "is",
           "certainly",
           "very",
           "complex",
           "Furthermore",
           "the",
           "conception",
           "of",
           "Indian",
           "identity",
           "poses",
           "certain",
           "difficulties",
           "However",
           "despite",
           "this",
           "a",
           "typical",
           "Indian",
           "culture",
           "does",
           "exist"
          ],
          [
           "The",
           "creation",
           "of",
           "this",
           "typical",
           "Indian",
           "culture",
           "results",
           "from",
           "some",
           "internal",
           "forces",
           "Above",
           "all",
           "these",
           "forces",
           "are",
           "a",
           "robust",
           "Constitution",
           "universal",
           "adult"
          ],
          [
           "franchise",
           "secular",
           "policy",
           "flexible",
           "federal",
           "structure",
           "etc",
           "Indian",
           "culture",
           "is",
           "characterized",
           "by",
           "a",
           "strict",
           "social",
           "hierarchy",
           "Furthermore",
           "Indian",
           "children",
           "are",
           "taught",
           "their"
          ],
          [
           "roles",
           "and",
           "place",
           "in",
           "society",
           "from",
           "an",
           "early",
           "age",
           "Probably",
           "many",
           "Indians",
           "believe",
           "that",
           "gods",
           "and",
           "spirits",
           "have",
           "a",
           "role",
           "in",
           "determining"
          ],
          [
           "their",
           "life",
           "Earlier",
           "traditional",
           "Hindus",
           "were",
           "divided",
           "into",
           "polluting",
           "and",
           "nonpolluting",
           "occupations",
           "Now",
           "this",
           "difference",
           "is",
           "declining",
           "A",
           "common",
           "problem",
           "that",
           "arises"
          ],
          [
           "during",
           "the",
           "training",
           "of",
           "ANNs",
           "is",
           "overfitting",
           "Overfitting",
           "occurs",
           "when",
           "the",
           "network",
           "error",
           "for",
           "the",
           "training",
           "set",
           "is",
           "very",
           "low",
           "but",
           "when"
          ],
          [
           "presented",
           "with",
           "new",
           "information",
           "test",
           "sets",
           "the",
           "error",
           "is",
           "very",
           "high",
           "This",
           "means",
           "that",
           "the",
           "network",
           "memorized",
           "the",
           "training",
           "data",
           "but",
           "was"
          ],
          [
           "unable",
           "to",
           "learn",
           "to",
           "generalize",
           "to",
           "new",
           "situations",
           "To",
           "deal",
           "with",
           "the",
           "risk",
           "of",
           "overfitting",
           "it",
           "is",
           "necessary",
           "to",
           "have",
           "a",
           "good"
          ],
          [
           "set",
           "of",
           "data",
           "training",
           "testing",
           "and",
           "validation",
           "make",
           "a",
           "correct",
           "selection",
           "of",
           "the",
           "number",
           "of",
           "network",
           "parameters",
           "and",
           "sometimes",
           "resort",
           "to",
           "regularization"
          ],
          [
           "methods",
           "especially",
           "when",
           "working",
           "with",
           "DNAs",
           "110",
           "all",
           "this",
           "implies",
           "expertise",
           "in",
           "computational",
           "sciences",
           "and",
           "development",
           "of",
           "ANNs",
           "Indian",
           "culture",
           "is",
           "certainly"
          ],
          [
           "very",
           "diverse",
           "Also",
           "Indian",
           "children",
           "learn",
           "and",
           "assimilate",
           "in",
           "the",
           "differences",
           "In",
           "recent",
           "decades",
           "huge",
           "changes",
           "have",
           "taken",
           "place",
           "in",
           "Indian",
           "culture"
          ],
          [
           "Above",
           "all",
           "these",
           "changes",
           "are",
           "female",
           "empowerment",
           "westernization",
           "a",
           "decline",
           "of",
           "superstition",
           "higher",
           "literacy",
           "improved",
           "education",
           "etc",
           "To",
           "sum",
           "it",
           "up",
           "the"
          ],
          [
           "culture",
           "of",
           "India",
           "is",
           "one",
           "of",
           "the",
           "oldest",
           "cultures",
           "in",
           "the",
           "World",
           "Above",
           "all",
           "many",
           "Indians",
           "till",
           "stick",
           "to",
           "the",
           "traditional",
           "Indian"
          ],
          [
           "culture",
           "in",
           "spite",
           "of",
           "rapid",
           "westernization",
           "Indians",
           "have",
           "demonstrated",
           "strong",
           "unity",
           "irrespective",
           "of",
           "the",
           "diversity",
           "among",
           "them",
           "Unity",
           "in",
           "Diversity",
           "is",
           "the"
          ],
          [
           "ultimate",
           "mantra",
           "of",
           "Indian",
           "culture",
           "",
           "",
           "",
           "",
           "",
           "",
           "",
           "",
           "",
           "",
           "",
           "",
           "",
           "",
           "",
           "",
           ""
          ]
         ],
         "textfont": {
          "size": 7
         },
         "texttemplate": "%{text}",
         "type": "heatmap",
         "x0": 0,
         "z": [
          [
           0.01600141871906089,
           0.022635906427591865,
           0.0148857954816255,
           0.004166553464898863,
           0.0009359192961674439,
           0.0016735837729087535,
           0.002656790710195651,
           0.0017700223966608199,
           0.002391282431504697,
           0.009147786820747095,
           0.01515056950937678,
           0.010573602964228218,
           0.008559986233556588,
           0.01112243182373949,
           0.00748424779637923,
           0.008175180220017567,
           0.057938733283659935,
           0.2427667605842597,
           0.39609495928302324,
           0.24712976859152141,
           0.06806639859304546,
           0.013499636005437176
          ],
          [
           0.002334741200137391,
           0.0006288064694984347,
           0.0010452719462047746,
           0.0016114929174041188,
           0.0016423808750324392,
           0.0014613535637494437,
           0.0007739290050045507,
           0.0002067669104473721,
           0.000680273847243888,
           0.005367536107594327,
           0.01952155003604821,
           0.029655824273465695,
           0.02009560574874481,
           0.01664038834653658,
           0.021577746566379577,
           0.015143689353327733,
           0.03009798505398683,
           0.12191985599483504,
           0.20047792220850835,
           0.12156406301368786,
           0.027144037897979697,
           0.0022717402741807818
          ],
          [
           0.00013561124277819647,
           0.0005001183102174279,
           0.005081670135648048,
           0.041649134223569834,
           0.17092842113421192,
           0.27656157024425765,
           0.16900154229637485,
           0.04344686356255915,
           0.010705730747445179,
           0.004132403610560796,
           0.000863861592276718,
           0.00007307696912746989,
           0.00002223731675837971,
           0.00024145866688535304,
           0.0010854368666929936,
           0.001894971804088939,
           0.0024332587937365173,
           0.0062978615643311635,
           0.01003304607254975,
           0.006413653826104662,
           0.0029585343316618933,
           0.002919631429430884
          ],
          [
           0.0036393928308900655,
           0.009472033884501666,
           0.015056629938313831,
           0.00911539371823929,
           0.002038762609550206,
           0.00033387605599822747,
           0.002038762609550206,
           0.00911539371823929,
           0.015067383529827044,
           0.009828588510612985,
           0.007989074628417015,
           0.02243102768350111,
           0.034467687468987936,
           0.021142148004103422,
           0.005374487683519355,
           0.0015420679637381963,
           0.0028519399598020186,
           0.006955468170849943,
           0.010331039214504747,
           0.007937833808426446,
           0.012611522787070353,
           0.05448626518738991
          ],
          [
           0.1952614471109325,
           0.33561629836234996,
           0.3153119243449998,
           0.2561335829136807,
           0.13384154189945352,
           0.02982903950059601,
           0.003589764845911864,
           0.0022573113380406967,
           0.007089740151075832,
           0.013202795582200198,
           0.01598911263601735,
           0.0178875252357799,
           0.015294967512009988,
           0.01204053740994625,
           0.006384808933599589,
           0.0019661500132250437,
           0.0010612229878530289,
           0.0009194462823027458,
           0.0038333181228307127,
           0.016619844132410053,
           0.03276480317047346,
           0.03014438208589903
          ],
          [
           0.014535949509523367,
           0.008406787035062206,
           0.009164052784672938,
           0.005302878052653827,
           0.0015091783813576034,
           0.0036137162635221255,
           0.015598362425216278,
           0.02576894841174588,
           0.017924401819238503,
           0.0319265568900092,
           0.1277251964099843,
           0.21008544906400084,
           0.12741510018692295,
           0.028595310017583118,
           0.004367256126604677,
           0.00918890521208364,
           0.015149683290070335,
           0.010573602964228218,
           0.008559100014250143,
           0.011091919489531189,
           0.006956840350294852,
           0.0017546015369530204
          ],
          [
           0.0002208053505640649,
           0.0003989281170356677,
           0.0036494779039090808,
           0.01569027089998942,
           0.025722615227608082,
           0.015667248329618667,
           0.004669743187889084,
           0.00841284926137905,
           0.026105105028169328,
           0.039770629155741824,
           0.041934806281631085,
           0.06403683113268119,
           0.07683799941755827,
           0.04546016264262051,
           0.0454792219959237,
           0.1782519237165343,
           0.4519222000946065,
           0.7101868780951965,
           0.8523676550825507,
           0.9111815374369383,
           0.9225666244353301,
           0.9083354890282359
          ],
          [
           0.8963061664180376,
           0.8976943940706339,
           0.8964291890544915,
           0.888611057020569,
           0.8905437175244256,
           0.9045825304939117,
           0.9117576180529565,
           0.9088165911287506,
           0.9063953775440274,
           0.8831227819333234,
           0.8390817549741432,
           0.7329056420035982,
           0.6307666728687475,
           0.7307679120712184,
           0.8313483998125821,
           0.8401178579578079,
           0.8586162998889267,
           0.8829159378097169,
           0.8971744185209533,
           0.9041548061477169,
           0.8962802969027537,
           0.8945678468793584
          ],
          [
           0.9063533689694107,
           0.9122055572481451,
           0.909207040760551,
           0.9122792735377063,
           0.9134205522979794,
           0.8975952021732616,
           0.826163301364805,
           0.7515177481336215,
           0.7897271357744283,
           0.8812788098949689,
           0.9347010175761759,
           0.9231263399767327,
           0.8776544303485689,
           0.8044971420444378,
           0.7271737323339783,
           0.7672334076035274,
           0.8202593265833085,
           0.8177955604936239,
           0.8277989193037416,
           0.8772553176998674,
           0.9173763377693129,
           0.9198071907333889
          ],
          [
           0.9032907068589041,
           0.8801888670213001,
           0.8545720177111161,
           0.8459572426144938,
           0.8430771913426907,
           0.863877261885519,
           0.8843815707778084,
           0.8930863173132952,
           0.8975233591165938,
           0.8971253402813014,
           0.8968652152915839,
           0.9060702142080237,
           0.9118961751826586,
           0.9093247129134285,
           0.9118055434306904,
           0.9067812166068064,
           0.9022835619330611,
           0.9066518463373652,
           0.9053592879664324,
           0.9079610041284811,
           0.8976808488019618,
           0.8295636008677559
          ],
          [
           0.7624579902854116,
           0.7676985448576171,
           0.7054614826600785,
           0.4827675852649986,
           0.20267019402173658,
           0.0899263212176831,
           0.20626990929379685,
           0.4510123143008311,
           0.639983826195391,
           0.7175592860609157,
           0.7936826395439358,
           0.8576142629559852,
           0.8457336134184261,
           0.7739266775702774,
           0.7438506524746228,
           0.7938978603209113,
           0.8463054869179119,
           0.8733356927388112,
           0.8686512924651381,
           0.8686640229891983,
           0.8698011668821903,
           0.8230655328390911
          ],
          [
           0.7053960357218638,
           0.6420508557460327,
           0.739334113240423,
           0.8496464308897641,
           0.8969023011059427,
           0.9198994761682546,
           0.9110855484758379,
           0.8818354860230749,
           0.875679163184647,
           0.8701137423757597,
           0.8596117125328975,
           0.8480446192266418,
           0.8235292846303439,
           0.8165096287747349,
           0.827110541831049,
           0.8231050508805378,
           0.782868631549305,
           0.7810033783874063,
           0.850396478929393,
           0.8898906493548293,
           0.8726172312718337,
           0.8299970165231082
          ],
          [
           0.8113381444480501,
           0.8328304940193642,
           0.8225107457418711,
           0.8206529410181851,
           0.8582688481831018,
           0.8882638513812577,
           0.893934205788179,
           0.8839310231076747,
           0.8690222304379143,
           0.8696253867020027,
           0.8942792915341353,
           0.9104829168317043,
           0.9019461447419973,
           0.8759052408059089,
           0.8622943601885064,
           0.8500100803689687,
           0.8104220833801282,
           0.7104918858167362,
           0.6537508963387602,
           0.690316084963372,
           0.7204839871806202,
           0.8026310460559063
          ],
          [
           0.8614698791103446,
           0.8603762904215946,
           0.8462998665940441,
           0.8382948541578674,
           0.8590821292369768,
           0.8792076736799244,
           0.8742998159112036,
           0.8461850337124779,
           0.7919665708491227,
           0.736092467350012,
           0.7621324383889325,
           0.8255519482310671,
           0.7793863576476532,
           0.7065374096959067,
           0.7554555496073723,
           0.8299028172351285,
           0.8744068226222582,
           0.8711462475984464,
           0.8503539115248788,
           0.8641801843574483,
           0.868988131862509,
           0.8167318756935145
          ],
          [
           0.7101868013019792,
           0.6487548659203521,
           0.7329488461034512,
           0.8398805557645777,
           0.8612372709248031,
           0.8368615441088788,
           0.8372252219578009,
           0.8541976904132063,
           0.8438814647799178,
           0.8467220527095669,
           0.8688143579054707,
           0.8473614335160078,
           0.8074623236387444,
           0.8435670890489886,
           0.8777921253986309,
           0.868666033031594,
           0.8565250531046859,
           0.8497524106384917,
           0.8439833567363345,
           0.8672136955256212,
           0.8887326919778364,
           0.8987615538407072
          ],
          [
           0.9074995420243515,
           0.8846399833892483,
           0.8539856457292174,
           0.8735218268344375,
           0.8964378476969213,
           0.8731918362716606,
           0.8328053445504306,
           0.824672170693957,
           0.8452009088406726,
           0.8574909606289203,
           0.8675393199098649,
           0.8372440108979959,
           0.7950549217210607,
           0.8428629789051596,
           0.8865983051003882,
           0.8618046969566724,
           0.8249954794845014,
           0.8310747666712602,
           0.8461409997293127,
           0.8520983668242738,
           0.8798387975466044,
           0.9039316965610817
          ],
          [
           0.8857901726080787,
           0.8202135242968716,
           0.7163950594717243,
           0.6747736832530069,
           0.7694280618562235,
           0.8489263296878309,
           0.8721415093329223,
           0.8852515117491694,
           0.8758642023813273,
           0.883558796971358,
           0.9031309676807298,
           0.9066550319455405,
           0.9057241901557223,
           0.8960195463083661,
           0.8894458850863545,
           0.8886208819288104,
           0.878081656186633,
           0.8783538159230699,
           0.9050048650209687,
           0.9163345640139866,
           0.8987916279487327,
           0.8410453129389637
          ],
          [
           0.62474467719929,
           0.2695496383947379,
           0.058373367121745935,
           0.02628514830135357,
           0.03512942077462304,
           0.025856767178061183,
           0.014361017454259764,
           0.006460623302772795,
           0.0015099487445832459,
           0.0005219696546961425,
           0.0007880448978910082,
           0.0012294927048435225,
           0.0015838094561565913,
           0.001032521859403982,
           0.0003997189273623003,
           0.0004984544994731766,
           0.0008300094330317221,
           0.0008326283201444227,
           0.0011501396266008336,
           0.0016405665411638195,
           0.0013431724523459028,
           0.0011760262131025872
          ],
          [
           0.0039107142468628306,
           0.01567959441801609,
           0.02570496179739576,
           0.01559019473359873,
           0.00360162620094752,
           0.0017945115897086646,
           0.006772554517915979,
           0.011179728318324233,
           0.007120574187288397,
           0.003111362033650429,
           0.0027690012795573253,
           0.0017169735122107969,
           0.0017087205497134893,
           0.00608565029107997,
           0.01002892089128305,
           0.0072438680812889926,
           0.01536104775329565,
           0.06277730079305657,
           0.10570480993776939,
           0.07520009234010899,
           0.03508232141655679,
           0.013981474814686182
          ],
          [
           0.002899342026593799,
           0.00023851077840748026,
           0.0001180121454090466,
           0.0013511711454613849,
           0.006055528954770451,
           0.009983879393070558,
           0.00606414945166041,
           0.0016366427960808737,
           0.003588667541239826,
           0.015592922447567915,
           0.02580824993800708,
           0.016938281375500023,
           0.009563710819289828,
           0.010667349783055141,
           0.008259698744342285,
           0.007871970390529028,
           0.013580338901115988,
           0.016655260678306173,
           0.010108994799153385,
           0.006617960865299768,
           0.011481135766238021,
           0.04656706571547487
          ],
          [
           0.18523658153474876,
           0.3027467538059486,
           0.183636439740472,
           0.041592766873062244,
           0.005562864413281353,
           0.004851232117682371,
           0.008808148043019978,
           0.05063735951655036,
           0.21674269157774836,
           0.3580921180955717,
           0.2249899214870837,
           0.06319049698609004,
           0.01307243860698675,
           0.0021739415941152804,
           0.00020239030304350584,
           0.00003978006892844606,
           0.00006707133336691663,
           0.00010353791556420875,
           0.00010334108835510693,
           0.001208832934303363,
           0.013843045158060044,
           0.06085971346552455
          ],
          [
           0.0996730318157396,
           0.060632995437715824,
           0.01618863123629585,
           0.019896323091065617,
           0.06613956830587735,
           0.09875040817650768,
           0.0609834449483286,
           0.03402501106737466,
           0.060620485973424995,
           0.07738313867624098,
           0.05768548525781482,
           0.10311852880839137,
           0.26799449777294604,
           0.4605330567339085,
           0.6238193504671423,
           0.7354781489745025,
           0.7499393159896497,
           0.7773512883093057,
           0.7926861358502397,
           0.7659326082296519,
           0.7777299295094209,
           0.8222382031001781
          ],
          [
           0.8642553996837545,
           0.8836102596411293,
           0.8683167444216793,
           0.8569018179989067,
           0.8701681550863913,
           0.8433620524815142,
           0.7307572785848713,
           0.6257519219228992,
           0.7122614289565654,
           0.790809478509761,
           0.7765393130188305,
           0.7889271323242765,
           0.8318818017216145,
           0.8476463115439774,
           0.8248100990003946,
           0.8255508797648434,
           0.8432339337738113,
           0.8746549257306913,
           0.8912160424222277,
           0.8137239935989865,
           0.7208932806835731,
           0.7749959281026078
          ],
          [
           0.8577037156531082,
           0.8760607374002849,
           0.8546158666664149,
           0.8625526050499244,
           0.8828735060173497,
           0.8622364095942621,
           0.8076221532054221,
           0.7902762233528363,
           0.8124943369908125,
           0.848194453246264,
           0.8607417099235951,
           0.8538486527653115,
           0.8635227559024866,
           0.8724624234975323,
           0.8051550607608083,
           0.7295955978264326,
           0.7915428654732313,
           0.8399954134052583,
           0.8198358272635105,
           0.8342209409074797,
           0.8822629713440608,
           0.907995379607025
          ],
          [
           0.8833634887481643,
           0.8362733840335123,
           0.8261348456078478,
           0.8440801437585126,
           0.8502642178853477,
           0.862835367567908,
           0.8817091401304825,
           0.8801565419250464,
           0.8855470578344766,
           0.866946764709317,
           0.790651349067664,
           0.6950247902945662,
           0.7018015622214167,
           0.8147643698086328,
           0.880371803367419,
           0.8683345920880468,
           0.8437120656423125,
           0.8111034899284164,
           0.7449185258348642,
           0.6692895979256945,
           0.604324547465385,
           0.6971760937922804
          ],
          [
           0.8191226523334908,
           0.8893928213083959,
           0.9174338398271693,
           0.9093481103521531,
           0.9018189745333167,
           0.8993005414649451,
           0.8713721157634067,
           0.8299234538360303,
           0.8224790289464046,
           0.8645119644717049,
           0.9032622020196528,
           0.8914528867471776,
           0.8492350202518382,
           0.8353743372590152,
           0.8532482589409864,
           0.8599695440044475,
           0.8565489023755476,
           0.8675063885462315,
           0.8846604055943975,
           0.8952659238668497,
           0.8694764972325967,
           0.7985786365480908
          ],
          [
           0.7708774823819913,
           0.8346916999873123,
           0.8907635381360899,
           0.877318956638707,
           0.8539522632654137,
           0.8695768584918282,
           0.8669898420946125,
           0.853783693625334,
           0.8353090011234885,
           0.801230991935345,
           0.8443591981173628,
           0.8981671996550268,
           0.8909589547926242,
           0.8691134415859142,
           0.8815081192608829,
           0.9055983039656498,
           0.9059361066707093,
           0.8944133407482283,
           0.8837293473443455,
           0.8670931865778138,
           0.8645575985184306,
           0.8847544629188604
          ],
          [
           0.8705441318656977,
           0.8272217277997842,
           0.7860173128244172,
           0.7614530049295121,
           0.8127532574973766,
           0.861454374509296,
           0.8456623397459433,
           0.808453575475452,
           0.8191807725916533,
           0.8727443052567219,
           0.8977507092136734,
           0.872659541753858,
           0.8590335067987656,
           0.8932123235310518,
           0.9150103899584868,
           0.9098254998231257,
           0.9027719884371146,
           0.8806621932922795,
           0.8586304893231426,
           0.8427468163737029,
           0.8263654387142565,
           0.8496449984212727
          ],
          [
           0.8795519449911255,
           0.8628877279092739,
           0.8510748653805968,
           0.8777029453513672,
           0.9001067682192703,
           0.8944628024152075,
           0.8854815640589881,
           0.8840633953834961,
           0.8904164759847408,
           0.8958997184540027,
           0.8586586370944144,
           0.8031948094585966,
           0.8292250200563419,
           0.8774839868820944,
           0.8934348291554594,
           0.8954960217719803,
           0.8812141027680058,
           0.8398792960791459,
           0.8312326651116246,
           0.8633828533902268,
           0.8726474058043399,
           0.8773525464834366
          ],
          [
           0.8482284120795267,
           0.7959498845048194,
           0.8290633786318566,
           0.8840743421950568,
           0.8982608124337578,
           0.8741482418655407,
           0.8534701878486284,
           0.8667099041970647,
           0.8531936711800958,
           0.7996636468487383,
           0.8091589617753979,
           0.863838845065578,
           0.8634170889557915,
           0.8368803035797494,
           0.8399578831965501,
           0.8312049000125212,
           0.8332743459859496,
           0.864352561346105,
           0.8037376735451078,
           0.6600075189577321,
           0.6110277278741112,
           0.6776690222694775
          ],
          [
           0.8040112428487081,
           0.8908237014400855,
           0.9078398274146646,
           0.9106567407298872,
           0.8918597048537846,
           0.7951310884926338,
           0.7141066409697819,
           0.7587864784641948,
           0.8276688959133467,
           0.8415159236717195,
           0.8499634425304508,
           0.8573519940659835,
           0.8667177467940281,
           0.8769332368909225,
           0.8825543653807822,
           0.8930247020101809,
           0.9005597259403249,
           0.8784881446107757,
           0.8559112164160445,
           0.8696178211051105,
           0.8665878395984461,
           0.798509001449335
          ],
          [
           0.5967334261890584,
           0.26295773041987863,
           0.05879792105869335,
           0.03391313762430631,
           0.048949300829281006,
           0.031131110589593437,
           0.013490565128264999,
           0.01173901995982455,
           0.006861791328215084,
           0.002349193025231848,
           0.00393061417562748,
           0.007131962298837702,
           0.008350822506530275,
           0.010935168841730474,
           0.017369995090789413,
           0.024513962201094884,
           0.041685257391013544,
           0.1318047099483902,
           0.21313506432455143,
           0.12975214509608746,
           0.02974898570182334,
           0.004416726927586487
          ],
          [
           0.003228286208465583,
           0.0020518574690758387,
           0.001056413933384977,
           0.003853357104471248,
           0.015969369633669805,
           0.02859039889907516,
           0.028427786964241405,
           0.024646492567498863,
           0.01312830528242546,
           0.0029158583038249634,
           0.00043019029848441167,
           0.0003572927363927302,
           0.0002995412272781662,
           0.00034181289888445796,
           0.0011072403768191141,
           0.0028006609773506804,
           0.003503300572961377,
           0.0018949685102058165,
           0.00045265109357470526,
           0.00016241440785420567,
           0.00045530847635837627,
           0.004522616033997041
          ],
          [
           0.043055165583154684,
           0.1861048408250049,
           0.30605783367741424,
           0.1868399892869969,
           0.042510279291465225,
           0.00373764640702672,
           0.00038381438938748066,
           0.0006920006159470788,
           0.000987763197360799,
           0.0006258162585968688,
           0.00019012550651111574,
           0.00012451855253163674,
           0.0004320988786406808,
           0.0007767618975022571,
           0.0011679721504001483,
           0.005511674623352613,
           0.019533604622471435,
           0.02942182272046843,
           0.017230221225727475,
           0.003794148275905166,
           0.00030991988147625063,
           0.000009332007986944883
          ],
          [
           0,
           6.905604985280791e-8,
           0.000002286822301357722,
           0.00002785919887549247,
           0.00012487928579195336,
           0.00020764554353970316,
           0.0001692905360474098,
           0.0006341089842776339,
           0.006194559387945198,
           0.052707962353127386,
           0.22982912252372184,
           0.42230291154830707,
           0.33647300038339883,
           0.12449251851466163,
           0.02156783482576147,
           0.0017719422911092282,
           0.0001235264747231827,
           0.0003619030425875833,
           0.0016085468901229376,
           0.0027211148084564894,
           0.0021022188042943315,
           0.0029421503237019777
          ],
          [
           0.009535748013452878,
           0.015794083817786547,
           0.012185993253658987,
           0.007179935103872975,
           0.0038547302539406114,
           0.0019936392317349075,
           0.001253615198029516,
           0.0005315936409565602,
           0.00012597556911002366,
           0.000041996374878901355,
           0.00008389455558441232,
           0.0005971599066147384,
           0.0027311404582102336,
           0.0062545647968952345,
           0.01169733316999794,
           0.01604157499708181,
           0.013163039205820733,
           0.019516819326213942,
           0.05145234940255616,
           0.13802211433254327,
           0.20760362692124754,
           0.12444157195806889
          ],
          [
           0.02796682522092037,
           0.002455765268475206,
           0.00011811785816766552,
           0.00012950120697626002,
           0.0034354648075104887,
           0.040710451367926816,
           0.18185254010065666,
           0.30138663474689015,
           0.19065843716749273,
           0.05553506427958006,
           0.01246001545023293,
           0.002331084909346901,
           0.0014449180869315161,
           0.008256411321819099,
           0.03280194168327724,
           0.05367641599605508,
           0.0410620185173882,
           0.07562802431911804,
           0.26835193143705904,
           0.5640272310061243,
           0.7608249885143186,
           0.8366666243004999
          ],
          [
           0.8629328775073178,
           0.8729090957126431,
           0.8582895171429124,
           0.8271232894843064,
           0.7982373214795299,
           0.7567509332419916,
           0.749992365554256,
           0.8322656469478293,
           0.9013799453354792,
           0.8981131884252755,
           0.8653486702790317,
           0.8416036117816477,
           0.8366094189102073,
           0.8606100630825849,
           0.8577825900445463,
           0.8190473194999393,
           0.818698313447412,
           0.8509508472068363,
           0.8617606074855335,
           0.8619257062778576,
           0.8763274588775665,
           0.8843838302824201
          ],
          [
           0.8836751347342215,
           0.8787469887098012,
           0.8621919638354858,
           0.8513686021848041,
           0.8743153684297513,
           0.8993042895138272,
           0.8953531896498937,
           0.8860658758676625,
           0.8820081377033135,
           0.8689214679361354,
           0.8604965827958817,
           0.8729444406668534,
           0.884154231291157,
           0.8812468407190072,
           0.847053025870106,
           0.78322876571011,
           0.7722335405072994,
           0.835066034966365,
           0.8567410332077705,
           0.8333943484338496,
           0.8349397475862994,
           0.8631493263705742
          ],
          [
           0.89011732572012,
           0.8993752711711449,
           0.8725391311434636,
           0.8199458496463177,
           0.7954726826031868,
           0.8311290409801859,
           0.8576544682848847,
           0.8672659112892775,
           0.8917510313372249,
           0.9073506362125776,
           0.9052934933811123,
           0.8750980573161037,
           0.8530215269591336,
           0.8761536027933249,
           0.8934616805215145,
           0.8913962972520106,
           0.8632039501911504,
           0.8093485769620753,
           0.7526196198041472,
           0.7206525120514782,
           0.7556024814696545,
           0.800176803553076
          ],
          [
           0.8365342858887577,
           0.8540100894164315,
           0.8250644391983567,
           0.8207676230378077,
           0.8649885977888603,
           0.8999148472698291,
           0.9064305267151309,
           0.9069600482678121,
           0.8978845065008796,
           0.8924496389167178,
           0.9031983172703076,
           0.9039650042405742,
           0.854308095103117,
           0.7854231094256814,
           0.7186990691208494,
           0.6552359804915694,
           0.7302565002918635,
           0.8288536859524169,
           0.8790072088435268,
           0.9129975841842465,
           0.9190191296812046,
           0.9096923901338236
          ],
          [
           0.9070572122110531,
           0.9003197638351689,
           0.8948844785554853,
           0.8944729985744972,
           0.887422676616635,
           0.8818013776054469,
           0.9032778833286921,
           0.9107095734101125,
           0.880416338032895,
           0.8612000402051518,
           0.8869977061805316,
           0.8963066276199858,
           0.8690374573948357,
           0.8688492395115275,
           0.8843200422534159,
           0.877247998204838,
           0.7801356662969607,
           0.5098816834941537,
           0.1951146888956953,
           0.03741724829335742,
           0.005831165068790445,
           0.0020950869398271696
          ],
          [
           0.0006611339043951234,
           0.00020070188222323282,
           0.00008312398989218582,
           0.0004657423018595958,
           0.005109912237991895,
           0.022535539115938044,
           0.039012195984405515,
           0.04072141223150181,
           0.07099824844414968,
           0.09907452531187325,
           0.05877301772456179,
           0.017320883940700266,
           0.007991497886620458,
           0.004106876100966763,
           0.0011000516641173918,
           0.0009395856247983865,
           0.0014760007512363107,
           0.0015706052848866291,
           0.003287521426259791,
           0.005058701657755454,
           0.0030867928444446957,
           0.0008387762661240009
          ],
          [
           0.0005257041007413375,
           0.0007781736490777599,
           0.0008596950076599735,
           0.0017468969189981553,
           0.0026633668411188346,
           0.0016839188942456306,
           0.0013443713975363986,
           0.004655287839511907,
           0.010104910785243084,
           0.017230164860996332,
           0.022148284182875896,
           0.012919806051939218,
           0.002867282755449633,
           0.00023523061603947189,
           0.000009388086094554802,
           0.000028733908840294703,
           0.00015383719921262275,
           0.0005620905814785189,
           0.001807390127414538,
           0.0038580923829198734,
           0.008051107828360304,
           0.023891058200079578
          ],
          [
           0.0722348484652665,
           0.11242124266626416,
           0.07327422960640086,
           0.051104427721249776,
           0.16360914869054494,
           0.3915721048547741,
           0.4547946989375886,
           0.23618905636610418,
           0.06730649852911039,
           0.0699458640480313,
           0.09861332955927851,
           0.057508404130512725,
           0.013038367480157475,
           0.0017237627289548101,
           0.00046311045746670474,
           0.00024041217778561266,
           0.0020579155434005945,
           0.01333715125013521,
           0.0406118577009273,
           0.05533920369007601,
           0.031035231612349532,
           0.0074219131529540015
          ],
          [
           0.003874889577472587,
           0.007914707404025742,
           0.01587643701135186,
           0.02184538875225955,
           0.012910491212891959,
           0.0030569231045712224,
           0.0010891083259993105,
           0.0014230510830606049,
           0.0009019045114053257,
           0.0005153809307307435,
           0.003625155627283848,
           0.021414211577835022,
           0.05955795445760881,
           0.07616425982767745,
           0.041427831720139564,
           0.00921957014809455,
           0.0022860053496592423,
           0.006227075346755739,
           0.011186455434358944,
           0.014176521055279414,
           0.02719838376337464,
           0.03654879134482561
          ],
          [
           0.023398165171593724,
           0.017303769651990167,
           0.021540711809304888,
           0.012891899991689201,
           0.002933472012150569,
           0.00027678031569250877,
           0.000016387663418361236,
           7.62274100452574e-7,
           2.3018683284269307e-8,
           0,
           0,
           0,
           0,
           0,
           0,
           0,
           0,
           0,
           0,
           0,
           0,
           0
          ]
         ],
         "zmax": 1,
         "zmin": 0
        }
       ],
       "layout": {
        "font": {
         "family": "sans-serif"
        },
        "height": 1175,
        "template": {
         "data": {
          "bar": [
           {
            "error_x": {
             "color": "#2a3f5f"
            },
            "error_y": {
             "color": "#2a3f5f"
            },
            "marker": {
             "line": {
              "color": "#E5ECF6",
              "width": 0.5
             },
             "pattern": {
              "fillmode": "overlay",
              "size": 10,
              "solidity": 0.2
             }
            },
            "type": "bar"
           }
          ],
          "barpolar": [
           {
            "marker": {
             "line": {
              "color": "#E5ECF6",
              "width": 0.5
             },
             "pattern": {
              "fillmode": "overlay",
              "size": 10,
              "solidity": 0.2
             }
            },
            "type": "barpolar"
           }
          ],
          "carpet": [
           {
            "aaxis": {
             "endlinecolor": "#2a3f5f",
             "gridcolor": "white",
             "linecolor": "white",
             "minorgridcolor": "white",
             "startlinecolor": "#2a3f5f"
            },
            "baxis": {
             "endlinecolor": "#2a3f5f",
             "gridcolor": "white",
             "linecolor": "white",
             "minorgridcolor": "white",
             "startlinecolor": "#2a3f5f"
            },
            "type": "carpet"
           }
          ],
          "choropleth": [
           {
            "colorbar": {
             "outlinewidth": 0,
             "ticks": ""
            },
            "type": "choropleth"
           }
          ],
          "contour": [
           {
            "colorbar": {
             "outlinewidth": 0,
             "ticks": ""
            },
            "colorscale": [
             [
              0,
              "#0d0887"
             ],
             [
              0.1111111111111111,
              "#46039f"
             ],
             [
              0.2222222222222222,
              "#7201a8"
             ],
             [
              0.3333333333333333,
              "#9c179e"
             ],
             [
              0.4444444444444444,
              "#bd3786"
             ],
             [
              0.5555555555555556,
              "#d8576b"
             ],
             [
              0.6666666666666666,
              "#ed7953"
             ],
             [
              0.7777777777777778,
              "#fb9f3a"
             ],
             [
              0.8888888888888888,
              "#fdca26"
             ],
             [
              1,
              "#f0f921"
             ]
            ],
            "type": "contour"
           }
          ],
          "contourcarpet": [
           {
            "colorbar": {
             "outlinewidth": 0,
             "ticks": ""
            },
            "type": "contourcarpet"
           }
          ],
          "heatmap": [
           {
            "colorbar": {
             "outlinewidth": 0,
             "ticks": ""
            },
            "colorscale": [
             [
              0,
              "#0d0887"
             ],
             [
              0.1111111111111111,
              "#46039f"
             ],
             [
              0.2222222222222222,
              "#7201a8"
             ],
             [
              0.3333333333333333,
              "#9c179e"
             ],
             [
              0.4444444444444444,
              "#bd3786"
             ],
             [
              0.5555555555555556,
              "#d8576b"
             ],
             [
              0.6666666666666666,
              "#ed7953"
             ],
             [
              0.7777777777777778,
              "#fb9f3a"
             ],
             [
              0.8888888888888888,
              "#fdca26"
             ],
             [
              1,
              "#f0f921"
             ]
            ],
            "type": "heatmap"
           }
          ],
          "heatmapgl": [
           {
            "colorbar": {
             "outlinewidth": 0,
             "ticks": ""
            },
            "colorscale": [
             [
              0,
              "#0d0887"
             ],
             [
              0.1111111111111111,
              "#46039f"
             ],
             [
              0.2222222222222222,
              "#7201a8"
             ],
             [
              0.3333333333333333,
              "#9c179e"
             ],
             [
              0.4444444444444444,
              "#bd3786"
             ],
             [
              0.5555555555555556,
              "#d8576b"
             ],
             [
              0.6666666666666666,
              "#ed7953"
             ],
             [
              0.7777777777777778,
              "#fb9f3a"
             ],
             [
              0.8888888888888888,
              "#fdca26"
             ],
             [
              1,
              "#f0f921"
             ]
            ],
            "type": "heatmapgl"
           }
          ],
          "histogram": [
           {
            "marker": {
             "pattern": {
              "fillmode": "overlay",
              "size": 10,
              "solidity": 0.2
             }
            },
            "type": "histogram"
           }
          ],
          "histogram2d": [
           {
            "colorbar": {
             "outlinewidth": 0,
             "ticks": ""
            },
            "colorscale": [
             [
              0,
              "#0d0887"
             ],
             [
              0.1111111111111111,
              "#46039f"
             ],
             [
              0.2222222222222222,
              "#7201a8"
             ],
             [
              0.3333333333333333,
              "#9c179e"
             ],
             [
              0.4444444444444444,
              "#bd3786"
             ],
             [
              0.5555555555555556,
              "#d8576b"
             ],
             [
              0.6666666666666666,
              "#ed7953"
             ],
             [
              0.7777777777777778,
              "#fb9f3a"
             ],
             [
              0.8888888888888888,
              "#fdca26"
             ],
             [
              1,
              "#f0f921"
             ]
            ],
            "type": "histogram2d"
           }
          ],
          "histogram2dcontour": [
           {
            "colorbar": {
             "outlinewidth": 0,
             "ticks": ""
            },
            "colorscale": [
             [
              0,
              "#0d0887"
             ],
             [
              0.1111111111111111,
              "#46039f"
             ],
             [
              0.2222222222222222,
              "#7201a8"
             ],
             [
              0.3333333333333333,
              "#9c179e"
             ],
             [
              0.4444444444444444,
              "#bd3786"
             ],
             [
              0.5555555555555556,
              "#d8576b"
             ],
             [
              0.6666666666666666,
              "#ed7953"
             ],
             [
              0.7777777777777778,
              "#fb9f3a"
             ],
             [
              0.8888888888888888,
              "#fdca26"
             ],
             [
              1,
              "#f0f921"
             ]
            ],
            "type": "histogram2dcontour"
           }
          ],
          "mesh3d": [
           {
            "colorbar": {
             "outlinewidth": 0,
             "ticks": ""
            },
            "type": "mesh3d"
           }
          ],
          "parcoords": [
           {
            "line": {
             "colorbar": {
              "outlinewidth": 0,
              "ticks": ""
             }
            },
            "type": "parcoords"
           }
          ],
          "pie": [
           {
            "automargin": true,
            "type": "pie"
           }
          ],
          "scatter": [
           {
            "fillpattern": {
             "fillmode": "overlay",
             "size": 10,
             "solidity": 0.2
            },
            "type": "scatter"
           }
          ],
          "scatter3d": [
           {
            "line": {
             "colorbar": {
              "outlinewidth": 0,
              "ticks": ""
             }
            },
            "marker": {
             "colorbar": {
              "outlinewidth": 0,
              "ticks": ""
             }
            },
            "type": "scatter3d"
           }
          ],
          "scattercarpet": [
           {
            "marker": {
             "colorbar": {
              "outlinewidth": 0,
              "ticks": ""
             }
            },
            "type": "scattercarpet"
           }
          ],
          "scattergeo": [
           {
            "marker": {
             "colorbar": {
              "outlinewidth": 0,
              "ticks": ""
             }
            },
            "type": "scattergeo"
           }
          ],
          "scattergl": [
           {
            "marker": {
             "colorbar": {
              "outlinewidth": 0,
              "ticks": ""
             }
            },
            "type": "scattergl"
           }
          ],
          "scattermapbox": [
           {
            "marker": {
             "colorbar": {
              "outlinewidth": 0,
              "ticks": ""
             }
            },
            "type": "scattermapbox"
           }
          ],
          "scatterpolar": [
           {
            "marker": {
             "colorbar": {
              "outlinewidth": 0,
              "ticks": ""
             }
            },
            "type": "scatterpolar"
           }
          ],
          "scatterpolargl": [
           {
            "marker": {
             "colorbar": {
              "outlinewidth": 0,
              "ticks": ""
             }
            },
            "type": "scatterpolargl"
           }
          ],
          "scatterternary": [
           {
            "marker": {
             "colorbar": {
              "outlinewidth": 0,
              "ticks": ""
             }
            },
            "type": "scatterternary"
           }
          ],
          "surface": [
           {
            "colorbar": {
             "outlinewidth": 0,
             "ticks": ""
            },
            "colorscale": [
             [
              0,
              "#0d0887"
             ],
             [
              0.1111111111111111,
              "#46039f"
             ],
             [
              0.2222222222222222,
              "#7201a8"
             ],
             [
              0.3333333333333333,
              "#9c179e"
             ],
             [
              0.4444444444444444,
              "#bd3786"
             ],
             [
              0.5555555555555556,
              "#d8576b"
             ],
             [
              0.6666666666666666,
              "#ed7953"
             ],
             [
              0.7777777777777778,
              "#fb9f3a"
             ],
             [
              0.8888888888888888,
              "#fdca26"
             ],
             [
              1,
              "#f0f921"
             ]
            ],
            "type": "surface"
           }
          ],
          "table": [
           {
            "cells": {
             "fill": {
              "color": "#EBF0F8"
             },
             "line": {
              "color": "white"
             }
            },
            "header": {
             "fill": {
              "color": "#C8D4E3"
             },
             "line": {
              "color": "white"
             }
            },
            "type": "table"
           }
          ]
         },
         "layout": {
          "annotationdefaults": {
           "arrowcolor": "#2a3f5f",
           "arrowhead": 0,
           "arrowwidth": 1
          },
          "autotypenumbers": "strict",
          "coloraxis": {
           "colorbar": {
            "outlinewidth": 0,
            "ticks": ""
           }
          },
          "colorscale": {
           "diverging": [
            [
             0,
             "#8e0152"
            ],
            [
             0.1,
             "#c51b7d"
            ],
            [
             0.2,
             "#de77ae"
            ],
            [
             0.3,
             "#f1b6da"
            ],
            [
             0.4,
             "#fde0ef"
            ],
            [
             0.5,
             "#f7f7f7"
            ],
            [
             0.6,
             "#e6f5d0"
            ],
            [
             0.7,
             "#b8e186"
            ],
            [
             0.8,
             "#7fbc41"
            ],
            [
             0.9,
             "#4d9221"
            ],
            [
             1,
             "#276419"
            ]
           ],
           "sequential": [
            [
             0,
             "#0d0887"
            ],
            [
             0.1111111111111111,
             "#46039f"
            ],
            [
             0.2222222222222222,
             "#7201a8"
            ],
            [
             0.3333333333333333,
             "#9c179e"
            ],
            [
             0.4444444444444444,
             "#bd3786"
            ],
            [
             0.5555555555555556,
             "#d8576b"
            ],
            [
             0.6666666666666666,
             "#ed7953"
            ],
            [
             0.7777777777777778,
             "#fb9f3a"
            ],
            [
             0.8888888888888888,
             "#fdca26"
            ],
            [
             1,
             "#f0f921"
            ]
           ],
           "sequentialminus": [
            [
             0,
             "#0d0887"
            ],
            [
             0.1111111111111111,
             "#46039f"
            ],
            [
             0.2222222222222222,
             "#7201a8"
            ],
            [
             0.3333333333333333,
             "#9c179e"
            ],
            [
             0.4444444444444444,
             "#bd3786"
            ],
            [
             0.5555555555555556,
             "#d8576b"
            ],
            [
             0.6666666666666666,
             "#ed7953"
            ],
            [
             0.7777777777777778,
             "#fb9f3a"
            ],
            [
             0.8888888888888888,
             "#fdca26"
            ],
            [
             1,
             "#f0f921"
            ]
           ]
          },
          "colorway": [
           "#636efa",
           "#EF553B",
           "#00cc96",
           "#ab63fa",
           "#FFA15A",
           "#19d3f3",
           "#FF6692",
           "#B6E880",
           "#FF97FF",
           "#FECB52"
          ],
          "font": {
           "color": "#2a3f5f"
          },
          "geo": {
           "bgcolor": "white",
           "lakecolor": "white",
           "landcolor": "#E5ECF6",
           "showlakes": true,
           "showland": true,
           "subunitcolor": "white"
          },
          "hoverlabel": {
           "align": "left"
          },
          "hovermode": "closest",
          "mapbox": {
           "style": "light"
          },
          "paper_bgcolor": "white",
          "plot_bgcolor": "#E5ECF6",
          "polar": {
           "angularaxis": {
            "gridcolor": "white",
            "linecolor": "white",
            "ticks": ""
           },
           "bgcolor": "#E5ECF6",
           "radialaxis": {
            "gridcolor": "white",
            "linecolor": "white",
            "ticks": ""
           }
          },
          "scene": {
           "xaxis": {
            "backgroundcolor": "#E5ECF6",
            "gridcolor": "white",
            "gridwidth": 2,
            "linecolor": "white",
            "showbackground": true,
            "ticks": "",
            "zerolinecolor": "white"
           },
           "yaxis": {
            "backgroundcolor": "#E5ECF6",
            "gridcolor": "white",
            "gridwidth": 2,
            "linecolor": "white",
            "showbackground": true,
            "ticks": "",
            "zerolinecolor": "white"
           },
           "zaxis": {
            "backgroundcolor": "#E5ECF6",
            "gridcolor": "white",
            "gridwidth": 2,
            "linecolor": "white",
            "showbackground": true,
            "ticks": "",
            "zerolinecolor": "white"
           }
          },
          "shapedefaults": {
           "line": {
            "color": "#2a3f5f"
           }
          },
          "ternary": {
           "aaxis": {
            "gridcolor": "white",
            "linecolor": "white",
            "ticks": ""
           },
           "baxis": {
            "gridcolor": "white",
            "linecolor": "white",
            "ticks": ""
           },
           "bgcolor": "#E5ECF6",
           "caxis": {
            "gridcolor": "white",
            "linecolor": "white",
            "ticks": ""
           }
          },
          "title": {
           "x": 0.05
          },
          "xaxis": {
           "automargin": true,
           "gridcolor": "white",
           "linecolor": "white",
           "ticks": "",
           "title": {
            "standoff": 15
           },
           "zerolinecolor": "white",
           "zerolinewidth": 2
          },
          "yaxis": {
           "automargin": true,
           "gridcolor": "white",
           "linecolor": "white",
           "ticks": "",
           "title": {
            "standoff": 15
           },
           "zerolinecolor": "white",
           "zerolinewidth": 2
          }
         }
        },
        "width": 1000,
        "yaxis": {
         "autorange": "reversed"
        }
       }
      }
     },
     "metadata": {},
     "output_type": "display_data"
    }
   ],
   "source": [
    "fig.show()"
   ]
  },
  {
   "cell_type": "code",
   "execution_count": 194,
   "metadata": {},
   "outputs": [],
   "source": [
    "displayDoc(jumpStates,testVector,suspiciousText)"
   ]
  },
  {
   "cell_type": "code",
   "execution_count": 195,
   "metadata": {},
   "outputs": [
    {
     "data": {
      "application/vnd.plotly.v1+json": {
       "config": {
        "plotlyServerURL": "https://plot.ly"
       },
       "data": [
        {
         "domain": {
          "x": [
           0,
           1
          ],
          "y": [
           0,
           1
          ]
         },
         "hole": 0.5,
         "hovertemplate": "Status=%{label}<br>No. of Words=%{value}<extra></extra>",
         "labels": [
          "Unplagiarised",
          "Plagiarised"
         ],
         "legendgroup": "",
         "name": "",
         "showlegend": true,
         "type": "pie",
         "values": [
          475,
          545
         ]
        }
       ],
       "layout": {
        "font": {
         "color": "cyan",
         "family": "sans-serif"
        },
        "height": 400,
        "legend": {
         "title": {
          "font": {
           "color": "cyan"
          }
         },
         "tracegroupgap": 0
        },
        "margin": {
         "b": 0,
         "l": 0,
         "r": 0,
         "t": 40
        },
        "paper_bgcolor": "#000000",
        "piecolorway": [
         "rgb(255,0,0)",
         "rgb(0,0,255)"
        ],
        "template": {
         "data": {
          "bar": [
           {
            "error_x": {
             "color": "#2a3f5f"
            },
            "error_y": {
             "color": "#2a3f5f"
            },
            "marker": {
             "line": {
              "color": "#E5ECF6",
              "width": 0.5
             },
             "pattern": {
              "fillmode": "overlay",
              "size": 10,
              "solidity": 0.2
             }
            },
            "type": "bar"
           }
          ],
          "barpolar": [
           {
            "marker": {
             "line": {
              "color": "#E5ECF6",
              "width": 0.5
             },
             "pattern": {
              "fillmode": "overlay",
              "size": 10,
              "solidity": 0.2
             }
            },
            "type": "barpolar"
           }
          ],
          "carpet": [
           {
            "aaxis": {
             "endlinecolor": "#2a3f5f",
             "gridcolor": "white",
             "linecolor": "white",
             "minorgridcolor": "white",
             "startlinecolor": "#2a3f5f"
            },
            "baxis": {
             "endlinecolor": "#2a3f5f",
             "gridcolor": "white",
             "linecolor": "white",
             "minorgridcolor": "white",
             "startlinecolor": "#2a3f5f"
            },
            "type": "carpet"
           }
          ],
          "choropleth": [
           {
            "colorbar": {
             "outlinewidth": 0,
             "ticks": ""
            },
            "type": "choropleth"
           }
          ],
          "contour": [
           {
            "colorbar": {
             "outlinewidth": 0,
             "ticks": ""
            },
            "colorscale": [
             [
              0,
              "#0d0887"
             ],
             [
              0.1111111111111111,
              "#46039f"
             ],
             [
              0.2222222222222222,
              "#7201a8"
             ],
             [
              0.3333333333333333,
              "#9c179e"
             ],
             [
              0.4444444444444444,
              "#bd3786"
             ],
             [
              0.5555555555555556,
              "#d8576b"
             ],
             [
              0.6666666666666666,
              "#ed7953"
             ],
             [
              0.7777777777777778,
              "#fb9f3a"
             ],
             [
              0.8888888888888888,
              "#fdca26"
             ],
             [
              1,
              "#f0f921"
             ]
            ],
            "type": "contour"
           }
          ],
          "contourcarpet": [
           {
            "colorbar": {
             "outlinewidth": 0,
             "ticks": ""
            },
            "type": "contourcarpet"
           }
          ],
          "heatmap": [
           {
            "colorbar": {
             "outlinewidth": 0,
             "ticks": ""
            },
            "colorscale": [
             [
              0,
              "#0d0887"
             ],
             [
              0.1111111111111111,
              "#46039f"
             ],
             [
              0.2222222222222222,
              "#7201a8"
             ],
             [
              0.3333333333333333,
              "#9c179e"
             ],
             [
              0.4444444444444444,
              "#bd3786"
             ],
             [
              0.5555555555555556,
              "#d8576b"
             ],
             [
              0.6666666666666666,
              "#ed7953"
             ],
             [
              0.7777777777777778,
              "#fb9f3a"
             ],
             [
              0.8888888888888888,
              "#fdca26"
             ],
             [
              1,
              "#f0f921"
             ]
            ],
            "type": "heatmap"
           }
          ],
          "heatmapgl": [
           {
            "colorbar": {
             "outlinewidth": 0,
             "ticks": ""
            },
            "colorscale": [
             [
              0,
              "#0d0887"
             ],
             [
              0.1111111111111111,
              "#46039f"
             ],
             [
              0.2222222222222222,
              "#7201a8"
             ],
             [
              0.3333333333333333,
              "#9c179e"
             ],
             [
              0.4444444444444444,
              "#bd3786"
             ],
             [
              0.5555555555555556,
              "#d8576b"
             ],
             [
              0.6666666666666666,
              "#ed7953"
             ],
             [
              0.7777777777777778,
              "#fb9f3a"
             ],
             [
              0.8888888888888888,
              "#fdca26"
             ],
             [
              1,
              "#f0f921"
             ]
            ],
            "type": "heatmapgl"
           }
          ],
          "histogram": [
           {
            "marker": {
             "pattern": {
              "fillmode": "overlay",
              "size": 10,
              "solidity": 0.2
             }
            },
            "type": "histogram"
           }
          ],
          "histogram2d": [
           {
            "colorbar": {
             "outlinewidth": 0,
             "ticks": ""
            },
            "colorscale": [
             [
              0,
              "#0d0887"
             ],
             [
              0.1111111111111111,
              "#46039f"
             ],
             [
              0.2222222222222222,
              "#7201a8"
             ],
             [
              0.3333333333333333,
              "#9c179e"
             ],
             [
              0.4444444444444444,
              "#bd3786"
             ],
             [
              0.5555555555555556,
              "#d8576b"
             ],
             [
              0.6666666666666666,
              "#ed7953"
             ],
             [
              0.7777777777777778,
              "#fb9f3a"
             ],
             [
              0.8888888888888888,
              "#fdca26"
             ],
             [
              1,
              "#f0f921"
             ]
            ],
            "type": "histogram2d"
           }
          ],
          "histogram2dcontour": [
           {
            "colorbar": {
             "outlinewidth": 0,
             "ticks": ""
            },
            "colorscale": [
             [
              0,
              "#0d0887"
             ],
             [
              0.1111111111111111,
              "#46039f"
             ],
             [
              0.2222222222222222,
              "#7201a8"
             ],
             [
              0.3333333333333333,
              "#9c179e"
             ],
             [
              0.4444444444444444,
              "#bd3786"
             ],
             [
              0.5555555555555556,
              "#d8576b"
             ],
             [
              0.6666666666666666,
              "#ed7953"
             ],
             [
              0.7777777777777778,
              "#fb9f3a"
             ],
             [
              0.8888888888888888,
              "#fdca26"
             ],
             [
              1,
              "#f0f921"
             ]
            ],
            "type": "histogram2dcontour"
           }
          ],
          "mesh3d": [
           {
            "colorbar": {
             "outlinewidth": 0,
             "ticks": ""
            },
            "type": "mesh3d"
           }
          ],
          "parcoords": [
           {
            "line": {
             "colorbar": {
              "outlinewidth": 0,
              "ticks": ""
             }
            },
            "type": "parcoords"
           }
          ],
          "pie": [
           {
            "automargin": true,
            "type": "pie"
           }
          ],
          "scatter": [
           {
            "fillpattern": {
             "fillmode": "overlay",
             "size": 10,
             "solidity": 0.2
            },
            "type": "scatter"
           }
          ],
          "scatter3d": [
           {
            "line": {
             "colorbar": {
              "outlinewidth": 0,
              "ticks": ""
             }
            },
            "marker": {
             "colorbar": {
              "outlinewidth": 0,
              "ticks": ""
             }
            },
            "type": "scatter3d"
           }
          ],
          "scattercarpet": [
           {
            "marker": {
             "colorbar": {
              "outlinewidth": 0,
              "ticks": ""
             }
            },
            "type": "scattercarpet"
           }
          ],
          "scattergeo": [
           {
            "marker": {
             "colorbar": {
              "outlinewidth": 0,
              "ticks": ""
             }
            },
            "type": "scattergeo"
           }
          ],
          "scattergl": [
           {
            "marker": {
             "colorbar": {
              "outlinewidth": 0,
              "ticks": ""
             }
            },
            "type": "scattergl"
           }
          ],
          "scattermapbox": [
           {
            "marker": {
             "colorbar": {
              "outlinewidth": 0,
              "ticks": ""
             }
            },
            "type": "scattermapbox"
           }
          ],
          "scatterpolar": [
           {
            "marker": {
             "colorbar": {
              "outlinewidth": 0,
              "ticks": ""
             }
            },
            "type": "scatterpolar"
           }
          ],
          "scatterpolargl": [
           {
            "marker": {
             "colorbar": {
              "outlinewidth": 0,
              "ticks": ""
             }
            },
            "type": "scatterpolargl"
           }
          ],
          "scatterternary": [
           {
            "marker": {
             "colorbar": {
              "outlinewidth": 0,
              "ticks": ""
             }
            },
            "type": "scatterternary"
           }
          ],
          "surface": [
           {
            "colorbar": {
             "outlinewidth": 0,
             "ticks": ""
            },
            "colorscale": [
             [
              0,
              "#0d0887"
             ],
             [
              0.1111111111111111,
              "#46039f"
             ],
             [
              0.2222222222222222,
              "#7201a8"
             ],
             [
              0.3333333333333333,
              "#9c179e"
             ],
             [
              0.4444444444444444,
              "#bd3786"
             ],
             [
              0.5555555555555556,
              "#d8576b"
             ],
             [
              0.6666666666666666,
              "#ed7953"
             ],
             [
              0.7777777777777778,
              "#fb9f3a"
             ],
             [
              0.8888888888888888,
              "#fdca26"
             ],
             [
              1,
              "#f0f921"
             ]
            ],
            "type": "surface"
           }
          ],
          "table": [
           {
            "cells": {
             "fill": {
              "color": "#EBF0F8"
             },
             "line": {
              "color": "white"
             }
            },
            "header": {
             "fill": {
              "color": "#C8D4E3"
             },
             "line": {
              "color": "white"
             }
            },
            "type": "table"
           }
          ]
         },
         "layout": {
          "annotationdefaults": {
           "arrowcolor": "#2a3f5f",
           "arrowhead": 0,
           "arrowwidth": 1
          },
          "autotypenumbers": "strict",
          "coloraxis": {
           "colorbar": {
            "outlinewidth": 0,
            "ticks": ""
           }
          },
          "colorscale": {
           "diverging": [
            [
             0,
             "#8e0152"
            ],
            [
             0.1,
             "#c51b7d"
            ],
            [
             0.2,
             "#de77ae"
            ],
            [
             0.3,
             "#f1b6da"
            ],
            [
             0.4,
             "#fde0ef"
            ],
            [
             0.5,
             "#f7f7f7"
            ],
            [
             0.6,
             "#e6f5d0"
            ],
            [
             0.7,
             "#b8e186"
            ],
            [
             0.8,
             "#7fbc41"
            ],
            [
             0.9,
             "#4d9221"
            ],
            [
             1,
             "#276419"
            ]
           ],
           "sequential": [
            [
             0,
             "#0d0887"
            ],
            [
             0.1111111111111111,
             "#46039f"
            ],
            [
             0.2222222222222222,
             "#7201a8"
            ],
            [
             0.3333333333333333,
             "#9c179e"
            ],
            [
             0.4444444444444444,
             "#bd3786"
            ],
            [
             0.5555555555555556,
             "#d8576b"
            ],
            [
             0.6666666666666666,
             "#ed7953"
            ],
            [
             0.7777777777777778,
             "#fb9f3a"
            ],
            [
             0.8888888888888888,
             "#fdca26"
            ],
            [
             1,
             "#f0f921"
            ]
           ],
           "sequentialminus": [
            [
             0,
             "#0d0887"
            ],
            [
             0.1111111111111111,
             "#46039f"
            ],
            [
             0.2222222222222222,
             "#7201a8"
            ],
            [
             0.3333333333333333,
             "#9c179e"
            ],
            [
             0.4444444444444444,
             "#bd3786"
            ],
            [
             0.5555555555555556,
             "#d8576b"
            ],
            [
             0.6666666666666666,
             "#ed7953"
            ],
            [
             0.7777777777777778,
             "#fb9f3a"
            ],
            [
             0.8888888888888888,
             "#fdca26"
            ],
            [
             1,
             "#f0f921"
            ]
           ]
          },
          "colorway": [
           "#636efa",
           "#EF553B",
           "#00cc96",
           "#ab63fa",
           "#FFA15A",
           "#19d3f3",
           "#FF6692",
           "#B6E880",
           "#FF97FF",
           "#FECB52"
          ],
          "font": {
           "color": "#2a3f5f"
          },
          "geo": {
           "bgcolor": "white",
           "lakecolor": "white",
           "landcolor": "#E5ECF6",
           "showlakes": true,
           "showland": true,
           "subunitcolor": "white"
          },
          "hoverlabel": {
           "align": "left"
          },
          "hovermode": "closest",
          "mapbox": {
           "style": "light"
          },
          "paper_bgcolor": "white",
          "plot_bgcolor": "#E5ECF6",
          "polar": {
           "angularaxis": {
            "gridcolor": "white",
            "linecolor": "white",
            "ticks": ""
           },
           "bgcolor": "#E5ECF6",
           "radialaxis": {
            "gridcolor": "white",
            "linecolor": "white",
            "ticks": ""
           }
          },
          "scene": {
           "xaxis": {
            "backgroundcolor": "#E5ECF6",
            "gridcolor": "white",
            "gridwidth": 2,
            "linecolor": "white",
            "showbackground": true,
            "ticks": "",
            "zerolinecolor": "white"
           },
           "yaxis": {
            "backgroundcolor": "#E5ECF6",
            "gridcolor": "white",
            "gridwidth": 2,
            "linecolor": "white",
            "showbackground": true,
            "ticks": "",
            "zerolinecolor": "white"
           },
           "zaxis": {
            "backgroundcolor": "#E5ECF6",
            "gridcolor": "white",
            "gridwidth": 2,
            "linecolor": "white",
            "showbackground": true,
            "ticks": "",
            "zerolinecolor": "white"
           }
          },
          "shapedefaults": {
           "line": {
            "color": "#2a3f5f"
           }
          },
          "ternary": {
           "aaxis": {
            "gridcolor": "white",
            "linecolor": "white",
            "ticks": ""
           },
           "baxis": {
            "gridcolor": "white",
            "linecolor": "white",
            "ticks": ""
           },
           "bgcolor": "#E5ECF6",
           "caxis": {
            "gridcolor": "white",
            "linecolor": "white",
            "ticks": ""
           }
          },
          "title": {
           "x": 0.05
          },
          "xaxis": {
           "automargin": true,
           "gridcolor": "white",
           "linecolor": "white",
           "ticks": "",
           "title": {
            "standoff": 15
           },
           "zerolinecolor": "white",
           "zerolinewidth": 2
          },
          "yaxis": {
           "automargin": true,
           "gridcolor": "white",
           "linecolor": "white",
           "ticks": "",
           "title": {
            "standoff": 15
           },
           "zerolinecolor": "white",
           "zerolinewidth": 2
          }
         }
        },
        "title": {
         "font": {
          "color": "white",
          "family": "sans-serif"
         },
         "text": "Plagiarism Status"
        },
        "width": 400
       }
      }
     },
     "metadata": {},
     "output_type": "display_data"
    }
   ],
   "source": [
    "figP1.show()"
   ]
  },
  {
   "cell_type": "code",
   "execution_count": 196,
   "metadata": {},
   "outputs": [
    {
     "data": {
      "application/vnd.plotly.v1+json": {
       "config": {
        "plotlyServerURL": "https://plot.ly"
       },
       "data": [
        {
         "domain": {
          "x": [
           0,
           1
          ],
          "y": [
           0,
           1
          ]
         },
         "hole": 0.5,
         "hovertemplate": "Source=%{label}<br>No. of Words=%{value}<extra></extra>",
         "labels": [
          "Unplagiarised",
          "Applications of neural networks and deep learning to biomedical engineering.pdf",
          "Is it possible to develop quantum computing in Venezuela.pdf",
          "The Nuclear Mirage.pdf"
         ],
         "legendgroup": "",
         "name": "",
         "showlegend": true,
         "type": "pie",
         "values": [
          475,
          109,
          208,
          228
         ]
        }
       ],
       "layout": {
        "font": {
         "color": "cyan",
         "family": "sans-serif"
        },
        "height": 400,
        "legend": {
         "title": {
          "font": {
           "color": "cyan"
          }
         },
         "tracegroupgap": 0
        },
        "margin": {
         "b": 0,
         "l": 0,
         "r": 0,
         "t": 40
        },
        "paper_bgcolor": "#000000",
        "piecolorway": [
         "rgb(255,0,0)",
         "rgb(255,111,0)",
         "rgb(255,234,0)",
         "rgb(151,255,0)",
         "rgb(44,255,150)",
         "rgb(0,152,255)",
         "rgb(0,25,255)",
         "rgb(0,0,200)",
         "rgb(150,0,90)"
        ],
        "template": {
         "data": {
          "bar": [
           {
            "error_x": {
             "color": "#2a3f5f"
            },
            "error_y": {
             "color": "#2a3f5f"
            },
            "marker": {
             "line": {
              "color": "#E5ECF6",
              "width": 0.5
             },
             "pattern": {
              "fillmode": "overlay",
              "size": 10,
              "solidity": 0.2
             }
            },
            "type": "bar"
           }
          ],
          "barpolar": [
           {
            "marker": {
             "line": {
              "color": "#E5ECF6",
              "width": 0.5
             },
             "pattern": {
              "fillmode": "overlay",
              "size": 10,
              "solidity": 0.2
             }
            },
            "type": "barpolar"
           }
          ],
          "carpet": [
           {
            "aaxis": {
             "endlinecolor": "#2a3f5f",
             "gridcolor": "white",
             "linecolor": "white",
             "minorgridcolor": "white",
             "startlinecolor": "#2a3f5f"
            },
            "baxis": {
             "endlinecolor": "#2a3f5f",
             "gridcolor": "white",
             "linecolor": "white",
             "minorgridcolor": "white",
             "startlinecolor": "#2a3f5f"
            },
            "type": "carpet"
           }
          ],
          "choropleth": [
           {
            "colorbar": {
             "outlinewidth": 0,
             "ticks": ""
            },
            "type": "choropleth"
           }
          ],
          "contour": [
           {
            "colorbar": {
             "outlinewidth": 0,
             "ticks": ""
            },
            "colorscale": [
             [
              0,
              "#0d0887"
             ],
             [
              0.1111111111111111,
              "#46039f"
             ],
             [
              0.2222222222222222,
              "#7201a8"
             ],
             [
              0.3333333333333333,
              "#9c179e"
             ],
             [
              0.4444444444444444,
              "#bd3786"
             ],
             [
              0.5555555555555556,
              "#d8576b"
             ],
             [
              0.6666666666666666,
              "#ed7953"
             ],
             [
              0.7777777777777778,
              "#fb9f3a"
             ],
             [
              0.8888888888888888,
              "#fdca26"
             ],
             [
              1,
              "#f0f921"
             ]
            ],
            "type": "contour"
           }
          ],
          "contourcarpet": [
           {
            "colorbar": {
             "outlinewidth": 0,
             "ticks": ""
            },
            "type": "contourcarpet"
           }
          ],
          "heatmap": [
           {
            "colorbar": {
             "outlinewidth": 0,
             "ticks": ""
            },
            "colorscale": [
             [
              0,
              "#0d0887"
             ],
             [
              0.1111111111111111,
              "#46039f"
             ],
             [
              0.2222222222222222,
              "#7201a8"
             ],
             [
              0.3333333333333333,
              "#9c179e"
             ],
             [
              0.4444444444444444,
              "#bd3786"
             ],
             [
              0.5555555555555556,
              "#d8576b"
             ],
             [
              0.6666666666666666,
              "#ed7953"
             ],
             [
              0.7777777777777778,
              "#fb9f3a"
             ],
             [
              0.8888888888888888,
              "#fdca26"
             ],
             [
              1,
              "#f0f921"
             ]
            ],
            "type": "heatmap"
           }
          ],
          "heatmapgl": [
           {
            "colorbar": {
             "outlinewidth": 0,
             "ticks": ""
            },
            "colorscale": [
             [
              0,
              "#0d0887"
             ],
             [
              0.1111111111111111,
              "#46039f"
             ],
             [
              0.2222222222222222,
              "#7201a8"
             ],
             [
              0.3333333333333333,
              "#9c179e"
             ],
             [
              0.4444444444444444,
              "#bd3786"
             ],
             [
              0.5555555555555556,
              "#d8576b"
             ],
             [
              0.6666666666666666,
              "#ed7953"
             ],
             [
              0.7777777777777778,
              "#fb9f3a"
             ],
             [
              0.8888888888888888,
              "#fdca26"
             ],
             [
              1,
              "#f0f921"
             ]
            ],
            "type": "heatmapgl"
           }
          ],
          "histogram": [
           {
            "marker": {
             "pattern": {
              "fillmode": "overlay",
              "size": 10,
              "solidity": 0.2
             }
            },
            "type": "histogram"
           }
          ],
          "histogram2d": [
           {
            "colorbar": {
             "outlinewidth": 0,
             "ticks": ""
            },
            "colorscale": [
             [
              0,
              "#0d0887"
             ],
             [
              0.1111111111111111,
              "#46039f"
             ],
             [
              0.2222222222222222,
              "#7201a8"
             ],
             [
              0.3333333333333333,
              "#9c179e"
             ],
             [
              0.4444444444444444,
              "#bd3786"
             ],
             [
              0.5555555555555556,
              "#d8576b"
             ],
             [
              0.6666666666666666,
              "#ed7953"
             ],
             [
              0.7777777777777778,
              "#fb9f3a"
             ],
             [
              0.8888888888888888,
              "#fdca26"
             ],
             [
              1,
              "#f0f921"
             ]
            ],
            "type": "histogram2d"
           }
          ],
          "histogram2dcontour": [
           {
            "colorbar": {
             "outlinewidth": 0,
             "ticks": ""
            },
            "colorscale": [
             [
              0,
              "#0d0887"
             ],
             [
              0.1111111111111111,
              "#46039f"
             ],
             [
              0.2222222222222222,
              "#7201a8"
             ],
             [
              0.3333333333333333,
              "#9c179e"
             ],
             [
              0.4444444444444444,
              "#bd3786"
             ],
             [
              0.5555555555555556,
              "#d8576b"
             ],
             [
              0.6666666666666666,
              "#ed7953"
             ],
             [
              0.7777777777777778,
              "#fb9f3a"
             ],
             [
              0.8888888888888888,
              "#fdca26"
             ],
             [
              1,
              "#f0f921"
             ]
            ],
            "type": "histogram2dcontour"
           }
          ],
          "mesh3d": [
           {
            "colorbar": {
             "outlinewidth": 0,
             "ticks": ""
            },
            "type": "mesh3d"
           }
          ],
          "parcoords": [
           {
            "line": {
             "colorbar": {
              "outlinewidth": 0,
              "ticks": ""
             }
            },
            "type": "parcoords"
           }
          ],
          "pie": [
           {
            "automargin": true,
            "type": "pie"
           }
          ],
          "scatter": [
           {
            "fillpattern": {
             "fillmode": "overlay",
             "size": 10,
             "solidity": 0.2
            },
            "type": "scatter"
           }
          ],
          "scatter3d": [
           {
            "line": {
             "colorbar": {
              "outlinewidth": 0,
              "ticks": ""
             }
            },
            "marker": {
             "colorbar": {
              "outlinewidth": 0,
              "ticks": ""
             }
            },
            "type": "scatter3d"
           }
          ],
          "scattercarpet": [
           {
            "marker": {
             "colorbar": {
              "outlinewidth": 0,
              "ticks": ""
             }
            },
            "type": "scattercarpet"
           }
          ],
          "scattergeo": [
           {
            "marker": {
             "colorbar": {
              "outlinewidth": 0,
              "ticks": ""
             }
            },
            "type": "scattergeo"
           }
          ],
          "scattergl": [
           {
            "marker": {
             "colorbar": {
              "outlinewidth": 0,
              "ticks": ""
             }
            },
            "type": "scattergl"
           }
          ],
          "scattermapbox": [
           {
            "marker": {
             "colorbar": {
              "outlinewidth": 0,
              "ticks": ""
             }
            },
            "type": "scattermapbox"
           }
          ],
          "scatterpolar": [
           {
            "marker": {
             "colorbar": {
              "outlinewidth": 0,
              "ticks": ""
             }
            },
            "type": "scatterpolar"
           }
          ],
          "scatterpolargl": [
           {
            "marker": {
             "colorbar": {
              "outlinewidth": 0,
              "ticks": ""
             }
            },
            "type": "scatterpolargl"
           }
          ],
          "scatterternary": [
           {
            "marker": {
             "colorbar": {
              "outlinewidth": 0,
              "ticks": ""
             }
            },
            "type": "scatterternary"
           }
          ],
          "surface": [
           {
            "colorbar": {
             "outlinewidth": 0,
             "ticks": ""
            },
            "colorscale": [
             [
              0,
              "#0d0887"
             ],
             [
              0.1111111111111111,
              "#46039f"
             ],
             [
              0.2222222222222222,
              "#7201a8"
             ],
             [
              0.3333333333333333,
              "#9c179e"
             ],
             [
              0.4444444444444444,
              "#bd3786"
             ],
             [
              0.5555555555555556,
              "#d8576b"
             ],
             [
              0.6666666666666666,
              "#ed7953"
             ],
             [
              0.7777777777777778,
              "#fb9f3a"
             ],
             [
              0.8888888888888888,
              "#fdca26"
             ],
             [
              1,
              "#f0f921"
             ]
            ],
            "type": "surface"
           }
          ],
          "table": [
           {
            "cells": {
             "fill": {
              "color": "#EBF0F8"
             },
             "line": {
              "color": "white"
             }
            },
            "header": {
             "fill": {
              "color": "#C8D4E3"
             },
             "line": {
              "color": "white"
             }
            },
            "type": "table"
           }
          ]
         },
         "layout": {
          "annotationdefaults": {
           "arrowcolor": "#2a3f5f",
           "arrowhead": 0,
           "arrowwidth": 1
          },
          "autotypenumbers": "strict",
          "coloraxis": {
           "colorbar": {
            "outlinewidth": 0,
            "ticks": ""
           }
          },
          "colorscale": {
           "diverging": [
            [
             0,
             "#8e0152"
            ],
            [
             0.1,
             "#c51b7d"
            ],
            [
             0.2,
             "#de77ae"
            ],
            [
             0.3,
             "#f1b6da"
            ],
            [
             0.4,
             "#fde0ef"
            ],
            [
             0.5,
             "#f7f7f7"
            ],
            [
             0.6,
             "#e6f5d0"
            ],
            [
             0.7,
             "#b8e186"
            ],
            [
             0.8,
             "#7fbc41"
            ],
            [
             0.9,
             "#4d9221"
            ],
            [
             1,
             "#276419"
            ]
           ],
           "sequential": [
            [
             0,
             "#0d0887"
            ],
            [
             0.1111111111111111,
             "#46039f"
            ],
            [
             0.2222222222222222,
             "#7201a8"
            ],
            [
             0.3333333333333333,
             "#9c179e"
            ],
            [
             0.4444444444444444,
             "#bd3786"
            ],
            [
             0.5555555555555556,
             "#d8576b"
            ],
            [
             0.6666666666666666,
             "#ed7953"
            ],
            [
             0.7777777777777778,
             "#fb9f3a"
            ],
            [
             0.8888888888888888,
             "#fdca26"
            ],
            [
             1,
             "#f0f921"
            ]
           ],
           "sequentialminus": [
            [
             0,
             "#0d0887"
            ],
            [
             0.1111111111111111,
             "#46039f"
            ],
            [
             0.2222222222222222,
             "#7201a8"
            ],
            [
             0.3333333333333333,
             "#9c179e"
            ],
            [
             0.4444444444444444,
             "#bd3786"
            ],
            [
             0.5555555555555556,
             "#d8576b"
            ],
            [
             0.6666666666666666,
             "#ed7953"
            ],
            [
             0.7777777777777778,
             "#fb9f3a"
            ],
            [
             0.8888888888888888,
             "#fdca26"
            ],
            [
             1,
             "#f0f921"
            ]
           ]
          },
          "colorway": [
           "#636efa",
           "#EF553B",
           "#00cc96",
           "#ab63fa",
           "#FFA15A",
           "#19d3f3",
           "#FF6692",
           "#B6E880",
           "#FF97FF",
           "#FECB52"
          ],
          "font": {
           "color": "#2a3f5f"
          },
          "geo": {
           "bgcolor": "white",
           "lakecolor": "white",
           "landcolor": "#E5ECF6",
           "showlakes": true,
           "showland": true,
           "subunitcolor": "white"
          },
          "hoverlabel": {
           "align": "left"
          },
          "hovermode": "closest",
          "mapbox": {
           "style": "light"
          },
          "paper_bgcolor": "white",
          "plot_bgcolor": "#E5ECF6",
          "polar": {
           "angularaxis": {
            "gridcolor": "white",
            "linecolor": "white",
            "ticks": ""
           },
           "bgcolor": "#E5ECF6",
           "radialaxis": {
            "gridcolor": "white",
            "linecolor": "white",
            "ticks": ""
           }
          },
          "scene": {
           "xaxis": {
            "backgroundcolor": "#E5ECF6",
            "gridcolor": "white",
            "gridwidth": 2,
            "linecolor": "white",
            "showbackground": true,
            "ticks": "",
            "zerolinecolor": "white"
           },
           "yaxis": {
            "backgroundcolor": "#E5ECF6",
            "gridcolor": "white",
            "gridwidth": 2,
            "linecolor": "white",
            "showbackground": true,
            "ticks": "",
            "zerolinecolor": "white"
           },
           "zaxis": {
            "backgroundcolor": "#E5ECF6",
            "gridcolor": "white",
            "gridwidth": 2,
            "linecolor": "white",
            "showbackground": true,
            "ticks": "",
            "zerolinecolor": "white"
           }
          },
          "shapedefaults": {
           "line": {
            "color": "#2a3f5f"
           }
          },
          "ternary": {
           "aaxis": {
            "gridcolor": "white",
            "linecolor": "white",
            "ticks": ""
           },
           "baxis": {
            "gridcolor": "white",
            "linecolor": "white",
            "ticks": ""
           },
           "bgcolor": "#E5ECF6",
           "caxis": {
            "gridcolor": "white",
            "linecolor": "white",
            "ticks": ""
           }
          },
          "title": {
           "x": 0.05
          },
          "xaxis": {
           "automargin": true,
           "gridcolor": "white",
           "linecolor": "white",
           "ticks": "",
           "title": {
            "standoff": 15
           },
           "zerolinecolor": "white",
           "zerolinewidth": 2
          },
          "yaxis": {
           "automargin": true,
           "gridcolor": "white",
           "linecolor": "white",
           "ticks": "",
           "title": {
            "standoff": 15
           },
           "zerolinecolor": "white",
           "zerolinewidth": 2
          }
         }
        },
        "title": {
         "font": {
          "color": "white",
          "family": "sans-serif"
         },
         "text": "Plagiarism Source"
        },
        "width": 800
       }
      }
     },
     "metadata": {},
     "output_type": "display_data"
    }
   ],
   "source": [
    "figP2.show()"
   ]
  },
  {
   "cell_type": "code",
   "execution_count": 197,
   "metadata": {},
   "outputs": [],
   "source": [
    "df2 = modify_df(df2,source_lang_dict)\n",
    "# print(tabulate(df2,headers='keys',tablefmt='fancy_grid'))"
   ]
  },
  {
   "cell_type": "code",
   "execution_count": 198,
   "metadata": {},
   "outputs": [
    {
     "data": {
      "text/html": [
       "<style type=\"text/css\">\n",
       "</style>\n",
       "<table id=\"T_6a744\">\n",
       "  <thead>\n",
       "    <tr>\n",
       "      <th class=\"blank level0\" >&nbsp;</th>\n",
       "      <th id=\"T_6a744_level0_col0\" class=\"col_heading level0 col0\" >Source</th>\n",
       "      <th id=\"T_6a744_level0_col1\" class=\"col_heading level0 col1\" >No. of Words</th>\n",
       "      <th id=\"T_6a744_level0_col2\" class=\"col_heading level0 col2\" >Percent</th>\n",
       "      <th id=\"T_6a744_level0_col3\" class=\"col_heading level0 col3\" >Source Language</th>\n",
       "    </tr>\n",
       "  </thead>\n",
       "  <tbody>\n",
       "    <tr>\n",
       "      <th id=\"T_6a744_level0_row0\" class=\"row_heading level0 row0\" >0</th>\n",
       "      <td id=\"T_6a744_row0_col0\" class=\"data row0 col0\" ><a target=\"_blank\" href=\"Unplagiarised\">Unplagiarised</a></td>\n",
       "      <td id=\"T_6a744_row0_col1\" class=\"data row0 col1\" >475</td>\n",
       "      <td id=\"T_6a744_row0_col2\" class=\"data row0 col2\" >46.568627</td>\n",
       "      <td id=\"T_6a744_row0_col3\" class=\"data row0 col3\" >---</td>\n",
       "    </tr>\n",
       "    <tr>\n",
       "      <th id=\"T_6a744_level0_row1\" class=\"row_heading level0 row1\" >1</th>\n",
       "      <td id=\"T_6a744_row1_col0\" class=\"data row1 col0\" ><a target=\"_blank\" href=\"Applications of neural networks and deep learning to biomedical engineering.pdf\">Applications of neural networks and deep learning to biomedical engineering.pdf</a></td>\n",
       "      <td id=\"T_6a744_row1_col1\" class=\"data row1 col1\" >109</td>\n",
       "      <td id=\"T_6a744_row1_col2\" class=\"data row1 col2\" >10.686275</td>\n",
       "      <td id=\"T_6a744_row1_col3\" class=\"data row1 col3\" >Spanish</td>\n",
       "    </tr>\n",
       "    <tr>\n",
       "      <th id=\"T_6a744_level0_row2\" class=\"row_heading level0 row2\" >2</th>\n",
       "      <td id=\"T_6a744_row2_col0\" class=\"data row2 col0\" ><a target=\"_blank\" href=\"Is it possible to develop quantum computing in Venezuela.pdf\">Is it possible to develop quantum computing in Venezuela.pdf</a></td>\n",
       "      <td id=\"T_6a744_row2_col1\" class=\"data row2 col1\" >208</td>\n",
       "      <td id=\"T_6a744_row2_col2\" class=\"data row2 col2\" >20.392157</td>\n",
       "      <td id=\"T_6a744_row2_col3\" class=\"data row2 col3\" >Spanish</td>\n",
       "    </tr>\n",
       "    <tr>\n",
       "      <th id=\"T_6a744_level0_row3\" class=\"row_heading level0 row3\" >3</th>\n",
       "      <td id=\"T_6a744_row3_col0\" class=\"data row3 col0\" ><a target=\"_blank\" href=\"The Nuclear Mirage.pdf\">The Nuclear Mirage.pdf</a></td>\n",
       "      <td id=\"T_6a744_row3_col1\" class=\"data row3 col1\" >228</td>\n",
       "      <td id=\"T_6a744_row3_col2\" class=\"data row3 col2\" >22.352941</td>\n",
       "      <td id=\"T_6a744_row3_col3\" class=\"data row3 col3\" >Spanish</td>\n",
       "    </tr>\n",
       "  </tbody>\n",
       "</table>\n"
      ],
      "text/plain": [
       "<pandas.io.formats.style.Styler at 0x186376ede20>"
      ]
     },
     "execution_count": 198,
     "metadata": {},
     "output_type": "execute_result"
    }
   ],
   "source": [
    "df2"
   ]
  },
  {
   "cell_type": "code",
   "execution_count": 199,
   "metadata": {},
   "outputs": [
    {
     "data": {
      "text/html": [
       "<style type=\"text/css\">\n",
       "</style>\n",
       "<table id=\"T_66800\">\n",
       "  <thead>\n",
       "    <tr>\n",
       "      <th class=\"blank level0\" >&nbsp;</th>\n",
       "      <th id=\"T_66800_level0_col0\" class=\"col_heading level0 col0\" >File Name</th>\n",
       "      <th id=\"T_66800_level0_col1\" class=\"col_heading level0 col1\" >No. of Words</th>\n",
       "      <th id=\"T_66800_level0_col2\" class=\"col_heading level0 col2\" >Plagiarised Percentage</th>\n",
       "      <th id=\"T_66800_level0_col3\" class=\"col_heading level0 col3\" >Language</th>\n",
       "    </tr>\n",
       "  </thead>\n",
       "  <tbody>\n",
       "    <tr>\n",
       "      <th id=\"T_66800_level0_row0\" class=\"row_heading level0 row0\" >0</th>\n",
       "      <td id=\"T_66800_row0_col0\" class=\"data row0 col0\" ><a target=\"_blank\" href=\"Suspicious Doc.pdf\">Suspicious Doc.pdf</a></td>\n",
       "      <td id=\"T_66800_row0_col1\" class=\"data row0 col1\" >1020</td>\n",
       "      <td id=\"T_66800_row0_col2\" class=\"data row0 col2\" >53.294002</td>\n",
       "      <td id=\"T_66800_row0_col3\" class=\"data row0 col3\" >English</td>\n",
       "    </tr>\n",
       "  </tbody>\n",
       "</table>\n"
      ],
      "text/plain": [
       "<pandas.io.formats.style.Styler at 0x186389117f0>"
      ]
     },
     "execution_count": 199,
     "metadata": {},
     "output_type": "execute_result"
    }
   ],
   "source": [
    "df3"
   ]
  }
 ],
 "metadata": {
  "kernelspec": {
   "display_name": "Python 3.9.5 ('base')",
   "language": "python",
   "name": "python3"
  },
  "language_info": {
   "codemirror_mode": {
    "name": "ipython",
    "version": 3
   },
   "file_extension": ".py",
   "mimetype": "text/x-python",
   "name": "python",
   "nbconvert_exporter": "python",
   "pygments_lexer": "ipython3",
   "version": "3.9.5"
  },
  "orig_nbformat": 4,
  "vscode": {
   "interpreter": {
    "hash": "4ded07237dbfafc8373e566cfe932557d647581b6f69415d805b7b9e9b0c4bcc"
   }
  }
 },
 "nbformat": 4,
 "nbformat_minor": 2
}
