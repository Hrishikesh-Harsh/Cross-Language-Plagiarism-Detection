{
 "cells": [
  {
   "cell_type": "markdown",
   "metadata": {},
   "source": [
    "#### In this notebook, we are going to put together all the features we have built till now and upscale it\n",
    "#### (May the Force be with Us)"
   ]
  },
  {
   "cell_type": "code",
   "execution_count": 2,
   "metadata": {},
   "outputs": [],
   "source": [
    "import re\n",
    "import nltk\n",
    "from nltk.util import ngrams, pad_sequence, everygrams\n",
    "from nltk.lm import MLE, WittenBellInterpolated\n",
    "from scipy.ndimage import gaussian_filter\n",
    "from tabulate import tabulate\n",
    "import numpy as np\n",
    "import pandas as pd\n",
    "import plotly.graph_objects as go\n",
    "import plotly.express as px\n",
    "import spacy\n",
    "from zipfile import ZipFile\n",
    "from deep_translator import GoogleTranslator\n",
    "from PyPDF2 import PdfReader\n",
    "import tkinter as tk\n",
    "from tkinter import *\n",
    "from tkinter.ttk import *\n",
    "from pdfminer.pdfinterp import PDFResourceManager, PDFPageInterpreter\n",
    "from pdfminer.converter import TextConverter\n",
    "from pdfminer.layout import LAParams\n",
    "from pdfminer.pdfpage import PDFPage\n",
    "import io\n",
    "import os\n",
    "from io import StringIO"
   ]
  },
  {
   "cell_type": "markdown",
   "metadata": {},
   "source": [
    "-> preProcess(text): returns text\n",
    "\n",
    "- Remove puctuation, new lines, tabs and extra spaces.\n",
    "- Remove \"Machine Translated By Google\" tag\n",
    "- Remove the Bibliography and References Section\n"
   ]
  },
  {
   "cell_type": "code",
   "execution_count": 3,
   "metadata": {},
   "outputs": [],
   "source": [
    "def preProcess(text):\n",
    "    text = re.sub(r'[^\\w\\s]','',text)\n",
    "    text = text.replace('\\n', ' ')\n",
    "    text = text.replace('\\t', ' ')\n",
    "    text = text.replace(\"Machine Translated by Google\",' ')\n",
    "    text = re.sub(r'^https?:\\/\\/.*[\\r\\n]*', ' ', text, flags=re.MULTILINE)\n",
    "    text = \" \".join(text.split())\n",
    "\n",
    "    i = text.find('Bibliography')\n",
    "    if i != -1:\n",
    "        text = text[:i]\n",
    "    i = text.find('References')\n",
    "    if i != -1:\n",
    "        text = text[:i]\n",
    "    \n",
    "    return text"
   ]
  },
  {
   "cell_type": "markdown",
   "metadata": {},
   "source": [
    "-> extractText(fileName,start): \n",
    "- Returns extracted text from 'fileName' PDF from 'start' page"
   ]
  },
  {
   "cell_type": "code",
   "execution_count": 4,
   "metadata": {},
   "outputs": [],
   "source": [
    "# def extractText(fileName,start):\n",
    "#     reader = PdfReader(fileName)\n",
    "#     pages = len(reader.pages)\n",
    "#     story = \"\"\"\"\"\"\n",
    "\n",
    "#     for i in range(start,pages):\n",
    "#         page = reader.pages[i]\n",
    "#         story = story + str(page.extractText())\n",
    "#     return story\n",
    "\n",
    "def extractText(fileName,start):\n",
    "    rsrcmgr = PDFResourceManager()\n",
    "    codec = 'utf-8'\n",
    "    laparams = LAParams()\n",
    "\n",
    "    with io.StringIO() as retstr:\n",
    "        with TextConverter(rsrcmgr, retstr, codec=codec,\n",
    "                           laparams=laparams) as device:\n",
    "            with open(fileName, 'rb') as fp:\n",
    "                interpreter = PDFPageInterpreter(rsrcmgr, device)\n",
    "                password = \"\"\n",
    "                maxpages = 0\n",
    "                caching = True\n",
    "                pagenos = set()\n",
    "                pgNo = 0\n",
    "\n",
    "                for page in PDFPage.get_pages(fp,\n",
    "                                              pagenos,\n",
    "                                              maxpages=maxpages,\n",
    "                                              password=password,\n",
    "                                              caching=caching,\n",
    "                                              check_extractable=True):\n",
    "                    if(pgNo != (start-1)):\n",
    "                        interpreter.process_page(page)\n",
    "                    pgNo += 1\n",
    "\n",
    "                return retstr.getvalue()\n"
   ]
  },
  {
   "cell_type": "markdown",
   "metadata": {},
   "source": [
    "-> extractFromZIP(zipFileName):\n",
    "- Extracts the Corpus PDFs from the specified ZIP File"
   ]
  },
  {
   "cell_type": "code",
   "execution_count": 5,
   "metadata": {},
   "outputs": [],
   "source": [
    "def extractFromZIP(zipFileName):\n",
    "    # ZIP file should be in the same folder as the .ipynb file obviously\n",
    "    # extract the zip file\n",
    "    with ZipFile(zipFileName, 'r') as zipObj:\n",
    "        zipObj.extractall()"
   ]
  },
  {
   "cell_type": "code",
   "execution_count": 6,
   "metadata": {},
   "outputs": [],
   "source": [
    "# Load the language library\n",
    "nlp = spacy.load('en_core_web_lg')"
   ]
  },
  {
   "cell_type": "markdown",
   "metadata": {},
   "source": [
    "-> createCorpus():\n",
    "- Create and Return List of Source Doc Names"
   ]
  },
  {
   "cell_type": "code",
   "execution_count": 7,
   "metadata": {},
   "outputs": [],
   "source": [
    "def createCorpus():\n",
    "    corpus = []\n",
    "    for x in os.listdir():\n",
    "        if ((x.endswith(\".pdf\") or x.endswith(\".PDF\")) and not(x.startswith(\"Sus\"))):\n",
    "            corpus.append(x)\n",
    "    return corpus"
   ]
  },
  {
   "cell_type": "markdown",
   "metadata": {},
   "source": [
    "-> createListOfCorpus(corpus):\n",
    "- Create and return list of Individual contents of the Corpus Docs"
   ]
  },
  {
   "cell_type": "code",
   "execution_count": 8,
   "metadata": {},
   "outputs": [],
   "source": [
    "def createListOfCorpus(corpus):\n",
    "    listOfCorpus = []\n",
    "    for x in range(len(corpus)):\n",
    "        text = extractText(corpus[x],1)\n",
    "        text = preProcess(text)\n",
    "        listOfCorpus.append(text)\n",
    "    return listOfCorpus"
   ]
  },
  {
   "cell_type": "markdown",
   "metadata": {},
   "source": [
    "-> createReferences(corpus):\n",
    "- Create and return dictionary of the Corpus Doc Names for mapping back Plagiarised Portions"
   ]
  },
  {
   "cell_type": "code",
   "execution_count": 9,
   "metadata": {},
   "outputs": [],
   "source": [
    "def createReferences(corpus):\n",
    "    references = {}\n",
    "    for x in range(len(corpus)):\n",
    "        references[x] = corpus[x]\n",
    "    \n",
    "    return references"
   ]
  },
  {
   "cell_type": "markdown",
   "metadata": {},
   "source": [
    "-> createVector(listOfCorpus):\n",
    "- Create and return list of vectors of the Individual contents of the Corpus Docs"
   ]
  },
  {
   "cell_type": "code",
   "execution_count": 10,
   "metadata": {},
   "outputs": [],
   "source": [
    "def createVector(listOfCorpus):\n",
    "    vector = []\n",
    "    for x in listOfCorpus:\n",
    "        vector.append(nlp(x))\n",
    "    return vector"
   ]
  },
  {
   "cell_type": "markdown",
   "metadata": {},
   "source": [
    "-> trainModel(trainingVector, n):\n",
    "- Trains model based on Witten Bell Interpolation over trainingVector (of entire Corpus combined) and n-gram value 'n'\n",
    "- Returns model"
   ]
  },
  {
   "cell_type": "code",
   "execution_count": 11,
   "metadata": {},
   "outputs": [],
   "source": [
    "def trainModel(trainingVector, n):\n",
    "    words = [w.text for w in trainingVector]\n",
    "    training_data = list(pad_sequence(words, n, \n",
    "                                    pad_left=True, \n",
    "                                    left_pad_symbol=\"<s>\"))\n",
    "    # Generate n-grams from the training data\n",
    "    ngrams = list(everygrams(training_data, max_len=n))\n",
    "    # Build n-gram language model\n",
    "    model = WittenBellInterpolated(n)\n",
    "    model.fit([ngrams],vocabulary_text=training_data)\n",
    "    return model"
   ]
  },
  {
   "cell_type": "markdown",
   "metadata": {},
   "source": [
    "-> createTestData(fileName):\n",
    "- Create the test data from the Suspicious Doc and return its vector"
   ]
  },
  {
   "cell_type": "code",
   "execution_count": 12,
   "metadata": {},
   "outputs": [],
   "source": [
    "def createTestData(fileName):\n",
    "    suspiciousText = extractText(fileName,0)\n",
    "    suspiciousText = preProcess(suspiciousText)\n",
    "    testVector = nlp(suspiciousText)\n",
    "    words = [w.text for w in testVector]\n",
    "    test_data = list(pad_sequence(words, n,\n",
    "                                pad_left=True,\n",
    "                                left_pad_symbol=\"<s>\"))\n",
    "    return test_data,testVector,suspiciousText\n"
   ]
  },
  {
   "cell_type": "markdown",
   "metadata": {},
   "source": [
    "-> generateScores(model, test_data):\n",
    "- Get scores of probability of plagiarism on individual words based on context of neighbouring 'n' words\n",
    "- Return numpy array of those scores"
   ]
  },
  {
   "cell_type": "code",
   "execution_count": 13,
   "metadata": {},
   "outputs": [],
   "source": [
    "def generateScores(model, test_data):\n",
    "    score=[]\n",
    "    #source = []\n",
    "    # Generate score\n",
    "    for i,ele in enumerate(test_data[n-1:]):\n",
    "        s = model.score(ele,test_data[i:i+n-1])\n",
    "        score.append(s)\n",
    "\n",
    "    # Convert to numpy array\n",
    "    score_np=np.array(score)\n",
    "    return score_np"
   ]
  },
  {
   "cell_type": "markdown",
   "metadata": {},
   "source": [
    "-> generateData(width,score_np):\n",
    "- Creating another numpy array of matrix dimensions to fit in a heatmap\n",
    "- Creating source labels to label individual Plagiarised portions\n",
    "- returning diff of size b/w 1D 'a' and score_np\n"
   ]
  },
  {
   "cell_type": "code",
   "execution_count": 14,
   "metadata": {},
   "outputs": [],
   "source": [
    "def generateData(width,score_np):\n",
    "    height=np.ceil(len(score_np)/width).astype(\"int32\")\n",
    "    # source label to be used to identify original source of plagiarised portions\n",
    "    # Copy the score_np to a new array with shape (height,width)\n",
    "    a=np.zeros(width*height)\n",
    "    sourceLabel = [\"Unplagiarised\"]*(width*height)\n",
    "    a[:len(score_np)] = score_np\n",
    "\n",
    "    diff = len(a) - len(score_np)\n",
    "    # Apply gaussian filter to the array\n",
    "    a = gaussian_filter(a, sigma=1.0)\n",
    "    # Reshape to fit rectangular shape\n",
    "    a = a.reshape(-1,width)\n",
    "    return a, sourceLabel, diff"
   ]
  },
  {
   "cell_type": "markdown",
   "metadata": {},
   "source": [
    "-> getPlagPercentage(a,diff):\n",
    "- Get back the Pecentage of Plagiarism\n",
    "- Get back the indexes of the Plagiarised words"
   ]
  },
  {
   "cell_type": "code",
   "execution_count": 15,
   "metadata": {},
   "outputs": [],
   "source": [
    "def getPlagPercentage(a,diff):\n",
    "    a = a.reshape(-1)\n",
    "    plagWds = 0\n",
    "    plID=[] \n",
    "    # If a[i] > 0.62 or a[i-1]>0.58 or a[i+1]>0.58, then increase plagWds by 1\n",
    "    for i in range(0,a.shape[0]-2): \n",
    "        if a[i] > 0.62 or a[i+1]>0.60 or a[i+2]>0.60:\n",
    "            plagWds += 1\n",
    "            plID.append(i)\n",
    "\n",
    "    plagPercentage = plagWds*100/(len(a)-diff)\n",
    "\n",
    "    return plagPercentage,plID"
   ]
  },
  {
   "cell_type": "markdown",
   "metadata": {},
   "source": [
    "-> check_plagiarised(j,vecO,vecP,id,fin,plag_dict):\n",
    "- Mapping the Plagiarised portions to their Sources\n",
    "- Returns the dictionary with indexes of Plagiarised portions and their corresponding portions"
   ]
  },
  {
   "cell_type": "code",
   "execution_count": 16,
   "metadata": {},
   "outputs": [],
   "source": [
    "def check_plagiarised(j,vecO,vecP,id,fin,plag_dict):\n",
    "    for k in range(len(vecO)-3):\n",
    "        # X is Vector of the plagiarized text present between indexes id and fin\n",
    "        X1=vecP[id:id+12]\n",
    "        X2 = vecP[fin-12:fin]\n",
    "        X3 = vecP[(id+fin)//2-6:(id+fin)//2+6]\n",
    "        # Y is Vector of the original text present between indexes j and j+l\n",
    "        Y1=vecO[k:k+12]\n",
    "        # Y2 = vecO[k:k+fin-id+1]\n",
    "        \n",
    "        #Computing cosine similarity\n",
    "        sim1 = X1.similarity(Y1)\n",
    "        sim2 = X2.similarity(Y1)\n",
    "        sim3 = X3.similarity(Y1)\n",
    "\n",
    "        # If the cosine similarity is greater than 0.997, then we get a match from original text\n",
    "        if(sim1>0.995 or sim2>0.995 or sim3>0.997):\n",
    "            if(j in plag_dict):\n",
    "                a=[id,fin]\n",
    "                b=[k,k+fin-id+1]\n",
    "                plag_dict[j].append([a,b])\n",
    "            else:\n",
    "                a=[id,fin]\n",
    "                b=[k,k+fin-id+1]\n",
    "                plag_dict[j] = [[a,b]]\n",
    "            break\n",
    "    \n",
    "    return plag_dict"
   ]
  },
  {
   "cell_type": "markdown",
   "metadata": {},
   "source": [
    "-> getJumpStates(plID):\n",
    "- Returns the specific Indexes of the Plagiarised portions from the Suspicious Doc"
   ]
  },
  {
   "cell_type": "code",
   "execution_count": 17,
   "metadata": {},
   "outputs": [],
   "source": [
    "def getJumpStates(plID):\n",
    "    jumpStates=[]\n",
    "    jumpStates.append(plID[0])\n",
    "    for i in range(len(plID)):\n",
    "        if(plID[i]-plID[i-1]>11):\n",
    "            jumpStates.append(plID[i-1])\n",
    "            jumpStates.append(plID[i])\n",
    "\n",
    "    jumpStates.append(plID[-1])\n",
    "    return jumpStates"
   ]
  },
  {
   "cell_type": "markdown",
   "metadata": {},
   "source": [
    "-> getPlagDict(jumpStates,vector,testVector):\n",
    "- For each pair in the jumpStates, it adds its source to the plag_dict and returns the plag_dict after completion"
   ]
  },
  {
   "cell_type": "code",
   "execution_count": 18,
   "metadata": {},
   "outputs": [],
   "source": [
    "def getPlagDict(jumpStates,vector,testVector):\n",
    "    plag_dict = {}\n",
    "    # Fill plag_dict with the plagiarised portions\n",
    "    for i in range(0,len(jumpStates),2):\n",
    "        id=jumpStates[i]\n",
    "        fin=jumpStates[i+1]\n",
    "\n",
    "        # Checking which document the plagiarised portion belongs to\n",
    "        for j,vec in enumerate(vector):\n",
    "            plag_dict=check_plagiarised(j,vector[j],testVector,id,fin,plag_dict)\n",
    "            \n",
    "    return plag_dict"
   ]
  },
  {
   "cell_type": "markdown",
   "metadata": {},
   "source": [
    "-> populateSourceLabel(plag_dict,sourceLabel,references,width):\n",
    "- Fills the SourceLabels with the original names of the sources from which plagiarised portions have been taken"
   ]
  },
  {
   "cell_type": "code",
   "execution_count": 19,
   "metadata": {},
   "outputs": [],
   "source": [
    "def populateSourceLabel(plag_dict,sourceLabel,references,width):\n",
    "    # Iterate over plag_dict\n",
    "    for i in plag_dict:\n",
    "        v = plag_dict[i]\n",
    "        for j in v:\n",
    "            # Extracting the plagiarised portions\n",
    "            st = j[0][0]\n",
    "            en = j[0][1]\n",
    "\n",
    "            # Labelling those portions\n",
    "            sourceLabel[st:en+1] = [references[i] for x in sourceLabel[st:en+1]]\n",
    "            \n",
    "    sourceLabel = np.array(sourceLabel)\n",
    "    sourceLabel = sourceLabel.reshape(-1,width)\n",
    "    return sourceLabel"
   ]
  },
  {
   "cell_type": "markdown",
   "metadata": {},
   "source": [
    "-> createLabels(testVector,width,diff):\n",
    "- Creates the content for writing in the Heatmaps\n",
    "- Basically the entire suspicious doc"
   ]
  },
  {
   "cell_type": "code",
   "execution_count": 20,
   "metadata": {},
   "outputs": [],
   "source": [
    "def createLabels(testVector,width,diff):\n",
    "    # format labels\n",
    "    labels = [\" \".join(testVector[i:i+width].text.split()) for i in range(0, len(testVector), width)]\n",
    "    labels_individual = [x.split() for x in labels]\n",
    "    labels_individual[-1] += [\"\"]*diff\n",
    "    labels = [f\"{x:60.60}\" for x in labels]\n",
    "\n",
    "    return labels,labels_individual"
   ]
  },
  {
   "cell_type": "markdown",
   "metadata": {},
   "source": [
    "-> generateHeatMap(a,sourceLabel,width,height,labels_individual):\n",
    "- Generates heatmap to help visualise the plagiarised portions\n",
    "- Returns the created figure"
   ]
  },
  {
   "cell_type": "code",
   "execution_count": 21,
   "metadata": {},
   "outputs": [],
   "source": [
    "def generateHeatMap(a,sourceLabel,width,height,labels_individual):\n",
    "    # create heatmap of the Plagiarized Text\n",
    "    a=a.reshape(-1,width)\n",
    "    fig = go.Figure(data=go.Heatmap(\n",
    "                    z=a, x0=0, dx=1,\n",
    "                    #y=labels, \n",
    "                    zmin=0, zmax=1,\n",
    "                    customdata=sourceLabel,\n",
    "                    hovertemplate='%{customdata} <br><b>Score:%{z:.3f}<extra></extra>',\n",
    "                    text=labels_individual,\n",
    "                    texttemplate='%{text}',\n",
    "                    textfont={\"size\":7},\n",
    "                    colorscale='reds'\n",
    "                    ))\n",
    "    fig.update_layout({\"height\":height*25, \"width\":1000, \"font\":{\"family\":\"sans-serif\"}})\n",
    "    fig['layout']['yaxis']['autorange'] = \"reversed\"\n",
    "    return fig"
   ]
  },
  {
   "cell_type": "markdown",
   "metadata": {},
   "source": [
    "-> displayDoc(jumpStates,testVector,suspiciousText)\n",
    "- Displays the Entire Suspicious Doc in a TextBox\n",
    "- Has two buttons: Highlight and Exit\n",
    "- Highlight button highlights the Plagiarised Portions and Exit button closes the window\n"
   ]
  },
  {
   "cell_type": "code",
   "execution_count": 22,
   "metadata": {},
   "outputs": [],
   "source": [
    "def displayDoc(jumpStates,testVector,suspiciousText):\n",
    "    root = Tk()\n",
    "    \n",
    "    # specify size of window.\n",
    "    root.geometry(\"1000x800\")\n",
    "    root.config(bg='#59FC97')\n",
    "\n",
    "    style = Style()\n",
    "\n",
    "    style.configure('W.TButton', font =\n",
    "               ('calibri', 10, 'bold'),\n",
    "                foreground = 'black',\n",
    "                background = 'purple')\n",
    "    \n",
    "    # Create text widget and specify size.\n",
    "    T = Text(root, wrap = 'word', height = 38, width = 120, font=(\"calibri\", 12), bg='black', fg='white')\n",
    "    \n",
    "    # Create label\n",
    "    l = Label(root, text = \"Suspicious Document\")\n",
    "    l.config(font =(\"calibri\", 20), background='#59FC97', foreground='black')\n",
    "            \n",
    "    \n",
    "    # Create an Exit button.\n",
    "    b1 = Button(root, text = \"Exit\",\n",
    "                style='W.TButton',\n",
    "                command = root.destroy)\n",
    "\n",
    "    l.pack()\n",
    "    T.pack()\n",
    "    b1.pack(side=RIGHT, padx=350, pady=25)\n",
    "\n",
    "    # Insert The Text\n",
    "    T.insert(tk.END, suspiciousText)\n",
    "\n",
    "    def search_re(pattern):\n",
    "        \"\"\"\n",
    "        Uses the python re library to match patterns.\n",
    "\n",
    "        pattern - the pattern to match.\n",
    "        \"\"\"\n",
    "        matches = []\n",
    "        text = T.get(\"1.0\", tk.END).splitlines()\n",
    "        for i, line in enumerate(text):\n",
    "            for match in re.finditer(pattern, line):\n",
    "                matches.append(f\"{i + 1}.{match.start()}\")\n",
    "                matches.append(f\"{i + 1}.{match.end()}\")\n",
    "        \n",
    "        return matches\n",
    "    \n",
    "    def getLocDict(jumpStates):\n",
    "        loc_dict = {}\n",
    "        for i in range(0,len(jumpStates),2):\n",
    "            a = search_re(testVector[jumpStates[i]:jumpStates[i]+4].text)\n",
    "            b = search_re(testVector[jumpStates[i+1]-3:jumpStates[i+1]+1].text)\n",
    "            loc_dict[a[0]] = b[1]\n",
    "        return loc_dict\n",
    "\n",
    "    def add_highlighter(s,e):\n",
    "        T.tag_add(\"start\", s, e)\n",
    "        T.tag_config(\"start\", background= \"#FE5E61\", foreground= \"white\")\n",
    "\n",
    "    def highlight_all(loc_dict):\n",
    "        for i in loc_dict:\n",
    "            add_highlighter(i, loc_dict[i])\n",
    "    \n",
    "    loc_dict = getLocDict(jumpStates)\n",
    "\n",
    "    b2 = Button(root, text= \"Highlight Plagiarised Portions\", style= 'W.TButton', command = lambda: highlight_all(loc_dict))\n",
    "    b2.pack(side = BOTTOM, padx = 200, pady = 25)\n",
    "\n",
    "    root.mainloop()"
   ]
  },
  {
   "cell_type": "markdown",
   "metadata": {},
   "source": [
    "-> getPieLabelAndVals_1(plag_dict,plID):\n",
    "- Set and return the labels for the Pie Chart 1 which will contain overall results of Plagiarism Check\n",
    "- Set and return the values for calculating percentage values in Pie Chart"
   ]
  },
  {
   "cell_type": "code",
   "execution_count": 23,
   "metadata": {},
   "outputs": [],
   "source": [
    "def getPieLabelAndVals_1(plag_dict,plID):\n",
    "    pieL1 = []\n",
    "\n",
    "    pieL1.append(\"Unplagiarised\")\n",
    "    pieL1.append(\"Plagiarised\")\n",
    "\n",
    "    pieVal1 = []\n",
    "    pieVal1.append(len(score_np)-len(plID))\n",
    "\n",
    "    # Iterate over plag_dict\n",
    "    s=0\n",
    "    for i in plag_dict:\n",
    "        v = plag_dict[i]\n",
    "        \n",
    "        for j in v:\n",
    "            # Extracting the plagiarised portions\n",
    "            st = j[0][0]\n",
    "            en = j[0][1]\n",
    "\n",
    "            s=s+en-st+1\n",
    "            \n",
    "    pieVal1.append(s)\n",
    "    return pieL1,pieVal1"
   ]
  },
  {
   "cell_type": "markdown",
   "metadata": {},
   "source": [
    "-> getPieLabelAndVals_1(plag_dict,plID,references):\n",
    "- Set and return the labels for the Pie Chart 2 which will contain detailed results of Plagiarism Check depicting percentage of Plagiarism\n",
    "    attributed to each Source\n",
    "- Set and return the values for calculating percentage values in Pie Chart 2"
   ]
  },
  {
   "cell_type": "code",
   "execution_count": 24,
   "metadata": {},
   "outputs": [],
   "source": [
    "def getPieLabelAndVals_2(plag_dict,plID,references):\n",
    "    pieL2 =[]\n",
    "    pieL2.append(\"Unplagiarised\")\n",
    "\n",
    "    for i in references:\n",
    "        pieL2.append(references[i])\n",
    "\n",
    "    pieVal2 = [0]*len(pieL2)\n",
    "    pieVal2[0]=(len(score_np)-len(plID))\n",
    "\n",
    "    # Iterate over plag_dict\n",
    "    for i in plag_dict:\n",
    "        v = plag_dict[i]\n",
    "        s=0\n",
    "        for j in v:\n",
    "            # Extracting the plagiarised portions\n",
    "            st = j[0][0]\n",
    "            en = j[0][1]\n",
    "\n",
    "            s=s+en-st+1\n",
    "        pieVal2[i+1]=s\n",
    "    \n",
    "    return pieL2,pieVal2"
   ]
  },
  {
   "cell_type": "markdown",
   "metadata": {},
   "source": [
    "-> createDataFrames(pieL1,pieL2,pieVal1,pieVal2):\n",
    "- Create pandas Data Frame of Labels and Values for both Pie Charts "
   ]
  },
  {
   "cell_type": "code",
   "execution_count": 25,
   "metadata": {},
   "outputs": [],
   "source": [
    "def createDataFrames(pieL1,pieL2,pieVal1,pieVal2):\n",
    "    df1 = pd.DataFrame({\"Status\":pieL1,\"No. of Words\":pieVal1})\n",
    "    df2 = pd.DataFrame({\"Source\":pieL2,\"No. of Words\":pieVal2})\n",
    "    return df1,df2"
   ]
  },
  {
   "cell_type": "markdown",
   "metadata": {},
   "source": [
    "-> createPieCharts(df1,df2):\n",
    "- Create the Pie charts for both data frames with custom features for better visibility"
   ]
  },
  {
   "cell_type": "code",
   "execution_count": 26,
   "metadata": {},
   "outputs": [],
   "source": [
    "def createPieCharts(df1,df2):\n",
    "    figP1 = px.pie(df1,values='No. of Words', names='Status',\n",
    "             title = \"Plagiarism Status\",\n",
    "             color_discrete_sequence=px.colors.sequential.Bluered_r,\n",
    "             hole=0.5)\n",
    "    figP1.update_layout({\"height\":400, \"width\":400, \"font\":{\"family\":\"sans-serif\"}})\n",
    "    figP1.update_layout(paper_bgcolor=\"#000000\")\n",
    "    figP1.update_layout(\n",
    "                            font_family=\"sans-serif\",\n",
    "                            font_color=\"cyan\",\n",
    "                            title_font_family=\"sans-serif\",\n",
    "                            title_font_color=\"white\",\n",
    "                            legend_title_font_color=\"cyan\"\n",
    "                        )\n",
    "    figP1.update_layout(margin=dict(t=40, b=0, l=0, r=0))\n",
    "\n",
    "    figP2 = px.pie(df2,values='No. of Words', names='Source',\n",
    "                title = \"Plagiarism Source\",\n",
    "                color_discrete_sequence=px.colors.sequential.Rainbow_r,\n",
    "                hole=0.5)\n",
    "    figP2.update_layout({\"height\":400, \"width\":800, \"font\":{\"family\":\"sans-serif\"}})\n",
    "    figP2.update_layout(paper_bgcolor=\"#000000\")\n",
    "    figP2.update_layout(\n",
    "                            font_family=\"sans-serif\",\n",
    "                            font_color=\"cyan\",\n",
    "                            title_font_family=\"sans-serif\",\n",
    "                            title_font_color=\"white\",\n",
    "                            legend_title_font_color=\"cyan\"\n",
    "                        )\n",
    "    figP2.update_layout(margin=dict(t=40, b=0, l=0, r=0))\n",
    "\n",
    "    return figP1,figP2"
   ]
  },
  {
   "cell_type": "markdown",
   "metadata": {},
   "source": [
    "- The real code execution begins here\n",
    "- Please take care of the following points:\n",
    "    - All the source docs (in Translated format) must be in .zip file\n",
    "    - The Suspicious Doc must be named \"Suspicious Doc.pdf\"\n",
    "- You will be prompted to enter the Name of the .zip file during execution"
   ]
  },
  {
   "cell_type": "code",
   "execution_count": 27,
   "metadata": {},
   "outputs": [],
   "source": [
    "zipFileName = input(\"Name of the Corpus zip file: \")"
   ]
  },
  {
   "cell_type": "code",
   "execution_count": 28,
   "metadata": {},
   "outputs": [],
   "source": [
    "# Call all the functions\n",
    "extractFromZIP(zipFileName)\n",
    "corpus = createCorpus()\n",
    "references = createReferences(corpus)\n",
    "listOfCorpus = createListOfCorpus(corpus)\n",
    "vector = createVector(listOfCorpus)"
   ]
  },
  {
   "cell_type": "code",
   "execution_count": 29,
   "metadata": {},
   "outputs": [],
   "source": [
    "megaCorpus = '\\n'.join(listOfCorpus)\n",
    "trainingVector = nlp(megaCorpus)"
   ]
  },
  {
   "cell_type": "code",
   "execution_count": 30,
   "metadata": {},
   "outputs": [],
   "source": [
    "# Value of n for n-grams\n",
    "n = 5"
   ]
  },
  {
   "cell_type": "code",
   "execution_count": 31,
   "metadata": {},
   "outputs": [],
   "source": [
    "# Call function to train the model\n",
    "model = trainModel(trainingVector,n)\n"
   ]
  },
  {
   "cell_type": "code",
   "execution_count": 32,
   "metadata": {},
   "outputs": [],
   "source": [
    "test_data,testVector,suspiciousText = createTestData(\"Suspicious Doc.pdf\")"
   ]
  },
  {
   "cell_type": "code",
   "execution_count": 34,
   "metadata": {},
   "outputs": [],
   "source": [
    "score_np = generateScores(model,test_data)"
   ]
  },
  {
   "cell_type": "code",
   "execution_count": 35,
   "metadata": {},
   "outputs": [],
   "source": [
    "# Keeping width = 22 for readability\n",
    "a,sourceLabel,diff = generateData(22,score_np)"
   ]
  },
  {
   "cell_type": "code",
   "execution_count": 36,
   "metadata": {},
   "outputs": [],
   "source": [
    "plagPercentage,plID = getPlagPercentage(a,diff)"
   ]
  },
  {
   "cell_type": "code",
   "execution_count": 37,
   "metadata": {},
   "outputs": [],
   "source": [
    "jumpStates = getJumpStates(plID)"
   ]
  },
  {
   "cell_type": "code",
   "execution_count": 38,
   "metadata": {},
   "outputs": [],
   "source": [
    "plag_dict = getPlagDict(jumpStates,vector,testVector)"
   ]
  },
  {
   "cell_type": "code",
   "execution_count": 39,
   "metadata": {},
   "outputs": [],
   "source": [
    "sourceLabel = populateSourceLabel(plag_dict,sourceLabel,references,22)"
   ]
  },
  {
   "cell_type": "code",
   "execution_count": 40,
   "metadata": {},
   "outputs": [],
   "source": [
    "labels,labels_individual = createLabels(testVector,22,diff)"
   ]
  },
  {
   "cell_type": "code",
   "execution_count": 41,
   "metadata": {},
   "outputs": [],
   "source": [
    "height = np.ceil(len(score_np)/22).astype(\"int32\")\n",
    "fig = generateHeatMap(a,sourceLabel,22,height,labels_individual)"
   ]
  },
  {
   "cell_type": "code",
   "execution_count": 42,
   "metadata": {},
   "outputs": [],
   "source": [
    "pieL1,pieVal1 = getPieLabelAndVals_1(plag_dict,plID)\n",
    "pieL2,pieVal2 = getPieLabelAndVals_2(plag_dict,plID,references)"
   ]
  },
  {
   "cell_type": "code",
   "execution_count": 43,
   "metadata": {},
   "outputs": [],
   "source": [
    "df1,df2 = createDataFrames(pieL1,pieL2,pieVal1,pieVal2)\n",
    "figP1,figP2 = createPieCharts(df1,df2)"
   ]
  },
  {
   "cell_type": "markdown",
   "metadata": {},
   "source": [
    "- Below this point, there are 5 ways to visualise/view the Results\n",
    "- The ways are:\n",
    "    - Suspicious Document Heatmap:\n",
    "        - Entire Document broken into block of words\n",
    "        - Plagiarised portions highlighted in varying shades of red\n",
    "        - Hover over any Plagiarised Portion to reveal Original Source Document\n",
    "    - Suspicious Document Textbox:\n",
    "        - View entire Document\n",
    "        - Two buttons Highlight and Exit\n",
    "        - Click on Highlight to highlight plagiarised portions in Red\n",
    "    - Pie Chart 1:\n",
    "        - Displays Overall percentages of Plagiarism\n",
    "    - Pie Chart 2:\n",
    "        - Detailed Percentages of Plagiarism from each source\n",
    "    - Table:\n",
    "        - Table to display all details of Pie Chart 2 in tabular format"
   ]
  },
  {
   "cell_type": "code",
   "execution_count": null,
   "metadata": {},
   "outputs": [],
   "source": [
    "fig.show()"
   ]
  },
  {
   "cell_type": "code",
   "execution_count": 45,
   "metadata": {},
   "outputs": [],
   "source": [
    "displayDoc(jumpStates,testVector,suspiciousText)"
   ]
  },
  {
   "cell_type": "code",
   "execution_count": 46,
   "metadata": {},
   "outputs": [
    {
     "data": {
      "application/vnd.plotly.v1+json": {
       "config": {
        "plotlyServerURL": "https://plot.ly"
       },
       "data": [
        {
         "domain": {
          "x": [
           0,
           1
          ],
          "y": [
           0,
           1
          ]
         },
         "hole": 0.5,
         "hovertemplate": "Status=%{label}<br>No. of Words=%{value}<extra></extra>",
         "labels": [
          "Unplagiarised",
          "Plagiarised"
         ],
         "legendgroup": "",
         "name": "",
         "showlegend": true,
         "type": "pie",
         "values": [
          475,
          545
         ]
        }
       ],
       "layout": {
        "font": {
         "color": "cyan",
         "family": "sans-serif"
        },
        "height": 400,
        "legend": {
         "title": {
          "font": {
           "color": "cyan"
          }
         },
         "tracegroupgap": 0
        },
        "margin": {
         "b": 0,
         "l": 0,
         "r": 0,
         "t": 40
        },
        "paper_bgcolor": "#000000",
        "piecolorway": [
         "rgb(255,0,0)",
         "rgb(0,0,255)"
        ],
        "template": {
         "data": {
          "bar": [
           {
            "error_x": {
             "color": "#2a3f5f"
            },
            "error_y": {
             "color": "#2a3f5f"
            },
            "marker": {
             "line": {
              "color": "#E5ECF6",
              "width": 0.5
             },
             "pattern": {
              "fillmode": "overlay",
              "size": 10,
              "solidity": 0.2
             }
            },
            "type": "bar"
           }
          ],
          "barpolar": [
           {
            "marker": {
             "line": {
              "color": "#E5ECF6",
              "width": 0.5
             },
             "pattern": {
              "fillmode": "overlay",
              "size": 10,
              "solidity": 0.2
             }
            },
            "type": "barpolar"
           }
          ],
          "carpet": [
           {
            "aaxis": {
             "endlinecolor": "#2a3f5f",
             "gridcolor": "white",
             "linecolor": "white",
             "minorgridcolor": "white",
             "startlinecolor": "#2a3f5f"
            },
            "baxis": {
             "endlinecolor": "#2a3f5f",
             "gridcolor": "white",
             "linecolor": "white",
             "minorgridcolor": "white",
             "startlinecolor": "#2a3f5f"
            },
            "type": "carpet"
           }
          ],
          "choropleth": [
           {
            "colorbar": {
             "outlinewidth": 0,
             "ticks": ""
            },
            "type": "choropleth"
           }
          ],
          "contour": [
           {
            "colorbar": {
             "outlinewidth": 0,
             "ticks": ""
            },
            "colorscale": [
             [
              0,
              "#0d0887"
             ],
             [
              0.1111111111111111,
              "#46039f"
             ],
             [
              0.2222222222222222,
              "#7201a8"
             ],
             [
              0.3333333333333333,
              "#9c179e"
             ],
             [
              0.4444444444444444,
              "#bd3786"
             ],
             [
              0.5555555555555556,
              "#d8576b"
             ],
             [
              0.6666666666666666,
              "#ed7953"
             ],
             [
              0.7777777777777778,
              "#fb9f3a"
             ],
             [
              0.8888888888888888,
              "#fdca26"
             ],
             [
              1,
              "#f0f921"
             ]
            ],
            "type": "contour"
           }
          ],
          "contourcarpet": [
           {
            "colorbar": {
             "outlinewidth": 0,
             "ticks": ""
            },
            "type": "contourcarpet"
           }
          ],
          "heatmap": [
           {
            "colorbar": {
             "outlinewidth": 0,
             "ticks": ""
            },
            "colorscale": [
             [
              0,
              "#0d0887"
             ],
             [
              0.1111111111111111,
              "#46039f"
             ],
             [
              0.2222222222222222,
              "#7201a8"
             ],
             [
              0.3333333333333333,
              "#9c179e"
             ],
             [
              0.4444444444444444,
              "#bd3786"
             ],
             [
              0.5555555555555556,
              "#d8576b"
             ],
             [
              0.6666666666666666,
              "#ed7953"
             ],
             [
              0.7777777777777778,
              "#fb9f3a"
             ],
             [
              0.8888888888888888,
              "#fdca26"
             ],
             [
              1,
              "#f0f921"
             ]
            ],
            "type": "heatmap"
           }
          ],
          "heatmapgl": [
           {
            "colorbar": {
             "outlinewidth": 0,
             "ticks": ""
            },
            "colorscale": [
             [
              0,
              "#0d0887"
             ],
             [
              0.1111111111111111,
              "#46039f"
             ],
             [
              0.2222222222222222,
              "#7201a8"
             ],
             [
              0.3333333333333333,
              "#9c179e"
             ],
             [
              0.4444444444444444,
              "#bd3786"
             ],
             [
              0.5555555555555556,
              "#d8576b"
             ],
             [
              0.6666666666666666,
              "#ed7953"
             ],
             [
              0.7777777777777778,
              "#fb9f3a"
             ],
             [
              0.8888888888888888,
              "#fdca26"
             ],
             [
              1,
              "#f0f921"
             ]
            ],
            "type": "heatmapgl"
           }
          ],
          "histogram": [
           {
            "marker": {
             "pattern": {
              "fillmode": "overlay",
              "size": 10,
              "solidity": 0.2
             }
            },
            "type": "histogram"
           }
          ],
          "histogram2d": [
           {
            "colorbar": {
             "outlinewidth": 0,
             "ticks": ""
            },
            "colorscale": [
             [
              0,
              "#0d0887"
             ],
             [
              0.1111111111111111,
              "#46039f"
             ],
             [
              0.2222222222222222,
              "#7201a8"
             ],
             [
              0.3333333333333333,
              "#9c179e"
             ],
             [
              0.4444444444444444,
              "#bd3786"
             ],
             [
              0.5555555555555556,
              "#d8576b"
             ],
             [
              0.6666666666666666,
              "#ed7953"
             ],
             [
              0.7777777777777778,
              "#fb9f3a"
             ],
             [
              0.8888888888888888,
              "#fdca26"
             ],
             [
              1,
              "#f0f921"
             ]
            ],
            "type": "histogram2d"
           }
          ],
          "histogram2dcontour": [
           {
            "colorbar": {
             "outlinewidth": 0,
             "ticks": ""
            },
            "colorscale": [
             [
              0,
              "#0d0887"
             ],
             [
              0.1111111111111111,
              "#46039f"
             ],
             [
              0.2222222222222222,
              "#7201a8"
             ],
             [
              0.3333333333333333,
              "#9c179e"
             ],
             [
              0.4444444444444444,
              "#bd3786"
             ],
             [
              0.5555555555555556,
              "#d8576b"
             ],
             [
              0.6666666666666666,
              "#ed7953"
             ],
             [
              0.7777777777777778,
              "#fb9f3a"
             ],
             [
              0.8888888888888888,
              "#fdca26"
             ],
             [
              1,
              "#f0f921"
             ]
            ],
            "type": "histogram2dcontour"
           }
          ],
          "mesh3d": [
           {
            "colorbar": {
             "outlinewidth": 0,
             "ticks": ""
            },
            "type": "mesh3d"
           }
          ],
          "parcoords": [
           {
            "line": {
             "colorbar": {
              "outlinewidth": 0,
              "ticks": ""
             }
            },
            "type": "parcoords"
           }
          ],
          "pie": [
           {
            "automargin": true,
            "type": "pie"
           }
          ],
          "scatter": [
           {
            "fillpattern": {
             "fillmode": "overlay",
             "size": 10,
             "solidity": 0.2
            },
            "type": "scatter"
           }
          ],
          "scatter3d": [
           {
            "line": {
             "colorbar": {
              "outlinewidth": 0,
              "ticks": ""
             }
            },
            "marker": {
             "colorbar": {
              "outlinewidth": 0,
              "ticks": ""
             }
            },
            "type": "scatter3d"
           }
          ],
          "scattercarpet": [
           {
            "marker": {
             "colorbar": {
              "outlinewidth": 0,
              "ticks": ""
             }
            },
            "type": "scattercarpet"
           }
          ],
          "scattergeo": [
           {
            "marker": {
             "colorbar": {
              "outlinewidth": 0,
              "ticks": ""
             }
            },
            "type": "scattergeo"
           }
          ],
          "scattergl": [
           {
            "marker": {
             "colorbar": {
              "outlinewidth": 0,
              "ticks": ""
             }
            },
            "type": "scattergl"
           }
          ],
          "scattermapbox": [
           {
            "marker": {
             "colorbar": {
              "outlinewidth": 0,
              "ticks": ""
             }
            },
            "type": "scattermapbox"
           }
          ],
          "scatterpolar": [
           {
            "marker": {
             "colorbar": {
              "outlinewidth": 0,
              "ticks": ""
             }
            },
            "type": "scatterpolar"
           }
          ],
          "scatterpolargl": [
           {
            "marker": {
             "colorbar": {
              "outlinewidth": 0,
              "ticks": ""
             }
            },
            "type": "scatterpolargl"
           }
          ],
          "scatterternary": [
           {
            "marker": {
             "colorbar": {
              "outlinewidth": 0,
              "ticks": ""
             }
            },
            "type": "scatterternary"
           }
          ],
          "surface": [
           {
            "colorbar": {
             "outlinewidth": 0,
             "ticks": ""
            },
            "colorscale": [
             [
              0,
              "#0d0887"
             ],
             [
              0.1111111111111111,
              "#46039f"
             ],
             [
              0.2222222222222222,
              "#7201a8"
             ],
             [
              0.3333333333333333,
              "#9c179e"
             ],
             [
              0.4444444444444444,
              "#bd3786"
             ],
             [
              0.5555555555555556,
              "#d8576b"
             ],
             [
              0.6666666666666666,
              "#ed7953"
             ],
             [
              0.7777777777777778,
              "#fb9f3a"
             ],
             [
              0.8888888888888888,
              "#fdca26"
             ],
             [
              1,
              "#f0f921"
             ]
            ],
            "type": "surface"
           }
          ],
          "table": [
           {
            "cells": {
             "fill": {
              "color": "#EBF0F8"
             },
             "line": {
              "color": "white"
             }
            },
            "header": {
             "fill": {
              "color": "#C8D4E3"
             },
             "line": {
              "color": "white"
             }
            },
            "type": "table"
           }
          ]
         },
         "layout": {
          "annotationdefaults": {
           "arrowcolor": "#2a3f5f",
           "arrowhead": 0,
           "arrowwidth": 1
          },
          "autotypenumbers": "strict",
          "coloraxis": {
           "colorbar": {
            "outlinewidth": 0,
            "ticks": ""
           }
          },
          "colorscale": {
           "diverging": [
            [
             0,
             "#8e0152"
            ],
            [
             0.1,
             "#c51b7d"
            ],
            [
             0.2,
             "#de77ae"
            ],
            [
             0.3,
             "#f1b6da"
            ],
            [
             0.4,
             "#fde0ef"
            ],
            [
             0.5,
             "#f7f7f7"
            ],
            [
             0.6,
             "#e6f5d0"
            ],
            [
             0.7,
             "#b8e186"
            ],
            [
             0.8,
             "#7fbc41"
            ],
            [
             0.9,
             "#4d9221"
            ],
            [
             1,
             "#276419"
            ]
           ],
           "sequential": [
            [
             0,
             "#0d0887"
            ],
            [
             0.1111111111111111,
             "#46039f"
            ],
            [
             0.2222222222222222,
             "#7201a8"
            ],
            [
             0.3333333333333333,
             "#9c179e"
            ],
            [
             0.4444444444444444,
             "#bd3786"
            ],
            [
             0.5555555555555556,
             "#d8576b"
            ],
            [
             0.6666666666666666,
             "#ed7953"
            ],
            [
             0.7777777777777778,
             "#fb9f3a"
            ],
            [
             0.8888888888888888,
             "#fdca26"
            ],
            [
             1,
             "#f0f921"
            ]
           ],
           "sequentialminus": [
            [
             0,
             "#0d0887"
            ],
            [
             0.1111111111111111,
             "#46039f"
            ],
            [
             0.2222222222222222,
             "#7201a8"
            ],
            [
             0.3333333333333333,
             "#9c179e"
            ],
            [
             0.4444444444444444,
             "#bd3786"
            ],
            [
             0.5555555555555556,
             "#d8576b"
            ],
            [
             0.6666666666666666,
             "#ed7953"
            ],
            [
             0.7777777777777778,
             "#fb9f3a"
            ],
            [
             0.8888888888888888,
             "#fdca26"
            ],
            [
             1,
             "#f0f921"
            ]
           ]
          },
          "colorway": [
           "#636efa",
           "#EF553B",
           "#00cc96",
           "#ab63fa",
           "#FFA15A",
           "#19d3f3",
           "#FF6692",
           "#B6E880",
           "#FF97FF",
           "#FECB52"
          ],
          "font": {
           "color": "#2a3f5f"
          },
          "geo": {
           "bgcolor": "white",
           "lakecolor": "white",
           "landcolor": "#E5ECF6",
           "showlakes": true,
           "showland": true,
           "subunitcolor": "white"
          },
          "hoverlabel": {
           "align": "left"
          },
          "hovermode": "closest",
          "mapbox": {
           "style": "light"
          },
          "paper_bgcolor": "white",
          "plot_bgcolor": "#E5ECF6",
          "polar": {
           "angularaxis": {
            "gridcolor": "white",
            "linecolor": "white",
            "ticks": ""
           },
           "bgcolor": "#E5ECF6",
           "radialaxis": {
            "gridcolor": "white",
            "linecolor": "white",
            "ticks": ""
           }
          },
          "scene": {
           "xaxis": {
            "backgroundcolor": "#E5ECF6",
            "gridcolor": "white",
            "gridwidth": 2,
            "linecolor": "white",
            "showbackground": true,
            "ticks": "",
            "zerolinecolor": "white"
           },
           "yaxis": {
            "backgroundcolor": "#E5ECF6",
            "gridcolor": "white",
            "gridwidth": 2,
            "linecolor": "white",
            "showbackground": true,
            "ticks": "",
            "zerolinecolor": "white"
           },
           "zaxis": {
            "backgroundcolor": "#E5ECF6",
            "gridcolor": "white",
            "gridwidth": 2,
            "linecolor": "white",
            "showbackground": true,
            "ticks": "",
            "zerolinecolor": "white"
           }
          },
          "shapedefaults": {
           "line": {
            "color": "#2a3f5f"
           }
          },
          "ternary": {
           "aaxis": {
            "gridcolor": "white",
            "linecolor": "white",
            "ticks": ""
           },
           "baxis": {
            "gridcolor": "white",
            "linecolor": "white",
            "ticks": ""
           },
           "bgcolor": "#E5ECF6",
           "caxis": {
            "gridcolor": "white",
            "linecolor": "white",
            "ticks": ""
           }
          },
          "title": {
           "x": 0.05
          },
          "xaxis": {
           "automargin": true,
           "gridcolor": "white",
           "linecolor": "white",
           "ticks": "",
           "title": {
            "standoff": 15
           },
           "zerolinecolor": "white",
           "zerolinewidth": 2
          },
          "yaxis": {
           "automargin": true,
           "gridcolor": "white",
           "linecolor": "white",
           "ticks": "",
           "title": {
            "standoff": 15
           },
           "zerolinecolor": "white",
           "zerolinewidth": 2
          }
         }
        },
        "title": {
         "font": {
          "color": "white",
          "family": "sans-serif"
         },
         "text": "Plagiarism Status"
        },
        "width": 400
       }
      }
     },
     "metadata": {},
     "output_type": "display_data"
    }
   ],
   "source": [
    "figP1.show()"
   ]
  },
  {
   "cell_type": "code",
   "execution_count": 47,
   "metadata": {},
   "outputs": [
    {
     "data": {
      "application/vnd.plotly.v1+json": {
       "config": {
        "plotlyServerURL": "https://plot.ly"
       },
       "data": [
        {
         "domain": {
          "x": [
           0,
           1
          ],
          "y": [
           0,
           1
          ]
         },
         "hole": 0.5,
         "hovertemplate": "Source=%{label}<br>No. of Words=%{value}<extra></extra>",
         "labels": [
          "Unplagiarised",
          "Applications of neural networks and deep learning to biomedical engineering.pdf",
          "Is it possible to develop quantum computing in Venezuela.pdf",
          "The Nuclear Mirage.pdf"
         ],
         "legendgroup": "",
         "name": "",
         "showlegend": true,
         "type": "pie",
         "values": [
          475,
          109,
          208,
          228
         ]
        }
       ],
       "layout": {
        "font": {
         "color": "cyan",
         "family": "sans-serif"
        },
        "height": 400,
        "legend": {
         "title": {
          "font": {
           "color": "cyan"
          }
         },
         "tracegroupgap": 0
        },
        "margin": {
         "b": 0,
         "l": 0,
         "r": 0,
         "t": 40
        },
        "paper_bgcolor": "#000000",
        "piecolorway": [
         "rgb(255,0,0)",
         "rgb(255,111,0)",
         "rgb(255,234,0)",
         "rgb(151,255,0)",
         "rgb(44,255,150)",
         "rgb(0,152,255)",
         "rgb(0,25,255)",
         "rgb(0,0,200)",
         "rgb(150,0,90)"
        ],
        "template": {
         "data": {
          "bar": [
           {
            "error_x": {
             "color": "#2a3f5f"
            },
            "error_y": {
             "color": "#2a3f5f"
            },
            "marker": {
             "line": {
              "color": "#E5ECF6",
              "width": 0.5
             },
             "pattern": {
              "fillmode": "overlay",
              "size": 10,
              "solidity": 0.2
             }
            },
            "type": "bar"
           }
          ],
          "barpolar": [
           {
            "marker": {
             "line": {
              "color": "#E5ECF6",
              "width": 0.5
             },
             "pattern": {
              "fillmode": "overlay",
              "size": 10,
              "solidity": 0.2
             }
            },
            "type": "barpolar"
           }
          ],
          "carpet": [
           {
            "aaxis": {
             "endlinecolor": "#2a3f5f",
             "gridcolor": "white",
             "linecolor": "white",
             "minorgridcolor": "white",
             "startlinecolor": "#2a3f5f"
            },
            "baxis": {
             "endlinecolor": "#2a3f5f",
             "gridcolor": "white",
             "linecolor": "white",
             "minorgridcolor": "white",
             "startlinecolor": "#2a3f5f"
            },
            "type": "carpet"
           }
          ],
          "choropleth": [
           {
            "colorbar": {
             "outlinewidth": 0,
             "ticks": ""
            },
            "type": "choropleth"
           }
          ],
          "contour": [
           {
            "colorbar": {
             "outlinewidth": 0,
             "ticks": ""
            },
            "colorscale": [
             [
              0,
              "#0d0887"
             ],
             [
              0.1111111111111111,
              "#46039f"
             ],
             [
              0.2222222222222222,
              "#7201a8"
             ],
             [
              0.3333333333333333,
              "#9c179e"
             ],
             [
              0.4444444444444444,
              "#bd3786"
             ],
             [
              0.5555555555555556,
              "#d8576b"
             ],
             [
              0.6666666666666666,
              "#ed7953"
             ],
             [
              0.7777777777777778,
              "#fb9f3a"
             ],
             [
              0.8888888888888888,
              "#fdca26"
             ],
             [
              1,
              "#f0f921"
             ]
            ],
            "type": "contour"
           }
          ],
          "contourcarpet": [
           {
            "colorbar": {
             "outlinewidth": 0,
             "ticks": ""
            },
            "type": "contourcarpet"
           }
          ],
          "heatmap": [
           {
            "colorbar": {
             "outlinewidth": 0,
             "ticks": ""
            },
            "colorscale": [
             [
              0,
              "#0d0887"
             ],
             [
              0.1111111111111111,
              "#46039f"
             ],
             [
              0.2222222222222222,
              "#7201a8"
             ],
             [
              0.3333333333333333,
              "#9c179e"
             ],
             [
              0.4444444444444444,
              "#bd3786"
             ],
             [
              0.5555555555555556,
              "#d8576b"
             ],
             [
              0.6666666666666666,
              "#ed7953"
             ],
             [
              0.7777777777777778,
              "#fb9f3a"
             ],
             [
              0.8888888888888888,
              "#fdca26"
             ],
             [
              1,
              "#f0f921"
             ]
            ],
            "type": "heatmap"
           }
          ],
          "heatmapgl": [
           {
            "colorbar": {
             "outlinewidth": 0,
             "ticks": ""
            },
            "colorscale": [
             [
              0,
              "#0d0887"
             ],
             [
              0.1111111111111111,
              "#46039f"
             ],
             [
              0.2222222222222222,
              "#7201a8"
             ],
             [
              0.3333333333333333,
              "#9c179e"
             ],
             [
              0.4444444444444444,
              "#bd3786"
             ],
             [
              0.5555555555555556,
              "#d8576b"
             ],
             [
              0.6666666666666666,
              "#ed7953"
             ],
             [
              0.7777777777777778,
              "#fb9f3a"
             ],
             [
              0.8888888888888888,
              "#fdca26"
             ],
             [
              1,
              "#f0f921"
             ]
            ],
            "type": "heatmapgl"
           }
          ],
          "histogram": [
           {
            "marker": {
             "pattern": {
              "fillmode": "overlay",
              "size": 10,
              "solidity": 0.2
             }
            },
            "type": "histogram"
           }
          ],
          "histogram2d": [
           {
            "colorbar": {
             "outlinewidth": 0,
             "ticks": ""
            },
            "colorscale": [
             [
              0,
              "#0d0887"
             ],
             [
              0.1111111111111111,
              "#46039f"
             ],
             [
              0.2222222222222222,
              "#7201a8"
             ],
             [
              0.3333333333333333,
              "#9c179e"
             ],
             [
              0.4444444444444444,
              "#bd3786"
             ],
             [
              0.5555555555555556,
              "#d8576b"
             ],
             [
              0.6666666666666666,
              "#ed7953"
             ],
             [
              0.7777777777777778,
              "#fb9f3a"
             ],
             [
              0.8888888888888888,
              "#fdca26"
             ],
             [
              1,
              "#f0f921"
             ]
            ],
            "type": "histogram2d"
           }
          ],
          "histogram2dcontour": [
           {
            "colorbar": {
             "outlinewidth": 0,
             "ticks": ""
            },
            "colorscale": [
             [
              0,
              "#0d0887"
             ],
             [
              0.1111111111111111,
              "#46039f"
             ],
             [
              0.2222222222222222,
              "#7201a8"
             ],
             [
              0.3333333333333333,
              "#9c179e"
             ],
             [
              0.4444444444444444,
              "#bd3786"
             ],
             [
              0.5555555555555556,
              "#d8576b"
             ],
             [
              0.6666666666666666,
              "#ed7953"
             ],
             [
              0.7777777777777778,
              "#fb9f3a"
             ],
             [
              0.8888888888888888,
              "#fdca26"
             ],
             [
              1,
              "#f0f921"
             ]
            ],
            "type": "histogram2dcontour"
           }
          ],
          "mesh3d": [
           {
            "colorbar": {
             "outlinewidth": 0,
             "ticks": ""
            },
            "type": "mesh3d"
           }
          ],
          "parcoords": [
           {
            "line": {
             "colorbar": {
              "outlinewidth": 0,
              "ticks": ""
             }
            },
            "type": "parcoords"
           }
          ],
          "pie": [
           {
            "automargin": true,
            "type": "pie"
           }
          ],
          "scatter": [
           {
            "fillpattern": {
             "fillmode": "overlay",
             "size": 10,
             "solidity": 0.2
            },
            "type": "scatter"
           }
          ],
          "scatter3d": [
           {
            "line": {
             "colorbar": {
              "outlinewidth": 0,
              "ticks": ""
             }
            },
            "marker": {
             "colorbar": {
              "outlinewidth": 0,
              "ticks": ""
             }
            },
            "type": "scatter3d"
           }
          ],
          "scattercarpet": [
           {
            "marker": {
             "colorbar": {
              "outlinewidth": 0,
              "ticks": ""
             }
            },
            "type": "scattercarpet"
           }
          ],
          "scattergeo": [
           {
            "marker": {
             "colorbar": {
              "outlinewidth": 0,
              "ticks": ""
             }
            },
            "type": "scattergeo"
           }
          ],
          "scattergl": [
           {
            "marker": {
             "colorbar": {
              "outlinewidth": 0,
              "ticks": ""
             }
            },
            "type": "scattergl"
           }
          ],
          "scattermapbox": [
           {
            "marker": {
             "colorbar": {
              "outlinewidth": 0,
              "ticks": ""
             }
            },
            "type": "scattermapbox"
           }
          ],
          "scatterpolar": [
           {
            "marker": {
             "colorbar": {
              "outlinewidth": 0,
              "ticks": ""
             }
            },
            "type": "scatterpolar"
           }
          ],
          "scatterpolargl": [
           {
            "marker": {
             "colorbar": {
              "outlinewidth": 0,
              "ticks": ""
             }
            },
            "type": "scatterpolargl"
           }
          ],
          "scatterternary": [
           {
            "marker": {
             "colorbar": {
              "outlinewidth": 0,
              "ticks": ""
             }
            },
            "type": "scatterternary"
           }
          ],
          "surface": [
           {
            "colorbar": {
             "outlinewidth": 0,
             "ticks": ""
            },
            "colorscale": [
             [
              0,
              "#0d0887"
             ],
             [
              0.1111111111111111,
              "#46039f"
             ],
             [
              0.2222222222222222,
              "#7201a8"
             ],
             [
              0.3333333333333333,
              "#9c179e"
             ],
             [
              0.4444444444444444,
              "#bd3786"
             ],
             [
              0.5555555555555556,
              "#d8576b"
             ],
             [
              0.6666666666666666,
              "#ed7953"
             ],
             [
              0.7777777777777778,
              "#fb9f3a"
             ],
             [
              0.8888888888888888,
              "#fdca26"
             ],
             [
              1,
              "#f0f921"
             ]
            ],
            "type": "surface"
           }
          ],
          "table": [
           {
            "cells": {
             "fill": {
              "color": "#EBF0F8"
             },
             "line": {
              "color": "white"
             }
            },
            "header": {
             "fill": {
              "color": "#C8D4E3"
             },
             "line": {
              "color": "white"
             }
            },
            "type": "table"
           }
          ]
         },
         "layout": {
          "annotationdefaults": {
           "arrowcolor": "#2a3f5f",
           "arrowhead": 0,
           "arrowwidth": 1
          },
          "autotypenumbers": "strict",
          "coloraxis": {
           "colorbar": {
            "outlinewidth": 0,
            "ticks": ""
           }
          },
          "colorscale": {
           "diverging": [
            [
             0,
             "#8e0152"
            ],
            [
             0.1,
             "#c51b7d"
            ],
            [
             0.2,
             "#de77ae"
            ],
            [
             0.3,
             "#f1b6da"
            ],
            [
             0.4,
             "#fde0ef"
            ],
            [
             0.5,
             "#f7f7f7"
            ],
            [
             0.6,
             "#e6f5d0"
            ],
            [
             0.7,
             "#b8e186"
            ],
            [
             0.8,
             "#7fbc41"
            ],
            [
             0.9,
             "#4d9221"
            ],
            [
             1,
             "#276419"
            ]
           ],
           "sequential": [
            [
             0,
             "#0d0887"
            ],
            [
             0.1111111111111111,
             "#46039f"
            ],
            [
             0.2222222222222222,
             "#7201a8"
            ],
            [
             0.3333333333333333,
             "#9c179e"
            ],
            [
             0.4444444444444444,
             "#bd3786"
            ],
            [
             0.5555555555555556,
             "#d8576b"
            ],
            [
             0.6666666666666666,
             "#ed7953"
            ],
            [
             0.7777777777777778,
             "#fb9f3a"
            ],
            [
             0.8888888888888888,
             "#fdca26"
            ],
            [
             1,
             "#f0f921"
            ]
           ],
           "sequentialminus": [
            [
             0,
             "#0d0887"
            ],
            [
             0.1111111111111111,
             "#46039f"
            ],
            [
             0.2222222222222222,
             "#7201a8"
            ],
            [
             0.3333333333333333,
             "#9c179e"
            ],
            [
             0.4444444444444444,
             "#bd3786"
            ],
            [
             0.5555555555555556,
             "#d8576b"
            ],
            [
             0.6666666666666666,
             "#ed7953"
            ],
            [
             0.7777777777777778,
             "#fb9f3a"
            ],
            [
             0.8888888888888888,
             "#fdca26"
            ],
            [
             1,
             "#f0f921"
            ]
           ]
          },
          "colorway": [
           "#636efa",
           "#EF553B",
           "#00cc96",
           "#ab63fa",
           "#FFA15A",
           "#19d3f3",
           "#FF6692",
           "#B6E880",
           "#FF97FF",
           "#FECB52"
          ],
          "font": {
           "color": "#2a3f5f"
          },
          "geo": {
           "bgcolor": "white",
           "lakecolor": "white",
           "landcolor": "#E5ECF6",
           "showlakes": true,
           "showland": true,
           "subunitcolor": "white"
          },
          "hoverlabel": {
           "align": "left"
          },
          "hovermode": "closest",
          "mapbox": {
           "style": "light"
          },
          "paper_bgcolor": "white",
          "plot_bgcolor": "#E5ECF6",
          "polar": {
           "angularaxis": {
            "gridcolor": "white",
            "linecolor": "white",
            "ticks": ""
           },
           "bgcolor": "#E5ECF6",
           "radialaxis": {
            "gridcolor": "white",
            "linecolor": "white",
            "ticks": ""
           }
          },
          "scene": {
           "xaxis": {
            "backgroundcolor": "#E5ECF6",
            "gridcolor": "white",
            "gridwidth": 2,
            "linecolor": "white",
            "showbackground": true,
            "ticks": "",
            "zerolinecolor": "white"
           },
           "yaxis": {
            "backgroundcolor": "#E5ECF6",
            "gridcolor": "white",
            "gridwidth": 2,
            "linecolor": "white",
            "showbackground": true,
            "ticks": "",
            "zerolinecolor": "white"
           },
           "zaxis": {
            "backgroundcolor": "#E5ECF6",
            "gridcolor": "white",
            "gridwidth": 2,
            "linecolor": "white",
            "showbackground": true,
            "ticks": "",
            "zerolinecolor": "white"
           }
          },
          "shapedefaults": {
           "line": {
            "color": "#2a3f5f"
           }
          },
          "ternary": {
           "aaxis": {
            "gridcolor": "white",
            "linecolor": "white",
            "ticks": ""
           },
           "baxis": {
            "gridcolor": "white",
            "linecolor": "white",
            "ticks": ""
           },
           "bgcolor": "#E5ECF6",
           "caxis": {
            "gridcolor": "white",
            "linecolor": "white",
            "ticks": ""
           }
          },
          "title": {
           "x": 0.05
          },
          "xaxis": {
           "automargin": true,
           "gridcolor": "white",
           "linecolor": "white",
           "ticks": "",
           "title": {
            "standoff": 15
           },
           "zerolinecolor": "white",
           "zerolinewidth": 2
          },
          "yaxis": {
           "automargin": true,
           "gridcolor": "white",
           "linecolor": "white",
           "ticks": "",
           "title": {
            "standoff": 15
           },
           "zerolinecolor": "white",
           "zerolinewidth": 2
          }
         }
        },
        "title": {
         "font": {
          "color": "white",
          "family": "sans-serif"
         },
         "text": "Plagiarism Source"
        },
        "width": 800
       }
      }
     },
     "metadata": {},
     "output_type": "display_data"
    }
   ],
   "source": [
    "figP2.show()"
   ]
  },
  {
   "cell_type": "code",
   "execution_count": 48,
   "metadata": {},
   "outputs": [
    {
     "name": "stdout",
     "output_type": "stream",
     "text": [
      "╒════╤═════════════════════════════════════════════════════════════════════════════════╤════════════════╤═══════════╕\n",
      "│    │ Source                                                                          │   No. of Words │   Percent │\n",
      "╞════╪═════════════════════════════════════════════════════════════════════════════════╪════════════════╪═══════════╡\n",
      "│  0 │ Unplagiarised                                                                   │            475 │   46.5686 │\n",
      "├────┼─────────────────────────────────────────────────────────────────────────────────┼────────────────┼───────────┤\n",
      "│  1 │ Applications of neural networks and deep learning to biomedical engineering.pdf │            109 │   10.6863 │\n",
      "├────┼─────────────────────────────────────────────────────────────────────────────────┼────────────────┼───────────┤\n",
      "│  2 │ Is it possible to develop quantum computing in Venezuela.pdf                    │            208 │   20.3922 │\n",
      "├────┼─────────────────────────────────────────────────────────────────────────────────┼────────────────┼───────────┤\n",
      "│  3 │ The Nuclear Mirage.pdf                                                          │            228 │   22.3529 │\n",
      "╘════╧═════════════════════════════════════════════════════════════════════════════════╧════════════════╧═══════════╛\n"
     ]
    }
   ],
   "source": [
    "df2['Percent'] = df2['No. of Words']/sum(df2['No. of Words'])*100\n",
    "print(tabulate(df2,headers='keys',tablefmt='fancy_grid'))   "
   ]
  }
 ],
 "metadata": {
  "kernelspec": {
   "display_name": "Python 3.9.5 ('base')",
   "language": "python",
   "name": "python3"
  },
  "language_info": {
   "codemirror_mode": {
    "name": "ipython",
    "version": 3
   },
   "file_extension": ".py",
   "mimetype": "text/x-python",
   "name": "python",
   "nbconvert_exporter": "python",
   "pygments_lexer": "ipython3",
   "version": "3.9.5"
  },
  "orig_nbformat": 4,
  "vscode": {
   "interpreter": {
    "hash": "4ded07237dbfafc8373e566cfe932557d647581b6f69415d805b7b9e9b0c4bcc"
   }
  }
 },
 "nbformat": 4,
 "nbformat_minor": 2
}
