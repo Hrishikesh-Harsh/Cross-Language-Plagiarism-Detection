{
 "cells": [
  {
   "cell_type": "markdown",
   "metadata": {},
   "source": [
    "#### In this notebook, we are going to put together all the features we have built till now and upscale it\n",
    "#### (May the Force be with Us)"
   ]
  },
  {
   "cell_type": "code",
   "execution_count": 245,
   "metadata": {},
   "outputs": [],
   "source": [
    "import re\n",
    "import nltk\n",
    "from nltk.util import ngrams, pad_sequence, everygrams\n",
    "from nltk.lm import MLE, WittenBellInterpolated\n",
    "from scipy.ndimage import gaussian_filter\n",
    "import numpy as np\n",
    "import pandas as pd\n",
    "import plotly.graph_objects as go\n",
    "import plotly.express as px\n",
    "import spacy\n",
    "from zipfile import ZipFile\n",
    "from deep_translator import GoogleTranslator\n",
    "from PyPDF2 import PdfReader\n",
    "# from pdfminer.pdfinterp import PDFResourceManager, PDFPageInterpreter\n",
    "# from pdfminer.converter import TextConverter\n",
    "# from pdfminer.layout import LAParams\n",
    "# from pdfminer.pdfpage import PDFPage\n",
    "import io\n",
    "import os\n",
    "from io import StringIO"
   ]
  },
  {
   "cell_type": "markdown",
   "metadata": {},
   "source": [
    "-> preProcess(text): returns text\n",
    "\n",
    "- Remove puctuation, new lines, tabs and extra spaces.\n",
    "- Remove \"Machine Translated By Google\" tag\n",
    "- Remove the Bibliography and References Section\n"
   ]
  },
  {
   "cell_type": "code",
   "execution_count": 246,
   "metadata": {},
   "outputs": [],
   "source": [
    "def preProcess(text):\n",
    "    text = re.sub(r'[^\\w\\s]','',text)\n",
    "    text = text.replace('\\n', ' ')\n",
    "    text = text.replace('\\t', ' ')\n",
    "    text = text.replace(\"Machine Translated by Google\",' ')\n",
    "    text = re.sub(r'^https?:\\/\\/.*[\\r\\n]*', ' ', text, flags=re.MULTILINE)\n",
    "    text = \" \".join(text.split())\n",
    "\n",
    "    i = text.find('Bibliography')\n",
    "    if i != -1:\n",
    "        text = text[:i]\n",
    "    i = text.find('References')\n",
    "    if i != -1:\n",
    "        text = text[:i]\n",
    "    \n",
    "    return text"
   ]
  },
  {
   "cell_type": "markdown",
   "metadata": {},
   "source": [
    "-> extractText(fileName,start): \n",
    "- Returns extracted text from 'fileName' PDF from 'start' page"
   ]
  },
  {
   "cell_type": "code",
   "execution_count": 72,
   "metadata": {},
   "outputs": [],
   "source": [
    "def extractText(fileName,start):\n",
    "    reader = PdfReader(fileName)\n",
    "    pages = len(reader.pages)\n",
    "    story = \"\"\"\"\"\"\n",
    "\n",
    "    for i in range(start,pages):\n",
    "        page = reader.pages[i]\n",
    "        story = story + str(page.extractText())\n",
    "    return story\n"
   ]
  },
  {
   "cell_type": "markdown",
   "metadata": {},
   "source": [
    "-> extractFromZIP(zipFileName):\n",
    "- Extracts the Corpus PDFs from the specified ZIP File"
   ]
  },
  {
   "cell_type": "code",
   "execution_count": 247,
   "metadata": {},
   "outputs": [],
   "source": [
    "def extractFromZIP(zipFileName):\n",
    "    # ZIP file should be in the same folder as the .ipynb file obviously\n",
    "    # extract the zip file\n",
    "    with ZipFile(zipFileName, 'r') as zipObj:\n",
    "        zipObj.extractall()"
   ]
  },
  {
   "cell_type": "code",
   "execution_count": 249,
   "metadata": {},
   "outputs": [],
   "source": [
    "# Load the language library\n",
    "nlp = spacy.load('en_core_web_lg')"
   ]
  },
  {
   "cell_type": "markdown",
   "metadata": {},
   "source": [
    "-> createCorpus():\n",
    "- Create and Return List of Source Doc Names"
   ]
  },
  {
   "cell_type": "code",
   "execution_count": 468,
   "metadata": {},
   "outputs": [],
   "source": [
    "def createCorpus():\n",
    "    corpus = []\n",
    "    for x in os.listdir():\n",
    "        if ((x.endswith(\".pdf\") or x.endswith(\".PDF\")) and not(x.startswith(\"Sus\"))):\n",
    "            corpus.append(x)\n",
    "    return corpus"
   ]
  },
  {
   "cell_type": "markdown",
   "metadata": {},
   "source": [
    "-> createListOfCorpus(corpus):\n",
    "- Create and return list of Individual contents of the Corpus Docs"
   ]
  },
  {
   "cell_type": "code",
   "execution_count": 250,
   "metadata": {},
   "outputs": [],
   "source": [
    "def createListOfCorpus(corpus):\n",
    "    listOfCorpus = []\n",
    "    for x in range(len(corpus)):\n",
    "        text = extractText(corpus[x],1)\n",
    "        text = preProcess(text)\n",
    "        listOfCorpus.append(text)\n",
    "    return listOfCorpus"
   ]
  },
  {
   "cell_type": "markdown",
   "metadata": {},
   "source": [
    "-> createReferences(corpus):\n",
    "- Create and return dictionary of the Corpus Doc Names for mapping back Plagiarised Portions"
   ]
  },
  {
   "cell_type": "code",
   "execution_count": 292,
   "metadata": {},
   "outputs": [],
   "source": [
    "def createReferences(corpus):\n",
    "    references = {}\n",
    "    for x in range(len(corpus)):\n",
    "        references[x] = corpus[x]\n",
    "    \n",
    "    return references"
   ]
  },
  {
   "cell_type": "markdown",
   "metadata": {},
   "source": [
    "-> createVector(listOfCorpus):\n",
    "- Create and return list of vectors of the Individual contents of the Corpus Docs"
   ]
  },
  {
   "cell_type": "code",
   "execution_count": 251,
   "metadata": {},
   "outputs": [],
   "source": [
    "def createVector(listOfCorpus):\n",
    "    vector = []\n",
    "    for x in listOfCorpus:\n",
    "        vector.append(nlp(x))\n",
    "    return vector"
   ]
  },
  {
   "cell_type": "markdown",
   "metadata": {},
   "source": [
    "-> trainModel(trainingVector, n):\n",
    "- Trains model based on Witten Bell Interpolation over trainingVector (of entire Corpus combined) and n-gram value 'n'\n",
    "- Returns model"
   ]
  },
  {
   "cell_type": "code",
   "execution_count": 252,
   "metadata": {},
   "outputs": [],
   "source": [
    "def trainModel(trainingVector, n):\n",
    "    words = [w.text for w in trainingVector]\n",
    "    training_data = list(pad_sequence(words, n, \n",
    "                                    pad_left=True, \n",
    "                                    left_pad_symbol=\"<s>\"))\n",
    "    # Generate n-grams from the training data\n",
    "    ngrams = list(everygrams(training_data, max_len=n))\n",
    "    # Build n-gram language model\n",
    "    model = WittenBellInterpolated(n)\n",
    "    model.fit([ngrams],vocabulary_text=training_data)\n",
    "    return model"
   ]
  },
  {
   "cell_type": "markdown",
   "metadata": {},
   "source": [
    "-> createTestData(fileName):\n",
    "- Create the test data from the Suspicious Doc and return its vector"
   ]
  },
  {
   "cell_type": "code",
   "execution_count": 253,
   "metadata": {},
   "outputs": [],
   "source": [
    "def createTestData(fileName):\n",
    "    suspiciousText = extractText(fileName,0)\n",
    "    suspiciousText = preProcess(suspiciousText)\n",
    "    testVector = nlp(suspiciousText)\n",
    "    words = [w.text for w in testVector]\n",
    "    test_data = list(pad_sequence(words, n,\n",
    "                                pad_left=True,\n",
    "                                left_pad_symbol=\"<s>\"))\n",
    "    return test_data,testVector\n"
   ]
  },
  {
   "cell_type": "markdown",
   "metadata": {},
   "source": [
    "-> generateScores(model, test_data):\n",
    "- Get scores of probability of plagiarism on individual words based on context of neighbouring 'n' words\n",
    "- Return numpy array of those scores"
   ]
  },
  {
   "cell_type": "code",
   "execution_count": 254,
   "metadata": {},
   "outputs": [],
   "source": [
    "def generateScores(model, test_data):\n",
    "    score=[]\n",
    "    #source = []\n",
    "    # Generate score\n",
    "    for i,ele in enumerate(test_data[n-1:]):\n",
    "        s = model.score(ele,test_data[i:i+n-1])\n",
    "        score.append(s)\n",
    "\n",
    "    # Convert to numpy array\n",
    "    score_np=np.array(score)\n",
    "    return score_np"
   ]
  },
  {
   "cell_type": "markdown",
   "metadata": {},
   "source": [
    "-> generateData(width,score_np):\n",
    "- Creating another numpy array of matrix dimensions to fit in a heatmap\n",
    "- Creating source labels to label individual Plagiarised portions\n",
    "- returning diff of size b/w 1D 'a' and score_np\n"
   ]
  },
  {
   "cell_type": "code",
   "execution_count": 255,
   "metadata": {},
   "outputs": [],
   "source": [
    "def generateData(width,score_np):\n",
    "    height=np.ceil(len(score_np)/width).astype(\"int32\")\n",
    "    # source label to be used to identify original source of plagiarised portions\n",
    "    # Copy the score_np to a new array with shape (height,width)\n",
    "    a=np.zeros(width*height)\n",
    "    sourceLabel = [\"Unplagiarised\"]*(width*height)\n",
    "    a[:len(score_np)] = score_np\n",
    "\n",
    "    diff = len(a) - len(score_np)\n",
    "    # Apply gaussian filter to the array\n",
    "    a = gaussian_filter(a, sigma=1.0)\n",
    "    # Reshape to fit rectangular shape\n",
    "    a = a.reshape(-1,width)\n",
    "    return a, sourceLabel, diff"
   ]
  },
  {
   "cell_type": "markdown",
   "metadata": {},
   "source": [
    "-> getPlagPercentage(a,diff):\n",
    "- Get back the Pecentage of Plagiarism\n",
    "- Get back the indexes of the Plagiarised words"
   ]
  },
  {
   "cell_type": "code",
   "execution_count": 256,
   "metadata": {},
   "outputs": [],
   "source": [
    "def getPlagPercentage(a,diff):\n",
    "    a = a.reshape(-1)\n",
    "    plagWds = 0\n",
    "    plID=[] \n",
    "    # If a[i] > 0.62 or a[i-1]>0.58 or a[i+1]>0.58, then increase plagWds by 1\n",
    "    for i in range(0,a.shape[0]-2): \n",
    "        if a[i] > 0.62 or a[i+1]>0.60 or a[i+2]>0.60:\n",
    "            plagWds += 1\n",
    "            plID.append(i)\n",
    "\n",
    "    plagPercentage = plagWds*100/(len(a)-diff)\n",
    "\n",
    "    return plagPercentage,plID"
   ]
  },
  {
   "cell_type": "markdown",
   "metadata": {},
   "source": [
    "-> check_plagiarised(j,vecO,vecP,id,fin,plag_dict):\n",
    "- Mapping the Plagiarised portions to their Sources\n",
    "- Returns the dictionary with indexes of Plagiarised portions and their corresponding portions"
   ]
  },
  {
   "cell_type": "code",
   "execution_count": 449,
   "metadata": {},
   "outputs": [],
   "source": [
    "def check_plagiarised(j,vecO,vecP,id,fin,plag_dict):\n",
    "    for k in range(len(vecO)-3):\n",
    "        # X is Vector of the plagiarized text present between indexes id and fin\n",
    "        X1=vecP[id:id+12]\n",
    "        X2 = vecP[fin-12:fin]\n",
    "        X3 = vecP[(id+fin)//2-6:(id+fin)//2+6]\n",
    "        # Y is Vector of the original text present between indexes j and j+l\n",
    "        Y1=vecO[k:k+12]\n",
    "        # Y2 = vecO[k:k+fin-id+1]\n",
    "        \n",
    "        #Computing cosine similarity\n",
    "        sim1 = X1.similarity(Y1)\n",
    "        sim2 = X2.similarity(Y1)\n",
    "        sim3 = X3.similarity(Y1)\n",
    "\n",
    "        # If the cosine similarity is greater than 0.997, then we get a match from original text\n",
    "        if(sim1>0.995 or sim2>0.995 or sim3>0.997):\n",
    "            if(j in plag_dict):\n",
    "                a=[id,fin]\n",
    "                b=[k,k+fin-id+1]\n",
    "                plag_dict[j].append([a,b])\n",
    "            else:\n",
    "                a=[id,fin]\n",
    "                b=[k,k+fin-id+1]\n",
    "                plag_dict[j] = [[a,b]]\n",
    "            break\n",
    "    \n",
    "    return plag_dict"
   ]
  },
  {
   "cell_type": "markdown",
   "metadata": {},
   "source": [
    "-> getJumpStates(plID):\n",
    "- Returns the specific Indexes of the Plagiarised portions from the Suspicious Doc"
   ]
  },
  {
   "cell_type": "code",
   "execution_count": 258,
   "metadata": {},
   "outputs": [],
   "source": [
    "def getJumpStates(plID):\n",
    "    jumpStates=[]\n",
    "    jumpStates.append(plID[0])\n",
    "    for i in range(len(plID)):\n",
    "        if(plID[i]-plID[i-1]>11):\n",
    "            jumpStates.append(plID[i-1])\n",
    "            jumpStates.append(plID[i])\n",
    "\n",
    "    jumpStates.append(plID[-1])\n",
    "    return jumpStates"
   ]
  },
  {
   "cell_type": "markdown",
   "metadata": {},
   "source": [
    "-> getPlagDict(jumpStates,vector,testVector):\n",
    "- For each pair in the jumpStates, it adds its source to the plag_dict and returns the plag_dict after completion"
   ]
  },
  {
   "cell_type": "code",
   "execution_count": 259,
   "metadata": {},
   "outputs": [],
   "source": [
    "def getPlagDict(jumpStates,vector,testVector):\n",
    "    plag_dict = {}\n",
    "    # Fill plag_dict with the plagiarised portions\n",
    "    for i in range(0,len(jumpStates),2):\n",
    "        id=jumpStates[i]\n",
    "        fin=jumpStates[i+1]\n",
    "\n",
    "        # Checking which document the plagiarised portion belongs to\n",
    "        for j,vec in enumerate(vector):\n",
    "            plag_dict=check_plagiarised(j,vector[j],testVector,id,fin,plag_dict)\n",
    "            \n",
    "    return plag_dict"
   ]
  },
  {
   "cell_type": "markdown",
   "metadata": {},
   "source": [
    "-> populateSourceLabel(plag_dict,sourceLabel,references,width):\n",
    "- Fills the SourceLabels with the original names of the sources from which plagiarised portions have been taken"
   ]
  },
  {
   "cell_type": "code",
   "execution_count": 260,
   "metadata": {},
   "outputs": [],
   "source": [
    "def populateSourceLabel(plag_dict,sourceLabel,references,width):\n",
    "    # Iterate over plag_dict\n",
    "    for i in plag_dict:\n",
    "        v = plag_dict[i]\n",
    "        for j in v:\n",
    "            # Extracting the plagiarised portions\n",
    "            st = j[0][0]\n",
    "            en = j[0][1]\n",
    "\n",
    "            # Labelling those portions\n",
    "            sourceLabel[st:en+1] = [references[i] for x in sourceLabel[st:en+1]]\n",
    "            \n",
    "    sourceLabel = np.array(sourceLabel)\n",
    "    sourceLabel = sourceLabel.reshape(-1,width)\n",
    "    return sourceLabel"
   ]
  },
  {
   "cell_type": "markdown",
   "metadata": {},
   "source": [
    "-> createLabels(testVector,width,diff):\n",
    "- Creates the content for writing in the Heatmaps\n",
    "- Basically the entire suspicious doc"
   ]
  },
  {
   "cell_type": "code",
   "execution_count": 261,
   "metadata": {},
   "outputs": [],
   "source": [
    "def createLabels(testVector,width,diff):\n",
    "    # format labels\n",
    "    labels = [\" \".join(testVector[i:i+width].text.split()) for i in range(0, len(testVector), width)]\n",
    "    labels_individual = [x.split() for x in labels]\n",
    "    labels_individual[-1] += [\"\"]*diff\n",
    "    labels = [f\"{x:60.60}\" for x in labels]\n",
    "\n",
    "    return labels,labels_individual"
   ]
  },
  {
   "cell_type": "markdown",
   "metadata": {},
   "source": [
    "-> generateHeatMap(a,sourceLabel,width,height,labels_individual):\n",
    "- Generates heatmap to help visualise the plagiarised portions\n",
    "- Returns the created figure"
   ]
  },
  {
   "cell_type": "code",
   "execution_count": 262,
   "metadata": {},
   "outputs": [],
   "source": [
    "def generateHeatMap(a,sourceLabel,width,height,labels_individual):\n",
    "    # create heatmap of the Plagiarized Text\n",
    "    a=a.reshape(-1,width)\n",
    "    fig = go.Figure(data=go.Heatmap(\n",
    "                    z=a, x0=0, dx=1,\n",
    "                    #y=labels, \n",
    "                    zmin=0, zmax=1,\n",
    "                    customdata=sourceLabel,\n",
    "                    hovertemplate='%{customdata} <br><b>Score:%{z:.3f}<extra></extra>',\n",
    "                    text=labels_individual,\n",
    "                    texttemplate='%{text}',\n",
    "                    textfont={\"size\":7},\n",
    "                    colorscale='reds'\n",
    "                    ))\n",
    "    fig.update_layout({\"height\":height*25, \"width\":1000, \"font\":{\"family\":\"sans-serif\"}})\n",
    "    fig['layout']['yaxis']['autorange'] = \"reversed\"\n",
    "    return fig"
   ]
  },
  {
   "cell_type": "markdown",
   "metadata": {},
   "source": [
    "-> getPieLabelAndVals_1(plag_dict,plID):\n",
    "- Set and return the labels for the Pie Chart 1 which will contain overall results of Plagiarism Check\n",
    "- Set and return the values for calculating percentage values in Pie Chart"
   ]
  },
  {
   "cell_type": "code",
   "execution_count": null,
   "metadata": {},
   "outputs": [],
   "source": [
    "def getPieLabelAndVals_1(plag_dict,plID):\n",
    "    pieL1 = []\n",
    "\n",
    "    pieL1.append(\"Unplagiarised\")\n",
    "    pieL1.append(\"Plagiarised\")\n",
    "\n",
    "    pieVal1 = []\n",
    "    pieVal1.append(len(score_np)-len(plID))\n",
    "\n",
    "    # Iterate over plag_dict\n",
    "    s=0\n",
    "    for i in plag_dict:\n",
    "        v = plag_dict[i]\n",
    "        \n",
    "        for j in v:\n",
    "            # Extracting the plagiarised portions\n",
    "            st = j[0][0]\n",
    "            en = j[0][1]\n",
    "\n",
    "            s=s+en-st+1\n",
    "            \n",
    "    pieVal1.append(s)\n",
    "    return pieL1,pieVal1"
   ]
  },
  {
   "cell_type": "markdown",
   "metadata": {},
   "source": [
    "-> getPieLabelAndVals_1(plag_dict,plID,references):\n",
    "- Set and return the labels for the Pie Chart 2 which will contain detailed results of Plagiarism Check depicting percentage of Plagiarism\n",
    "    attributed to each Source\n",
    "- Set and return the values for calculating percentage values in Pie Chart 2"
   ]
  },
  {
   "cell_type": "code",
   "execution_count": 443,
   "metadata": {},
   "outputs": [],
   "source": [
    "def getPieLabelAndVals_2(plag_dict,plID,references):\n",
    "    pieL2 =[]\n",
    "    pieL2.append(\"Unplagiarised\")\n",
    "\n",
    "    for i in references:\n",
    "        pieL2.append(references[i])\n",
    "\n",
    "    pieVal2 = [0]*len(pieL2)\n",
    "    pieVal2[0]=(len(score_np)-len(plID))\n",
    "\n",
    "    # Iterate over plag_dict\n",
    "    for i in plag_dict:\n",
    "        v = plag_dict[i]\n",
    "        s=0\n",
    "        for j in v:\n",
    "            # Extracting the plagiarised portions\n",
    "            st = j[0][0]\n",
    "            en = j[0][1]\n",
    "\n",
    "            s=s+en-st+1\n",
    "        pieVal2[i+1]=s\n",
    "    \n",
    "    return pieL2,pieVal2"
   ]
  },
  {
   "cell_type": "code",
   "execution_count": 436,
   "metadata": {},
   "outputs": [
    {
     "data": {
      "text/plain": [
       "{2: [[[150, 377], [482, 710]]], 0: [[[483, 695], [1374, 1587]]]}"
      ]
     },
     "execution_count": 436,
     "metadata": {},
     "output_type": "execute_result"
    }
   ],
   "source": [
    "plag_dict"
   ]
  },
  {
   "cell_type": "markdown",
   "metadata": {},
   "source": [
    "-> createDataFrames(pieL1,pieL2,pieVal1,pieVal2):\n",
    "- Create pandas Data Frame of Labels and Values for both Pie Charts "
   ]
  },
  {
   "cell_type": "code",
   "execution_count": null,
   "metadata": {},
   "outputs": [],
   "source": [
    "def createDataFrames(pieL1,pieL2,pieVal1,pieVal2):\n",
    "    df1 = pd.DataFrame({\"Status\":pieL1,\"No. of Words\":pieVal1})\n",
    "    df2 = pd.DataFrame({\"Source\":pieL2,\"No. of Words\":pieVal2})\n",
    "    return df1,df2"
   ]
  },
  {
   "cell_type": "markdown",
   "metadata": {},
   "source": [
    "-> createPieCharts(df1,df2):\n",
    "- Create the Pie charts for both data frames with custom features for better visibility"
   ]
  },
  {
   "cell_type": "code",
   "execution_count": 409,
   "metadata": {},
   "outputs": [],
   "source": [
    "def createPieCharts(df1,df2):\n",
    "    figP1 = px.pie(df1,values='No. of Words', names='Status',\n",
    "             title = \"Plagiarism Status\",\n",
    "             color_discrete_sequence=px.colors.sequential.Bluered_r,\n",
    "             hole=0.5)\n",
    "    figP1.update_layout({\"height\":400, \"width\":400, \"font\":{\"family\":\"sans-serif\"}})\n",
    "    figP1.update_layout(paper_bgcolor=\"#000000\")\n",
    "    figP1.update_layout(\n",
    "                            font_family=\"sans-serif\",\n",
    "                            font_color=\"cyan\",\n",
    "                            title_font_family=\"sans-serif\",\n",
    "                            title_font_color=\"white\",\n",
    "                            legend_title_font_color=\"cyan\"\n",
    "                        )\n",
    "    figP1.update_layout(margin=dict(t=40, b=0, l=0, r=0))\n",
    "\n",
    "    figP2 = px.pie(df2,values='No. of Words', names='Source',\n",
    "                title = \"Plagiarism Source\",\n",
    "                color_discrete_sequence=px.colors.sequential.Rainbow_r,\n",
    "                hole=0.5)\n",
    "    figP2.update_layout({\"height\":400, \"width\":800, \"font\":{\"family\":\"sans-serif\"}})\n",
    "    figP2.update_layout(paper_bgcolor=\"#000000\")\n",
    "    figP2.update_layout(\n",
    "                            font_family=\"sans-serif\",\n",
    "                            font_color=\"cyan\",\n",
    "                            title_font_family=\"sans-serif\",\n",
    "                            title_font_color=\"white\",\n",
    "                            legend_title_font_color=\"cyan\"\n",
    "                        )\n",
    "    figP2.update_layout(margin=dict(t=40, b=0, l=0, r=0))\n",
    "\n",
    "    return figP1,figP2"
   ]
  },
  {
   "cell_type": "code",
   "execution_count": 469,
   "metadata": {},
   "outputs": [],
   "source": [
    "# Call all the functions\n",
    "extractFromZIP('Corpus.zip')\n",
    "corpus = createCorpus()\n",
    "references = createReferences(corpus)\n",
    "listOfCorpus = createListOfCorpus(corpus)\n",
    "vector = createVector(listOfCorpus)"
   ]
  },
  {
   "cell_type": "code",
   "execution_count": 470,
   "metadata": {},
   "outputs": [],
   "source": [
    "megaCorpus = '\\n'.join(listOfCorpus)\n",
    "trainingVector = nlp(megaCorpus)"
   ]
  },
  {
   "cell_type": "code",
   "execution_count": 471,
   "metadata": {},
   "outputs": [],
   "source": [
    "# Value of n for n-grams\n",
    "n = 5"
   ]
  },
  {
   "cell_type": "code",
   "execution_count": 472,
   "metadata": {},
   "outputs": [],
   "source": [
    "# Call function to train the model\n",
    "model = trainModel(trainingVector,n)\n"
   ]
  },
  {
   "cell_type": "code",
   "execution_count": 473,
   "metadata": {},
   "outputs": [],
   "source": [
    "test_data,testVector = createTestData(\"Suspicious Doc.pdf\")"
   ]
  },
  {
   "cell_type": "code",
   "execution_count": 474,
   "metadata": {},
   "outputs": [],
   "source": [
    "score_np = generateScores(model,test_data)"
   ]
  },
  {
   "cell_type": "code",
   "execution_count": 475,
   "metadata": {},
   "outputs": [],
   "source": [
    "# Keeping width = 22 for readability\n",
    "a,sourceLabel,diff = generateData(22,score_np)"
   ]
  },
  {
   "cell_type": "code",
   "execution_count": 476,
   "metadata": {},
   "outputs": [],
   "source": [
    "plagPercentage,plID = getPlagPercentage(a,diff)"
   ]
  },
  {
   "cell_type": "code",
   "execution_count": 477,
   "metadata": {},
   "outputs": [],
   "source": [
    "jumpStates = getJumpStates(plID)"
   ]
  },
  {
   "cell_type": "code",
   "execution_count": 478,
   "metadata": {},
   "outputs": [],
   "source": [
    "plag_dict = getPlagDict(jumpStates,vector,testVector)"
   ]
  },
  {
   "cell_type": "code",
   "execution_count": 479,
   "metadata": {},
   "outputs": [],
   "source": [
    "sourceLabel = populateSourceLabel(plag_dict,sourceLabel,references,22)"
   ]
  },
  {
   "cell_type": "code",
   "execution_count": 480,
   "metadata": {},
   "outputs": [],
   "source": [
    "labels,labels_individual = createLabels(testVector,22,diff)"
   ]
  },
  {
   "cell_type": "code",
   "execution_count": 481,
   "metadata": {},
   "outputs": [],
   "source": [
    "height = np.ceil(len(score_np)/22).astype(\"int32\")\n",
    "fig = generateHeatMap(a,sourceLabel,22,height,labels_individual)"
   ]
  },
  {
   "cell_type": "code",
   "execution_count": 482,
   "metadata": {},
   "outputs": [],
   "source": [
    "pieL1,pieVal1 = getPieLabelAndVals_1(plag_dict,plID)\n",
    "pieL2,pieVal2 = getPieLabelAndVals_2(plag_dict,plID,references)"
   ]
  },
  {
   "cell_type": "code",
   "execution_count": 483,
   "metadata": {},
   "outputs": [],
   "source": [
    "df1,df2 = createDataFrames(pieL1,pieL2,pieVal1,pieVal2)\n",
    "figP1,figP2 = createPieCharts(df1,df2)"
   ]
  },
  {
   "cell_type": "code",
   "execution_count": 484,
   "metadata": {},
   "outputs": [
    {
     "data": {
      "application/vnd.plotly.v1+json": {
       "config": {
        "plotlyServerURL": "https://plot.ly"
       },
       "data": [
        {
         "colorscale": [
          [
           0,
           "rgb(255,245,240)"
          ],
          [
           0.125,
           "rgb(254,224,210)"
          ],
          [
           0.25,
           "rgb(252,187,161)"
          ],
          [
           0.375,
           "rgb(252,146,114)"
          ],
          [
           0.5,
           "rgb(251,106,74)"
          ],
          [
           0.625,
           "rgb(239,59,44)"
          ],
          [
           0.75,
           "rgb(203,24,29)"
          ],
          [
           0.875,
           "rgb(165,15,21)"
          ],
          [
           1,
           "rgb(103,0,13)"
          ]
         ],
         "customdata": [
          [
           "Unplagiarised",
           "Unplagiarised",
           "Unplagiarised",
           "Unplagiarised",
           "Unplagiarised",
           "Unplagiarised",
           "Unplagiarised",
           "Unplagiarised",
           "Unplagiarised",
           "Unplagiarised",
           "Unplagiarised",
           "Unplagiarised",
           "Unplagiarised",
           "Unplagiarised",
           "Unplagiarised",
           "Unplagiarised",
           "Unplagiarised",
           "Unplagiarised",
           "Unplagiarised",
           "Unplagiarised",
           "Unplagiarised",
           "Unplagiarised"
          ],
          [
           "Unplagiarised",
           "Unplagiarised",
           "Unplagiarised",
           "Unplagiarised",
           "Unplagiarised",
           "Unplagiarised",
           "Unplagiarised",
           "Unplagiarised",
           "Unplagiarised",
           "Unplagiarised",
           "Unplagiarised",
           "Unplagiarised",
           "Unplagiarised",
           "Unplagiarised",
           "Unplagiarised",
           "Unplagiarised",
           "Unplagiarised",
           "Unplagiarised",
           "Unplagiarised",
           "Unplagiarised",
           "Unplagiarised",
           "Unplagiarised"
          ],
          [
           "Unplagiarised",
           "Unplagiarised",
           "Unplagiarised",
           "Unplagiarised",
           "Unplagiarised",
           "Unplagiarised",
           "Unplagiarised",
           "Unplagiarised",
           "Unplagiarised",
           "Unplagiarised",
           "Unplagiarised",
           "Unplagiarised",
           "Unplagiarised",
           "Unplagiarised",
           "Unplagiarised",
           "Unplagiarised",
           "Unplagiarised",
           "Unplagiarised",
           "Unplagiarised",
           "Unplagiarised",
           "Unplagiarised",
           "Unplagiarised"
          ],
          [
           "Unplagiarised",
           "Unplagiarised",
           "Unplagiarised",
           "Unplagiarised",
           "Unplagiarised",
           "Unplagiarised",
           "Unplagiarised",
           "Unplagiarised",
           "Unplagiarised",
           "Unplagiarised",
           "Unplagiarised",
           "Unplagiarised",
           "Unplagiarised",
           "Unplagiarised",
           "Unplagiarised",
           "Unplagiarised",
           "Unplagiarised",
           "Unplagiarised",
           "Unplagiarised",
           "Unplagiarised",
           "Unplagiarised",
           "Unplagiarised"
          ],
          [
           "Unplagiarised",
           "Unplagiarised",
           "Unplagiarised",
           "Unplagiarised",
           "Unplagiarised",
           "Unplagiarised",
           "Unplagiarised",
           "Unplagiarised",
           "Unplagiarised",
           "Unplagiarised",
           "Unplagiarised",
           "Unplagiarised",
           "Unplagiarised",
           "Unplagiarised",
           "Unplagiarised",
           "Unplagiarised",
           "Unplagiarised",
           "Unplagiarised",
           "Unplagiarised",
           "Unplagiarised",
           "Unplagiarised",
           "Unplagiarised"
          ],
          [
           "Unplagiarised",
           "Unplagiarised",
           "Unplagiarised",
           "Unplagiarised",
           "Unplagiarised",
           "Unplagiarised",
           "Unplagiarised",
           "Unplagiarised",
           "Unplagiarised",
           "Unplagiarised",
           "Unplagiarised",
           "Unplagiarised",
           "Unplagiarised",
           "Unplagiarised",
           "Unplagiarised",
           "Unplagiarised",
           "Unplagiarised",
           "Unplagiarised",
           "Unplagiarised",
           "Unplagiarised",
           "Unplagiarised",
           "Unplagiarised"
          ],
          [
           "Unplagiarised",
           "Unplagiarised",
           "Unplagiarised",
           "Unplagiarised",
           "Unplagiarised",
           "Unplagiarised",
           "Unplagiarised",
           "Unplagiarised",
           "Unplagiarised",
           "Unplagiarised",
           "Unplagiarised",
           "Unplagiarised",
           "Unplagiarised",
           "Unplagiarised",
           "Unplagiarised",
           "Unplagiarised",
           "Unplagiarised",
           "Unplagiarised",
           "Unplagiarised",
           "The Nuclear Mirage.pdf",
           "The Nuclear Mirage.pdf",
           "The Nuclear Mirage.pdf"
          ],
          [
           "The Nuclear Mirage.pdf",
           "The Nuclear Mirage.pdf",
           "The Nuclear Mirage.pdf",
           "The Nuclear Mirage.pdf",
           "The Nuclear Mirage.pdf",
           "The Nuclear Mirage.pdf",
           "The Nuclear Mirage.pdf",
           "The Nuclear Mirage.pdf",
           "The Nuclear Mirage.pdf",
           "The Nuclear Mirage.pdf",
           "The Nuclear Mirage.pdf",
           "The Nuclear Mirage.pdf",
           "The Nuclear Mirage.pdf",
           "The Nuclear Mirage.pdf",
           "The Nuclear Mirage.pdf",
           "The Nuclear Mirage.pdf",
           "The Nuclear Mirage.pdf",
           "The Nuclear Mirage.pdf",
           "The Nuclear Mirage.pdf",
           "The Nuclear Mirage.pdf",
           "The Nuclear Mirage.pdf",
           "The Nuclear Mirage.pdf"
          ],
          [
           "The Nuclear Mirage.pdf",
           "The Nuclear Mirage.pdf",
           "The Nuclear Mirage.pdf",
           "The Nuclear Mirage.pdf",
           "The Nuclear Mirage.pdf",
           "The Nuclear Mirage.pdf",
           "The Nuclear Mirage.pdf",
           "The Nuclear Mirage.pdf",
           "The Nuclear Mirage.pdf",
           "The Nuclear Mirage.pdf",
           "The Nuclear Mirage.pdf",
           "The Nuclear Mirage.pdf",
           "The Nuclear Mirage.pdf",
           "The Nuclear Mirage.pdf",
           "The Nuclear Mirage.pdf",
           "The Nuclear Mirage.pdf",
           "The Nuclear Mirage.pdf",
           "The Nuclear Mirage.pdf",
           "The Nuclear Mirage.pdf",
           "The Nuclear Mirage.pdf",
           "The Nuclear Mirage.pdf",
           "The Nuclear Mirage.pdf"
          ],
          [
           "The Nuclear Mirage.pdf",
           "The Nuclear Mirage.pdf",
           "The Nuclear Mirage.pdf",
           "The Nuclear Mirage.pdf",
           "The Nuclear Mirage.pdf",
           "The Nuclear Mirage.pdf",
           "The Nuclear Mirage.pdf",
           "The Nuclear Mirage.pdf",
           "The Nuclear Mirage.pdf",
           "The Nuclear Mirage.pdf",
           "The Nuclear Mirage.pdf",
           "The Nuclear Mirage.pdf",
           "The Nuclear Mirage.pdf",
           "The Nuclear Mirage.pdf",
           "The Nuclear Mirage.pdf",
           "The Nuclear Mirage.pdf",
           "The Nuclear Mirage.pdf",
           "The Nuclear Mirage.pdf",
           "The Nuclear Mirage.pdf",
           "The Nuclear Mirage.pdf",
           "The Nuclear Mirage.pdf",
           "The Nuclear Mirage.pdf"
          ],
          [
           "The Nuclear Mirage.pdf",
           "The Nuclear Mirage.pdf",
           "The Nuclear Mirage.pdf",
           "The Nuclear Mirage.pdf",
           "The Nuclear Mirage.pdf",
           "The Nuclear Mirage.pdf",
           "The Nuclear Mirage.pdf",
           "The Nuclear Mirage.pdf",
           "The Nuclear Mirage.pdf",
           "The Nuclear Mirage.pdf",
           "The Nuclear Mirage.pdf",
           "The Nuclear Mirage.pdf",
           "The Nuclear Mirage.pdf",
           "The Nuclear Mirage.pdf",
           "The Nuclear Mirage.pdf",
           "The Nuclear Mirage.pdf",
           "The Nuclear Mirage.pdf",
           "The Nuclear Mirage.pdf",
           "The Nuclear Mirage.pdf",
           "The Nuclear Mirage.pdf",
           "The Nuclear Mirage.pdf",
           "The Nuclear Mirage.pdf"
          ],
          [
           "The Nuclear Mirage.pdf",
           "The Nuclear Mirage.pdf",
           "The Nuclear Mirage.pdf",
           "The Nuclear Mirage.pdf",
           "The Nuclear Mirage.pdf",
           "The Nuclear Mirage.pdf",
           "The Nuclear Mirage.pdf",
           "The Nuclear Mirage.pdf",
           "The Nuclear Mirage.pdf",
           "The Nuclear Mirage.pdf",
           "The Nuclear Mirage.pdf",
           "The Nuclear Mirage.pdf",
           "The Nuclear Mirage.pdf",
           "The Nuclear Mirage.pdf",
           "The Nuclear Mirage.pdf",
           "The Nuclear Mirage.pdf",
           "The Nuclear Mirage.pdf",
           "The Nuclear Mirage.pdf",
           "The Nuclear Mirage.pdf",
           "The Nuclear Mirage.pdf",
           "The Nuclear Mirage.pdf",
           "The Nuclear Mirage.pdf"
          ],
          [
           "The Nuclear Mirage.pdf",
           "The Nuclear Mirage.pdf",
           "The Nuclear Mirage.pdf",
           "The Nuclear Mirage.pdf",
           "The Nuclear Mirage.pdf",
           "The Nuclear Mirage.pdf",
           "The Nuclear Mirage.pdf",
           "The Nuclear Mirage.pdf",
           "The Nuclear Mirage.pdf",
           "The Nuclear Mirage.pdf",
           "The Nuclear Mirage.pdf",
           "The Nuclear Mirage.pdf",
           "The Nuclear Mirage.pdf",
           "The Nuclear Mirage.pdf",
           "The Nuclear Mirage.pdf",
           "The Nuclear Mirage.pdf",
           "The Nuclear Mirage.pdf",
           "The Nuclear Mirage.pdf",
           "The Nuclear Mirage.pdf",
           "The Nuclear Mirage.pdf",
           "The Nuclear Mirage.pdf",
           "The Nuclear Mirage.pdf"
          ],
          [
           "The Nuclear Mirage.pdf",
           "The Nuclear Mirage.pdf",
           "The Nuclear Mirage.pdf",
           "The Nuclear Mirage.pdf",
           "The Nuclear Mirage.pdf",
           "The Nuclear Mirage.pdf",
           "The Nuclear Mirage.pdf",
           "The Nuclear Mirage.pdf",
           "The Nuclear Mirage.pdf",
           "The Nuclear Mirage.pdf",
           "The Nuclear Mirage.pdf",
           "The Nuclear Mirage.pdf",
           "The Nuclear Mirage.pdf",
           "The Nuclear Mirage.pdf",
           "The Nuclear Mirage.pdf",
           "The Nuclear Mirage.pdf",
           "The Nuclear Mirage.pdf",
           "The Nuclear Mirage.pdf",
           "The Nuclear Mirage.pdf",
           "The Nuclear Mirage.pdf",
           "The Nuclear Mirage.pdf",
           "The Nuclear Mirage.pdf"
          ],
          [
           "The Nuclear Mirage.pdf",
           "The Nuclear Mirage.pdf",
           "The Nuclear Mirage.pdf",
           "The Nuclear Mirage.pdf",
           "The Nuclear Mirage.pdf",
           "The Nuclear Mirage.pdf",
           "The Nuclear Mirage.pdf",
           "The Nuclear Mirage.pdf",
           "The Nuclear Mirage.pdf",
           "The Nuclear Mirage.pdf",
           "The Nuclear Mirage.pdf",
           "The Nuclear Mirage.pdf",
           "The Nuclear Mirage.pdf",
           "The Nuclear Mirage.pdf",
           "The Nuclear Mirage.pdf",
           "The Nuclear Mirage.pdf",
           "The Nuclear Mirage.pdf",
           "The Nuclear Mirage.pdf",
           "The Nuclear Mirage.pdf",
           "The Nuclear Mirage.pdf",
           "The Nuclear Mirage.pdf",
           "The Nuclear Mirage.pdf"
          ],
          [
           "The Nuclear Mirage.pdf",
           "The Nuclear Mirage.pdf",
           "The Nuclear Mirage.pdf",
           "The Nuclear Mirage.pdf",
           "The Nuclear Mirage.pdf",
           "The Nuclear Mirage.pdf",
           "The Nuclear Mirage.pdf",
           "The Nuclear Mirage.pdf",
           "The Nuclear Mirage.pdf",
           "The Nuclear Mirage.pdf",
           "The Nuclear Mirage.pdf",
           "The Nuclear Mirage.pdf",
           "The Nuclear Mirage.pdf",
           "The Nuclear Mirage.pdf",
           "The Nuclear Mirage.pdf",
           "The Nuclear Mirage.pdf",
           "The Nuclear Mirage.pdf",
           "The Nuclear Mirage.pdf",
           "The Nuclear Mirage.pdf",
           "The Nuclear Mirage.pdf",
           "The Nuclear Mirage.pdf",
           "The Nuclear Mirage.pdf"
          ],
          [
           "The Nuclear Mirage.pdf",
           "The Nuclear Mirage.pdf",
           "The Nuclear Mirage.pdf",
           "The Nuclear Mirage.pdf",
           "The Nuclear Mirage.pdf",
           "The Nuclear Mirage.pdf",
           "The Nuclear Mirage.pdf",
           "The Nuclear Mirage.pdf",
           "The Nuclear Mirage.pdf",
           "The Nuclear Mirage.pdf",
           "The Nuclear Mirage.pdf",
           "The Nuclear Mirage.pdf",
           "The Nuclear Mirage.pdf",
           "The Nuclear Mirage.pdf",
           "The Nuclear Mirage.pdf",
           "The Nuclear Mirage.pdf",
           "The Nuclear Mirage.pdf",
           "The Nuclear Mirage.pdf",
           "The Nuclear Mirage.pdf",
           "The Nuclear Mirage.pdf",
           "The Nuclear Mirage.pdf",
           "The Nuclear Mirage.pdf"
          ],
          [
           "The Nuclear Mirage.pdf",
           "The Nuclear Mirage.pdf",
           "The Nuclear Mirage.pdf",
           "The Nuclear Mirage.pdf",
           "The Nuclear Mirage.pdf",
           "The Nuclear Mirage.pdf",
           "The Nuclear Mirage.pdf",
           "The Nuclear Mirage.pdf",
           "Unplagiarised",
           "Unplagiarised",
           "Unplagiarised",
           "Unplagiarised",
           "Unplagiarised",
           "Unplagiarised",
           "Unplagiarised",
           "Unplagiarised",
           "Unplagiarised",
           "Unplagiarised",
           "Unplagiarised",
           "Unplagiarised",
           "Unplagiarised",
           "Unplagiarised"
          ],
          [
           "Unplagiarised",
           "Unplagiarised",
           "Unplagiarised",
           "Unplagiarised",
           "Unplagiarised",
           "Unplagiarised",
           "Unplagiarised",
           "Unplagiarised",
           "Unplagiarised",
           "Unplagiarised",
           "Unplagiarised",
           "Unplagiarised",
           "Unplagiarised",
           "Unplagiarised",
           "Unplagiarised",
           "Unplagiarised",
           "Unplagiarised",
           "Unplagiarised",
           "Unplagiarised",
           "Unplagiarised",
           "Unplagiarised",
           "Unplagiarised"
          ],
          [
           "Unplagiarised",
           "Unplagiarised",
           "Unplagiarised",
           "Unplagiarised",
           "Unplagiarised",
           "Unplagiarised",
           "Unplagiarised",
           "Unplagiarised",
           "Unplagiarised",
           "Unplagiarised",
           "Unplagiarised",
           "Unplagiarised",
           "Unplagiarised",
           "Unplagiarised",
           "Unplagiarised",
           "Unplagiarised",
           "Unplagiarised",
           "Unplagiarised",
           "Unplagiarised",
           "Unplagiarised",
           "Unplagiarised",
           "Unplagiarised"
          ],
          [
           "Unplagiarised",
           "Unplagiarised",
           "Unplagiarised",
           "Unplagiarised",
           "Unplagiarised",
           "Unplagiarised",
           "Unplagiarised",
           "Unplagiarised",
           "Unplagiarised",
           "Unplagiarised",
           "Unplagiarised",
           "Unplagiarised",
           "Unplagiarised",
           "Unplagiarised",
           "Unplagiarised",
           "Unplagiarised",
           "Unplagiarised",
           "Unplagiarised",
           "Unplagiarised",
           "Unplagiarised",
           "Unplagiarised",
           "Unplagiarised"
          ],
          [
           "Unplagiarised",
           "Unplagiarised",
           "Unplagiarised",
           "Unplagiarised",
           "Unplagiarised",
           "Unplagiarised",
           "Unplagiarised",
           "Unplagiarised",
           "Unplagiarised",
           "Unplagiarised",
           "Unplagiarised",
           "Unplagiarised",
           "Unplagiarised",
           "Unplagiarised",
           "Unplagiarised",
           "Unplagiarised",
           "Unplagiarised",
           "Unplagiarised",
           "Unplagiarised",
           "Unplagiarised",
           "Unplagiarised",
           "Unplagiarised"
          ],
          [
           "Unplagiarised",
           "Unplagiarised",
           "Unplagiarised",
           "Is it possible to develop quantum computing in Venezuela.pdf",
           "Is it possible to develop quantum computing in Venezuela.pdf",
           "Is it possible to develop quantum computing in Venezuela.pdf",
           "Is it possible to develop quantum computing in Venezuela.pdf",
           "Is it possible to develop quantum computing in Venezuela.pdf",
           "Is it possible to develop quantum computing in Venezuela.pdf",
           "Is it possible to develop quantum computing in Venezuela.pdf",
           "Is it possible to develop quantum computing in Venezuela.pdf",
           "Is it possible to develop quantum computing in Venezuela.pdf",
           "Is it possible to develop quantum computing in Venezuela.pdf",
           "Is it possible to develop quantum computing in Venezuela.pdf",
           "Is it possible to develop quantum computing in Venezuela.pdf",
           "Is it possible to develop quantum computing in Venezuela.pdf",
           "Unplagiarised",
           "Unplagiarised",
           "Unplagiarised",
           "Unplagiarised",
           "Unplagiarised",
           "Unplagiarised"
          ],
          [
           "Unplagiarised",
           "Unplagiarised",
           "Unplagiarised",
           "Unplagiarised",
           "Unplagiarised",
           "Is it possible to develop quantum computing in Venezuela.pdf",
           "Is it possible to develop quantum computing in Venezuela.pdf",
           "Is it possible to develop quantum computing in Venezuela.pdf",
           "Is it possible to develop quantum computing in Venezuela.pdf",
           "Is it possible to develop quantum computing in Venezuela.pdf",
           "Is it possible to develop quantum computing in Venezuela.pdf",
           "Is it possible to develop quantum computing in Venezuela.pdf",
           "Is it possible to develop quantum computing in Venezuela.pdf",
           "Is it possible to develop quantum computing in Venezuela.pdf",
           "Is it possible to develop quantum computing in Venezuela.pdf",
           "Is it possible to develop quantum computing in Venezuela.pdf",
           "Is it possible to develop quantum computing in Venezuela.pdf",
           "Is it possible to develop quantum computing in Venezuela.pdf",
           "Is it possible to develop quantum computing in Venezuela.pdf",
           "Is it possible to develop quantum computing in Venezuela.pdf",
           "Is it possible to develop quantum computing in Venezuela.pdf",
           "Is it possible to develop quantum computing in Venezuela.pdf"
          ],
          [
           "Is it possible to develop quantum computing in Venezuela.pdf",
           "Is it possible to develop quantum computing in Venezuela.pdf",
           "Is it possible to develop quantum computing in Venezuela.pdf",
           "Is it possible to develop quantum computing in Venezuela.pdf",
           "Is it possible to develop quantum computing in Venezuela.pdf",
           "Is it possible to develop quantum computing in Venezuela.pdf",
           "Is it possible to develop quantum computing in Venezuela.pdf",
           "Is it possible to develop quantum computing in Venezuela.pdf",
           "Is it possible to develop quantum computing in Venezuela.pdf",
           "Is it possible to develop quantum computing in Venezuela.pdf",
           "Is it possible to develop quantum computing in Venezuela.pdf",
           "Is it possible to develop quantum computing in Venezuela.pdf",
           "Is it possible to develop quantum computing in Venezuela.pdf",
           "Is it possible to develop quantum computing in Venezuela.pdf",
           "Is it possible to develop quantum computing in Venezuela.pdf",
           "Is it possible to develop quantum computing in Venezuela.pdf",
           "Is it possible to develop quantum computing in Venezuela.pdf",
           "Is it possible to develop quantum computing in Venezuela.pdf",
           "Is it possible to develop quantum computing in Venezuela.pdf",
           "Is it possible to develop quantum computing in Venezuela.pdf",
           "Is it possible to develop quantum computing in Venezuela.pdf",
           "Is it possible to develop quantum computing in Venezuela.pdf"
          ],
          [
           "Is it possible to develop quantum computing in Venezuela.pdf",
           "Is it possible to develop quantum computing in Venezuela.pdf",
           "Is it possible to develop quantum computing in Venezuela.pdf",
           "Is it possible to develop quantum computing in Venezuela.pdf",
           "Is it possible to develop quantum computing in Venezuela.pdf",
           "Is it possible to develop quantum computing in Venezuela.pdf",
           "Is it possible to develop quantum computing in Venezuela.pdf",
           "Is it possible to develop quantum computing in Venezuela.pdf",
           "Is it possible to develop quantum computing in Venezuela.pdf",
           "Is it possible to develop quantum computing in Venezuela.pdf",
           "Is it possible to develop quantum computing in Venezuela.pdf",
           "Is it possible to develop quantum computing in Venezuela.pdf",
           "Is it possible to develop quantum computing in Venezuela.pdf",
           "Is it possible to develop quantum computing in Venezuela.pdf",
           "Is it possible to develop quantum computing in Venezuela.pdf",
           "Is it possible to develop quantum computing in Venezuela.pdf",
           "Is it possible to develop quantum computing in Venezuela.pdf",
           "Is it possible to develop quantum computing in Venezuela.pdf",
           "Is it possible to develop quantum computing in Venezuela.pdf",
           "Is it possible to develop quantum computing in Venezuela.pdf",
           "Is it possible to develop quantum computing in Venezuela.pdf",
           "Is it possible to develop quantum computing in Venezuela.pdf"
          ],
          [
           "Is it possible to develop quantum computing in Venezuela.pdf",
           "Is it possible to develop quantum computing in Venezuela.pdf",
           "Is it possible to develop quantum computing in Venezuela.pdf",
           "Is it possible to develop quantum computing in Venezuela.pdf",
           "Is it possible to develop quantum computing in Venezuela.pdf",
           "Is it possible to develop quantum computing in Venezuela.pdf",
           "Is it possible to develop quantum computing in Venezuela.pdf",
           "Is it possible to develop quantum computing in Venezuela.pdf",
           "Is it possible to develop quantum computing in Venezuela.pdf",
           "Is it possible to develop quantum computing in Venezuela.pdf",
           "Is it possible to develop quantum computing in Venezuela.pdf",
           "Is it possible to develop quantum computing in Venezuela.pdf",
           "Is it possible to develop quantum computing in Venezuela.pdf",
           "Is it possible to develop quantum computing in Venezuela.pdf",
           "Is it possible to develop quantum computing in Venezuela.pdf",
           "Is it possible to develop quantum computing in Venezuela.pdf",
           "Is it possible to develop quantum computing in Venezuela.pdf",
           "Is it possible to develop quantum computing in Venezuela.pdf",
           "Is it possible to develop quantum computing in Venezuela.pdf",
           "Is it possible to develop quantum computing in Venezuela.pdf",
           "Is it possible to develop quantum computing in Venezuela.pdf",
           "Is it possible to develop quantum computing in Venezuela.pdf"
          ],
          [
           "Is it possible to develop quantum computing in Venezuela.pdf",
           "Is it possible to develop quantum computing in Venezuela.pdf",
           "Is it possible to develop quantum computing in Venezuela.pdf",
           "Is it possible to develop quantum computing in Venezuela.pdf",
           "Is it possible to develop quantum computing in Venezuela.pdf",
           "Is it possible to develop quantum computing in Venezuela.pdf",
           "Is it possible to develop quantum computing in Venezuela.pdf",
           "Is it possible to develop quantum computing in Venezuela.pdf",
           "Is it possible to develop quantum computing in Venezuela.pdf",
           "Is it possible to develop quantum computing in Venezuela.pdf",
           "Is it possible to develop quantum computing in Venezuela.pdf",
           "Is it possible to develop quantum computing in Venezuela.pdf",
           "Is it possible to develop quantum computing in Venezuela.pdf",
           "Is it possible to develop quantum computing in Venezuela.pdf",
           "Is it possible to develop quantum computing in Venezuela.pdf",
           "Is it possible to develop quantum computing in Venezuela.pdf",
           "Is it possible to develop quantum computing in Venezuela.pdf",
           "Is it possible to develop quantum computing in Venezuela.pdf",
           "Is it possible to develop quantum computing in Venezuela.pdf",
           "Is it possible to develop quantum computing in Venezuela.pdf",
           "Is it possible to develop quantum computing in Venezuela.pdf",
           "Is it possible to develop quantum computing in Venezuela.pdf"
          ],
          [
           "Is it possible to develop quantum computing in Venezuela.pdf",
           "Is it possible to develop quantum computing in Venezuela.pdf",
           "Is it possible to develop quantum computing in Venezuela.pdf",
           "Is it possible to develop quantum computing in Venezuela.pdf",
           "Is it possible to develop quantum computing in Venezuela.pdf",
           "Is it possible to develop quantum computing in Venezuela.pdf",
           "Is it possible to develop quantum computing in Venezuela.pdf",
           "Is it possible to develop quantum computing in Venezuela.pdf",
           "Is it possible to develop quantum computing in Venezuela.pdf",
           "Is it possible to develop quantum computing in Venezuela.pdf",
           "Is it possible to develop quantum computing in Venezuela.pdf",
           "Is it possible to develop quantum computing in Venezuela.pdf",
           "Is it possible to develop quantum computing in Venezuela.pdf",
           "Is it possible to develop quantum computing in Venezuela.pdf",
           "Is it possible to develop quantum computing in Venezuela.pdf",
           "Is it possible to develop quantum computing in Venezuela.pdf",
           "Is it possible to develop quantum computing in Venezuela.pdf",
           "Is it possible to develop quantum computing in Venezuela.pdf",
           "Is it possible to develop quantum computing in Venezuela.pdf",
           "Is it possible to develop quantum computing in Venezuela.pdf",
           "Is it possible to develop quantum computing in Venezuela.pdf",
           "Is it possible to develop quantum computing in Venezuela.pdf"
          ],
          [
           "Is it possible to develop quantum computing in Venezuela.pdf",
           "Is it possible to develop quantum computing in Venezuela.pdf",
           "Is it possible to develop quantum computing in Venezuela.pdf",
           "Is it possible to develop quantum computing in Venezuela.pdf",
           "Is it possible to develop quantum computing in Venezuela.pdf",
           "Is it possible to develop quantum computing in Venezuela.pdf",
           "Is it possible to develop quantum computing in Venezuela.pdf",
           "Is it possible to develop quantum computing in Venezuela.pdf",
           "Is it possible to develop quantum computing in Venezuela.pdf",
           "Is it possible to develop quantum computing in Venezuela.pdf",
           "Is it possible to develop quantum computing in Venezuela.pdf",
           "Is it possible to develop quantum computing in Venezuela.pdf",
           "Is it possible to develop quantum computing in Venezuela.pdf",
           "Is it possible to develop quantum computing in Venezuela.pdf",
           "Is it possible to develop quantum computing in Venezuela.pdf",
           "Is it possible to develop quantum computing in Venezuela.pdf",
           "Is it possible to develop quantum computing in Venezuela.pdf",
           "Is it possible to develop quantum computing in Venezuela.pdf",
           "Is it possible to develop quantum computing in Venezuela.pdf",
           "Is it possible to develop quantum computing in Venezuela.pdf",
           "Is it possible to develop quantum computing in Venezuela.pdf",
           "Is it possible to develop quantum computing in Venezuela.pdf"
          ],
          [
           "Is it possible to develop quantum computing in Venezuela.pdf",
           "Is it possible to develop quantum computing in Venezuela.pdf",
           "Is it possible to develop quantum computing in Venezuela.pdf",
           "Is it possible to develop quantum computing in Venezuela.pdf",
           "Is it possible to develop quantum computing in Venezuela.pdf",
           "Is it possible to develop quantum computing in Venezuela.pdf",
           "Is it possible to develop quantum computing in Venezuela.pdf",
           "Is it possible to develop quantum computing in Venezuela.pdf",
           "Is it possible to develop quantum computing in Venezuela.pdf",
           "Is it possible to develop quantum computing in Venezuela.pdf",
           "Is it possible to develop quantum computing in Venezuela.pdf",
           "Is it possible to develop quantum computing in Venezuela.pdf",
           "Is it possible to develop quantum computing in Venezuela.pdf",
           "Is it possible to develop quantum computing in Venezuela.pdf",
           "Is it possible to develop quantum computing in Venezuela.pdf",
           "Is it possible to develop quantum computing in Venezuela.pdf",
           "Is it possible to develop quantum computing in Venezuela.pdf",
           "Is it possible to develop quantum computing in Venezuela.pdf",
           "Is it possible to develop quantum computing in Venezuela.pdf",
           "Is it possible to develop quantum computing in Venezuela.pdf",
           "Is it possible to develop quantum computing in Venezuela.pdf",
           "Is it possible to develop quantum computing in Venezuela.pdf"
          ],
          [
           "Is it possible to develop quantum computing in Venezuela.pdf",
           "Is it possible to develop quantum computing in Venezuela.pdf",
           "Is it possible to develop quantum computing in Venezuela.pdf",
           "Is it possible to develop quantum computing in Venezuela.pdf",
           "Is it possible to develop quantum computing in Venezuela.pdf",
           "Is it possible to develop quantum computing in Venezuela.pdf",
           "Is it possible to develop quantum computing in Venezuela.pdf",
           "Is it possible to develop quantum computing in Venezuela.pdf",
           "Is it possible to develop quantum computing in Venezuela.pdf",
           "Is it possible to develop quantum computing in Venezuela.pdf",
           "Is it possible to develop quantum computing in Venezuela.pdf",
           "Is it possible to develop quantum computing in Venezuela.pdf",
           "Is it possible to develop quantum computing in Venezuela.pdf",
           "Is it possible to develop quantum computing in Venezuela.pdf",
           "Is it possible to develop quantum computing in Venezuela.pdf",
           "Is it possible to develop quantum computing in Venezuela.pdf",
           "Is it possible to develop quantum computing in Venezuela.pdf",
           "Is it possible to develop quantum computing in Venezuela.pdf",
           "Unplagiarised",
           "Unplagiarised",
           "Unplagiarised",
           "Unplagiarised"
          ],
          [
           "Unplagiarised",
           "Unplagiarised",
           "Unplagiarised",
           "Unplagiarised",
           "Unplagiarised",
           "Unplagiarised",
           "Unplagiarised",
           "Unplagiarised",
           "Unplagiarised",
           "Unplagiarised",
           "Unplagiarised",
           "Unplagiarised",
           "Unplagiarised",
           "Unplagiarised",
           "Unplagiarised",
           "Unplagiarised",
           "Unplagiarised",
           "Unplagiarised",
           "Unplagiarised",
           "Unplagiarised",
           "Unplagiarised",
           "Unplagiarised"
          ],
          [
           "Unplagiarised",
           "Unplagiarised",
           "Unplagiarised",
           "Unplagiarised",
           "Unplagiarised",
           "Unplagiarised",
           "Unplagiarised",
           "Unplagiarised",
           "Unplagiarised",
           "Unplagiarised",
           "Unplagiarised",
           "Unplagiarised",
           "Unplagiarised",
           "Unplagiarised",
           "Unplagiarised",
           "Unplagiarised",
           "Unplagiarised",
           "Unplagiarised",
           "Unplagiarised",
           "Unplagiarised",
           "Unplagiarised",
           "Unplagiarised"
          ],
          [
           "Unplagiarised",
           "Unplagiarised",
           "Unplagiarised",
           "Unplagiarised",
           "Unplagiarised",
           "Unplagiarised",
           "Unplagiarised",
           "Unplagiarised",
           "Unplagiarised",
           "Unplagiarised",
           "Unplagiarised",
           "Unplagiarised",
           "Unplagiarised",
           "Unplagiarised",
           "Unplagiarised",
           "Unplagiarised",
           "Unplagiarised",
           "Unplagiarised",
           "Unplagiarised",
           "Unplagiarised",
           "Unplagiarised",
           "Unplagiarised"
          ],
          [
           "Unplagiarised",
           "Unplagiarised",
           "Unplagiarised",
           "Unplagiarised",
           "Unplagiarised",
           "Unplagiarised",
           "Unplagiarised",
           "Unplagiarised",
           "Unplagiarised",
           "Unplagiarised",
           "Unplagiarised",
           "Unplagiarised",
           "Unplagiarised",
           "Unplagiarised",
           "Unplagiarised",
           "Unplagiarised",
           "Unplagiarised",
           "Unplagiarised",
           "Unplagiarised",
           "Unplagiarised",
           "Unplagiarised",
           "Unplagiarised"
          ],
          [
           "Unplagiarised",
           "Unplagiarised",
           "Unplagiarised",
           "Unplagiarised",
           "Unplagiarised",
           "Unplagiarised",
           "Unplagiarised",
           "Unplagiarised",
           "Unplagiarised",
           "Unplagiarised",
           "Unplagiarised",
           "Unplagiarised",
           "Unplagiarised",
           "Unplagiarised",
           "Unplagiarised",
           "Unplagiarised",
           "Unplagiarised",
           "Unplagiarised",
           "Unplagiarised",
           "Unplagiarised",
           "Unplagiarised",
           "Unplagiarised"
          ],
          [
           "Unplagiarised",
           "Unplagiarised",
           "Unplagiarised",
           "Unplagiarised",
           "Unplagiarised",
           "Unplagiarised",
           "Unplagiarised",
           "Unplagiarised",
           "Unplagiarised",
           "Unplagiarised",
           "Unplagiarised",
           "Unplagiarised",
           "Unplagiarised",
           "Unplagiarised",
           "Unplagiarised",
           "Unplagiarised",
           "Unplagiarised",
           "Applications of neural networks and deep learning to biomedical engineering.pdf",
           "Applications of neural networks and deep learning to biomedical engineering.pdf",
           "Applications of neural networks and deep learning to biomedical engineering.pdf",
           "Applications of neural networks and deep learning to biomedical engineering.pdf",
           "Applications of neural networks and deep learning to biomedical engineering.pdf"
          ],
          [
           "Applications of neural networks and deep learning to biomedical engineering.pdf",
           "Applications of neural networks and deep learning to biomedical engineering.pdf",
           "Applications of neural networks and deep learning to biomedical engineering.pdf",
           "Applications of neural networks and deep learning to biomedical engineering.pdf",
           "Applications of neural networks and deep learning to biomedical engineering.pdf",
           "Applications of neural networks and deep learning to biomedical engineering.pdf",
           "Applications of neural networks and deep learning to biomedical engineering.pdf",
           "Applications of neural networks and deep learning to biomedical engineering.pdf",
           "Applications of neural networks and deep learning to biomedical engineering.pdf",
           "Applications of neural networks and deep learning to biomedical engineering.pdf",
           "Applications of neural networks and deep learning to biomedical engineering.pdf",
           "Applications of neural networks and deep learning to biomedical engineering.pdf",
           "Applications of neural networks and deep learning to biomedical engineering.pdf",
           "Applications of neural networks and deep learning to biomedical engineering.pdf",
           "Applications of neural networks and deep learning to biomedical engineering.pdf",
           "Applications of neural networks and deep learning to biomedical engineering.pdf",
           "Applications of neural networks and deep learning to biomedical engineering.pdf",
           "Applications of neural networks and deep learning to biomedical engineering.pdf",
           "Applications of neural networks and deep learning to biomedical engineering.pdf",
           "Applications of neural networks and deep learning to biomedical engineering.pdf",
           "Applications of neural networks and deep learning to biomedical engineering.pdf",
           "Applications of neural networks and deep learning to biomedical engineering.pdf"
          ],
          [
           "Applications of neural networks and deep learning to biomedical engineering.pdf",
           "Applications of neural networks and deep learning to biomedical engineering.pdf",
           "Applications of neural networks and deep learning to biomedical engineering.pdf",
           "Applications of neural networks and deep learning to biomedical engineering.pdf",
           "Applications of neural networks and deep learning to biomedical engineering.pdf",
           "Applications of neural networks and deep learning to biomedical engineering.pdf",
           "Applications of neural networks and deep learning to biomedical engineering.pdf",
           "Applications of neural networks and deep learning to biomedical engineering.pdf",
           "Applications of neural networks and deep learning to biomedical engineering.pdf",
           "Applications of neural networks and deep learning to biomedical engineering.pdf",
           "Applications of neural networks and deep learning to biomedical engineering.pdf",
           "Applications of neural networks and deep learning to biomedical engineering.pdf",
           "Applications of neural networks and deep learning to biomedical engineering.pdf",
           "Applications of neural networks and deep learning to biomedical engineering.pdf",
           "Applications of neural networks and deep learning to biomedical engineering.pdf",
           "Applications of neural networks and deep learning to biomedical engineering.pdf",
           "Applications of neural networks and deep learning to biomedical engineering.pdf",
           "Applications of neural networks and deep learning to biomedical engineering.pdf",
           "Applications of neural networks and deep learning to biomedical engineering.pdf",
           "Applications of neural networks and deep learning to biomedical engineering.pdf",
           "Applications of neural networks and deep learning to biomedical engineering.pdf",
           "Applications of neural networks and deep learning to biomedical engineering.pdf"
          ],
          [
           "Applications of neural networks and deep learning to biomedical engineering.pdf",
           "Applications of neural networks and deep learning to biomedical engineering.pdf",
           "Applications of neural networks and deep learning to biomedical engineering.pdf",
           "Applications of neural networks and deep learning to biomedical engineering.pdf",
           "Applications of neural networks and deep learning to biomedical engineering.pdf",
           "Applications of neural networks and deep learning to biomedical engineering.pdf",
           "Applications of neural networks and deep learning to biomedical engineering.pdf",
           "Applications of neural networks and deep learning to biomedical engineering.pdf",
           "Applications of neural networks and deep learning to biomedical engineering.pdf",
           "Applications of neural networks and deep learning to biomedical engineering.pdf",
           "Applications of neural networks and deep learning to biomedical engineering.pdf",
           "Applications of neural networks and deep learning to biomedical engineering.pdf",
           "Applications of neural networks and deep learning to biomedical engineering.pdf",
           "Applications of neural networks and deep learning to biomedical engineering.pdf",
           "Applications of neural networks and deep learning to biomedical engineering.pdf",
           "Applications of neural networks and deep learning to biomedical engineering.pdf",
           "Applications of neural networks and deep learning to biomedical engineering.pdf",
           "Applications of neural networks and deep learning to biomedical engineering.pdf",
           "Applications of neural networks and deep learning to biomedical engineering.pdf",
           "Applications of neural networks and deep learning to biomedical engineering.pdf",
           "Applications of neural networks and deep learning to biomedical engineering.pdf",
           "Applications of neural networks and deep learning to biomedical engineering.pdf"
          ],
          [
           "Applications of neural networks and deep learning to biomedical engineering.pdf",
           "Applications of neural networks and deep learning to biomedical engineering.pdf",
           "Applications of neural networks and deep learning to biomedical engineering.pdf",
           "Applications of neural networks and deep learning to biomedical engineering.pdf",
           "Applications of neural networks and deep learning to biomedical engineering.pdf",
           "Applications of neural networks and deep learning to biomedical engineering.pdf",
           "Applications of neural networks and deep learning to biomedical engineering.pdf",
           "Applications of neural networks and deep learning to biomedical engineering.pdf",
           "Applications of neural networks and deep learning to biomedical engineering.pdf",
           "Applications of neural networks and deep learning to biomedical engineering.pdf",
           "Applications of neural networks and deep learning to biomedical engineering.pdf",
           "Applications of neural networks and deep learning to biomedical engineering.pdf",
           "Applications of neural networks and deep learning to biomedical engineering.pdf",
           "Applications of neural networks and deep learning to biomedical engineering.pdf",
           "Applications of neural networks and deep learning to biomedical engineering.pdf",
           "Applications of neural networks and deep learning to biomedical engineering.pdf",
           "Applications of neural networks and deep learning to biomedical engineering.pdf",
           "Applications of neural networks and deep learning to biomedical engineering.pdf",
           "Applications of neural networks and deep learning to biomedical engineering.pdf",
           "Applications of neural networks and deep learning to biomedical engineering.pdf",
           "Applications of neural networks and deep learning to biomedical engineering.pdf",
           "Applications of neural networks and deep learning to biomedical engineering.pdf"
          ],
          [
           "Applications of neural networks and deep learning to biomedical engineering.pdf",
           "Applications of neural networks and deep learning to biomedical engineering.pdf",
           "Applications of neural networks and deep learning to biomedical engineering.pdf",
           "Applications of neural networks and deep learning to biomedical engineering.pdf",
           "Applications of neural networks and deep learning to biomedical engineering.pdf",
           "Applications of neural networks and deep learning to biomedical engineering.pdf",
           "Applications of neural networks and deep learning to biomedical engineering.pdf",
           "Applications of neural networks and deep learning to biomedical engineering.pdf",
           "Applications of neural networks and deep learning to biomedical engineering.pdf",
           "Applications of neural networks and deep learning to biomedical engineering.pdf",
           "Applications of neural networks and deep learning to biomedical engineering.pdf",
           "Applications of neural networks and deep learning to biomedical engineering.pdf",
           "Applications of neural networks and deep learning to biomedical engineering.pdf",
           "Applications of neural networks and deep learning to biomedical engineering.pdf",
           "Applications of neural networks and deep learning to biomedical engineering.pdf",
           "Applications of neural networks and deep learning to biomedical engineering.pdf",
           "Applications of neural networks and deep learning to biomedical engineering.pdf",
           "Unplagiarised",
           "Unplagiarised",
           "Unplagiarised",
           "Unplagiarised",
           "Unplagiarised"
          ],
          [
           "Unplagiarised",
           "Unplagiarised",
           "Unplagiarised",
           "Unplagiarised",
           "Unplagiarised",
           "Unplagiarised",
           "Unplagiarised",
           "Unplagiarised",
           "Unplagiarised",
           "Unplagiarised",
           "Unplagiarised",
           "Unplagiarised",
           "Unplagiarised",
           "Unplagiarised",
           "Unplagiarised",
           "Unplagiarised",
           "Unplagiarised",
           "Unplagiarised",
           "Unplagiarised",
           "Unplagiarised",
           "Unplagiarised",
           "Unplagiarised"
          ],
          [
           "Unplagiarised",
           "Unplagiarised",
           "Unplagiarised",
           "Unplagiarised",
           "Unplagiarised",
           "Unplagiarised",
           "Unplagiarised",
           "Unplagiarised",
           "Unplagiarised",
           "Unplagiarised",
           "Unplagiarised",
           "Unplagiarised",
           "Unplagiarised",
           "Unplagiarised",
           "Unplagiarised",
           "Unplagiarised",
           "Unplagiarised",
           "Unplagiarised",
           "Unplagiarised",
           "Unplagiarised",
           "Unplagiarised",
           "Unplagiarised"
          ],
          [
           "Unplagiarised",
           "Unplagiarised",
           "Unplagiarised",
           "Unplagiarised",
           "Unplagiarised",
           "Unplagiarised",
           "Unplagiarised",
           "Unplagiarised",
           "Unplagiarised",
           "Unplagiarised",
           "Unplagiarised",
           "Unplagiarised",
           "Unplagiarised",
           "Unplagiarised",
           "Unplagiarised",
           "Unplagiarised",
           "Unplagiarised",
           "Unplagiarised",
           "Unplagiarised",
           "Unplagiarised",
           "Unplagiarised",
           "Unplagiarised"
          ],
          [
           "Unplagiarised",
           "Unplagiarised",
           "Unplagiarised",
           "Unplagiarised",
           "Unplagiarised",
           "Unplagiarised",
           "Unplagiarised",
           "Unplagiarised",
           "Unplagiarised",
           "Unplagiarised",
           "Unplagiarised",
           "Unplagiarised",
           "Unplagiarised",
           "Unplagiarised",
           "Unplagiarised",
           "Unplagiarised",
           "Unplagiarised",
           "Unplagiarised",
           "Unplagiarised",
           "Unplagiarised",
           "Unplagiarised",
           "Unplagiarised"
          ],
          [
           "Unplagiarised",
           "Unplagiarised",
           "Unplagiarised",
           "Unplagiarised",
           "Unplagiarised",
           "Unplagiarised",
           "Unplagiarised",
           "Unplagiarised",
           "Unplagiarised",
           "Unplagiarised",
           "Unplagiarised",
           "Unplagiarised",
           "Unplagiarised",
           "Unplagiarised",
           "Unplagiarised",
           "Unplagiarised",
           "Unplagiarised",
           "Unplagiarised",
           "Unplagiarised",
           "Unplagiarised",
           "Unplagiarised",
           "Unplagiarised"
          ]
         ],
         "dx": 1,
         "hovertemplate": "%{customdata} <br><b>Score:%{z:.3f}<extra></extra>",
         "text": [
          [
           "First",
           "of",
           "all",
           "Indian",
           "origin",
           "religions",
           "are",
           "Hinduism",
           "Buddhism",
           "Jainism",
           "and",
           "Sikhism",
           "All",
           "of",
           "these",
           "religions",
           "are",
           "based",
           "on",
           "karma",
           "and",
           "dharma"
          ],
          [
           "Furthermore",
           "these",
           "four",
           "are",
           "called",
           "as",
           "Indian",
           "religions",
           "Indian",
           "religions",
           "are",
           "a",
           "major",
           "category",
           "of",
           "world",
           "religions",
           "along",
           "with",
           "Abrahamic",
           "religions",
           "Also"
          ],
          [
           "many",
           "foreign",
           "religions",
           "are",
           "present",
           "in",
           "India",
           "as",
           "well",
           "These",
           "foreign",
           "religions",
           "include",
           "Abrahamic",
           "religions",
           "The",
           "Abrahamic",
           "religions",
           "in",
           "India",
           "cer",
           "tainly"
          ],
          [
           "are",
           "Judaism",
           "Christianity",
           "and",
           "Islam",
           "Besides",
           "Abrahamic",
           "religions",
           "Zoroastrianism",
           "and",
           "Baháí",
           "Faith",
           "are",
           "the",
           "other",
           "foreign",
           "religions",
           "which",
           "exist",
           "in",
           "India",
           "Consequently"
          ],
          [
           "the",
           "presence",
           "of",
           "so",
           "many",
           "diverse",
           "religions",
           "has",
           "given",
           "rise",
           "to",
           "tolerance",
           "and",
           "seculari",
           "sm",
           "in",
           "Indian",
           "culture",
           "The",
           "Joint",
           "family",
           "system"
          ],
          [
           "is",
           "the",
           "prevailing",
           "system",
           "of",
           "Indian",
           "culture",
           "Most",
           "noteworthy",
           "the",
           "family",
           "members",
           "consist",
           "of",
           "parents",
           "children",
           "childrens",
           "spouses",
           "and",
           "offspring",
           "All",
           "of"
          ],
          [
           "these",
           "family",
           "members",
           "live",
           "together",
           "Furthermore",
           "the",
           "elde",
           "st",
           "male",
           "member",
           "is",
           "the",
           "head",
           "of",
           "the",
           "family",
           "In",
           "an",
           "article",
           "in",
           "Energy"
          ],
          [
           "Crisis",
           "2004",
           "by",
           "Coderch",
           "clear",
           "data",
           "was",
           "already",
           "offered",
           "on",
           "whether",
           "it",
           "is",
           "possible",
           "to",
           "meet",
           "the",
           "current",
           "and",
           "future",
           "energy",
           "needs"
          ],
          [
           "of",
           "our",
           "industrial",
           "civilization",
           "by",
           "building",
           "enough",
           "nuclear",
           "po",
           "wer",
           "plants",
           "and",
           "without",
           "contributing",
           "to",
           "the",
           "greenhouse",
           "effect",
           "or",
           "if",
           "the",
           "energy"
          ],
          [
           "transition",
           "fossil",
           "fuels",
           "to",
           "nuclear",
           "power",
           "can",
           "be",
           "done",
           "in",
           "well",
           "under",
           "50",
           "years",
           "Coderch",
           "starts",
           "from",
           "reality",
           "There",
           "are",
           "currently",
           "some"
          ],
          [
           "450",
           "nuclear",
           "power",
           "plants",
           "in",
           "the",
           "world",
           "th",
           "at",
           "produces",
           "12",
           "of",
           "all",
           "the",
           "electricity",
           "consumed",
           "in",
           "the",
           "world",
           "which",
           "is",
           "equivalent"
          ],
          [
           "to",
           "5",
           "of",
           "all",
           "the",
           "energy",
           "consumed",
           "Therefore",
           "without",
           "considering",
           "increases",
           "in",
           "demand",
           "to",
           "produce",
           "all",
           "the",
           "electrical",
           "energy",
           "that",
           "the",
           "world"
          ],
          [
           "consumes",
           "today",
           "it",
           "would",
           "be",
           "neces",
           "sary",
           "to",
           "build",
           "some",
           "3600",
           "additional",
           "plants",
           "which",
           "would",
           "possibly",
           "cover",
           "close",
           "to",
           "40",
           "of",
           "all"
          ],
          [
           "the",
           "energy",
           "we",
           "consume",
           "Bearing",
           "in",
           "mind",
           "that",
           "it",
           "takes",
           "about",
           "10",
           "years",
           "to",
           "build",
           "a",
           "nuclear",
           "power",
           "plant",
           "that",
           "it",
           "took"
          ],
          [
           "more",
           "than",
           "15",
           "years",
           "to",
           "build",
           "the",
           "current",
           "450",
           "plant",
           "s",
           "and",
           "even",
           "assuming",
           "that",
           "despite",
           "the",
           "fact",
           "that",
           "practically",
           "no",
           "new"
          ],
          [
           "plants",
           "have",
           "been",
           "built",
           "since",
           "the",
           "1970s",
           "there",
           "are",
           "still",
           "We",
           "have",
           "the",
           "same",
           "construction",
           "capacity",
           "as",
           "in",
           "the",
           "peak",
           "decade",
           "of"
          ],
          [
           "the",
           "1960s",
           "it",
           "would",
           "take",
           "120",
           "years",
           "to",
           "build",
           "the",
           "3600",
           "new",
           "plants",
           "Even",
           "assuming",
           "we",
           "doubled",
           "the",
           "maximum",
           "capacity",
           "we",
           "had"
          ],
          [
           "we",
           "couldnt",
           "finish",
           "construction",
           "before",
           "60",
           "years",
           "Arranged",
           "m",
           "arriages",
           "are",
           "the",
           "norm",
           "in",
           "Indian",
           "culture",
           "Probably",
           "most",
           "Indians",
           "have",
           "their"
          ],
          [
           "marriages",
           "planned",
           "by",
           "their",
           "parents",
           "In",
           "almost",
           "all",
           "Indian",
           "marriages",
           "the",
           "brides",
           "family",
           "gives",
           "dowry",
           "to",
           "bridegroom",
           "Weddings",
           "are",
           "certainly",
           "festive",
           "occasions"
          ],
          [
           "in",
           "Indian",
           "culture",
           "There",
           "is",
           "involvement",
           "of",
           "striking",
           "decorations",
           "clothing",
           "music",
           "dance",
           "rituals",
           "in",
           "Indian",
           "weddings",
           "Most",
           "noteworthy",
           "the",
           "divorce",
           "rates",
           "in"
          ],
          [
           "India",
           "are",
           "very",
           "low",
           "India",
           "celebrates",
           "a",
           "huge",
           "number",
           "of",
           "festivals",
           "These",
           "festivals",
           "are",
           "very",
           "diverse",
           "due",
           "to",
           "multi",
           "religious",
           "and",
           "mu"
          ],
          [
           "lti",
           "cultural",
           "Indian",
           "society",
           "Indians",
           "greatly",
           "value",
           "festive",
           "occasions",
           "Above",
           "all",
           "the",
           "whole",
           "country",
           "joins",
           "in",
           "the",
           "celebrations",
           "irrespective",
           "of",
           "the",
           "differences"
          ],
          [
           "There",
           "is",
           "a",
           "set",
           "of",
           "physical",
           "phenomena",
           "that",
           "can",
           "only",
           "be",
           "explained",
           "from",
           "the",
           "theory",
           "of",
           "quantum",
           "mechan",
           "ics",
           "among",
           "which",
           "we"
          ],
          [
           "have",
           "the",
           "wave",
           "particle",
           "duality",
           "of",
           "light",
           "the",
           "wave",
           "behavior",
           "of",
           "subatomic",
           "particles",
           "such",
           "as",
           "electrons",
           "the",
           "tunnel",
           "effect",
           "the",
           "spin",
           "superconductivity"
          ],
          [
           "quantum",
           "superposition",
           "and",
           "quantum",
           "entanglement",
           "In",
           "relation",
           "to",
           "the",
           "so",
           "called",
           "wave",
           "pa",
           "rticle",
           "dual",
           "behavior",
           "of",
           "light",
           "in",
           "principle",
           "it",
           "should"
          ],
          [
           "be",
           "noted",
           "that",
           "it",
           "is",
           "a",
           "concept",
           "introduced",
           "in",
           "the",
           "theory",
           "of",
           "quantum",
           "mechanics",
           "by",
           "the",
           "Danish",
           "physicist",
           "Bohr",
           "for",
           "express",
           "that"
          ],
          [
           "a",
           "system",
           "can",
           "behave",
           "like",
           "a",
           "wave",
           "or",
           "a",
           "particle",
           "but",
           "not",
           "both",
           "at",
           "the",
           "same",
           "time",
           "de",
           "pending",
           "on",
           "the",
           "experiment"
          ],
          [
           "that",
           "is",
           "carried",
           "out",
           "Bohr",
           "1935",
           "For",
           "example",
           "in",
           "interference",
           "experiments",
           "light",
           "shows",
           "a",
           "wave",
           "nature",
           "on",
           "the",
           "other",
           "hand",
           "when",
           "light"
          ],
          [
           "of",
           "a",
           "certain",
           "frequency",
           "illuminates",
           "a",
           "certain",
           "metal",
           "causing",
           "the",
           "expulsion",
           "of",
           "electrons",
           "from",
           "the",
           "material",
           "photoelectric",
           "effect",
           "the",
           "light",
           "behaves",
           "as"
          ],
          [
           "if",
           "it",
           "were",
           "made",
           "up",
           "of",
           "particles",
           "called",
           "photons",
           "The",
           "interpretation",
           "of",
           "the",
           "photoelectric",
           "effect",
           "in",
           "terms",
           "of",
           "photons",
           "or",
           "quanta",
           "of"
          ],
          [
           "light",
           "as",
           "well",
           "as",
           "the",
           "explanation",
           "of",
           "the",
           "phenomenon",
           "of",
           "the",
           "wave",
           "behavior",
           "o",
           "f",
           "the",
           "electron",
           "in",
           "diffraction",
           "experiments",
           "are",
           "based"
          ],
          [
           "on",
           "the",
           "quantum",
           "theory",
           "of",
           "electromagnetic",
           "radiation",
           "and",
           "matter",
           "theory",
           "that",
           "unifies",
           "matter",
           "and",
           "radiation",
           "at",
           "the",
           "atomic",
           "level",
           "Indian",
           "culture",
           "has"
          ],
          [
           "been",
           "an",
           "inspiration",
           "to",
           "many",
           "writers",
           "India",
           "is",
           "certainly",
           "a",
           "symbol",
           "of",
           "unity",
           "around",
           "the",
           "world",
           "Indian",
           "culture",
           "is",
           "certainly",
           "very",
           "complex"
          ],
          [
           "Furthermore",
           "the",
           "conception",
           "of",
           "Indian",
           "identity",
           "poses",
           "certain",
           "difficulties",
           "However",
           "despite",
           "this",
           "a",
           "typical",
           "Indian",
           "culture",
           "does",
           "exist",
           "The",
           "creation",
           "of",
           "this"
          ],
          [
           "typical",
           "Indian",
           "culture",
           "r",
           "esults",
           "from",
           "some",
           "internal",
           "forces",
           "Above",
           "all",
           "these",
           "forces",
           "are",
           "a",
           "robust",
           "Constitution",
           "universal",
           "adult",
           "franchise",
           "secular",
           "policy"
          ],
          [
           "flexible",
           "federal",
           "structure",
           "etc",
           "Indian",
           "culture",
           "is",
           "characterized",
           "by",
           "a",
           "strict",
           "social",
           "hierarchy",
           "Furthermore",
           "Indian",
           "children",
           "are",
           "taught",
           "their",
           "roles",
           "and",
           "place"
          ],
          [
           "in",
           "society",
           "from",
           "an",
           "early",
           "age",
           "Probably",
           "many",
           "Indians",
           "believe",
           "that",
           "gods",
           "and",
           "spirits",
           "have",
           "a",
           "role",
           "in",
           "determining",
           "their",
           "life",
           "Earlier"
          ],
          [
           "traditional",
           "Hindus",
           "were",
           "divided",
           "into",
           "polluting",
           "and",
           "non",
           "polluting",
           "occupations",
           "Now",
           "this",
           "differe",
           "nce",
           "is",
           "declining",
           "A",
           "common",
           "problem",
           "that",
           "arises",
           "during"
          ],
          [
           "the",
           "training",
           "of",
           "ANNs",
           "is",
           "overfitting",
           "Overfitting",
           "occurs",
           "when",
           "the",
           "network",
           "error",
           "for",
           "the",
           "training",
           "set",
           "is",
           "very",
           "low",
           "but",
           "when",
           "presented"
          ],
          [
           "with",
           "new",
           "information",
           "test",
           "sets",
           "the",
           "error",
           "is",
           "very",
           "high",
           "This",
           "means",
           "that",
           "the",
           "network",
           "memorized",
           "the",
           "training",
           "data",
           "but",
           "was",
           "unable"
          ],
          [
           "to",
           "learn",
           "to",
           "generalize",
           "to",
           "new",
           "situations",
           "To",
           "deal",
           "with",
           "the",
           "risk",
           "of",
           "overfitting",
           "it",
           "is",
           "necessary",
           "to",
           "have",
           "a",
           "good",
           "set"
          ],
          [
           "of",
           "data",
           "trai",
           "ning",
           "testing",
           "and",
           "validation",
           "make",
           "a",
           "correct",
           "selection",
           "of",
           "the",
           "number",
           "of",
           "network",
           "parameters",
           "and",
           "sometimes",
           "resort",
           "to",
           "regularization"
          ],
          [
           "methods",
           "especially",
           "when",
           "working",
           "with",
           "DNAs",
           "110",
           "all",
           "this",
           "implies",
           "expertise",
           "in",
           "computational",
           "sciences",
           "and",
           "development",
           "of",
           "AN",
           "Ns",
           "Indian",
           "culture",
           "is"
          ],
          [
           "certainly",
           "very",
           "diverse",
           "Also",
           "Indian",
           "children",
           "learn",
           "and",
           "assimilate",
           "in",
           "the",
           "differences",
           "In",
           "recent",
           "decades",
           "huge",
           "changes",
           "have",
           "taken",
           "place",
           "in",
           "Indian"
          ],
          [
           "culture",
           "Above",
           "all",
           "these",
           "changes",
           "are",
           "female",
           "e",
           "mpowerment",
           "westernization",
           "a",
           "decline",
           "of",
           "superstition",
           "higher",
           "literacy",
           "improved",
           "education",
           "etc",
           "To",
           "sum",
           "it"
          ],
          [
           "up",
           "the",
           "culture",
           "of",
           "India",
           "is",
           "one",
           "of",
           "the",
           "oldest",
           "cultures",
           "in",
           "the",
           "World",
           "Above",
           "all",
           "many",
           "Indians",
           "till",
           "stick",
           "to",
           "the"
          ],
          [
           "traditional",
           "Indian",
           "culture",
           "in",
           "spite",
           "o",
           "f",
           "rapid",
           "westernization",
           "Indians",
           "have",
           "demonstrated",
           "strong",
           "unity",
           "irrespective",
           "of",
           "the",
           "diversity",
           "among",
           "them",
           "Unity",
           "in"
          ],
          [
           "Diversity",
           "is",
           "the",
           "ultimate",
           "mantra",
           "of",
           "Indian",
           "culture",
           "",
           "",
           "",
           "",
           "",
           "",
           "",
           "",
           "",
           "",
           "",
           "",
           "",
           ""
          ]
         ],
         "textfont": {
          "size": 7
         },
         "texttemplate": "%{text}",
         "type": "heatmap",
         "x0": 0,
         "z": [
          [
           0.016035969522716718,
           0.022694520701686684,
           0.01493915463713958,
           0.004190515825508393,
           0.0009454610820248974,
           0.0016912479618365478,
           0.00268400144052858,
           0.0017868112162780678,
           0.002399957824076188,
           0.009170620577419046,
           0.015188045263253985,
           0.010599499121038657,
           0.008579656636573688,
           0.011150415605154515,
           0.007511409125061114,
           0.008208211076812202,
           0.05800147975736043,
           0.24283981519859738,
           0.3961375021771142,
           0.24716002387735897,
           0.06810418068151591,
           0.013522956009069852
          ],
          [
           0.002343557546671509,
           0.0006376828428064297,
           0.001058681523748145,
           0.0016272814512959314,
           0.001650628133293045,
           0.0014611924387572508,
           0.0007725024585551265,
           0.00020680097253149166,
           0.0006876701060835431,
           0.0054299268655057,
           0.019754841217211556,
           0.030012781247612138,
           0.020311129330881153,
           0.01671181340518554,
           0.021623586937546218,
           0.015171016514035969,
           0.03010941398806274,
           0.1219368046826778,
           0.20050142139177482,
           0.12157765501264775,
           0.027147527257023497,
           0.0022730400978149237
          ],
          [
           0.00013682281919736021,
           0.0005098992095810597,
           0.005280711340360257,
           0.0438618972068212,
           0.18067653708571188,
           0.29257189575999026,
           0.17871595728600734,
           0.04568740543231291,
           0.011017400828644108,
           0.0042211629368657366,
           0.0008829245253312273,
           0.000074638918563966,
           0.00001963803395208531,
           0.00020911472222315375,
           0.0009405116625433379,
           0.0016570246401388321,
           0.002301047194668832,
           0.006321751123136643,
           0.010096113787866576,
           0.006142814447148124,
           0.0017250927958556202,
           0.0017356911797210062
          ],
          [
           0.0028394843495573694,
           0.0036574265939075647,
           0.009498202259541875,
           0.01509405596663043,
           0.009137921073334427,
           0.0020437995776288985,
           0.0003347009303746876,
           0.0020437995776288985,
           0.009137921073334427,
           0.015104912760860088,
           0.009858185012054689,
           0.008052440991495644,
           0.022649250361556746,
           0.03481073685029899,
           0.021364143175803017,
           0.00544016994838028,
           0.001571814779619148,
           0.002899808314104235,
           0.007033638005656013,
           0.01043005717533439,
           0.007996399615200597,
           0.012628491681596455
          ],
          [
           0.054497980883487174,
           0.19527898519438266,
           0.3356339461131901,
           0.3153221030637753,
           0.25613633795162866,
           0.1338360008623959,
           0.02980178573110866,
           0.003545601781835478,
           0.0022376602469696616,
           0.007115680162429818,
           0.013255438718525461,
           0.01593524570424493,
           0.016692365530717644,
           0.010625405798297956,
           0.008156192107487043,
           0.010263491554500095,
           0.006264850447669469,
           0.0019029948286145878,
           0.0009438379395952425,
           0.00084541215394217,
           0.0037708604557044573,
           0.016327327518218415
          ],
          [
           0.03203881917253425,
           0.029333017097005778,
           0.014183109248904547,
           0.008540364500633623,
           0.00949611410779181,
           0.005504482864747165,
           0.0015553084764040478,
           0.0036192739370313155,
           0.015602916179663745,
           0.0257759490243184,
           0.017928964805135,
           0.031930762830030476,
           0.12773851243867904,
           0.21010643789153502,
           0.12742765408907614,
           0.02859850543886784,
           0.004372508887119837,
           0.00921144622909014,
           0.015187149996334635,
           0.010599499121038657,
           0.008578761369654339,
           0.011119584750775454
          ],
          [
           0.006979727042448363,
           0.0017636956410651621,
           0.00022297948188599592,
           0.00040157241294856694,
           0.0036544557729652153,
           0.015696941769995136,
           0.025728067529774412,
           0.015594473349059421,
           0.003557914640318731,
           0.0014696572644682013,
           0.008000109421415078,
           0.025421067896560914,
           0.038627384746370126,
           0.041328819620375525,
           0.06426858173042993,
           0.07727204709460544,
           0.042625443404635935,
           0.013906367001633549,
           0.040923292468376116,
           0.1963315427330362,
           0.4807906260849938,
           0.7280920181485249
          ],
          [
           0.8681571859951954,
           0.9148944773849951,
           0.9077585112013937,
           0.8962909962932586,
           0.8976957345119838,
           0.8964310278355607,
           0.8886125141932254,
           0.8905443878864756,
           0.9045844408828435,
           0.911773055539727,
           0.9089164167002615,
           0.9067883468044695,
           0.8837622595503851,
           0.8394732191878663,
           0.7329959455607541,
           0.6307761884959844,
           0.7307740460417249,
           0.831401905945879,
           0.8406860234873585,
           0.8611393205052307,
           0.8870731043049328,
           0.899697264893706
          ],
          [
           0.9047206942120165,
           0.8963293589694363,
           0.8945707173145512,
           0.906354834940053,
           0.9120825519973312,
           0.9049470020639703,
           0.8577555566978912,
           0.6359117413077573,
           0.2719555866619422,
           0.059571299724944446,
           0.046073454521611726,
           0.14828578943289036,
           0.3725526802750615,
           0.6734712801100164,
           0.8765353610325735,
           0.9148385392695872,
           0.8771224255402759,
           0.8045032649277242,
           0.7271815248716813,
           0.7672369401753827,
           0.8202656561877228,
           0.8178049353284116
          ],
          [
           0.8278046080805471,
           0.8772571289813631,
           0.9173787016976834,
           0.9198114746114809,
           0.9032945149918905,
           0.8801908474740621,
           0.8545743347807173,
           0.84596657220452,
           0.8430955986460391,
           0.8638927787729254,
           0.8842702562245024,
           0.8890992389625304,
           0.8470674942866486,
           0.6478677780643064,
           0.3763054438773741,
           0.3794736867990684,
           0.6013812675338914,
           0.7772285444643103,
           0.8763643677448887,
           0.9116656493086384,
           0.9092796894746189,
           0.9083269689323241
          ],
          [
           0.9054993981050627,
           0.9079662979694109,
           0.8976817633934867,
           0.8294770588954261,
           0.7596797225706412,
           0.7341080699378808,
           0.5551211915499654,
           0.234693466989958,
           0.046036764459258514,
           0.011791672403826243,
           0.055621839614247034,
           0.20745876722137646,
           0.4526642483841239,
           0.6395809311817394,
           0.7177155892663999,
           0.7941332681675196,
           0.8577241055425606,
           0.8457047736827812,
           0.7739070903480028,
           0.7438521456858487,
           0.7939028791877851,
           0.8463124828515287
          ],
          [
           0.8733705490515716,
           0.8687870256147234,
           0.8688131677553608,
           0.8697444662171403,
           0.8236221172345726,
           0.7071285113699373,
           0.643293749458728,
           0.739627786262782,
           0.8496715394239144,
           0.896903911643127,
           0.9199021576908637,
           0.9110904196701946,
           0.8818403149034604,
           0.8756707519875463,
           0.8699632574123355,
           0.8590435348596964,
           0.8476422206580623,
           0.8241685562371328,
           0.8171921430794828,
           0.8273004818536922,
           0.8231430505715998,
           0.7828855412848512
          ],
          [
           0.781009536160625,
           0.8503140253562469,
           0.8867532015262329,
           0.8311496211573942,
           0.6081748650265404,
           0.26075930469504316,
           0.05850466742745536,
           0.028754365045614596,
           0.088946629170892,
           0.2950247273366966,
           0.6092135047061987,
           0.8217691584347717,
           0.8847527609222676,
           0.8833385651868384,
           0.8690088063147002,
           0.8696262059465865,
           0.8942828850208645,
           0.9105814119310534,
           0.9031312119885566,
           0.8812038006476921,
           0.8709577300588076,
           0.855117942118824
          ],
          [
           0.812068436944732,
           0.7101848803108357,
           0.627749048152862,
           0.5524874867064822,
           0.409482722788805,
           0.4203924791343049,
           0.546465612644744,
           0.6829216585276162,
           0.7865697664106555,
           0.8282205598657258,
           0.8585433005491616,
           0.8800348300685729,
           0.8756963267645517,
           0.8470354077554456,
           0.7921597184106184,
           0.7361137452410897,
           0.7621429640352912,
           0.825559328329907,
           0.7793906966889609,
           0.7065445652025601,
           0.7554783731141974,
           0.8300242204205369
          ],
          [
           0.8748746245554839,
           0.8719032519486208,
           0.8508132113818476,
           0.8642853658942171,
           0.8690018424259254,
           0.8166169167215699,
           0.7060575430991836,
           0.5957891373032781,
           0.4621088074376172,
           0.2170970084076257,
           0.0499209391493502,
           0.024960211327470484,
           0.09584416936012623,
           0.3234461604619696,
           0.6287871652478209,
           0.7910128336973343,
           0.8404626538320993,
           0.8684591939162746,
           0.8473536725309815,
           0.8074242310870758,
           0.8433933297485372,
           0.8775363703836201
          ],
          [
           0.8685668833681062,
           0.8565385949178792,
           0.8497627431736616,
           0.8439851454842533,
           0.8672144647602311,
           0.8887340261663323,
           0.8987637026540432,
           0.9075023884968851,
           0.884644765901792,
           0.8539922735134009,
           0.8735269216732588,
           0.896441943044456,
           0.8731980884078581,
           0.8328136611470204,
           0.8246776933378168,
           0.845206398682121,
           0.8575074214797551,
           0.8675612599445379,
           0.8373783757168878,
           0.7967330430561672,
           0.8504319688123663,
           0.8991120936682433
          ],
          [
           0.8694469825444395,
           0.8267458384785509,
           0.8312729909795471,
           0.8462225943451083,
           0.8521450565958586,
           0.8798501516930133,
           0.9039353992651238,
           0.8857954463834892,
           0.8202189931950002,
           0.7163990666279585,
           0.6747857122392453,
           0.7694794002593632,
           0.8490127743431825,
           0.8721947042752538,
           0.8852639065628245,
           0.8758659160838932,
           0.8835596397555562,
           0.9031322419858416,
           0.9066568206070009,
           0.9057259639687237,
           0.8960217457042481,
           0.8894700899992403
          ],
          [
           0.8889023977093587,
           0.87934110349705,
           0.8804309968444637,
           0.9062652555873738,
           0.9166162590930385,
           0.8988152713423627,
           0.8410462161670209,
           0.6247110350677039,
           0.2688982522614637,
           0.053185303657057724,
           0.01011281641776445,
           0.022534907160777867,
           0.03534665803171825,
           0.026104161839910198,
           0.014497338057348805,
           0.006521910246817729,
           0.0015215236019750005,
           0.000511370988490001,
           0.0007711741301800776,
           0.0012343032968063776,
           0.0016037936712046165,
           0.001035802986012991
          ],
          [
           0.0003962917588471767,
           0.0005033642986959005,
           0.0008292525392087139,
           0.0007944910747203602,
           0.0010312948341500401,
           0.0014597308009594175,
           0.0012251256211068175,
           0.001133394044729422,
           0.0038981932471606573,
           0.015681191374470597,
           0.025711717713180544,
           0.01559443120955475,
           0.003603139611719532,
           0.0018015396842767004,
           0.006803716777497082,
           0.01123138704407337,
           0.007155375129691856,
           0.003134671201224044,
           0.002796573973868307,
           0.0017343953986535278,
           0.0017251163555113925,
           0.006143082213283967
          ],
          [
           0.010089685953110493,
           0.006191950284396683,
           0.0018701152311919684,
           0.0022819901898794097,
           0.005984072144386603,
           0.014741668839126672,
           0.021627986823005395,
           0.012898584976187122,
           0.002871438962861681,
           0.00023899778256872766,
           0.00011907208715925335,
           0.0013639163427288238,
           0.006112648966063235,
           0.010078054370671602,
           0.0061212718000759085,
           0.0016494653882233126,
           0.0035906565933372593,
           0.015597211248935886,
           0.025816262992132077,
           0.016955261237377398,
           0.009622090526500914,
           0.01076582252463821
          ],
          [
           0.008340130086854004,
           0.007942870728231546,
           0.013649275652995617,
           0.01668925978216276,
           0.010101987214173548,
           0.006555699996040432,
           0.011340439862153238,
           0.04585452435342435,
           0.18216494472137917,
           0.2976735611559616,
           0.1805618601280515,
           0.04091647685887671,
           0.005533696179154826,
           0.004908576549940126,
           0.008876839274072268,
           0.050671785386653595,
           0.21659796443263385,
           0.356235945229354,
           0.21791849991163437,
           0.057300703228168146,
           0.019017762264345445,
           0.009256415670911145
          ],
          [
           0.002039136125790179,
           0.00017210278693901218,
           0.000026387314100006086,
           0.000036285454996584066,
           0.000035555393708187126,
           0.00006864760711121438,
           0.00010595942712402119,
           0.00010124668807950213,
           0.0010956247192242699,
           0.01247970686415133,
           0.054781911879323984,
           0.08966918021098924,
           0.054556899298523205,
           0.014818717797486109,
           0.019773400431019595,
           0.06598864464755723,
           0.09841514668929441,
           0.060770003207479634,
           0.03407674834375948,
           0.06097749857998778,
           0.07682040967674741,
           0.04245171896312787
          ],
          [
           0.01590406689153612,
           0.03161606783780495,
           0.10026581817057278,
           0.3046866385506178,
           0.5893072007579558,
           0.7194503686689238,
           0.7743003222396783,
           0.7927483359691994,
           0.7662433280426628,
           0.7779084883415466,
           0.822413815699248,
           0.8643692560178133,
           0.8836123616656038,
           0.8677249208468284,
           0.8492328179902328,
           0.8055920776421281,
           0.5784586327687558,
           0.2377567956884702,
           0.05929843762979275,
           0.08399949387188643,
           0.21749491235670562,
           0.3596833106856341
          ],
          [
           0.4638571149103694,
           0.4380028928920424,
           0.21789793920798234,
           0.062263657159133935,
           0.10050370229374592,
           0.2689591084000522,
           0.4667915538304278,
           0.6471080383186762,
           0.8054682322728007,
           0.8790345301406627,
           0.8128164736885306,
           0.7208664559045064,
           0.7749668726279694,
           0.8575741137581585,
           0.8758635537560644,
           0.854523861840123,
           0.8625501454954451,
           0.8828795540116037,
           0.8622395934265108,
           0.8076232695592673,
           0.7902584612522058,
           0.8124524466362839
          ],
          [
           0.8481713809536415,
           0.8606825148809996,
           0.8515750914425202,
           0.834501985081727,
           0.7274499287532263,
           0.4933054124356556,
           0.3882737305679974,
           0.5197834694423779,
           0.49649469772769167,
           0.22967481606789772,
           0.04559647994301793,
           0.0037704670341816714,
           0.0024861691563322057,
           0.030120159509296664,
           0.1602231241503298,
           0.3976651038031259,
           0.5764165291541228,
           0.6643618882000388,
           0.7591901549669929,
           0.8314021215694252,
           0.8492985980242196,
           0.8628325773583732
          ],
          [
           0.8817325702093741,
           0.8801812376075229,
           0.8856271090942054,
           0.86724528451845,
           0.7911082484258993,
           0.6953202423206912,
           0.7022948553143316,
           0.8165235339050638,
           0.8831498440636409,
           0.8696222024790703,
           0.8410405585046036,
           0.799532162822761,
           0.7266871601499236,
           0.6647055865697014,
           0.6186965834798097,
           0.7088430113390953,
           0.8219114949435936,
           0.8896280817362425,
           0.9174441846009382,
           0.909353513044072,
           0.9018250598219846,
           0.8993136498386627
          ],
          [
           0.8714100936504038,
           0.8299746863224072,
           0.8224974893102579,
           0.86450822415407,
           0.9032594015914559,
           0.891457756921053,
           0.8492492863676158,
           0.835384079623586,
           0.8532529975784586,
           0.8599789490652348,
           0.8565630872003613,
           0.867539463766771,
           0.884711290388535,
           0.8951800974770394,
           0.8654614149645431,
           0.746785735634461,
           0.5031958404094437,
           0.20556873650673504,
           0.054573220368524154,
           0.0742211727289969,
           0.16360334807709787,
           0.3367289847060919
          ],
          [
           0.6288249343897989,
           0.8095592178120048,
           0.8470005811934138,
           0.8307031054667808,
           0.7477867343273935,
           0.5816569296443562,
           0.344932549021766,
           0.2818449904654052,
           0.4270818329718684,
           0.6660499805993655,
           0.8439764103339971,
           0.8967750767334857,
           0.893788982359549,
           0.8837171041564537,
           0.8671049142683678,
           0.8645488209403847,
           0.8846863098530664,
           0.8704729315009714,
           0.82725060439904,
           0.7860676811331502,
           0.7614679390512744,
           0.8127597188670189
          ],
          [
           0.8614775410649406,
           0.8457497054072689,
           0.8087068278027183,
           0.8195480216024116,
           0.8729627936960275,
           0.897857329543293,
           0.8729013009131072,
           0.8593985573087045,
           0.8934271444176558,
           0.9150591150634233,
           0.9098325946990278,
           0.9027770719285055,
           0.880667782476243,
           0.8586353594764788,
           0.8427503592324982,
           0.8263681410346693,
           0.8496465990270103,
           0.8795529070567933,
           0.8628890316397626,
           0.8510764389848,
           0.8777047248576841,
           0.900111833581778
          ],
          [
           0.8944739891752029,
           0.8855248034052505,
           0.8844385540548994,
           0.8925294979923742,
           0.9017133252808243,
           0.866055455844472,
           0.8071942661998952,
           0.8300771190724721,
           0.877555713899789,
           0.8934749588372226,
           0.895583492039838,
           0.8813111905221107,
           0.8399705608553849,
           0.831288462186937,
           0.863402131617089,
           0.8726562406799571,
           0.8773588430546987,
           0.8482322934796265,
           0.7959534484890695,
           0.8290673252731593,
           0.8840782142959809,
           0.89826589268583
          ],
          [
           0.8741551812869359,
           0.8534833200891087,
           0.8667372411433786,
           0.8532490745841554,
           0.7997418700185179,
           0.8092167569753652,
           0.8638977068297085,
           0.8634994996050699,
           0.8369459002848866,
           0.8398924990722355,
           0.8269533054834852,
           0.7791506093344708,
           0.6033659453084903,
           0.2720182951759729,
           0.06259724936438173,
           0.028495756082896846,
           0.0843703201293029,
           0.2878936907951174,
           0.6090683106761711,
           0.8334277106993191,
           0.8990265391186136,
           0.9100389478301867
          ],
          [
           0.8917980723616048,
           0.795070954516749,
           0.7139258651922897,
           0.7579301232541793,
           0.826537202259654,
           0.8413988230100761,
           0.8502886010895576,
           0.8574617075261513,
           0.8667511343408283,
           0.8770293327414365,
           0.8827117124927659,
           0.8931209574481599,
           0.9005831752908457,
           0.8784933047531615,
           0.8559145756445459,
           0.8696201121205995,
           0.8665894665874956,
           0.7985105222324047,
           0.596735494839881,
           0.2629901079919885,
           0.059200802266285074,
           0.035751704741072796
          ],
          [
           0.0520062768697963,
           0.033001929749896554,
           0.013941082459371404,
           0.011825818771122305,
           0.006895035575632967,
           0.0023617160058702607,
           0.003953672577450814,
           0.007155989136462119,
           0.008307725123256948,
           0.010835202666848155,
           0.01732810518645853,
           0.02454013143395711,
           0.04171009353637675,
           0.13181608599914219,
           0.21315271751271836,
           0.1297765800628285,
           0.029766284855875624,
           0.004433210592071356,
           0.0032498121981881186,
           0.0020679312623078138,
           0.0010674811089454207,
           0.0038623888437716446
          ],
          [
           0.015977510833302785,
           0.028603576688929065,
           0.02845692839103081,
           0.024688422451938297,
           0.013152938255553815,
           0.0029176465572622176,
           0.0004137356934468546,
           0.0003280392740318562,
           0.0002743956046298049,
           0.0003237496525684013,
           0.0010943929171671766,
           0.0027695365234120016,
           0.0034478398525875217,
           0.0018601224438441718,
           0.00044581907207464185,
           0.00016169481332653957,
           0.00042556221245527217,
           0.004379270301062794,
           0.04281949563762817,
           0.18597320828811567,
           0.30605924975788384,
           0.1868804466494327
          ],
          [
           0.0425324244332921,
           0.0037185555260529613,
           0.0002174848189564634,
           0.00030085748076003993,
           0.0011708315730162555,
           0.0019487492683760228,
           0.0012424150804106443,
           0.000330998617253777,
           0.00013402640900665443,
           0.00042167961451108275,
           0.0007611698715027295,
           0.001168793729569412,
           0.00557447465117455,
           0.019767335619162066,
           0.029778371898134013,
           0.017440179815419985,
           0.0038404811777457497,
           0.0003137075713112317,
           0.000009446113094940697,
           0,
           5.889913943083433e-8,
           0.0000019504716222301143
          ],
          [
           0.000023761608758341877,
           0.00010651570192168235,
           0.0001773926736191047,
           0.0001513697900602711,
           0.0006339132120306435,
           0.006211156254603256,
           0.05274423915053396,
           0.22986701646843416,
           0.42231715569012057,
           0.3364681522024644,
           0.12449160610644192,
           0.021575188179289006,
           0.0017772040635405674,
           0.00012502257229479345,
           0.0003656324082861091,
           0.0016242714610908242,
           0.0027403391244532186,
           0.0020842179164098644,
           0.002893519709030541,
           0.009524419740878223,
           0.01583030543561819,
           0.012237501929527429
          ],
          [
           0.00723587618346211,
           0.0038994561357318437,
           0.0020310177959849776,
           0.0012823267620819304,
           0.0005440657601877752,
           0.0001289362521160521,
           0.00004297157085355605,
           0.00008547610515936229,
           0.0006063356914949335,
           0.0027705169481411595,
           0.006323670085569524,
           0.011759062898279653,
           0.016091484398326684,
           0.01320194311857605,
           0.019535773557776435,
           0.05144680542854554,
           0.13803534265856823,
           0.20764305175530623,
           0.12445270349417249,
           0.02794490827887461,
           0.0024393380732947003,
           0.00011454653908700321
          ],
          [
           0.00012979570564742313,
           0.0034380750516412365,
           0.04071544765114298,
           0.1818578177575144,
           0.3013950742849656,
           0.19068246762773633,
           0.055571425832879065,
           0.012463132290925527,
           0.0021599687733657477,
           0.0003477646528920907,
           0.0006950115650599009,
           0.0011295934466829978,
           0.0014636383759065656,
           0.0039006199351191546,
           0.006690022098786449,
           0.011807313499959116,
           0.06530576132976537,
           0.26120913833428383,
           0.5599899107255382,
           0.7599342169418173,
           0.8365975586325256,
           0.8629255092420363
          ],
          [
           0.8730022210398168,
           0.8608425859564579,
           0.840997680328737,
           0.8229345718638461,
           0.7727067229935966,
           0.7539789553687524,
           0.8326837000695227,
           0.9014008957120219,
           0.8981149858454951,
           0.865300539132973,
           0.8412895646460342,
           0.83603474057993,
           0.8602536200278885,
           0.8577329326991219,
           0.8192285246774992,
           0.8192599293295166,
           0.8517108702448382,
           0.8621865457748751,
           0.8620195037563683,
           0.8763363521146463,
           0.8843855765840145,
           0.8836783334471088
          ],
          [
           0.8787551113772212,
           0.862214968172758,
           0.8514050084515637,
           0.8743379504799985,
           0.8993102102814694,
           0.8953553617164581,
           0.8860706430223435,
           0.8820592426622567,
           0.8694876835936546,
           0.8630178632874983,
           0.87710060991988,
           0.8866793196633316,
           0.8818229519341695,
           0.8470677323830884,
           0.7829231727247207,
           0.7716601650901658,
           0.8347472301962432,
           0.856857121178636,
           0.8337135448531954,
           0.8351377507279808,
           0.8631949482693517,
           0.8901301619394184
          ],
          [
           0.899459493767444,
           0.8729000996830587,
           0.8205370134196205,
           0.7958332990511696,
           0.8312185478387262,
           0.8576900372966543,
           0.8673106236190691,
           0.8917783743024982,
           0.9073592462245849,
           0.9052984166509906,
           0.8751017667338431,
           0.8530250982168917,
           0.8761641745686218,
           0.8935488054657104,
           0.8917805729879409,
           0.8638411402938841,
           0.8097400085351854,
           0.7527118666542667,
           0.7206665845539195,
           0.7556718504867103,
           0.8008229430006502,
           0.836249211706426
          ],
          [
           0.8130808475964744,
           0.5869490073583218,
           0.24365846878067485,
           0.07613222069286557,
           0.16014695409568827,
           0.37959369588688996,
           0.589043461656465,
           0.7647014762246102,
           0.8605649058330266,
           0.887363266301261,
           0.9028819544667088,
           0.9039895754132422,
           0.8543463299553675,
           0.7853815309721499,
           0.718633448308158,
           0.6552969221161197,
           0.7303370664269325,
           0.828878116002742,
           0.8790122579898056,
           0.9130007816863472,
           0.9190210596716901,
           0.9096706805861894
          ],
          [
           0.906947806088754,
           0.9001376928500201,
           0.8947745291901172,
           0.8944505565982138,
           0.8874240716850119,
           0.8818050309539239,
           0.9033000446114049,
           0.9108096341034313,
           0.8805865757975944,
           0.8613106983495902,
           0.8870256120848736,
           0.8962770048248849,
           0.8688739166397578,
           0.8684835250964325,
           0.8814082415815687,
           0.8451781035103718,
           0.6389485961856141,
           0.2785218756572576,
           0.054724374225438986,
           0.004738010880577274,
           0.0020728403051101974,
           0.003166010027041576
          ],
          [
           0.002033245440880073,
           0.0006695430287100995,
           0.00020482174662768152,
           0.00008540690569591028,
           0.0004963465031499815,
           0.005506042721825231,
           0.024360411095099004,
           0.04205763552509957,
           0.04257408903492367,
           0.07126418588089341,
           0.09868970669240597,
           0.05762505625902525,
           0.013279761513191726,
           0.0015048848469332262,
           0.00020163747772346724,
           0.00023856031534543078,
           0.0008896177766878124,
           0.0015077964435338,
           0.0015980150915831763,
           0.003322186097459348,
           0.0051073463697776265,
           0.0031163509834407
          ],
          [
           0.0008442640594409065,
           0.0005163619854792295,
           0.0007626964522677406,
           0.0008567792835682503,
           0.0017644443903913627,
           0.002697867135263789,
           0.0016648937832383368,
           0.0005106261799274056,
           0.0010440803571961867,
           0.0045695978583840295,
           0.009999562447375527,
           0.017187855321373645,
           0.02217428521762926,
           0.012943439933584471,
           0.0028727936430685904,
           0.0002356876509327148,
           0.000009455581989920923,
           0.000029373857945700433,
           0.00015627822653200475,
           0.0005601228861825008,
           0.001758315899249496,
           0.003518343019689935
          ],
          [
           0.006715768295508977,
           0.021741716919676277,
           0.07094843491517802,
           0.11215580585129913,
           0.07322058456927648,
           0.05028063175601992,
           0.15922216514103543,
           0.38203107550495996,
           0.44528407821700483,
           0.23181990454188242,
           0.06644801422101998,
           0.06973448125920732,
           0.09827552486817337,
           0.05728037770319425,
           0.012974839452709216,
           0.0017008678028828483,
           0.00045217997022081795,
           0.0002384277072160389,
           0.0020511534592540922,
           0.01320266102827624,
           0.039920859320147474,
           0.05414644641024463
          ],
          [
           0.030300565383649555,
           0.0072571023979926584,
           0.00365671708674398,
           0.005102455491825948,
           0.0030895037158639705,
           0.0007285027462631409,
           0.00009534108262191446,
           0.00003308580858221126,
           0.00019763500667445592,
           0.0008742225822194632,
           0.0014492325863703656,
           0.0009229474395300708,
           0.0005221187379207395,
           0.0036385323554324134,
           0.021518290795278203,
           0.059953024814925045,
           0.07677388485737274,
           0.041794670258008294,
           0.009321603793261232,
           0.0023340663416828913,
           0.0063004002086324215,
           0.011276250240590887
          ],
          [
           0.014098014993717283,
           0.026535083237495337,
           0.03539501715822777,
           0.02269396975497421,
           0.01716953573907245,
           0.021568841385931962,
           0.012917347260483844,
           0.0029406326820541904,
           0.0002782138288717618,
           0.000016619659546581535,
           7.801886488920456e-7,
           2.3559655772333727e-8,
           0,
           0,
           0,
           0,
           0,
           0,
           0,
           0,
           0,
           0
          ]
         ],
         "zmax": 1,
         "zmin": 0
        }
       ],
       "layout": {
        "font": {
         "family": "sans-serif"
        },
        "height": 1200,
        "template": {
         "data": {
          "bar": [
           {
            "error_x": {
             "color": "#2a3f5f"
            },
            "error_y": {
             "color": "#2a3f5f"
            },
            "marker": {
             "line": {
              "color": "#E5ECF6",
              "width": 0.5
             },
             "pattern": {
              "fillmode": "overlay",
              "size": 10,
              "solidity": 0.2
             }
            },
            "type": "bar"
           }
          ],
          "barpolar": [
           {
            "marker": {
             "line": {
              "color": "#E5ECF6",
              "width": 0.5
             },
             "pattern": {
              "fillmode": "overlay",
              "size": 10,
              "solidity": 0.2
             }
            },
            "type": "barpolar"
           }
          ],
          "carpet": [
           {
            "aaxis": {
             "endlinecolor": "#2a3f5f",
             "gridcolor": "white",
             "linecolor": "white",
             "minorgridcolor": "white",
             "startlinecolor": "#2a3f5f"
            },
            "baxis": {
             "endlinecolor": "#2a3f5f",
             "gridcolor": "white",
             "linecolor": "white",
             "minorgridcolor": "white",
             "startlinecolor": "#2a3f5f"
            },
            "type": "carpet"
           }
          ],
          "choropleth": [
           {
            "colorbar": {
             "outlinewidth": 0,
             "ticks": ""
            },
            "type": "choropleth"
           }
          ],
          "contour": [
           {
            "colorbar": {
             "outlinewidth": 0,
             "ticks": ""
            },
            "colorscale": [
             [
              0,
              "#0d0887"
             ],
             [
              0.1111111111111111,
              "#46039f"
             ],
             [
              0.2222222222222222,
              "#7201a8"
             ],
             [
              0.3333333333333333,
              "#9c179e"
             ],
             [
              0.4444444444444444,
              "#bd3786"
             ],
             [
              0.5555555555555556,
              "#d8576b"
             ],
             [
              0.6666666666666666,
              "#ed7953"
             ],
             [
              0.7777777777777778,
              "#fb9f3a"
             ],
             [
              0.8888888888888888,
              "#fdca26"
             ],
             [
              1,
              "#f0f921"
             ]
            ],
            "type": "contour"
           }
          ],
          "contourcarpet": [
           {
            "colorbar": {
             "outlinewidth": 0,
             "ticks": ""
            },
            "type": "contourcarpet"
           }
          ],
          "heatmap": [
           {
            "colorbar": {
             "outlinewidth": 0,
             "ticks": ""
            },
            "colorscale": [
             [
              0,
              "#0d0887"
             ],
             [
              0.1111111111111111,
              "#46039f"
             ],
             [
              0.2222222222222222,
              "#7201a8"
             ],
             [
              0.3333333333333333,
              "#9c179e"
             ],
             [
              0.4444444444444444,
              "#bd3786"
             ],
             [
              0.5555555555555556,
              "#d8576b"
             ],
             [
              0.6666666666666666,
              "#ed7953"
             ],
             [
              0.7777777777777778,
              "#fb9f3a"
             ],
             [
              0.8888888888888888,
              "#fdca26"
             ],
             [
              1,
              "#f0f921"
             ]
            ],
            "type": "heatmap"
           }
          ],
          "heatmapgl": [
           {
            "colorbar": {
             "outlinewidth": 0,
             "ticks": ""
            },
            "colorscale": [
             [
              0,
              "#0d0887"
             ],
             [
              0.1111111111111111,
              "#46039f"
             ],
             [
              0.2222222222222222,
              "#7201a8"
             ],
             [
              0.3333333333333333,
              "#9c179e"
             ],
             [
              0.4444444444444444,
              "#bd3786"
             ],
             [
              0.5555555555555556,
              "#d8576b"
             ],
             [
              0.6666666666666666,
              "#ed7953"
             ],
             [
              0.7777777777777778,
              "#fb9f3a"
             ],
             [
              0.8888888888888888,
              "#fdca26"
             ],
             [
              1,
              "#f0f921"
             ]
            ],
            "type": "heatmapgl"
           }
          ],
          "histogram": [
           {
            "marker": {
             "pattern": {
              "fillmode": "overlay",
              "size": 10,
              "solidity": 0.2
             }
            },
            "type": "histogram"
           }
          ],
          "histogram2d": [
           {
            "colorbar": {
             "outlinewidth": 0,
             "ticks": ""
            },
            "colorscale": [
             [
              0,
              "#0d0887"
             ],
             [
              0.1111111111111111,
              "#46039f"
             ],
             [
              0.2222222222222222,
              "#7201a8"
             ],
             [
              0.3333333333333333,
              "#9c179e"
             ],
             [
              0.4444444444444444,
              "#bd3786"
             ],
             [
              0.5555555555555556,
              "#d8576b"
             ],
             [
              0.6666666666666666,
              "#ed7953"
             ],
             [
              0.7777777777777778,
              "#fb9f3a"
             ],
             [
              0.8888888888888888,
              "#fdca26"
             ],
             [
              1,
              "#f0f921"
             ]
            ],
            "type": "histogram2d"
           }
          ],
          "histogram2dcontour": [
           {
            "colorbar": {
             "outlinewidth": 0,
             "ticks": ""
            },
            "colorscale": [
             [
              0,
              "#0d0887"
             ],
             [
              0.1111111111111111,
              "#46039f"
             ],
             [
              0.2222222222222222,
              "#7201a8"
             ],
             [
              0.3333333333333333,
              "#9c179e"
             ],
             [
              0.4444444444444444,
              "#bd3786"
             ],
             [
              0.5555555555555556,
              "#d8576b"
             ],
             [
              0.6666666666666666,
              "#ed7953"
             ],
             [
              0.7777777777777778,
              "#fb9f3a"
             ],
             [
              0.8888888888888888,
              "#fdca26"
             ],
             [
              1,
              "#f0f921"
             ]
            ],
            "type": "histogram2dcontour"
           }
          ],
          "mesh3d": [
           {
            "colorbar": {
             "outlinewidth": 0,
             "ticks": ""
            },
            "type": "mesh3d"
           }
          ],
          "parcoords": [
           {
            "line": {
             "colorbar": {
              "outlinewidth": 0,
              "ticks": ""
             }
            },
            "type": "parcoords"
           }
          ],
          "pie": [
           {
            "automargin": true,
            "type": "pie"
           }
          ],
          "scatter": [
           {
            "fillpattern": {
             "fillmode": "overlay",
             "size": 10,
             "solidity": 0.2
            },
            "type": "scatter"
           }
          ],
          "scatter3d": [
           {
            "line": {
             "colorbar": {
              "outlinewidth": 0,
              "ticks": ""
             }
            },
            "marker": {
             "colorbar": {
              "outlinewidth": 0,
              "ticks": ""
             }
            },
            "type": "scatter3d"
           }
          ],
          "scattercarpet": [
           {
            "marker": {
             "colorbar": {
              "outlinewidth": 0,
              "ticks": ""
             }
            },
            "type": "scattercarpet"
           }
          ],
          "scattergeo": [
           {
            "marker": {
             "colorbar": {
              "outlinewidth": 0,
              "ticks": ""
             }
            },
            "type": "scattergeo"
           }
          ],
          "scattergl": [
           {
            "marker": {
             "colorbar": {
              "outlinewidth": 0,
              "ticks": ""
             }
            },
            "type": "scattergl"
           }
          ],
          "scattermapbox": [
           {
            "marker": {
             "colorbar": {
              "outlinewidth": 0,
              "ticks": ""
             }
            },
            "type": "scattermapbox"
           }
          ],
          "scatterpolar": [
           {
            "marker": {
             "colorbar": {
              "outlinewidth": 0,
              "ticks": ""
             }
            },
            "type": "scatterpolar"
           }
          ],
          "scatterpolargl": [
           {
            "marker": {
             "colorbar": {
              "outlinewidth": 0,
              "ticks": ""
             }
            },
            "type": "scatterpolargl"
           }
          ],
          "scatterternary": [
           {
            "marker": {
             "colorbar": {
              "outlinewidth": 0,
              "ticks": ""
             }
            },
            "type": "scatterternary"
           }
          ],
          "surface": [
           {
            "colorbar": {
             "outlinewidth": 0,
             "ticks": ""
            },
            "colorscale": [
             [
              0,
              "#0d0887"
             ],
             [
              0.1111111111111111,
              "#46039f"
             ],
             [
              0.2222222222222222,
              "#7201a8"
             ],
             [
              0.3333333333333333,
              "#9c179e"
             ],
             [
              0.4444444444444444,
              "#bd3786"
             ],
             [
              0.5555555555555556,
              "#d8576b"
             ],
             [
              0.6666666666666666,
              "#ed7953"
             ],
             [
              0.7777777777777778,
              "#fb9f3a"
             ],
             [
              0.8888888888888888,
              "#fdca26"
             ],
             [
              1,
              "#f0f921"
             ]
            ],
            "type": "surface"
           }
          ],
          "table": [
           {
            "cells": {
             "fill": {
              "color": "#EBF0F8"
             },
             "line": {
              "color": "white"
             }
            },
            "header": {
             "fill": {
              "color": "#C8D4E3"
             },
             "line": {
              "color": "white"
             }
            },
            "type": "table"
           }
          ]
         },
         "layout": {
          "annotationdefaults": {
           "arrowcolor": "#2a3f5f",
           "arrowhead": 0,
           "arrowwidth": 1
          },
          "autotypenumbers": "strict",
          "coloraxis": {
           "colorbar": {
            "outlinewidth": 0,
            "ticks": ""
           }
          },
          "colorscale": {
           "diverging": [
            [
             0,
             "#8e0152"
            ],
            [
             0.1,
             "#c51b7d"
            ],
            [
             0.2,
             "#de77ae"
            ],
            [
             0.3,
             "#f1b6da"
            ],
            [
             0.4,
             "#fde0ef"
            ],
            [
             0.5,
             "#f7f7f7"
            ],
            [
             0.6,
             "#e6f5d0"
            ],
            [
             0.7,
             "#b8e186"
            ],
            [
             0.8,
             "#7fbc41"
            ],
            [
             0.9,
             "#4d9221"
            ],
            [
             1,
             "#276419"
            ]
           ],
           "sequential": [
            [
             0,
             "#0d0887"
            ],
            [
             0.1111111111111111,
             "#46039f"
            ],
            [
             0.2222222222222222,
             "#7201a8"
            ],
            [
             0.3333333333333333,
             "#9c179e"
            ],
            [
             0.4444444444444444,
             "#bd3786"
            ],
            [
             0.5555555555555556,
             "#d8576b"
            ],
            [
             0.6666666666666666,
             "#ed7953"
            ],
            [
             0.7777777777777778,
             "#fb9f3a"
            ],
            [
             0.8888888888888888,
             "#fdca26"
            ],
            [
             1,
             "#f0f921"
            ]
           ],
           "sequentialminus": [
            [
             0,
             "#0d0887"
            ],
            [
             0.1111111111111111,
             "#46039f"
            ],
            [
             0.2222222222222222,
             "#7201a8"
            ],
            [
             0.3333333333333333,
             "#9c179e"
            ],
            [
             0.4444444444444444,
             "#bd3786"
            ],
            [
             0.5555555555555556,
             "#d8576b"
            ],
            [
             0.6666666666666666,
             "#ed7953"
            ],
            [
             0.7777777777777778,
             "#fb9f3a"
            ],
            [
             0.8888888888888888,
             "#fdca26"
            ],
            [
             1,
             "#f0f921"
            ]
           ]
          },
          "colorway": [
           "#636efa",
           "#EF553B",
           "#00cc96",
           "#ab63fa",
           "#FFA15A",
           "#19d3f3",
           "#FF6692",
           "#B6E880",
           "#FF97FF",
           "#FECB52"
          ],
          "font": {
           "color": "#2a3f5f"
          },
          "geo": {
           "bgcolor": "white",
           "lakecolor": "white",
           "landcolor": "#E5ECF6",
           "showlakes": true,
           "showland": true,
           "subunitcolor": "white"
          },
          "hoverlabel": {
           "align": "left"
          },
          "hovermode": "closest",
          "mapbox": {
           "style": "light"
          },
          "paper_bgcolor": "white",
          "plot_bgcolor": "#E5ECF6",
          "polar": {
           "angularaxis": {
            "gridcolor": "white",
            "linecolor": "white",
            "ticks": ""
           },
           "bgcolor": "#E5ECF6",
           "radialaxis": {
            "gridcolor": "white",
            "linecolor": "white",
            "ticks": ""
           }
          },
          "scene": {
           "xaxis": {
            "backgroundcolor": "#E5ECF6",
            "gridcolor": "white",
            "gridwidth": 2,
            "linecolor": "white",
            "showbackground": true,
            "ticks": "",
            "zerolinecolor": "white"
           },
           "yaxis": {
            "backgroundcolor": "#E5ECF6",
            "gridcolor": "white",
            "gridwidth": 2,
            "linecolor": "white",
            "showbackground": true,
            "ticks": "",
            "zerolinecolor": "white"
           },
           "zaxis": {
            "backgroundcolor": "#E5ECF6",
            "gridcolor": "white",
            "gridwidth": 2,
            "linecolor": "white",
            "showbackground": true,
            "ticks": "",
            "zerolinecolor": "white"
           }
          },
          "shapedefaults": {
           "line": {
            "color": "#2a3f5f"
           }
          },
          "ternary": {
           "aaxis": {
            "gridcolor": "white",
            "linecolor": "white",
            "ticks": ""
           },
           "baxis": {
            "gridcolor": "white",
            "linecolor": "white",
            "ticks": ""
           },
           "bgcolor": "#E5ECF6",
           "caxis": {
            "gridcolor": "white",
            "linecolor": "white",
            "ticks": ""
           }
          },
          "title": {
           "x": 0.05
          },
          "xaxis": {
           "automargin": true,
           "gridcolor": "white",
           "linecolor": "white",
           "ticks": "",
           "title": {
            "standoff": 15
           },
           "zerolinecolor": "white",
           "zerolinewidth": 2
          },
          "yaxis": {
           "automargin": true,
           "gridcolor": "white",
           "linecolor": "white",
           "ticks": "",
           "title": {
            "standoff": 15
           },
           "zerolinecolor": "white",
           "zerolinewidth": 2
          }
         }
        },
        "width": 1000,
        "yaxis": {
         "autorange": "reversed"
        }
       }
      }
     },
     "metadata": {},
     "output_type": "display_data"
    }
   ],
   "source": [
    "fig.show()"
   ]
  },
  {
   "cell_type": "code",
   "execution_count": 485,
   "metadata": {},
   "outputs": [
    {
     "data": {
      "application/vnd.plotly.v1+json": {
       "config": {
        "plotlyServerURL": "https://plot.ly"
       },
       "data": [
        {
         "domain": {
          "x": [
           0,
           1
          ],
          "y": [
           0,
           1
          ]
         },
         "hole": 0.5,
         "hovertemplate": "Status=%{label}<br>No. of Words=%{value}<extra></extra>",
         "labels": [
          "Unplagiarised",
          "Plagiarised"
         ],
         "legendgroup": "",
         "name": "",
         "showlegend": true,
         "type": "pie",
         "values": [
          542,
          543
         ]
        }
       ],
       "layout": {
        "font": {
         "color": "cyan",
         "family": "sans-serif"
        },
        "height": 400,
        "legend": {
         "title": {
          "font": {
           "color": "cyan"
          }
         },
         "tracegroupgap": 0
        },
        "margin": {
         "b": 0,
         "l": 0,
         "r": 0,
         "t": 40
        },
        "paper_bgcolor": "#000000",
        "piecolorway": [
         "rgb(255,0,0)",
         "rgb(0,0,255)"
        ],
        "template": {
         "data": {
          "bar": [
           {
            "error_x": {
             "color": "#2a3f5f"
            },
            "error_y": {
             "color": "#2a3f5f"
            },
            "marker": {
             "line": {
              "color": "#E5ECF6",
              "width": 0.5
             },
             "pattern": {
              "fillmode": "overlay",
              "size": 10,
              "solidity": 0.2
             }
            },
            "type": "bar"
           }
          ],
          "barpolar": [
           {
            "marker": {
             "line": {
              "color": "#E5ECF6",
              "width": 0.5
             },
             "pattern": {
              "fillmode": "overlay",
              "size": 10,
              "solidity": 0.2
             }
            },
            "type": "barpolar"
           }
          ],
          "carpet": [
           {
            "aaxis": {
             "endlinecolor": "#2a3f5f",
             "gridcolor": "white",
             "linecolor": "white",
             "minorgridcolor": "white",
             "startlinecolor": "#2a3f5f"
            },
            "baxis": {
             "endlinecolor": "#2a3f5f",
             "gridcolor": "white",
             "linecolor": "white",
             "minorgridcolor": "white",
             "startlinecolor": "#2a3f5f"
            },
            "type": "carpet"
           }
          ],
          "choropleth": [
           {
            "colorbar": {
             "outlinewidth": 0,
             "ticks": ""
            },
            "type": "choropleth"
           }
          ],
          "contour": [
           {
            "colorbar": {
             "outlinewidth": 0,
             "ticks": ""
            },
            "colorscale": [
             [
              0,
              "#0d0887"
             ],
             [
              0.1111111111111111,
              "#46039f"
             ],
             [
              0.2222222222222222,
              "#7201a8"
             ],
             [
              0.3333333333333333,
              "#9c179e"
             ],
             [
              0.4444444444444444,
              "#bd3786"
             ],
             [
              0.5555555555555556,
              "#d8576b"
             ],
             [
              0.6666666666666666,
              "#ed7953"
             ],
             [
              0.7777777777777778,
              "#fb9f3a"
             ],
             [
              0.8888888888888888,
              "#fdca26"
             ],
             [
              1,
              "#f0f921"
             ]
            ],
            "type": "contour"
           }
          ],
          "contourcarpet": [
           {
            "colorbar": {
             "outlinewidth": 0,
             "ticks": ""
            },
            "type": "contourcarpet"
           }
          ],
          "heatmap": [
           {
            "colorbar": {
             "outlinewidth": 0,
             "ticks": ""
            },
            "colorscale": [
             [
              0,
              "#0d0887"
             ],
             [
              0.1111111111111111,
              "#46039f"
             ],
             [
              0.2222222222222222,
              "#7201a8"
             ],
             [
              0.3333333333333333,
              "#9c179e"
             ],
             [
              0.4444444444444444,
              "#bd3786"
             ],
             [
              0.5555555555555556,
              "#d8576b"
             ],
             [
              0.6666666666666666,
              "#ed7953"
             ],
             [
              0.7777777777777778,
              "#fb9f3a"
             ],
             [
              0.8888888888888888,
              "#fdca26"
             ],
             [
              1,
              "#f0f921"
             ]
            ],
            "type": "heatmap"
           }
          ],
          "heatmapgl": [
           {
            "colorbar": {
             "outlinewidth": 0,
             "ticks": ""
            },
            "colorscale": [
             [
              0,
              "#0d0887"
             ],
             [
              0.1111111111111111,
              "#46039f"
             ],
             [
              0.2222222222222222,
              "#7201a8"
             ],
             [
              0.3333333333333333,
              "#9c179e"
             ],
             [
              0.4444444444444444,
              "#bd3786"
             ],
             [
              0.5555555555555556,
              "#d8576b"
             ],
             [
              0.6666666666666666,
              "#ed7953"
             ],
             [
              0.7777777777777778,
              "#fb9f3a"
             ],
             [
              0.8888888888888888,
              "#fdca26"
             ],
             [
              1,
              "#f0f921"
             ]
            ],
            "type": "heatmapgl"
           }
          ],
          "histogram": [
           {
            "marker": {
             "pattern": {
              "fillmode": "overlay",
              "size": 10,
              "solidity": 0.2
             }
            },
            "type": "histogram"
           }
          ],
          "histogram2d": [
           {
            "colorbar": {
             "outlinewidth": 0,
             "ticks": ""
            },
            "colorscale": [
             [
              0,
              "#0d0887"
             ],
             [
              0.1111111111111111,
              "#46039f"
             ],
             [
              0.2222222222222222,
              "#7201a8"
             ],
             [
              0.3333333333333333,
              "#9c179e"
             ],
             [
              0.4444444444444444,
              "#bd3786"
             ],
             [
              0.5555555555555556,
              "#d8576b"
             ],
             [
              0.6666666666666666,
              "#ed7953"
             ],
             [
              0.7777777777777778,
              "#fb9f3a"
             ],
             [
              0.8888888888888888,
              "#fdca26"
             ],
             [
              1,
              "#f0f921"
             ]
            ],
            "type": "histogram2d"
           }
          ],
          "histogram2dcontour": [
           {
            "colorbar": {
             "outlinewidth": 0,
             "ticks": ""
            },
            "colorscale": [
             [
              0,
              "#0d0887"
             ],
             [
              0.1111111111111111,
              "#46039f"
             ],
             [
              0.2222222222222222,
              "#7201a8"
             ],
             [
              0.3333333333333333,
              "#9c179e"
             ],
             [
              0.4444444444444444,
              "#bd3786"
             ],
             [
              0.5555555555555556,
              "#d8576b"
             ],
             [
              0.6666666666666666,
              "#ed7953"
             ],
             [
              0.7777777777777778,
              "#fb9f3a"
             ],
             [
              0.8888888888888888,
              "#fdca26"
             ],
             [
              1,
              "#f0f921"
             ]
            ],
            "type": "histogram2dcontour"
           }
          ],
          "mesh3d": [
           {
            "colorbar": {
             "outlinewidth": 0,
             "ticks": ""
            },
            "type": "mesh3d"
           }
          ],
          "parcoords": [
           {
            "line": {
             "colorbar": {
              "outlinewidth": 0,
              "ticks": ""
             }
            },
            "type": "parcoords"
           }
          ],
          "pie": [
           {
            "automargin": true,
            "type": "pie"
           }
          ],
          "scatter": [
           {
            "fillpattern": {
             "fillmode": "overlay",
             "size": 10,
             "solidity": 0.2
            },
            "type": "scatter"
           }
          ],
          "scatter3d": [
           {
            "line": {
             "colorbar": {
              "outlinewidth": 0,
              "ticks": ""
             }
            },
            "marker": {
             "colorbar": {
              "outlinewidth": 0,
              "ticks": ""
             }
            },
            "type": "scatter3d"
           }
          ],
          "scattercarpet": [
           {
            "marker": {
             "colorbar": {
              "outlinewidth": 0,
              "ticks": ""
             }
            },
            "type": "scattercarpet"
           }
          ],
          "scattergeo": [
           {
            "marker": {
             "colorbar": {
              "outlinewidth": 0,
              "ticks": ""
             }
            },
            "type": "scattergeo"
           }
          ],
          "scattergl": [
           {
            "marker": {
             "colorbar": {
              "outlinewidth": 0,
              "ticks": ""
             }
            },
            "type": "scattergl"
           }
          ],
          "scattermapbox": [
           {
            "marker": {
             "colorbar": {
              "outlinewidth": 0,
              "ticks": ""
             }
            },
            "type": "scattermapbox"
           }
          ],
          "scatterpolar": [
           {
            "marker": {
             "colorbar": {
              "outlinewidth": 0,
              "ticks": ""
             }
            },
            "type": "scatterpolar"
           }
          ],
          "scatterpolargl": [
           {
            "marker": {
             "colorbar": {
              "outlinewidth": 0,
              "ticks": ""
             }
            },
            "type": "scatterpolargl"
           }
          ],
          "scatterternary": [
           {
            "marker": {
             "colorbar": {
              "outlinewidth": 0,
              "ticks": ""
             }
            },
            "type": "scatterternary"
           }
          ],
          "surface": [
           {
            "colorbar": {
             "outlinewidth": 0,
             "ticks": ""
            },
            "colorscale": [
             [
              0,
              "#0d0887"
             ],
             [
              0.1111111111111111,
              "#46039f"
             ],
             [
              0.2222222222222222,
              "#7201a8"
             ],
             [
              0.3333333333333333,
              "#9c179e"
             ],
             [
              0.4444444444444444,
              "#bd3786"
             ],
             [
              0.5555555555555556,
              "#d8576b"
             ],
             [
              0.6666666666666666,
              "#ed7953"
             ],
             [
              0.7777777777777778,
              "#fb9f3a"
             ],
             [
              0.8888888888888888,
              "#fdca26"
             ],
             [
              1,
              "#f0f921"
             ]
            ],
            "type": "surface"
           }
          ],
          "table": [
           {
            "cells": {
             "fill": {
              "color": "#EBF0F8"
             },
             "line": {
              "color": "white"
             }
            },
            "header": {
             "fill": {
              "color": "#C8D4E3"
             },
             "line": {
              "color": "white"
             }
            },
            "type": "table"
           }
          ]
         },
         "layout": {
          "annotationdefaults": {
           "arrowcolor": "#2a3f5f",
           "arrowhead": 0,
           "arrowwidth": 1
          },
          "autotypenumbers": "strict",
          "coloraxis": {
           "colorbar": {
            "outlinewidth": 0,
            "ticks": ""
           }
          },
          "colorscale": {
           "diverging": [
            [
             0,
             "#8e0152"
            ],
            [
             0.1,
             "#c51b7d"
            ],
            [
             0.2,
             "#de77ae"
            ],
            [
             0.3,
             "#f1b6da"
            ],
            [
             0.4,
             "#fde0ef"
            ],
            [
             0.5,
             "#f7f7f7"
            ],
            [
             0.6,
             "#e6f5d0"
            ],
            [
             0.7,
             "#b8e186"
            ],
            [
             0.8,
             "#7fbc41"
            ],
            [
             0.9,
             "#4d9221"
            ],
            [
             1,
             "#276419"
            ]
           ],
           "sequential": [
            [
             0,
             "#0d0887"
            ],
            [
             0.1111111111111111,
             "#46039f"
            ],
            [
             0.2222222222222222,
             "#7201a8"
            ],
            [
             0.3333333333333333,
             "#9c179e"
            ],
            [
             0.4444444444444444,
             "#bd3786"
            ],
            [
             0.5555555555555556,
             "#d8576b"
            ],
            [
             0.6666666666666666,
             "#ed7953"
            ],
            [
             0.7777777777777778,
             "#fb9f3a"
            ],
            [
             0.8888888888888888,
             "#fdca26"
            ],
            [
             1,
             "#f0f921"
            ]
           ],
           "sequentialminus": [
            [
             0,
             "#0d0887"
            ],
            [
             0.1111111111111111,
             "#46039f"
            ],
            [
             0.2222222222222222,
             "#7201a8"
            ],
            [
             0.3333333333333333,
             "#9c179e"
            ],
            [
             0.4444444444444444,
             "#bd3786"
            ],
            [
             0.5555555555555556,
             "#d8576b"
            ],
            [
             0.6666666666666666,
             "#ed7953"
            ],
            [
             0.7777777777777778,
             "#fb9f3a"
            ],
            [
             0.8888888888888888,
             "#fdca26"
            ],
            [
             1,
             "#f0f921"
            ]
           ]
          },
          "colorway": [
           "#636efa",
           "#EF553B",
           "#00cc96",
           "#ab63fa",
           "#FFA15A",
           "#19d3f3",
           "#FF6692",
           "#B6E880",
           "#FF97FF",
           "#FECB52"
          ],
          "font": {
           "color": "#2a3f5f"
          },
          "geo": {
           "bgcolor": "white",
           "lakecolor": "white",
           "landcolor": "#E5ECF6",
           "showlakes": true,
           "showland": true,
           "subunitcolor": "white"
          },
          "hoverlabel": {
           "align": "left"
          },
          "hovermode": "closest",
          "mapbox": {
           "style": "light"
          },
          "paper_bgcolor": "white",
          "plot_bgcolor": "#E5ECF6",
          "polar": {
           "angularaxis": {
            "gridcolor": "white",
            "linecolor": "white",
            "ticks": ""
           },
           "bgcolor": "#E5ECF6",
           "radialaxis": {
            "gridcolor": "white",
            "linecolor": "white",
            "ticks": ""
           }
          },
          "scene": {
           "xaxis": {
            "backgroundcolor": "#E5ECF6",
            "gridcolor": "white",
            "gridwidth": 2,
            "linecolor": "white",
            "showbackground": true,
            "ticks": "",
            "zerolinecolor": "white"
           },
           "yaxis": {
            "backgroundcolor": "#E5ECF6",
            "gridcolor": "white",
            "gridwidth": 2,
            "linecolor": "white",
            "showbackground": true,
            "ticks": "",
            "zerolinecolor": "white"
           },
           "zaxis": {
            "backgroundcolor": "#E5ECF6",
            "gridcolor": "white",
            "gridwidth": 2,
            "linecolor": "white",
            "showbackground": true,
            "ticks": "",
            "zerolinecolor": "white"
           }
          },
          "shapedefaults": {
           "line": {
            "color": "#2a3f5f"
           }
          },
          "ternary": {
           "aaxis": {
            "gridcolor": "white",
            "linecolor": "white",
            "ticks": ""
           },
           "baxis": {
            "gridcolor": "white",
            "linecolor": "white",
            "ticks": ""
           },
           "bgcolor": "#E5ECF6",
           "caxis": {
            "gridcolor": "white",
            "linecolor": "white",
            "ticks": ""
           }
          },
          "title": {
           "x": 0.05
          },
          "xaxis": {
           "automargin": true,
           "gridcolor": "white",
           "linecolor": "white",
           "ticks": "",
           "title": {
            "standoff": 15
           },
           "zerolinecolor": "white",
           "zerolinewidth": 2
          },
          "yaxis": {
           "automargin": true,
           "gridcolor": "white",
           "linecolor": "white",
           "ticks": "",
           "title": {
            "standoff": 15
           },
           "zerolinecolor": "white",
           "zerolinewidth": 2
          }
         }
        },
        "title": {
         "font": {
          "color": "white",
          "family": "sans-serif"
         },
         "text": "Plagiarism Status"
        },
        "width": 400
       }
      }
     },
     "metadata": {},
     "output_type": "display_data"
    }
   ],
   "source": [
    "figP1.show()"
   ]
  },
  {
   "cell_type": "code",
   "execution_count": 486,
   "metadata": {},
   "outputs": [
    {
     "data": {
      "application/vnd.plotly.v1+json": {
       "config": {
        "plotlyServerURL": "https://plot.ly"
       },
       "data": [
        {
         "domain": {
          "x": [
           0,
           1
          ],
          "y": [
           0,
           1
          ]
         },
         "hole": 0.5,
         "hovertemplate": "Source=%{label}<br>No. of Words=%{value}<extra></extra>",
         "labels": [
          "Unplagiarised",
          "Applications of neural networks and deep learning to biomedical engineering.pdf",
          "Is it possible to develop quantum computing in Venezuela.pdf",
          "The Nuclear Mirage.pdf"
         ],
         "legendgroup": "",
         "name": "",
         "showlegend": true,
         "type": "pie",
         "values": [
          542,
          110,
          202,
          231
         ]
        }
       ],
       "layout": {
        "font": {
         "color": "cyan",
         "family": "sans-serif"
        },
        "height": 400,
        "legend": {
         "title": {
          "font": {
           "color": "cyan"
          }
         },
         "tracegroupgap": 0
        },
        "margin": {
         "b": 0,
         "l": 0,
         "r": 0,
         "t": 40
        },
        "paper_bgcolor": "#000000",
        "piecolorway": [
         "rgb(255,0,0)",
         "rgb(255,111,0)",
         "rgb(255,234,0)",
         "rgb(151,255,0)",
         "rgb(44,255,150)",
         "rgb(0,152,255)",
         "rgb(0,25,255)",
         "rgb(0,0,200)",
         "rgb(150,0,90)"
        ],
        "template": {
         "data": {
          "bar": [
           {
            "error_x": {
             "color": "#2a3f5f"
            },
            "error_y": {
             "color": "#2a3f5f"
            },
            "marker": {
             "line": {
              "color": "#E5ECF6",
              "width": 0.5
             },
             "pattern": {
              "fillmode": "overlay",
              "size": 10,
              "solidity": 0.2
             }
            },
            "type": "bar"
           }
          ],
          "barpolar": [
           {
            "marker": {
             "line": {
              "color": "#E5ECF6",
              "width": 0.5
             },
             "pattern": {
              "fillmode": "overlay",
              "size": 10,
              "solidity": 0.2
             }
            },
            "type": "barpolar"
           }
          ],
          "carpet": [
           {
            "aaxis": {
             "endlinecolor": "#2a3f5f",
             "gridcolor": "white",
             "linecolor": "white",
             "minorgridcolor": "white",
             "startlinecolor": "#2a3f5f"
            },
            "baxis": {
             "endlinecolor": "#2a3f5f",
             "gridcolor": "white",
             "linecolor": "white",
             "minorgridcolor": "white",
             "startlinecolor": "#2a3f5f"
            },
            "type": "carpet"
           }
          ],
          "choropleth": [
           {
            "colorbar": {
             "outlinewidth": 0,
             "ticks": ""
            },
            "type": "choropleth"
           }
          ],
          "contour": [
           {
            "colorbar": {
             "outlinewidth": 0,
             "ticks": ""
            },
            "colorscale": [
             [
              0,
              "#0d0887"
             ],
             [
              0.1111111111111111,
              "#46039f"
             ],
             [
              0.2222222222222222,
              "#7201a8"
             ],
             [
              0.3333333333333333,
              "#9c179e"
             ],
             [
              0.4444444444444444,
              "#bd3786"
             ],
             [
              0.5555555555555556,
              "#d8576b"
             ],
             [
              0.6666666666666666,
              "#ed7953"
             ],
             [
              0.7777777777777778,
              "#fb9f3a"
             ],
             [
              0.8888888888888888,
              "#fdca26"
             ],
             [
              1,
              "#f0f921"
             ]
            ],
            "type": "contour"
           }
          ],
          "contourcarpet": [
           {
            "colorbar": {
             "outlinewidth": 0,
             "ticks": ""
            },
            "type": "contourcarpet"
           }
          ],
          "heatmap": [
           {
            "colorbar": {
             "outlinewidth": 0,
             "ticks": ""
            },
            "colorscale": [
             [
              0,
              "#0d0887"
             ],
             [
              0.1111111111111111,
              "#46039f"
             ],
             [
              0.2222222222222222,
              "#7201a8"
             ],
             [
              0.3333333333333333,
              "#9c179e"
             ],
             [
              0.4444444444444444,
              "#bd3786"
             ],
             [
              0.5555555555555556,
              "#d8576b"
             ],
             [
              0.6666666666666666,
              "#ed7953"
             ],
             [
              0.7777777777777778,
              "#fb9f3a"
             ],
             [
              0.8888888888888888,
              "#fdca26"
             ],
             [
              1,
              "#f0f921"
             ]
            ],
            "type": "heatmap"
           }
          ],
          "heatmapgl": [
           {
            "colorbar": {
             "outlinewidth": 0,
             "ticks": ""
            },
            "colorscale": [
             [
              0,
              "#0d0887"
             ],
             [
              0.1111111111111111,
              "#46039f"
             ],
             [
              0.2222222222222222,
              "#7201a8"
             ],
             [
              0.3333333333333333,
              "#9c179e"
             ],
             [
              0.4444444444444444,
              "#bd3786"
             ],
             [
              0.5555555555555556,
              "#d8576b"
             ],
             [
              0.6666666666666666,
              "#ed7953"
             ],
             [
              0.7777777777777778,
              "#fb9f3a"
             ],
             [
              0.8888888888888888,
              "#fdca26"
             ],
             [
              1,
              "#f0f921"
             ]
            ],
            "type": "heatmapgl"
           }
          ],
          "histogram": [
           {
            "marker": {
             "pattern": {
              "fillmode": "overlay",
              "size": 10,
              "solidity": 0.2
             }
            },
            "type": "histogram"
           }
          ],
          "histogram2d": [
           {
            "colorbar": {
             "outlinewidth": 0,
             "ticks": ""
            },
            "colorscale": [
             [
              0,
              "#0d0887"
             ],
             [
              0.1111111111111111,
              "#46039f"
             ],
             [
              0.2222222222222222,
              "#7201a8"
             ],
             [
              0.3333333333333333,
              "#9c179e"
             ],
             [
              0.4444444444444444,
              "#bd3786"
             ],
             [
              0.5555555555555556,
              "#d8576b"
             ],
             [
              0.6666666666666666,
              "#ed7953"
             ],
             [
              0.7777777777777778,
              "#fb9f3a"
             ],
             [
              0.8888888888888888,
              "#fdca26"
             ],
             [
              1,
              "#f0f921"
             ]
            ],
            "type": "histogram2d"
           }
          ],
          "histogram2dcontour": [
           {
            "colorbar": {
             "outlinewidth": 0,
             "ticks": ""
            },
            "colorscale": [
             [
              0,
              "#0d0887"
             ],
             [
              0.1111111111111111,
              "#46039f"
             ],
             [
              0.2222222222222222,
              "#7201a8"
             ],
             [
              0.3333333333333333,
              "#9c179e"
             ],
             [
              0.4444444444444444,
              "#bd3786"
             ],
             [
              0.5555555555555556,
              "#d8576b"
             ],
             [
              0.6666666666666666,
              "#ed7953"
             ],
             [
              0.7777777777777778,
              "#fb9f3a"
             ],
             [
              0.8888888888888888,
              "#fdca26"
             ],
             [
              1,
              "#f0f921"
             ]
            ],
            "type": "histogram2dcontour"
           }
          ],
          "mesh3d": [
           {
            "colorbar": {
             "outlinewidth": 0,
             "ticks": ""
            },
            "type": "mesh3d"
           }
          ],
          "parcoords": [
           {
            "line": {
             "colorbar": {
              "outlinewidth": 0,
              "ticks": ""
             }
            },
            "type": "parcoords"
           }
          ],
          "pie": [
           {
            "automargin": true,
            "type": "pie"
           }
          ],
          "scatter": [
           {
            "fillpattern": {
             "fillmode": "overlay",
             "size": 10,
             "solidity": 0.2
            },
            "type": "scatter"
           }
          ],
          "scatter3d": [
           {
            "line": {
             "colorbar": {
              "outlinewidth": 0,
              "ticks": ""
             }
            },
            "marker": {
             "colorbar": {
              "outlinewidth": 0,
              "ticks": ""
             }
            },
            "type": "scatter3d"
           }
          ],
          "scattercarpet": [
           {
            "marker": {
             "colorbar": {
              "outlinewidth": 0,
              "ticks": ""
             }
            },
            "type": "scattercarpet"
           }
          ],
          "scattergeo": [
           {
            "marker": {
             "colorbar": {
              "outlinewidth": 0,
              "ticks": ""
             }
            },
            "type": "scattergeo"
           }
          ],
          "scattergl": [
           {
            "marker": {
             "colorbar": {
              "outlinewidth": 0,
              "ticks": ""
             }
            },
            "type": "scattergl"
           }
          ],
          "scattermapbox": [
           {
            "marker": {
             "colorbar": {
              "outlinewidth": 0,
              "ticks": ""
             }
            },
            "type": "scattermapbox"
           }
          ],
          "scatterpolar": [
           {
            "marker": {
             "colorbar": {
              "outlinewidth": 0,
              "ticks": ""
             }
            },
            "type": "scatterpolar"
           }
          ],
          "scatterpolargl": [
           {
            "marker": {
             "colorbar": {
              "outlinewidth": 0,
              "ticks": ""
             }
            },
            "type": "scatterpolargl"
           }
          ],
          "scatterternary": [
           {
            "marker": {
             "colorbar": {
              "outlinewidth": 0,
              "ticks": ""
             }
            },
            "type": "scatterternary"
           }
          ],
          "surface": [
           {
            "colorbar": {
             "outlinewidth": 0,
             "ticks": ""
            },
            "colorscale": [
             [
              0,
              "#0d0887"
             ],
             [
              0.1111111111111111,
              "#46039f"
             ],
             [
              0.2222222222222222,
              "#7201a8"
             ],
             [
              0.3333333333333333,
              "#9c179e"
             ],
             [
              0.4444444444444444,
              "#bd3786"
             ],
             [
              0.5555555555555556,
              "#d8576b"
             ],
             [
              0.6666666666666666,
              "#ed7953"
             ],
             [
              0.7777777777777778,
              "#fb9f3a"
             ],
             [
              0.8888888888888888,
              "#fdca26"
             ],
             [
              1,
              "#f0f921"
             ]
            ],
            "type": "surface"
           }
          ],
          "table": [
           {
            "cells": {
             "fill": {
              "color": "#EBF0F8"
             },
             "line": {
              "color": "white"
             }
            },
            "header": {
             "fill": {
              "color": "#C8D4E3"
             },
             "line": {
              "color": "white"
             }
            },
            "type": "table"
           }
          ]
         },
         "layout": {
          "annotationdefaults": {
           "arrowcolor": "#2a3f5f",
           "arrowhead": 0,
           "arrowwidth": 1
          },
          "autotypenumbers": "strict",
          "coloraxis": {
           "colorbar": {
            "outlinewidth": 0,
            "ticks": ""
           }
          },
          "colorscale": {
           "diverging": [
            [
             0,
             "#8e0152"
            ],
            [
             0.1,
             "#c51b7d"
            ],
            [
             0.2,
             "#de77ae"
            ],
            [
             0.3,
             "#f1b6da"
            ],
            [
             0.4,
             "#fde0ef"
            ],
            [
             0.5,
             "#f7f7f7"
            ],
            [
             0.6,
             "#e6f5d0"
            ],
            [
             0.7,
             "#b8e186"
            ],
            [
             0.8,
             "#7fbc41"
            ],
            [
             0.9,
             "#4d9221"
            ],
            [
             1,
             "#276419"
            ]
           ],
           "sequential": [
            [
             0,
             "#0d0887"
            ],
            [
             0.1111111111111111,
             "#46039f"
            ],
            [
             0.2222222222222222,
             "#7201a8"
            ],
            [
             0.3333333333333333,
             "#9c179e"
            ],
            [
             0.4444444444444444,
             "#bd3786"
            ],
            [
             0.5555555555555556,
             "#d8576b"
            ],
            [
             0.6666666666666666,
             "#ed7953"
            ],
            [
             0.7777777777777778,
             "#fb9f3a"
            ],
            [
             0.8888888888888888,
             "#fdca26"
            ],
            [
             1,
             "#f0f921"
            ]
           ],
           "sequentialminus": [
            [
             0,
             "#0d0887"
            ],
            [
             0.1111111111111111,
             "#46039f"
            ],
            [
             0.2222222222222222,
             "#7201a8"
            ],
            [
             0.3333333333333333,
             "#9c179e"
            ],
            [
             0.4444444444444444,
             "#bd3786"
            ],
            [
             0.5555555555555556,
             "#d8576b"
            ],
            [
             0.6666666666666666,
             "#ed7953"
            ],
            [
             0.7777777777777778,
             "#fb9f3a"
            ],
            [
             0.8888888888888888,
             "#fdca26"
            ],
            [
             1,
             "#f0f921"
            ]
           ]
          },
          "colorway": [
           "#636efa",
           "#EF553B",
           "#00cc96",
           "#ab63fa",
           "#FFA15A",
           "#19d3f3",
           "#FF6692",
           "#B6E880",
           "#FF97FF",
           "#FECB52"
          ],
          "font": {
           "color": "#2a3f5f"
          },
          "geo": {
           "bgcolor": "white",
           "lakecolor": "white",
           "landcolor": "#E5ECF6",
           "showlakes": true,
           "showland": true,
           "subunitcolor": "white"
          },
          "hoverlabel": {
           "align": "left"
          },
          "hovermode": "closest",
          "mapbox": {
           "style": "light"
          },
          "paper_bgcolor": "white",
          "plot_bgcolor": "#E5ECF6",
          "polar": {
           "angularaxis": {
            "gridcolor": "white",
            "linecolor": "white",
            "ticks": ""
           },
           "bgcolor": "#E5ECF6",
           "radialaxis": {
            "gridcolor": "white",
            "linecolor": "white",
            "ticks": ""
           }
          },
          "scene": {
           "xaxis": {
            "backgroundcolor": "#E5ECF6",
            "gridcolor": "white",
            "gridwidth": 2,
            "linecolor": "white",
            "showbackground": true,
            "ticks": "",
            "zerolinecolor": "white"
           },
           "yaxis": {
            "backgroundcolor": "#E5ECF6",
            "gridcolor": "white",
            "gridwidth": 2,
            "linecolor": "white",
            "showbackground": true,
            "ticks": "",
            "zerolinecolor": "white"
           },
           "zaxis": {
            "backgroundcolor": "#E5ECF6",
            "gridcolor": "white",
            "gridwidth": 2,
            "linecolor": "white",
            "showbackground": true,
            "ticks": "",
            "zerolinecolor": "white"
           }
          },
          "shapedefaults": {
           "line": {
            "color": "#2a3f5f"
           }
          },
          "ternary": {
           "aaxis": {
            "gridcolor": "white",
            "linecolor": "white",
            "ticks": ""
           },
           "baxis": {
            "gridcolor": "white",
            "linecolor": "white",
            "ticks": ""
           },
           "bgcolor": "#E5ECF6",
           "caxis": {
            "gridcolor": "white",
            "linecolor": "white",
            "ticks": ""
           }
          },
          "title": {
           "x": 0.05
          },
          "xaxis": {
           "automargin": true,
           "gridcolor": "white",
           "linecolor": "white",
           "ticks": "",
           "title": {
            "standoff": 15
           },
           "zerolinecolor": "white",
           "zerolinewidth": 2
          },
          "yaxis": {
           "automargin": true,
           "gridcolor": "white",
           "linecolor": "white",
           "ticks": "",
           "title": {
            "standoff": 15
           },
           "zerolinecolor": "white",
           "zerolinewidth": 2
          }
         }
        },
        "title": {
         "font": {
          "color": "white",
          "family": "sans-serif"
         },
         "text": "Plagiarism Source"
        },
        "width": 800
       }
      }
     },
     "metadata": {},
     "output_type": "display_data"
    }
   ],
   "source": [
    "figP2.show()"
   ]
  }
 ],
 "metadata": {
  "kernelspec": {
   "display_name": "Python 3.9.5 ('base')",
   "language": "python",
   "name": "python3"
  },
  "language_info": {
   "codemirror_mode": {
    "name": "ipython",
    "version": 3
   },
   "file_extension": ".py",
   "mimetype": "text/x-python",
   "name": "python",
   "nbconvert_exporter": "python",
   "pygments_lexer": "ipython3",
   "version": "3.9.5"
  },
  "orig_nbformat": 4,
  "vscode": {
   "interpreter": {
    "hash": "4ded07237dbfafc8373e566cfe932557d647581b6f69415d805b7b9e9b0c4bcc"
   }
  }
 },
 "nbformat": 4,
 "nbformat_minor": 2
}
