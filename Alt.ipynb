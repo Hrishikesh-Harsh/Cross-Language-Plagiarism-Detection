{
 "cells": [
  {
   "cell_type": "markdown",
   "metadata": {},
   "source": [
    "##### In this Jupyter file, I am going to analyse plagiarism between two texts.\n",
    "##### I will try to use the N-Gram Model for this Purpose."
   ]
  },
  {
   "cell_type": "code",
   "execution_count": 1,
   "metadata": {},
   "outputs": [],
   "source": [
    "import re\n",
    "from nltk.util import ngrams, pad_sequence, everygrams\n",
    "from nltk.tokenize import word_tokenize\n",
    "from nltk.lm import MLE, WittenBellInterpolated"
   ]
  },
  {
   "cell_type": "code",
   "execution_count": 2,
   "metadata": {},
   "outputs": [],
   "source": [
    "import numpy as np\n",
    "from scipy.ndimage import gaussian_filter\n",
    "import plotly.graph_objects as go"
   ]
  },
  {
   "cell_type": "code",
   "execution_count": 3,
   "metadata": {},
   "outputs": [],
   "source": [
    "import spacy\n",
    "from numpy.linalg import norm"
   ]
  },
  {
   "cell_type": "code",
   "execution_count": null,
   "metadata": {},
   "outputs": [],
   "source": [
    "!python -m spacy download en_core_web_lg"
   ]
  },
  {
   "cell_type": "code",
   "execution_count": 5,
   "metadata": {},
   "outputs": [],
   "source": [
    "# Load the language library\n",
    "nlp = spacy.load('en_core_web_lg')"
   ]
  },
  {
   "cell_type": "code",
   "execution_count": 498,
   "metadata": {},
   "outputs": [],
   "source": [
    "originalText=\"\"\"It is challenging to understand the effects of pollution. \n",
    "It can affect nature, human beings, animals and play a vital role in adverse climate change. \n",
    "Depletion of natural resources and destroying habitats are significant effects of pollution. \n",
    "Pollution can harm humans by breathing in smoke or consuming contaminated food. \n",
    "Moreover, it can cause health problems such as asthma, cancer, and heart diseases. \n",
    "It also affects nature by destroying plants, animals, and natural habitats. \n",
    "Once kids have understood the meaning and effects of pollution, you can ask them to write an essay on pollution.\n",
    "Pollution is omnipresent and has affected the environment in all aspects. \n",
    "Be it water, soil, or air, every element of the environment is polluted. \n",
    "Water is polluted due to the release of industrial waste into rivers and water bodies. \n",
    "When the water is contaminated, the supply of drinking water decreases. \n",
    "The soil is polluted by dumping non-biodegradable elements, resulting in toxicity. \n",
    "The emission of harmful gases pollutes the air.\n",
    "A high amount of carbon dioxide emission has led us to a dangerous point and is harmful to every living thing on Earth. \n",
    "Excessive usage of pesticides for crops has harmed the microorganisms living in the soil.\n",
    "When we follow incorrect ways of waste management, we contribute to pollution.\"\"\"\n",
    "\n",
    "originalText = originalText.replace('\\n', ' ')\n",
    "originalText = originalText.replace('\\t', '')\n",
    "# Remove punctuation\n",
    "originalText = re.sub(r'[^\\w\\s]', '', originalText)"
   ]
  },
  {
   "cell_type": "code",
   "execution_count": 499,
   "metadata": {},
   "outputs": [],
   "source": [
    "# Text Copied from OriginalText (not fully copied)\n",
    "plagText=\"\"\"In the hilly areas, people experience snow during winters.\n",
    "They have to shovel it out of the way to make way for walking. \n",
    "The essence of winters is enhanced by Christmas as well. \n",
    "It sets the holiday mood for people and is admired all over the world.\n",
    "It is challenging to understand the effects of pollution. \n",
    "It can affect nature, human beings, animals and play a vital role in adverse climate change. \n",
    "Depletion of natural resources and destroying habitats are significant effects of pollution. \n",
    "Pollution can harm humans by breathing in smoke or consuming contaminated food.\n",
    "Winter is one of the most important seasons in India. It is a part of the four seasons that occur in India. \n",
    "Winters are the coolest season that starts from December and last till March. \n",
    "The peak time when winter is experienced the most in December and January. In India, winters hold great importance.\n",
    "The soil is polluted by dumping non-biodegradable elements, resulting in toxicity. \n",
    "The emission of harmful gases pollutes the air.\n",
    "A high amount of carbon dioxide emission has led us to a dangerous point and is harmful to every living thing on Earth.\n",
    "During winters, schools usually take a break and close down. The days are shorter and the nights get longer. \n",
    "The chilly mornings give you a different sense altogether. \n",
    "Hot drinks like coffee, tea, and hot chocolate are enjoyed more during winters. \n",
    "The sun rises quite late and sometimes it does not.\"\"\"\n",
    "\n",
    "plagText = plagText.replace('\\n', ' ')\n",
    "plagText = plagText.replace('\\t', '')\n",
    "# Remove punctuation\n",
    "plagText = re.sub(r'[^\\w\\s]', '', plagText)"
   ]
  },
  {
   "cell_type": "code",
   "execution_count": 500,
   "metadata": {},
   "outputs": [],
   "source": [
    "vecOriginalText = nlp(originalText)"
   ]
  },
  {
   "cell_type": "code",
   "execution_count": 501,
   "metadata": {},
   "outputs": [],
   "source": [
    "vecPlagText = nlp(plagText)"
   ]
  },
  {
   "cell_type": "code",
   "execution_count": 502,
   "metadata": {},
   "outputs": [],
   "source": [
    "n=4"
   ]
  },
  {
   "cell_type": "code",
   "execution_count": 503,
   "metadata": {},
   "outputs": [],
   "source": [
    "wordOriginal = [word.text for word in vecOriginalText]"
   ]
  },
  {
   "cell_type": "code",
   "execution_count": 504,
   "metadata": {},
   "outputs": [],
   "source": [
    "training_data = list(pad_sequence(wordOriginal, n, \n",
    "                                  pad_left=True, \n",
    "                                  left_pad_symbol=\"<s>\"))"
   ]
  },
  {
   "cell_type": "code",
   "execution_count": 505,
   "metadata": {},
   "outputs": [],
   "source": [
    "# Generate n-grams from the training data\n",
    "ngrams = list(everygrams(training_data, max_len=n))\n",
    "# Build n-gram language model\n",
    "model = WittenBellInterpolated(n)\n",
    "model.fit([ngrams],vocabulary_text=training_data)"
   ]
  },
  {
   "cell_type": "code",
   "execution_count": 506,
   "metadata": {},
   "outputs": [],
   "source": [
    "wordPlag = [word.text for word in vecPlagText]"
   ]
  },
  {
   "cell_type": "code",
   "execution_count": 507,
   "metadata": {},
   "outputs": [],
   "source": [
    "test_data = list(pad_sequence(wordPlag, n, \n",
    "                                  pad_left=True, \n",
    "                                  left_pad_symbol=\"<s>\"))"
   ]
  },
  {
   "cell_type": "code",
   "execution_count": 508,
   "metadata": {},
   "outputs": [],
   "source": [
    "score=[]\n",
    "# Generate score\n",
    "for i,ele in enumerate(test_data[n:]):\n",
    "    s = model.score(ele,test_data[i:i+n])\n",
    "    score.append(s)"
   ]
  },
  {
   "cell_type": "code",
   "execution_count": 509,
   "metadata": {},
   "outputs": [],
   "source": [
    "# Convert to numpy array\n",
    "score_np=np.array(score)\n"
   ]
  },
  {
   "cell_type": "code",
   "execution_count": 510,
   "metadata": {},
   "outputs": [],
   "source": [
    "# Set height and width of the graph\n",
    "width=14\n",
    "height=np.ceil(len(score_np)/width).astype(\"int32\")"
   ]
  },
  {
   "cell_type": "code",
   "execution_count": 511,
   "metadata": {},
   "outputs": [],
   "source": [
    "# Copy the score_np to a new array with shape (height,width)\n",
    "a=np.zeros(width*height)\n",
    "a[:len(score_np)] = score_np\n",
    "diff = len(a) - len(score_np)"
   ]
  },
  {
   "cell_type": "code",
   "execution_count": 512,
   "metadata": {},
   "outputs": [],
   "source": [
    "# Apply gaussian filter to the array\n",
    "a = gaussian_filter(a, sigma=1.0)\n",
    "a=a*1.093 # To make the probabilties better (which have been lowered because of the gaussian filter)\n",
    "# Reshape to fit rectangular shape\n",
    "a = a.reshape(-1,width)"
   ]
  },
  {
   "cell_type": "code",
   "execution_count": 513,
   "metadata": {},
   "outputs": [],
   "source": [
    "# format labels\n",
    "labels = [\" \".join(vecPlagText[i:i+width].text.split()) for i in range(0, len(vecPlagText), width)]\n",
    "labels_individual = [x.split() for x in labels]\n",
    "labels_individual[-1] += [\"\"]*diff\n",
    "labels = [f\"{x:60.60}\" for x in labels]"
   ]
  },
  {
   "cell_type": "code",
   "execution_count": 514,
   "metadata": {},
   "outputs": [],
   "source": [
    "# create heatmap of the Plagiarized Text\n",
    "fig = go.Figure(data=go.Heatmap(\n",
    "                z=a, x0=0, dx=1,\n",
    "                #y=labels, \n",
    "                zmin=0, zmax=1,\n",
    "                customdata=labels_individual,\n",
    "                hovertemplate='%{customdata} <br><b>Score:%{z:.3f}<extra></extra>',\n",
    "                text=labels_individual,\n",
    "                texttemplate='%{text}',\n",
    "                textfont={\"size\":8},\n",
    "                colorscale='reds'\n",
    "                ))\n",
    "fig.update_layout({\"height\":height*25, \"width\":1000, \"font\":{\"family\":\"sans-serif\"}})\n",
    "fig['layout']['yaxis']['autorange'] = \"reversed\"\n"
   ]
  },
  {
   "cell_type": "code",
   "execution_count": 515,
   "metadata": {},
   "outputs": [
    {
     "data": {
      "application/vnd.plotly.v1+json": {
       "config": {
        "plotlyServerURL": "https://plot.ly"
       },
       "data": [
        {
         "colorscale": [
          [
           0,
           "rgb(255,245,240)"
          ],
          [
           0.125,
           "rgb(254,224,210)"
          ],
          [
           0.25,
           "rgb(252,187,161)"
          ],
          [
           0.375,
           "rgb(252,146,114)"
          ],
          [
           0.5,
           "rgb(251,106,74)"
          ],
          [
           0.625,
           "rgb(239,59,44)"
          ],
          [
           0.75,
           "rgb(203,24,29)"
          ],
          [
           0.875,
           "rgb(165,15,21)"
          ],
          [
           1,
           "rgb(103,0,13)"
          ]
         ],
         "customdata": [
          [
           "In",
           "the",
           "hilly",
           "areas",
           "people",
           "experience",
           "snow",
           "during",
           "winters",
           "They",
           "have",
           "to",
           "shovel",
           "it"
          ],
          [
           "out",
           "of",
           "the",
           "way",
           "to",
           "make",
           "way",
           "for",
           "walking",
           "The",
           "essence",
           "of",
           "winters"
          ],
          [
           "is",
           "enhanced",
           "by",
           "Christmas",
           "as",
           "well",
           "It",
           "sets",
           "the",
           "holiday",
           "mood",
           "for",
           "people"
          ],
          [
           "and",
           "is",
           "admired",
           "all",
           "over",
           "the",
           "world",
           "It",
           "is",
           "challenging",
           "to",
           "understand",
           "the",
           "effects"
          ],
          [
           "of",
           "pollution",
           "It",
           "can",
           "affect",
           "nature",
           "human",
           "beings",
           "animals",
           "and",
           "play",
           "a",
           "vital"
          ],
          [
           "role",
           "in",
           "adverse",
           "climate",
           "change",
           "Depletion",
           "of",
           "natural",
           "resources",
           "and",
           "destroying",
           "habitats",
           "are"
          ],
          [
           "significant",
           "effects",
           "of",
           "pollution",
           "Pollution",
           "can",
           "harm",
           "humans",
           "by",
           "breathing",
           "in",
           "smoke",
           "or"
          ],
          [
           "consuming",
           "contaminated",
           "food",
           "Winter",
           "is",
           "one",
           "of",
           "the",
           "most",
           "important",
           "seasons",
           "in",
           "India",
           "It"
          ],
          [
           "is",
           "a",
           "part",
           "of",
           "the",
           "four",
           "seasons",
           "that",
           "occur",
           "in",
           "India",
           "Winters",
           "are"
          ],
          [
           "the",
           "coolest",
           "season",
           "that",
           "starts",
           "from",
           "December",
           "and",
           "last",
           "till",
           "March",
           "The",
           "peak"
          ],
          [
           "time",
           "when",
           "winter",
           "is",
           "experienced",
           "the",
           "most",
           "in",
           "December",
           "and",
           "January",
           "In",
           "India",
           "winters"
          ],
          [
           "hold",
           "great",
           "importance",
           "The",
           "soil",
           "is",
           "polluted",
           "by",
           "dumping",
           "nonbiodegradable",
           "elements",
           "resulting",
           "in",
           "toxicity"
          ],
          [
           "The",
           "emission",
           "of",
           "harmful",
           "gases",
           "pollutes",
           "the",
           "air",
           "A",
           "high",
           "amount",
           "of",
           "carbon"
          ],
          [
           "dioxide",
           "emission",
           "has",
           "led",
           "us",
           "to",
           "a",
           "dangerous",
           "point",
           "and",
           "is",
           "harmful",
           "to",
           "every"
          ],
          [
           "living",
           "thing",
           "on",
           "Earth",
           "During",
           "winters",
           "schools",
           "usually",
           "take",
           "a",
           "break",
           "and",
           "close",
           "down"
          ],
          [
           "The",
           "days",
           "are",
           "shorter",
           "and",
           "the",
           "nights",
           "get",
           "longer",
           "The",
           "chilly",
           "mornings",
           "give"
          ],
          [
           "you",
           "a",
           "different",
           "sense",
           "altogether",
           "Hot",
           "drinks",
           "like",
           "coffee",
           "tea",
           "and",
           "hot",
           "chocolate"
          ],
          [
           "are",
           "enjoyed",
           "more",
           "during",
           "winters",
           "The",
           "sun",
           "rises",
           "quite",
           "late",
           "and",
           "sometimes",
           "it"
          ],
          [
           "does",
           "not",
           "",
           "",
           "",
           "",
           "",
           "",
           "",
           "",
           "",
           "",
           "",
           "",
           ""
          ]
         ],
         "dx": 1,
         "hovertemplate": "%{customdata} <br><b>Score:%{z:.3f}<extra></extra>",
         "text": [
          [
           "In",
           "the",
           "hilly",
           "areas",
           "people",
           "experience",
           "snow",
           "during",
           "winters",
           "They",
           "have",
           "to",
           "shovel",
           "it"
          ],
          [
           "out",
           "of",
           "the",
           "way",
           "to",
           "make",
           "way",
           "for",
           "walking",
           "The",
           "essence",
           "of",
           "winters"
          ],
          [
           "is",
           "enhanced",
           "by",
           "Christmas",
           "as",
           "well",
           "It",
           "sets",
           "the",
           "holiday",
           "mood",
           "for",
           "people"
          ],
          [
           "and",
           "is",
           "admired",
           "all",
           "over",
           "the",
           "world",
           "It",
           "is",
           "challenging",
           "to",
           "understand",
           "the",
           "effects"
          ],
          [
           "of",
           "pollution",
           "It",
           "can",
           "affect",
           "nature",
           "human",
           "beings",
           "animals",
           "and",
           "play",
           "a",
           "vital"
          ],
          [
           "role",
           "in",
           "adverse",
           "climate",
           "change",
           "Depletion",
           "of",
           "natural",
           "resources",
           "and",
           "destroying",
           "habitats",
           "are"
          ],
          [
           "significant",
           "effects",
           "of",
           "pollution",
           "Pollution",
           "can",
           "harm",
           "humans",
           "by",
           "breathing",
           "in",
           "smoke",
           "or"
          ],
          [
           "consuming",
           "contaminated",
           "food",
           "Winter",
           "is",
           "one",
           "of",
           "the",
           "most",
           "important",
           "seasons",
           "in",
           "India",
           "It"
          ],
          [
           "is",
           "a",
           "part",
           "of",
           "the",
           "four",
           "seasons",
           "that",
           "occur",
           "in",
           "India",
           "Winters",
           "are"
          ],
          [
           "the",
           "coolest",
           "season",
           "that",
           "starts",
           "from",
           "December",
           "and",
           "last",
           "till",
           "March",
           "The",
           "peak"
          ],
          [
           "time",
           "when",
           "winter",
           "is",
           "experienced",
           "the",
           "most",
           "in",
           "December",
           "and",
           "January",
           "In",
           "India",
           "winters"
          ],
          [
           "hold",
           "great",
           "importance",
           "The",
           "soil",
           "is",
           "polluted",
           "by",
           "dumping",
           "nonbiodegradable",
           "elements",
           "resulting",
           "in",
           "toxicity"
          ],
          [
           "The",
           "emission",
           "of",
           "harmful",
           "gases",
           "pollutes",
           "the",
           "air",
           "A",
           "high",
           "amount",
           "of",
           "carbon"
          ],
          [
           "dioxide",
           "emission",
           "has",
           "led",
           "us",
           "to",
           "a",
           "dangerous",
           "point",
           "and",
           "is",
           "harmful",
           "to",
           "every"
          ],
          [
           "living",
           "thing",
           "on",
           "Earth",
           "During",
           "winters",
           "schools",
           "usually",
           "take",
           "a",
           "break",
           "and",
           "close",
           "down"
          ],
          [
           "The",
           "days",
           "are",
           "shorter",
           "and",
           "the",
           "nights",
           "get",
           "longer",
           "The",
           "chilly",
           "mornings",
           "give"
          ],
          [
           "you",
           "a",
           "different",
           "sense",
           "altogether",
           "Hot",
           "drinks",
           "like",
           "coffee",
           "tea",
           "and",
           "hot",
           "chocolate"
          ],
          [
           "are",
           "enjoyed",
           "more",
           "during",
           "winters",
           "The",
           "sun",
           "rises",
           "quite",
           "late",
           "and",
           "sometimes",
           "it"
          ],
          [
           "does",
           "not",
           "",
           "",
           "",
           "",
           "",
           "",
           "",
           "",
           "",
           "",
           "",
           "",
           ""
          ]
         ],
         "textfont": {
          "size": 8
         },
         "texttemplate": "%{text}",
         "type": "heatmap",
         "x0": 0,
         "z": [
          [
           0.030996460270304397,
           0.014313588158119226,
           0.002825501195642659,
           0.00022080980634504806,
           0.00000647242799574835,
           6.472427995748352e-7,
           0.000023375466233654476,
           0.00032541759523412587,
           0.001954886064869744,
           0.005482998370865473,
           0.007487805647180141,
           0.00635832610455978,
           0.007874523325733233,
           0.019407622387498945
          ],
          [
           0.04036604689979824,
           0.04496680930953041,
           0.02838550699042181,
           0.015959265243029788,
           0.00763611062840697,
           0.00301825831477465,
           0.00565125370334978,
           0.020826288051404875,
           0.04875675010815057,
           0.058335630930508725,
           0.041263766258167335,
           0.028912534057688104,
           0.021596283043226562,
           0.017175988037708853
          ],
          [
           0.011959629194845025,
           0.007892028417068469,
           0.005102391256530155,
           0.006320273729232017,
           0.021004747829735066,
           0.049269186477842807,
           0.05894698548234048,
           0.04047606328116826,
           0.025293497066493524,
           0.012446079289293801,
           0.003978464309734032,
           0.004610441654472481,
           0.015141477805518149,
           0.036343301763852684
          ],
          [
           0.04365670034592661,
           0.024099681009771737,
           0.009316155269298921,
           0.013346560388732978,
           0.02131163279990753,
           0.02874066622649011,
           0.09296183130652227,
           0.28235017578927224,
           0.5677495058625818,
           0.7971175581425236,
           0.8842498161160529,
           0.9046299669214383,
           0.9207657631041255,
           0.9428925514794692
          ],
          [
           0.8765876759295052,
           0.7107217384759779,
           0.6201279400360026,
           0.7002164801135619,
           0.8285031051966376,
           0.9013631068199461,
           0.9234815784380863,
           0.9416094684884431,
           0.9513376005232004,
           0.9137803982445134,
           0.8629169353505848,
           0.881303809902551,
           0.9159016625344609,
           0.9340375187130897
          ],
          [
           0.9277777748265496,
           0.9136703064356746,
           0.9304626154294257,
           0.945999595463845,
           0.9288555786165763,
           0.9035493192093998,
           0.8963612511419924,
           0.8860633582309991,
           0.8941598209999086,
           0.9027964484843636,
           0.8862504575065109,
           0.8845817595285981,
           0.9073140277165247,
           0.9404506053818186
          ],
          [
           0.9704319638182224,
           0.9723575288490584,
           0.8831810251953802,
           0.7167307016938138,
           0.653545868209613,
           0.7609313101218792,
           0.8695759204297748,
           0.9215619183697338,
           0.9291700298387271,
           0.9151493960000048,
           0.9092387268873129,
           0.9054993503182249,
           0.9135724235598376,
           0.9160635549234223
          ],
          [
           0.8678222808656616,
           0.6404083072111979,
           0.2792373888375636,
           0.06905970450595304,
           0.02925660604629427,
           0.04166001551745849,
           0.04351051592232693,
           0.021473810046299238,
           0.005668933584553141,
           0.006287930941087437,
           0.011323218771531663,
           0.02012016124461624,
           0.05538469105373926,
           0.08377860913439428
          ],
          [
           0.052976416982795226,
           0.02829949888179549,
           0.040706365742588485,
           0.04339281909616492,
           0.021365616556025264,
           0.004468578636682388,
           0.0016591215508287944,
           0.006118643460665375,
           0.012781061788290872,
           0.01991879133123678,
           0.024826710094924903,
           0.016625902240894955,
           0.01091724855811069,
           0.011074465252841012
          ],
          [
           0.006120095465737167,
           0.0013270156464816095,
           0.00011299387437082337,
           0.00017470611667731392,
           0.002088931053834687,
           0.009361939472660693,
           0.015442995657177725,
           0.009633030626743458,
           0.005682178737227034,
           0.019816512392408957,
           0.0482650405526336,
           0.05543738629405407,
           0.028244946775211822,
           0.006009374299602149
          ],
          [
           0.0023019051163363138,
           0.008419920716991013,
           0.016120225181926205,
           0.02000129006857862,
           0.022432610452627164,
           0.017875142578762746,
           0.014351643535464335,
           0.015427489021422927,
           0.016747283080225255,
           0.009469108161835342,
           0.0020921672678325615,
           0.00017146990267943976,
           0.00000647242799574835,
           0.00008040755804520037
          ],
          [
           0.001851850408527815,
           0.020467477376696186,
           0.11064779893653173,
           0.32175130942679175,
           0.5823301378268438,
           0.7432577470954715,
           0.7901883333896225,
           0.8497087677167193,
           0.9199079172263164,
           0.9504942205172384,
           0.9512379277015889,
           0.9313230379262353,
           0.9086466660755579,
           0.8950621523991655
          ],
          [
           0.8549433297383305,
           0.8264259203209867,
           0.8433779906029857,
           0.8650041724126419,
           0.8955532221201873,
           0.9279766981414918,
           0.9217738990581108,
           0.8928956238968808,
           0.9005731162697049,
           0.9336842924263195,
           0.9475733619104646,
           0.9292979076245089,
           0.909077048936543,
           0.9236575107369573
          ],
          [
           0.9294509539573537,
           0.9077696031730303,
           0.9040736446735538,
           0.9256338336792974,
           0.9218795290282324,
           0.8955916534332709,
           0.9021740943418722,
           0.9286025731415404,
           0.9199988772896018,
           0.879952220997413,
           0.8616670662013706,
           0.8658792940560641,
           0.8692844069925065,
           0.8815934640283656
          ],
          [
           0.8990130389696929,
           0.8639574101904643,
           0.6382700927397593,
           0.270790551942024,
           0.052344240584102635,
           0.004109470877154059,
           0.0006463415702771464,
           0.0025119547708446132,
           0.005947738239730394,
           0.011703718826425015,
           0.016000328982711358,
           0.0099276869545888,
           0.004452144145433941,
           0.0042965714127010815
          ],
          [
           0.003690611361321673,
           0.004647736099415862,
           0.011880631291059821,
           0.021548851781324242,
           0.019038158088829787,
           0.00821188162112996,
           0.005070299494718466,
           0.01975738912130077,
           0.04826309882423488,
           0.05543803353685364,
           0.0282624970562493,
           0.0061418882543219045,
           0.0018989768320471364,
           0.0031135323270940454
          ],
          [
           0.0031074129406253375,
           0.001688563669831082,
           0.003415946700316297,
           0.014064990189625546,
           0.023153490358173812,
           0.01404290920899104,
           0.0031385745231486298,
           0.00042867475669859943,
           0.0020966979674295855,
           0.009362586715460268,
           0.015456662481417756,
           0.009623055854390028,
           0.003259173487917274,
           0.0021008734956272927
          ],
          [
           0.0011831872900740833,
           0.0005322075358121011,
           0.003614681421227277,
           0.019645689732529094,
           0.04825986261023701,
           0.05543738629405407,
           0.028245594018011397,
           0.006030808037437079,
           0.002557843555669051,
           0.009418693248394158,
           0.015957461507041498,
           0.011702424340825865,
           0.005947738239730394,
           0.0025119547708446132
          ],
          [
           0.0005274107058552706,
           0.00004286747566985994,
           0.0000012944855991496703,
           0,
           0,
           0,
           0,
           0,
           0,
           0,
           0,
           0,
           0,
           0
          ]
         ],
         "zmax": 1,
         "zmin": 0
        }
       ],
       "layout": {
        "font": {
         "family": "sans-serif"
        },
        "height": 475,
        "template": {
         "data": {
          "bar": [
           {
            "error_x": {
             "color": "#2a3f5f"
            },
            "error_y": {
             "color": "#2a3f5f"
            },
            "marker": {
             "line": {
              "color": "#E5ECF6",
              "width": 0.5
             },
             "pattern": {
              "fillmode": "overlay",
              "size": 10,
              "solidity": 0.2
             }
            },
            "type": "bar"
           }
          ],
          "barpolar": [
           {
            "marker": {
             "line": {
              "color": "#E5ECF6",
              "width": 0.5
             },
             "pattern": {
              "fillmode": "overlay",
              "size": 10,
              "solidity": 0.2
             }
            },
            "type": "barpolar"
           }
          ],
          "carpet": [
           {
            "aaxis": {
             "endlinecolor": "#2a3f5f",
             "gridcolor": "white",
             "linecolor": "white",
             "minorgridcolor": "white",
             "startlinecolor": "#2a3f5f"
            },
            "baxis": {
             "endlinecolor": "#2a3f5f",
             "gridcolor": "white",
             "linecolor": "white",
             "minorgridcolor": "white",
             "startlinecolor": "#2a3f5f"
            },
            "type": "carpet"
           }
          ],
          "choropleth": [
           {
            "colorbar": {
             "outlinewidth": 0,
             "ticks": ""
            },
            "type": "choropleth"
           }
          ],
          "contour": [
           {
            "colorbar": {
             "outlinewidth": 0,
             "ticks": ""
            },
            "colorscale": [
             [
              0,
              "#0d0887"
             ],
             [
              0.1111111111111111,
              "#46039f"
             ],
             [
              0.2222222222222222,
              "#7201a8"
             ],
             [
              0.3333333333333333,
              "#9c179e"
             ],
             [
              0.4444444444444444,
              "#bd3786"
             ],
             [
              0.5555555555555556,
              "#d8576b"
             ],
             [
              0.6666666666666666,
              "#ed7953"
             ],
             [
              0.7777777777777778,
              "#fb9f3a"
             ],
             [
              0.8888888888888888,
              "#fdca26"
             ],
             [
              1,
              "#f0f921"
             ]
            ],
            "type": "contour"
           }
          ],
          "contourcarpet": [
           {
            "colorbar": {
             "outlinewidth": 0,
             "ticks": ""
            },
            "type": "contourcarpet"
           }
          ],
          "heatmap": [
           {
            "colorbar": {
             "outlinewidth": 0,
             "ticks": ""
            },
            "colorscale": [
             [
              0,
              "#0d0887"
             ],
             [
              0.1111111111111111,
              "#46039f"
             ],
             [
              0.2222222222222222,
              "#7201a8"
             ],
             [
              0.3333333333333333,
              "#9c179e"
             ],
             [
              0.4444444444444444,
              "#bd3786"
             ],
             [
              0.5555555555555556,
              "#d8576b"
             ],
             [
              0.6666666666666666,
              "#ed7953"
             ],
             [
              0.7777777777777778,
              "#fb9f3a"
             ],
             [
              0.8888888888888888,
              "#fdca26"
             ],
             [
              1,
              "#f0f921"
             ]
            ],
            "type": "heatmap"
           }
          ],
          "heatmapgl": [
           {
            "colorbar": {
             "outlinewidth": 0,
             "ticks": ""
            },
            "colorscale": [
             [
              0,
              "#0d0887"
             ],
             [
              0.1111111111111111,
              "#46039f"
             ],
             [
              0.2222222222222222,
              "#7201a8"
             ],
             [
              0.3333333333333333,
              "#9c179e"
             ],
             [
              0.4444444444444444,
              "#bd3786"
             ],
             [
              0.5555555555555556,
              "#d8576b"
             ],
             [
              0.6666666666666666,
              "#ed7953"
             ],
             [
              0.7777777777777778,
              "#fb9f3a"
             ],
             [
              0.8888888888888888,
              "#fdca26"
             ],
             [
              1,
              "#f0f921"
             ]
            ],
            "type": "heatmapgl"
           }
          ],
          "histogram": [
           {
            "marker": {
             "pattern": {
              "fillmode": "overlay",
              "size": 10,
              "solidity": 0.2
             }
            },
            "type": "histogram"
           }
          ],
          "histogram2d": [
           {
            "colorbar": {
             "outlinewidth": 0,
             "ticks": ""
            },
            "colorscale": [
             [
              0,
              "#0d0887"
             ],
             [
              0.1111111111111111,
              "#46039f"
             ],
             [
              0.2222222222222222,
              "#7201a8"
             ],
             [
              0.3333333333333333,
              "#9c179e"
             ],
             [
              0.4444444444444444,
              "#bd3786"
             ],
             [
              0.5555555555555556,
              "#d8576b"
             ],
             [
              0.6666666666666666,
              "#ed7953"
             ],
             [
              0.7777777777777778,
              "#fb9f3a"
             ],
             [
              0.8888888888888888,
              "#fdca26"
             ],
             [
              1,
              "#f0f921"
             ]
            ],
            "type": "histogram2d"
           }
          ],
          "histogram2dcontour": [
           {
            "colorbar": {
             "outlinewidth": 0,
             "ticks": ""
            },
            "colorscale": [
             [
              0,
              "#0d0887"
             ],
             [
              0.1111111111111111,
              "#46039f"
             ],
             [
              0.2222222222222222,
              "#7201a8"
             ],
             [
              0.3333333333333333,
              "#9c179e"
             ],
             [
              0.4444444444444444,
              "#bd3786"
             ],
             [
              0.5555555555555556,
              "#d8576b"
             ],
             [
              0.6666666666666666,
              "#ed7953"
             ],
             [
              0.7777777777777778,
              "#fb9f3a"
             ],
             [
              0.8888888888888888,
              "#fdca26"
             ],
             [
              1,
              "#f0f921"
             ]
            ],
            "type": "histogram2dcontour"
           }
          ],
          "mesh3d": [
           {
            "colorbar": {
             "outlinewidth": 0,
             "ticks": ""
            },
            "type": "mesh3d"
           }
          ],
          "parcoords": [
           {
            "line": {
             "colorbar": {
              "outlinewidth": 0,
              "ticks": ""
             }
            },
            "type": "parcoords"
           }
          ],
          "pie": [
           {
            "automargin": true,
            "type": "pie"
           }
          ],
          "scatter": [
           {
            "fillpattern": {
             "fillmode": "overlay",
             "size": 10,
             "solidity": 0.2
            },
            "type": "scatter"
           }
          ],
          "scatter3d": [
           {
            "line": {
             "colorbar": {
              "outlinewidth": 0,
              "ticks": ""
             }
            },
            "marker": {
             "colorbar": {
              "outlinewidth": 0,
              "ticks": ""
             }
            },
            "type": "scatter3d"
           }
          ],
          "scattercarpet": [
           {
            "marker": {
             "colorbar": {
              "outlinewidth": 0,
              "ticks": ""
             }
            },
            "type": "scattercarpet"
           }
          ],
          "scattergeo": [
           {
            "marker": {
             "colorbar": {
              "outlinewidth": 0,
              "ticks": ""
             }
            },
            "type": "scattergeo"
           }
          ],
          "scattergl": [
           {
            "marker": {
             "colorbar": {
              "outlinewidth": 0,
              "ticks": ""
             }
            },
            "type": "scattergl"
           }
          ],
          "scattermapbox": [
           {
            "marker": {
             "colorbar": {
              "outlinewidth": 0,
              "ticks": ""
             }
            },
            "type": "scattermapbox"
           }
          ],
          "scatterpolar": [
           {
            "marker": {
             "colorbar": {
              "outlinewidth": 0,
              "ticks": ""
             }
            },
            "type": "scatterpolar"
           }
          ],
          "scatterpolargl": [
           {
            "marker": {
             "colorbar": {
              "outlinewidth": 0,
              "ticks": ""
             }
            },
            "type": "scatterpolargl"
           }
          ],
          "scatterternary": [
           {
            "marker": {
             "colorbar": {
              "outlinewidth": 0,
              "ticks": ""
             }
            },
            "type": "scatterternary"
           }
          ],
          "surface": [
           {
            "colorbar": {
             "outlinewidth": 0,
             "ticks": ""
            },
            "colorscale": [
             [
              0,
              "#0d0887"
             ],
             [
              0.1111111111111111,
              "#46039f"
             ],
             [
              0.2222222222222222,
              "#7201a8"
             ],
             [
              0.3333333333333333,
              "#9c179e"
             ],
             [
              0.4444444444444444,
              "#bd3786"
             ],
             [
              0.5555555555555556,
              "#d8576b"
             ],
             [
              0.6666666666666666,
              "#ed7953"
             ],
             [
              0.7777777777777778,
              "#fb9f3a"
             ],
             [
              0.8888888888888888,
              "#fdca26"
             ],
             [
              1,
              "#f0f921"
             ]
            ],
            "type": "surface"
           }
          ],
          "table": [
           {
            "cells": {
             "fill": {
              "color": "#EBF0F8"
             },
             "line": {
              "color": "white"
             }
            },
            "header": {
             "fill": {
              "color": "#C8D4E3"
             },
             "line": {
              "color": "white"
             }
            },
            "type": "table"
           }
          ]
         },
         "layout": {
          "annotationdefaults": {
           "arrowcolor": "#2a3f5f",
           "arrowhead": 0,
           "arrowwidth": 1
          },
          "autotypenumbers": "strict",
          "coloraxis": {
           "colorbar": {
            "outlinewidth": 0,
            "ticks": ""
           }
          },
          "colorscale": {
           "diverging": [
            [
             0,
             "#8e0152"
            ],
            [
             0.1,
             "#c51b7d"
            ],
            [
             0.2,
             "#de77ae"
            ],
            [
             0.3,
             "#f1b6da"
            ],
            [
             0.4,
             "#fde0ef"
            ],
            [
             0.5,
             "#f7f7f7"
            ],
            [
             0.6,
             "#e6f5d0"
            ],
            [
             0.7,
             "#b8e186"
            ],
            [
             0.8,
             "#7fbc41"
            ],
            [
             0.9,
             "#4d9221"
            ],
            [
             1,
             "#276419"
            ]
           ],
           "sequential": [
            [
             0,
             "#0d0887"
            ],
            [
             0.1111111111111111,
             "#46039f"
            ],
            [
             0.2222222222222222,
             "#7201a8"
            ],
            [
             0.3333333333333333,
             "#9c179e"
            ],
            [
             0.4444444444444444,
             "#bd3786"
            ],
            [
             0.5555555555555556,
             "#d8576b"
            ],
            [
             0.6666666666666666,
             "#ed7953"
            ],
            [
             0.7777777777777778,
             "#fb9f3a"
            ],
            [
             0.8888888888888888,
             "#fdca26"
            ],
            [
             1,
             "#f0f921"
            ]
           ],
           "sequentialminus": [
            [
             0,
             "#0d0887"
            ],
            [
             0.1111111111111111,
             "#46039f"
            ],
            [
             0.2222222222222222,
             "#7201a8"
            ],
            [
             0.3333333333333333,
             "#9c179e"
            ],
            [
             0.4444444444444444,
             "#bd3786"
            ],
            [
             0.5555555555555556,
             "#d8576b"
            ],
            [
             0.6666666666666666,
             "#ed7953"
            ],
            [
             0.7777777777777778,
             "#fb9f3a"
            ],
            [
             0.8888888888888888,
             "#fdca26"
            ],
            [
             1,
             "#f0f921"
            ]
           ]
          },
          "colorway": [
           "#636efa",
           "#EF553B",
           "#00cc96",
           "#ab63fa",
           "#FFA15A",
           "#19d3f3",
           "#FF6692",
           "#B6E880",
           "#FF97FF",
           "#FECB52"
          ],
          "font": {
           "color": "#2a3f5f"
          },
          "geo": {
           "bgcolor": "white",
           "lakecolor": "white",
           "landcolor": "#E5ECF6",
           "showlakes": true,
           "showland": true,
           "subunitcolor": "white"
          },
          "hoverlabel": {
           "align": "left"
          },
          "hovermode": "closest",
          "mapbox": {
           "style": "light"
          },
          "paper_bgcolor": "white",
          "plot_bgcolor": "#E5ECF6",
          "polar": {
           "angularaxis": {
            "gridcolor": "white",
            "linecolor": "white",
            "ticks": ""
           },
           "bgcolor": "#E5ECF6",
           "radialaxis": {
            "gridcolor": "white",
            "linecolor": "white",
            "ticks": ""
           }
          },
          "scene": {
           "xaxis": {
            "backgroundcolor": "#E5ECF6",
            "gridcolor": "white",
            "gridwidth": 2,
            "linecolor": "white",
            "showbackground": true,
            "ticks": "",
            "zerolinecolor": "white"
           },
           "yaxis": {
            "backgroundcolor": "#E5ECF6",
            "gridcolor": "white",
            "gridwidth": 2,
            "linecolor": "white",
            "showbackground": true,
            "ticks": "",
            "zerolinecolor": "white"
           },
           "zaxis": {
            "backgroundcolor": "#E5ECF6",
            "gridcolor": "white",
            "gridwidth": 2,
            "linecolor": "white",
            "showbackground": true,
            "ticks": "",
            "zerolinecolor": "white"
           }
          },
          "shapedefaults": {
           "line": {
            "color": "#2a3f5f"
           }
          },
          "ternary": {
           "aaxis": {
            "gridcolor": "white",
            "linecolor": "white",
            "ticks": ""
           },
           "baxis": {
            "gridcolor": "white",
            "linecolor": "white",
            "ticks": ""
           },
           "bgcolor": "#E5ECF6",
           "caxis": {
            "gridcolor": "white",
            "linecolor": "white",
            "ticks": ""
           }
          },
          "title": {
           "x": 0.05
          },
          "xaxis": {
           "automargin": true,
           "gridcolor": "white",
           "linecolor": "white",
           "ticks": "",
           "title": {
            "standoff": 15
           },
           "zerolinecolor": "white",
           "zerolinewidth": 2
          },
          "yaxis": {
           "automargin": true,
           "gridcolor": "white",
           "linecolor": "white",
           "ticks": "",
           "title": {
            "standoff": 15
           },
           "zerolinecolor": "white",
           "zerolinewidth": 2
          }
         }
        },
        "width": 1000,
        "yaxis": {
         "autorange": "reversed"
        }
       }
      }
     },
     "metadata": {},
     "output_type": "display_data"
    }
   ],
   "source": [
    "# Show the plot\n",
    "fig.show()"
   ]
  },
  {
   "cell_type": "code",
   "execution_count": 516,
   "metadata": {},
   "outputs": [
    {
     "data": {
      "text/plain": [
       "'have to shovel it'"
      ]
     },
     "execution_count": 516,
     "metadata": {},
     "output_type": "execute_result"
    }
   ],
   "source": [
    "vecPlagText[10:14].text"
   ]
  },
  {
   "cell_type": "code",
   "execution_count": 517,
   "metadata": {},
   "outputs": [
    {
     "data": {
      "text/plain": [
       "33.53983290961752"
      ]
     },
     "execution_count": 517,
     "metadata": {},
     "output_type": "execute_result"
    }
   ],
   "source": [
    "# Reshape a to linear array\n",
    "a = a.reshape(-1)\n",
    "\n",
    "plagScore=np.sum(a[n-1:a.shape[0]-diff])/(a.shape[0]-diff-n) # Avg. Score (excluding the padding and blank text)\n",
    "plagPercentage=plagScore*100\n",
    "plagPercentage"
   ]
  },
  {
   "cell_type": "code",
   "execution_count": 518,
   "metadata": {},
   "outputs": [],
   "source": [
    "plID=[] \n",
    "# The index of the tokens which are plagiarized (index wrt to plagiarized text)\n",
    "for i in range(len(a)-2):\n",
    "    if(a[i-1]>0.55 or a[i]>0.6 or a[i+1]>0.55 or a[i+2]>0.55):\n",
    "        #pl.append(testing_data[i+n-1])\n",
    "        plID.append(i)"
   ]
  },
  {
   "cell_type": "code",
   "execution_count": 519,
   "metadata": {},
   "outputs": [],
   "source": [
    "# To note the fact that plagiarism can be scattered\n",
    "# Anytime the indexes difference > 4, then it means those two plagiarised words came from different parts of original doc (Flaw exists but we'll improve)\n",
    "jumpStates=[]\n",
    "jumpStates.append(plID[0])\n",
    "for i in range(len(plID)):\n",
    "    if(plID[i]-plID[i-1]>4):\n",
    "        jumpStates.append(plID[i-1])\n",
    "        jumpStates.append(plID[i])\n",
    "\n",
    "jumpStates.append(plID[-1])"
   ]
  },
  {
   "cell_type": "code",
   "execution_count": 520,
   "metadata": {},
   "outputs": [],
   "source": [
    "\n",
    "originalScore=[]\n",
    "# Fill originalScore with zeros\n",
    "for i in range(len(vecOriginalText)):\n",
    "    originalScore.append(0)\n",
    "\n",
    "# Fill originalScore with scores of plagiarized words whenever we detect the phrase in original text\n",
    "for i in range(0,len(jumpStates),2):\n",
    "    id=jumpStates[i]\n",
    "    fin=jumpStates[i+1]\n",
    "\n",
    "    for j in range(len(vecOriginalText)-3):\n",
    "        # X is Vector of the plagiarized text present between indexes id and fin\n",
    "        X=vecPlagText[id:fin+1]\n",
    "        # Y is Vector of the original text present between indexes j and j+l\n",
    "        Y=vecOriginalText[j:j+fin-id+1]\n",
    "        \n",
    "        #Computing cosine similarity\n",
    "        sim = X.similarity(Y)\n",
    "\n",
    "        # If the cosine similarity is greater than 0.999, then we get a match from original text\n",
    "        if(sim>0.999):\n",
    "            originalScore[j:j+fin-id+1]=a[id:fin+1]\n",
    "            break\n",
    "        "
   ]
  },
  {
   "cell_type": "code",
   "execution_count": 521,
   "metadata": {},
   "outputs": [],
   "source": [
    "originalScore_np=np.array(originalScore)"
   ]
  },
  {
   "cell_type": "code",
   "execution_count": 522,
   "metadata": {},
   "outputs": [],
   "source": [
    "# Set height and width of the graph\n",
    "width=12\n",
    "height=np.ceil(len(originalScore_np)/width).astype(\"int32\")"
   ]
  },
  {
   "cell_type": "code",
   "execution_count": 523,
   "metadata": {},
   "outputs": [],
   "source": [
    "# Copy the score_np to a new array with shape (height,width)\n",
    "b=np.zeros(width*height)\n",
    "b[:len(originalScore_np)] = originalScore_np\n",
    "d = len(b) - len(originalScore_np)"
   ]
  },
  {
   "cell_type": "code",
   "execution_count": 524,
   "metadata": {},
   "outputs": [],
   "source": [
    "# Apply gaussian filter to the array\n",
    "b = gaussian_filter(b, sigma=1.0)\n",
    "#b=b*1.093\n",
    "# Reshape to fit rectangular shape\n",
    "b = b.reshape(-1,width)"
   ]
  },
  {
   "cell_type": "code",
   "execution_count": 525,
   "metadata": {},
   "outputs": [],
   "source": [
    "labels = [\" \".join(vecOriginalText[i:i+width].text.split()) for i in range(0, len(vecOriginalText), width)]\n",
    "labels_individual = [x.split() for x in labels]\n",
    "labels_individual[-1] += [\"\"]*d\n",
    "labels = [f\"{x:60.60}\" for x in labels]"
   ]
  },
  {
   "cell_type": "code",
   "execution_count": 526,
   "metadata": {},
   "outputs": [],
   "source": [
    "# create heatmap of the Plagiarized Text\n",
    "fig = go.Figure(data=go.Heatmap(\n",
    "                z=b, x0=0, dx=1,\n",
    "                #y=labels, \n",
    "                zmin=0, zmax=1,\n",
    "                customdata=labels_individual,\n",
    "                hovertemplate='%{customdata} <br><b>Score:%{z:.3f}<extra></extra>',\n",
    "                text=labels_individual,\n",
    "                texttemplate='%{text}',\n",
    "                textfont={\"size\":8},\n",
    "                colorscale='reds'\n",
    "                ))\n",
    "fig.update_layout({\"height\":height*25, \"width\":1000, \"font\":{\"family\":\"sans-serif\"}})\n",
    "fig['layout']['yaxis']['autorange'] = \"reversed\""
   ]
  },
  {
   "cell_type": "code",
   "execution_count": 527,
   "metadata": {},
   "outputs": [
    {
     "data": {
      "application/vnd.plotly.v1+json": {
       "config": {
        "plotlyServerURL": "https://plot.ly"
       },
       "data": [
        {
         "colorscale": [
          [
           0,
           "rgb(255,245,240)"
          ],
          [
           0.125,
           "rgb(254,224,210)"
          ],
          [
           0.25,
           "rgb(252,187,161)"
          ],
          [
           0.375,
           "rgb(252,146,114)"
          ],
          [
           0.5,
           "rgb(251,106,74)"
          ],
          [
           0.625,
           "rgb(239,59,44)"
          ],
          [
           0.75,
           "rgb(203,24,29)"
          ],
          [
           0.875,
           "rgb(165,15,21)"
          ],
          [
           1,
           "rgb(103,0,13)"
          ]
         ],
         "customdata": [
          [
           "It",
           "is",
           "challenging",
           "to",
           "understand",
           "the",
           "effects",
           "of",
           "pollution",
           "It",
           "can"
          ],
          [
           "affect",
           "nature",
           "human",
           "beings",
           "animals",
           "and",
           "play",
           "a",
           "vital",
           "role",
           "in",
           "adverse"
          ],
          [
           "climate",
           "change",
           "Depletion",
           "of",
           "natural",
           "resources",
           "and",
           "destroying",
           "habitats",
           "are",
           "significant"
          ],
          [
           "effects",
           "of",
           "pollution",
           "Pollution",
           "can",
           "harm",
           "humans",
           "by",
           "breathing",
           "in",
           "smoke"
          ],
          [
           "or",
           "consuming",
           "contaminated",
           "food",
           "Moreover",
           "it",
           "can",
           "cause",
           "health",
           "problems",
           "such"
          ],
          [
           "as",
           "asthma",
           "cancer",
           "and",
           "heart",
           "diseases",
           "It",
           "also",
           "affects",
           "nature",
           "by"
          ],
          [
           "destroying",
           "plants",
           "animals",
           "and",
           "natural",
           "habitats",
           "Once",
           "kids",
           "have",
           "understood",
           "the"
          ],
          [
           "meaning",
           "and",
           "effects",
           "of",
           "pollution",
           "you",
           "can",
           "ask",
           "them",
           "to",
           "write",
           "an"
          ],
          [
           "essay",
           "on",
           "pollution",
           "Pollution",
           "is",
           "omnipresent",
           "and",
           "has",
           "affected",
           "the",
           "environment",
           "in"
          ],
          [
           "all",
           "aspects",
           "Be",
           "it",
           "water",
           "soil",
           "or",
           "air",
           "every",
           "element",
           "of"
          ],
          [
           "the",
           "environment",
           "is",
           "polluted",
           "Water",
           "is",
           "polluted",
           "due",
           "to",
           "the",
           "release"
          ],
          [
           "of",
           "industrial",
           "waste",
           "into",
           "rivers",
           "and",
           "water",
           "bodies",
           "When",
           "the",
           "water"
          ],
          [
           "is",
           "contaminated",
           "the",
           "supply",
           "of",
           "drinking",
           "water",
           "decreases",
           "The",
           "soil",
           "is"
          ],
          [
           "polluted",
           "by",
           "dumping",
           "nonbiodegradable",
           "elements",
           "resulting",
           "in",
           "toxicity",
           "The",
           "emission",
           "of"
          ],
          [
           "harmful",
           "gases",
           "pollutes",
           "the",
           "air",
           "A",
           "high",
           "amount",
           "of",
           "carbon",
           "dioxide",
           "emission"
          ],
          [
           "has",
           "led",
           "us",
           "to",
           "a",
           "dangerous",
           "point",
           "and",
           "is",
           "harmful",
           "to",
           "every"
          ],
          [
           "living",
           "thing",
           "on",
           "Earth",
           "Excessive",
           "usage",
           "of",
           "pesticides",
           "for",
           "crops",
           "has"
          ],
          [
           "harmed",
           "the",
           "microorganisms",
           "living",
           "in",
           "the",
           "soil",
           "When",
           "we",
           "follow",
           "incorrect",
           "ways"
          ],
          [
           "of",
           "waste",
           "management",
           "we",
           "contribute",
           "to",
           "pollution",
           "",
           "",
           "",
           "",
           ""
          ]
         ],
         "dx": 1,
         "hovertemplate": "%{customdata} <br><b>Score:%{z:.3f}<extra></extra>",
         "text": [
          [
           "It",
           "is",
           "challenging",
           "to",
           "understand",
           "the",
           "effects",
           "of",
           "pollution",
           "It",
           "can"
          ],
          [
           "affect",
           "nature",
           "human",
           "beings",
           "animals",
           "and",
           "play",
           "a",
           "vital",
           "role",
           "in",
           "adverse"
          ],
          [
           "climate",
           "change",
           "Depletion",
           "of",
           "natural",
           "resources",
           "and",
           "destroying",
           "habitats",
           "are",
           "significant"
          ],
          [
           "effects",
           "of",
           "pollution",
           "Pollution",
           "can",
           "harm",
           "humans",
           "by",
           "breathing",
           "in",
           "smoke"
          ],
          [
           "or",
           "consuming",
           "contaminated",
           "food",
           "Moreover",
           "it",
           "can",
           "cause",
           "health",
           "problems",
           "such"
          ],
          [
           "as",
           "asthma",
           "cancer",
           "and",
           "heart",
           "diseases",
           "It",
           "also",
           "affects",
           "nature",
           "by"
          ],
          [
           "destroying",
           "plants",
           "animals",
           "and",
           "natural",
           "habitats",
           "Once",
           "kids",
           "have",
           "understood",
           "the"
          ],
          [
           "meaning",
           "and",
           "effects",
           "of",
           "pollution",
           "you",
           "can",
           "ask",
           "them",
           "to",
           "write",
           "an"
          ],
          [
           "essay",
           "on",
           "pollution",
           "Pollution",
           "is",
           "omnipresent",
           "and",
           "has",
           "affected",
           "the",
           "environment",
           "in"
          ],
          [
           "all",
           "aspects",
           "Be",
           "it",
           "water",
           "soil",
           "or",
           "air",
           "every",
           "element",
           "of"
          ],
          [
           "the",
           "environment",
           "is",
           "polluted",
           "Water",
           "is",
           "polluted",
           "due",
           "to",
           "the",
           "release"
          ],
          [
           "of",
           "industrial",
           "waste",
           "into",
           "rivers",
           "and",
           "water",
           "bodies",
           "When",
           "the",
           "water"
          ],
          [
           "is",
           "contaminated",
           "the",
           "supply",
           "of",
           "drinking",
           "water",
           "decreases",
           "The",
           "soil",
           "is"
          ],
          [
           "polluted",
           "by",
           "dumping",
           "nonbiodegradable",
           "elements",
           "resulting",
           "in",
           "toxicity",
           "The",
           "emission",
           "of"
          ],
          [
           "harmful",
           "gases",
           "pollutes",
           "the",
           "air",
           "A",
           "high",
           "amount",
           "of",
           "carbon",
           "dioxide",
           "emission"
          ],
          [
           "has",
           "led",
           "us",
           "to",
           "a",
           "dangerous",
           "point",
           "and",
           "is",
           "harmful",
           "to",
           "every"
          ],
          [
           "living",
           "thing",
           "on",
           "Earth",
           "Excessive",
           "usage",
           "of",
           "pesticides",
           "for",
           "crops",
           "has"
          ],
          [
           "harmed",
           "the",
           "microorganisms",
           "living",
           "in",
           "the",
           "soil",
           "When",
           "we",
           "follow",
           "incorrect",
           "ways"
          ],
          [
           "of",
           "waste",
           "management",
           "we",
           "contribute",
           "to",
           "pollution",
           "",
           "",
           "",
           "",
           ""
          ]
         ],
         "textfont": {
          "size": 8
         },
         "texttemplate": "%{text}",
         "type": "heatmap",
         "x0": 0,
         "z": [
          [
           0.18007306506404847,
           0.325938685044043,
           0.5450432868467593,
           0.7380649447504468,
           0.8504664773898976,
           0.8981375601225804,
           0.9162922935462601,
           0.9051512786605529,
           0.8403726333649759,
           0.7424077612588833,
           0.6892828285977282,
           0.7251422803344028
          ],
          [
           0.808971184984818,
           0.8793491515972978,
           0.9178107771145012,
           0.9350110948934204,
           0.9330649488429016,
           0.9103631830325183,
           0.8879889129431388,
           0.8903557523378176,
           0.9096862298934438,
           0.9238555287612913,
           0.9252488567447368,
           0.9240638157164481
          ],
          [
           0.9298171933297036,
           0.933743925308365,
           0.9249511735165588,
           0.9093601724763292,
           0.8974960308589286,
           0.8925600936401039,
           0.8939879157844737,
           0.8948127453076614,
           0.8916666165109643,
           0.8949208203926182,
           0.9123653884890617,
           0.9378644029554757
          ],
          [
           0.9539661576137703,
           0.9330479228714935,
           0.8565089088083111,
           0.7597651338879561,
           0.721561006657433,
           0.76885851882564,
           0.8469517165210911,
           0.9005329029964346,
           0.9187533341048444,
           0.9167074973341132,
           0.9111482228553929,
           0.9093536140202858
          ],
          [
           0.9082312274049715,
           0.8853591586838825,
           0.7913696564918007,
           0.5866717126398423,
           0.31739729080657997,
           0.10611250679163572,
           0.01803068363713502,
           0.0013232477102294892,
           0.00003737051416392065,
           0,
           0,
           0
          ],
          [
           0,
           0,
           0,
           0,
           0,
           0,
           0,
           0,
           0,
           0,
           0,
           0
          ],
          [
           0,
           0,
           0,
           0,
           0,
           0,
           0,
           0,
           0,
           0,
           0,
           0
          ],
          [
           0,
           0,
           0,
           0,
           0,
           0,
           0,
           0,
           0,
           0,
           0,
           0
          ],
          [
           0,
           0,
           0,
           0,
           0,
           0,
           0,
           0,
           0,
           0,
           0,
           0
          ],
          [
           0,
           0,
           0,
           0,
           0,
           0,
           0,
           0,
           0,
           0,
           0,
           0
          ],
          [
           0,
           0,
           0,
           0,
           0,
           0,
           0,
           0,
           0,
           0,
           0,
           0
          ],
          [
           0,
           0,
           0,
           0,
           0,
           0,
           0,
           0,
           0,
           0,
           0,
           0
          ],
          [
           0,
           0,
           0,
           0,
           0.0000148080640439224,
           0.0005334359121589498,
           0.007477890296723524,
           0.046825601048999715,
           0.15683727382195062,
           0.33978650295168145,
           0.5425446484719143,
           0.6965710387770144
          ],
          [
           0.7875809408509185,
           0.8511920651850365,
           0.9042315913487804,
           0.9358655012347735,
           0.9415146773249077,
           0.929318090319397,
           0.9100605264556654,
           0.8869169278733446,
           0.8604270330219339,
           0.8439152495872642,
           0.8485736309375373,
           0.8686950887123744
          ],
          [
           0.894282560326666,
           0.9128270127029449,
           0.9135208938834227,
           0.9060926100498072,
           0.9106588113735324,
           0.9264300925709623,
           0.9348202160018573,
           0.928625090875679,
           0.9207778979908726,
           0.9209988336350039,
           0.9203164955073626,
           0.914013449553535
          ],
          [
           0.9125660378709257,
           0.9168350073720954,
           0.9143697938471158,
           0.9070949365884392,
           0.9090028867712534,
           0.9153815669534016,
           0.9079242429207035,
           0.887138275819831,
           0.8710668385249853,
           0.8676870660023769,
           0.8726322608801969,
           0.8797807969187135
          ],
          [
           0.867576297260318,
           0.7828357299713824,
           0.5817724546896585,
           0.31322157952713564,
           0.10393375839360439,
           0.017564635881298155,
           0.0012855263394032103,
           0.00003624006870617174,
           0,
           0,
           0,
           0
          ],
          [
           0,
           0,
           0,
           0,
           0,
           0,
           0,
           0,
           0,
           0,
           0,
           0
          ],
          [
           0,
           0,
           0,
           0,
           0,
           0,
           0,
           0,
           0,
           0,
           0,
           0
          ]
         ],
         "zmax": 1,
         "zmin": 0
        }
       ],
       "layout": {
        "font": {
         "family": "sans-serif"
        },
        "height": 475,
        "template": {
         "data": {
          "bar": [
           {
            "error_x": {
             "color": "#2a3f5f"
            },
            "error_y": {
             "color": "#2a3f5f"
            },
            "marker": {
             "line": {
              "color": "#E5ECF6",
              "width": 0.5
             },
             "pattern": {
              "fillmode": "overlay",
              "size": 10,
              "solidity": 0.2
             }
            },
            "type": "bar"
           }
          ],
          "barpolar": [
           {
            "marker": {
             "line": {
              "color": "#E5ECF6",
              "width": 0.5
             },
             "pattern": {
              "fillmode": "overlay",
              "size": 10,
              "solidity": 0.2
             }
            },
            "type": "barpolar"
           }
          ],
          "carpet": [
           {
            "aaxis": {
             "endlinecolor": "#2a3f5f",
             "gridcolor": "white",
             "linecolor": "white",
             "minorgridcolor": "white",
             "startlinecolor": "#2a3f5f"
            },
            "baxis": {
             "endlinecolor": "#2a3f5f",
             "gridcolor": "white",
             "linecolor": "white",
             "minorgridcolor": "white",
             "startlinecolor": "#2a3f5f"
            },
            "type": "carpet"
           }
          ],
          "choropleth": [
           {
            "colorbar": {
             "outlinewidth": 0,
             "ticks": ""
            },
            "type": "choropleth"
           }
          ],
          "contour": [
           {
            "colorbar": {
             "outlinewidth": 0,
             "ticks": ""
            },
            "colorscale": [
             [
              0,
              "#0d0887"
             ],
             [
              0.1111111111111111,
              "#46039f"
             ],
             [
              0.2222222222222222,
              "#7201a8"
             ],
             [
              0.3333333333333333,
              "#9c179e"
             ],
             [
              0.4444444444444444,
              "#bd3786"
             ],
             [
              0.5555555555555556,
              "#d8576b"
             ],
             [
              0.6666666666666666,
              "#ed7953"
             ],
             [
              0.7777777777777778,
              "#fb9f3a"
             ],
             [
              0.8888888888888888,
              "#fdca26"
             ],
             [
              1,
              "#f0f921"
             ]
            ],
            "type": "contour"
           }
          ],
          "contourcarpet": [
           {
            "colorbar": {
             "outlinewidth": 0,
             "ticks": ""
            },
            "type": "contourcarpet"
           }
          ],
          "heatmap": [
           {
            "colorbar": {
             "outlinewidth": 0,
             "ticks": ""
            },
            "colorscale": [
             [
              0,
              "#0d0887"
             ],
             [
              0.1111111111111111,
              "#46039f"
             ],
             [
              0.2222222222222222,
              "#7201a8"
             ],
             [
              0.3333333333333333,
              "#9c179e"
             ],
             [
              0.4444444444444444,
              "#bd3786"
             ],
             [
              0.5555555555555556,
              "#d8576b"
             ],
             [
              0.6666666666666666,
              "#ed7953"
             ],
             [
              0.7777777777777778,
              "#fb9f3a"
             ],
             [
              0.8888888888888888,
              "#fdca26"
             ],
             [
              1,
              "#f0f921"
             ]
            ],
            "type": "heatmap"
           }
          ],
          "heatmapgl": [
           {
            "colorbar": {
             "outlinewidth": 0,
             "ticks": ""
            },
            "colorscale": [
             [
              0,
              "#0d0887"
             ],
             [
              0.1111111111111111,
              "#46039f"
             ],
             [
              0.2222222222222222,
              "#7201a8"
             ],
             [
              0.3333333333333333,
              "#9c179e"
             ],
             [
              0.4444444444444444,
              "#bd3786"
             ],
             [
              0.5555555555555556,
              "#d8576b"
             ],
             [
              0.6666666666666666,
              "#ed7953"
             ],
             [
              0.7777777777777778,
              "#fb9f3a"
             ],
             [
              0.8888888888888888,
              "#fdca26"
             ],
             [
              1,
              "#f0f921"
             ]
            ],
            "type": "heatmapgl"
           }
          ],
          "histogram": [
           {
            "marker": {
             "pattern": {
              "fillmode": "overlay",
              "size": 10,
              "solidity": 0.2
             }
            },
            "type": "histogram"
           }
          ],
          "histogram2d": [
           {
            "colorbar": {
             "outlinewidth": 0,
             "ticks": ""
            },
            "colorscale": [
             [
              0,
              "#0d0887"
             ],
             [
              0.1111111111111111,
              "#46039f"
             ],
             [
              0.2222222222222222,
              "#7201a8"
             ],
             [
              0.3333333333333333,
              "#9c179e"
             ],
             [
              0.4444444444444444,
              "#bd3786"
             ],
             [
              0.5555555555555556,
              "#d8576b"
             ],
             [
              0.6666666666666666,
              "#ed7953"
             ],
             [
              0.7777777777777778,
              "#fb9f3a"
             ],
             [
              0.8888888888888888,
              "#fdca26"
             ],
             [
              1,
              "#f0f921"
             ]
            ],
            "type": "histogram2d"
           }
          ],
          "histogram2dcontour": [
           {
            "colorbar": {
             "outlinewidth": 0,
             "ticks": ""
            },
            "colorscale": [
             [
              0,
              "#0d0887"
             ],
             [
              0.1111111111111111,
              "#46039f"
             ],
             [
              0.2222222222222222,
              "#7201a8"
             ],
             [
              0.3333333333333333,
              "#9c179e"
             ],
             [
              0.4444444444444444,
              "#bd3786"
             ],
             [
              0.5555555555555556,
              "#d8576b"
             ],
             [
              0.6666666666666666,
              "#ed7953"
             ],
             [
              0.7777777777777778,
              "#fb9f3a"
             ],
             [
              0.8888888888888888,
              "#fdca26"
             ],
             [
              1,
              "#f0f921"
             ]
            ],
            "type": "histogram2dcontour"
           }
          ],
          "mesh3d": [
           {
            "colorbar": {
             "outlinewidth": 0,
             "ticks": ""
            },
            "type": "mesh3d"
           }
          ],
          "parcoords": [
           {
            "line": {
             "colorbar": {
              "outlinewidth": 0,
              "ticks": ""
             }
            },
            "type": "parcoords"
           }
          ],
          "pie": [
           {
            "automargin": true,
            "type": "pie"
           }
          ],
          "scatter": [
           {
            "fillpattern": {
             "fillmode": "overlay",
             "size": 10,
             "solidity": 0.2
            },
            "type": "scatter"
           }
          ],
          "scatter3d": [
           {
            "line": {
             "colorbar": {
              "outlinewidth": 0,
              "ticks": ""
             }
            },
            "marker": {
             "colorbar": {
              "outlinewidth": 0,
              "ticks": ""
             }
            },
            "type": "scatter3d"
           }
          ],
          "scattercarpet": [
           {
            "marker": {
             "colorbar": {
              "outlinewidth": 0,
              "ticks": ""
             }
            },
            "type": "scattercarpet"
           }
          ],
          "scattergeo": [
           {
            "marker": {
             "colorbar": {
              "outlinewidth": 0,
              "ticks": ""
             }
            },
            "type": "scattergeo"
           }
          ],
          "scattergl": [
           {
            "marker": {
             "colorbar": {
              "outlinewidth": 0,
              "ticks": ""
             }
            },
            "type": "scattergl"
           }
          ],
          "scattermapbox": [
           {
            "marker": {
             "colorbar": {
              "outlinewidth": 0,
              "ticks": ""
             }
            },
            "type": "scattermapbox"
           }
          ],
          "scatterpolar": [
           {
            "marker": {
             "colorbar": {
              "outlinewidth": 0,
              "ticks": ""
             }
            },
            "type": "scatterpolar"
           }
          ],
          "scatterpolargl": [
           {
            "marker": {
             "colorbar": {
              "outlinewidth": 0,
              "ticks": ""
             }
            },
            "type": "scatterpolargl"
           }
          ],
          "scatterternary": [
           {
            "marker": {
             "colorbar": {
              "outlinewidth": 0,
              "ticks": ""
             }
            },
            "type": "scatterternary"
           }
          ],
          "surface": [
           {
            "colorbar": {
             "outlinewidth": 0,
             "ticks": ""
            },
            "colorscale": [
             [
              0,
              "#0d0887"
             ],
             [
              0.1111111111111111,
              "#46039f"
             ],
             [
              0.2222222222222222,
              "#7201a8"
             ],
             [
              0.3333333333333333,
              "#9c179e"
             ],
             [
              0.4444444444444444,
              "#bd3786"
             ],
             [
              0.5555555555555556,
              "#d8576b"
             ],
             [
              0.6666666666666666,
              "#ed7953"
             ],
             [
              0.7777777777777778,
              "#fb9f3a"
             ],
             [
              0.8888888888888888,
              "#fdca26"
             ],
             [
              1,
              "#f0f921"
             ]
            ],
            "type": "surface"
           }
          ],
          "table": [
           {
            "cells": {
             "fill": {
              "color": "#EBF0F8"
             },
             "line": {
              "color": "white"
             }
            },
            "header": {
             "fill": {
              "color": "#C8D4E3"
             },
             "line": {
              "color": "white"
             }
            },
            "type": "table"
           }
          ]
         },
         "layout": {
          "annotationdefaults": {
           "arrowcolor": "#2a3f5f",
           "arrowhead": 0,
           "arrowwidth": 1
          },
          "autotypenumbers": "strict",
          "coloraxis": {
           "colorbar": {
            "outlinewidth": 0,
            "ticks": ""
           }
          },
          "colorscale": {
           "diverging": [
            [
             0,
             "#8e0152"
            ],
            [
             0.1,
             "#c51b7d"
            ],
            [
             0.2,
             "#de77ae"
            ],
            [
             0.3,
             "#f1b6da"
            ],
            [
             0.4,
             "#fde0ef"
            ],
            [
             0.5,
             "#f7f7f7"
            ],
            [
             0.6,
             "#e6f5d0"
            ],
            [
             0.7,
             "#b8e186"
            ],
            [
             0.8,
             "#7fbc41"
            ],
            [
             0.9,
             "#4d9221"
            ],
            [
             1,
             "#276419"
            ]
           ],
           "sequential": [
            [
             0,
             "#0d0887"
            ],
            [
             0.1111111111111111,
             "#46039f"
            ],
            [
             0.2222222222222222,
             "#7201a8"
            ],
            [
             0.3333333333333333,
             "#9c179e"
            ],
            [
             0.4444444444444444,
             "#bd3786"
            ],
            [
             0.5555555555555556,
             "#d8576b"
            ],
            [
             0.6666666666666666,
             "#ed7953"
            ],
            [
             0.7777777777777778,
             "#fb9f3a"
            ],
            [
             0.8888888888888888,
             "#fdca26"
            ],
            [
             1,
             "#f0f921"
            ]
           ],
           "sequentialminus": [
            [
             0,
             "#0d0887"
            ],
            [
             0.1111111111111111,
             "#46039f"
            ],
            [
             0.2222222222222222,
             "#7201a8"
            ],
            [
             0.3333333333333333,
             "#9c179e"
            ],
            [
             0.4444444444444444,
             "#bd3786"
            ],
            [
             0.5555555555555556,
             "#d8576b"
            ],
            [
             0.6666666666666666,
             "#ed7953"
            ],
            [
             0.7777777777777778,
             "#fb9f3a"
            ],
            [
             0.8888888888888888,
             "#fdca26"
            ],
            [
             1,
             "#f0f921"
            ]
           ]
          },
          "colorway": [
           "#636efa",
           "#EF553B",
           "#00cc96",
           "#ab63fa",
           "#FFA15A",
           "#19d3f3",
           "#FF6692",
           "#B6E880",
           "#FF97FF",
           "#FECB52"
          ],
          "font": {
           "color": "#2a3f5f"
          },
          "geo": {
           "bgcolor": "white",
           "lakecolor": "white",
           "landcolor": "#E5ECF6",
           "showlakes": true,
           "showland": true,
           "subunitcolor": "white"
          },
          "hoverlabel": {
           "align": "left"
          },
          "hovermode": "closest",
          "mapbox": {
           "style": "light"
          },
          "paper_bgcolor": "white",
          "plot_bgcolor": "#E5ECF6",
          "polar": {
           "angularaxis": {
            "gridcolor": "white",
            "linecolor": "white",
            "ticks": ""
           },
           "bgcolor": "#E5ECF6",
           "radialaxis": {
            "gridcolor": "white",
            "linecolor": "white",
            "ticks": ""
           }
          },
          "scene": {
           "xaxis": {
            "backgroundcolor": "#E5ECF6",
            "gridcolor": "white",
            "gridwidth": 2,
            "linecolor": "white",
            "showbackground": true,
            "ticks": "",
            "zerolinecolor": "white"
           },
           "yaxis": {
            "backgroundcolor": "#E5ECF6",
            "gridcolor": "white",
            "gridwidth": 2,
            "linecolor": "white",
            "showbackground": true,
            "ticks": "",
            "zerolinecolor": "white"
           },
           "zaxis": {
            "backgroundcolor": "#E5ECF6",
            "gridcolor": "white",
            "gridwidth": 2,
            "linecolor": "white",
            "showbackground": true,
            "ticks": "",
            "zerolinecolor": "white"
           }
          },
          "shapedefaults": {
           "line": {
            "color": "#2a3f5f"
           }
          },
          "ternary": {
           "aaxis": {
            "gridcolor": "white",
            "linecolor": "white",
            "ticks": ""
           },
           "baxis": {
            "gridcolor": "white",
            "linecolor": "white",
            "ticks": ""
           },
           "bgcolor": "#E5ECF6",
           "caxis": {
            "gridcolor": "white",
            "linecolor": "white",
            "ticks": ""
           }
          },
          "title": {
           "x": 0.05
          },
          "xaxis": {
           "automargin": true,
           "gridcolor": "white",
           "linecolor": "white",
           "ticks": "",
           "title": {
            "standoff": 15
           },
           "zerolinecolor": "white",
           "zerolinewidth": 2
          },
          "yaxis": {
           "automargin": true,
           "gridcolor": "white",
           "linecolor": "white",
           "ticks": "",
           "title": {
            "standoff": 15
           },
           "zerolinecolor": "white",
           "zerolinewidth": 2
          }
         }
        },
        "width": 1000,
        "yaxis": {
         "autorange": "reversed"
        }
       }
      }
     },
     "metadata": {},
     "output_type": "display_data"
    }
   ],
   "source": [
    "fig.show()"
   ]
  }
 ],
 "metadata": {
  "kernelspec": {
   "display_name": "Python 3.9.5 ('base')",
   "language": "python",
   "name": "python3"
  },
  "language_info": {
   "codemirror_mode": {
    "name": "ipython",
    "version": 3
   },
   "file_extension": ".py",
   "mimetype": "text/x-python",
   "name": "python",
   "nbconvert_exporter": "python",
   "pygments_lexer": "ipython3",
   "version": "3.9.5"
  },
  "orig_nbformat": 4,
  "vscode": {
   "interpreter": {
    "hash": "4ded07237dbfafc8373e566cfe932557d647581b6f69415d805b7b9e9b0c4bcc"
   }
  }
 },
 "nbformat": 4,
 "nbformat_minor": 2
}
