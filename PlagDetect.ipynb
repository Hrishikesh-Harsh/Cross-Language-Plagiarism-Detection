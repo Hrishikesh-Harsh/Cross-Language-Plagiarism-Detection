{
 "cells": [
  {
   "cell_type": "markdown",
   "id": "3af6e880",
   "metadata": {},
   "source": [
    "##### In this Jupyter file, I am going to analyse plagiarism between two texts.\n",
    "##### I will try to use the N-Gram Model for this Purpose."
   ]
  },
  {
   "cell_type": "code",
   "execution_count": 3,
   "id": "7a7f716f",
   "metadata": {},
   "outputs": [],
   "source": [
    "import re\n",
    "from nltk.util import ngrams, pad_sequence, everygrams\n",
    "from nltk.tokenize import word_tokenize\n",
    "from nltk.lm import MLE, WittenBellInterpolated"
   ]
  },
  {
   "cell_type": "code",
   "execution_count": 4,
   "id": "393cbb4b",
   "metadata": {},
   "outputs": [],
   "source": [
    "import numpy as np\n",
    "from scipy.ndimage import gaussian_filter\n",
    "import plotly.graph_objects as go"
   ]
  },
  {
   "cell_type": "code",
   "execution_count": 5,
   "id": "edb12953",
   "metadata": {},
   "outputs": [],
   "source": [
    "originalText=\"\"\"It is challenging to understand the effects of pollution. \n",
    "It can affect nature, human beings, animals and play a vital role in adverse climate change. \n",
    "Depletion of natural resources and destroying habitats are significant effects of pollution. \n",
    "Pollution can harm humans by breathing in smoke or consuming contaminated food. \n",
    "Moreover, it can cause health problems such as asthma, cancer, and heart diseases. \n",
    "It also affects nature by destroying plants, animals, and natural habitats. \n",
    "Once kids have understood the meaning and effects of pollution, you can ask them to write an essay on pollution.\n",
    "Pollution is omnipresent and has affected the environment in all aspects. \n",
    "Be it water, soil, or air, every element of the environment is polluted. \n",
    "Water is polluted due to the release of industrial waste into rivers and water bodies. \n",
    "When the water is contaminated, the supply of drinking water decreases. \n",
    "The soil is polluted by dumping non-biodegradable elements, resulting in toxicity. \n",
    "The emission of harmful gases pollutes the air.\n",
    "A high amount of carbon dioxide emission has led us to a dangerous point and is harmful to every living thing on Earth. \n",
    "Excessive usage of pesticides for crops has harmed the microorganisms living in the soil.\n",
    "When we follow incorrect ways of waste management, we contribute to pollution.\"\"\""
   ]
  },
  {
   "cell_type": "code",
   "execution_count": 6,
   "id": "c854fe6e",
   "metadata": {},
   "outputs": [],
   "source": [
    "# Convert to lower case and remove punctuation\n",
    "originalText = originalText.lower()\n",
    "originalText = re.sub(r'[^\\w\\s]', '', originalText)\n"
   ]
  },
  {
   "cell_type": "code",
   "execution_count": 7,
   "id": "f09873b3",
   "metadata": {},
   "outputs": [],
   "source": [
    "# Remove new lines\n",
    "originalText = originalText.replace('\\n', ' ')"
   ]
  },
  {
   "cell_type": "code",
   "execution_count": 8,
   "id": "b8617a06",
   "metadata": {},
   "outputs": [],
   "source": [
    "# remove text inside square and curly brackets\n",
    "originalText = re.sub(r'\\[.*?\\]|\\{.*\\}', '', originalText)"
   ]
  },
  {
   "cell_type": "code",
   "execution_count": 9,
   "id": "3f7c5388",
   "metadata": {},
   "outputs": [],
   "source": [
    "# set N-Gram number\n",
    "n = 4"
   ]
  },
  {
   "cell_type": "code",
   "execution_count": 10,
   "id": "54c54f03",
   "metadata": {},
   "outputs": [],
   "source": [
    "# Pad the text and tokenize\n",
    "training_data = list(pad_sequence(word_tokenize(originalText), n, \n",
    "                                  pad_left=True, \n",
    "                                  left_pad_symbol=\"<s>\"))"
   ]
  },
  {
   "cell_type": "code",
   "execution_count": 11,
   "id": "f50b4f24",
   "metadata": {},
   "outputs": [],
   "source": [
    "# Generate n-grams\n",
    "ngrams = list(everygrams(training_data, max_len=n))"
   ]
  },
  {
   "cell_type": "code",
   "execution_count": 12,
   "id": "b3c92080",
   "metadata": {},
   "outputs": [],
   "source": [
    "# Build n-gram language model\n",
    "model = WittenBellInterpolated(n)\n",
    "model.fit([ngrams],vocabulary_text=training_data)\n"
   ]
  },
  {
   "cell_type": "code",
   "execution_count": 123,
   "id": "ac51a220",
   "metadata": {},
   "outputs": [],
   "source": [
    "# Text Copied from OriginalText\n",
    "plagText=\"\"\"It is challenging to understand the effects of pollution. \n",
    "It can affect nature, human beings, animals and play a vital role in adverse climate change. \n",
    "Depletion of natural resources and destroying habitats are significant effects of pollution. \n",
    "Pollution can harm humans by breathing in smoke or consuming contaminated food.\n",
    "Winter is one of the most important seasons in India. It is a part of the four seasons that occur in India. \n",
    "Winters are the coolest season that starts from December and last till March. \n",
    "The peak time when winter is experienced the most in December and January. In India, winters hold great importance.\n",
    "The soil is polluted by dumping non-biodegradable elements, resulting in toxicity. \n",
    "The emission of harmful gases pollutes the air.\n",
    "A high amount of carbon dioxide emission has led us to a dangerous point and is harmful to every living thing on Earth.\n",
    "During winters, schools usually take a break and close down. The days are shorter and the nights get longer. \n",
    "The chilly mornings give you a different sense altogether. Hot drinks like coffee, tea, and hot chocolate are enjoyed more during winters. \n",
    "The sun rises quite late and sometimes it does not.\"\"\""
   ]
  },
  {
   "cell_type": "code",
   "execution_count": 124,
   "id": "c81a0cd9",
   "metadata": {},
   "outputs": [],
   "source": [
    "# Convert to lower case and remove punctuation\n",
    "plagText = plagText.lower()\n",
    "plagText = re.sub(r'[^\\w\\s]', '', plagText)\n"
   ]
  },
  {
   "cell_type": "code",
   "execution_count": 125,
   "id": "2ac9a6fa",
   "metadata": {},
   "outputs": [],
   "source": [
    "# Remove new lines\n",
    "plagText = plagText.replace('\\n', ' ')\n"
   ]
  },
  {
   "cell_type": "code",
   "execution_count": 126,
   "id": "cfda5507",
   "metadata": {},
   "outputs": [],
   "source": [
    "testing_data = list(pad_sequence(word_tokenize(plagText), n, \n",
    "                                 pad_left=True,\n",
    "                                 left_pad_symbol=\"<s>\"))"
   ]
  },
  {
   "cell_type": "code",
   "execution_count": 127,
   "id": "1ffb7d30",
   "metadata": {},
   "outputs": [],
   "source": [
    "score=[]\n",
    "# Generate score\n",
    "for i,ele in enumerate(testing_data[n-1:]):\n",
    "    s = model.score(ele,testing_data[i:i+n-1])\n",
    "    score.append(s)\n",
    "\n"
   ]
  },
  {
   "cell_type": "code",
   "execution_count": 128,
   "id": "59020c90",
   "metadata": {},
   "outputs": [
    {
     "data": {
      "text/plain": [
       "[0.6773364485981308,\n",
       " 0.7814122533748702,\n",
       " 0.771320093457944,\n",
       " 0.8785046728971962,\n",
       " 0.7714174454828661,\n",
       " 0.8820093457943925,\n",
       " 0.7629566694987255,\n",
       " 0.9407126168224299,\n",
       " 0.8955899532710281,\n",
       " 0.2753823279524214,\n",
       " 0.807632398753894,\n",
       " 0.6568341121495327,\n",
       " 0.8761682242990654,\n",
       " 0.8130841121495327,\n",
       " 0.8755841121495327,\n",
       " 0.8761682242990654,\n",
       " 0.9197819314641744,\n",
       " 0.6412091121495327,\n",
       " 0.8767523364485981,\n",
       " 0.7922507788161994,\n",
       " 0.8755841121495327,\n",
       " 0.8779205607476636,\n",
       " 0.7755841121495327,\n",
       " 0.8755841121495327,\n",
       " 0.8755841121495327,\n",
       " 0.8755841121495327,\n",
       " 0.8814252336448598,\n",
       " 0.7635514018691589,\n",
       " 0.8130841121495327,\n",
       " 0.8796728971962617,\n",
       " 0.7667932242990654,\n",
       " 0.8136682242990654,\n",
       " 0.8130841121495327,\n",
       " 0.8755841121495327,\n",
       " 0.8767523364485981,\n",
       " 0.9407126168224299,\n",
       " 0.8955899532710281,\n",
       " 0.2991716227697536,\n",
       " 0.6498513169073916,\n",
       " 0.7818341121495327,\n",
       " 0.8755841121495327,\n",
       " 0.8767523364485981,\n",
       " 0.7922507788161994,\n",
       " 0.8779205607476636,\n",
       " 0.7755841121495327,\n",
       " 0.8761682242990654,\n",
       " 0.8130841121495327,\n",
       " 0.8761682242990654,\n",
       " 0.8130841121495327,\n",
       " 0.0,\n",
       " 0.03271028037383177,\n",
       " 0.0,\n",
       " 0.0514018691588785,\n",
       " 0.07523364485981308,\n",
       " 0.0,\n",
       " 0.0,\n",
       " 0.0,\n",
       " 0.02336448598130841,\n",
       " 0.0,\n",
       " 0.02336448598130841,\n",
       " 0.1256490134994808,\n",
       " 0.0029205607476635513,\n",
       " 0.0,\n",
       " 0.0514018691588785,\n",
       " 0.07523364485981308,\n",
       " 0.0,\n",
       " 0.0,\n",
       " 0.0,\n",
       " 0.0,\n",
       " 0.02336448598130841,\n",
       " 0.0,\n",
       " 0.0,\n",
       " 0.004672897196261682,\n",
       " 0.028037383177570093,\n",
       " 0.0,\n",
       " 0.0,\n",
       " 0.0,\n",
       " 0.0,\n",
       " 0.0,\n",
       " 0.0,\n",
       " 0.037383177570093455,\n",
       " 0.0,\n",
       " 0.0,\n",
       " 0.0,\n",
       " 0.056074766355140186,\n",
       " 0.0,\n",
       " 0.0,\n",
       " 0.009345794392523364,\n",
       " 0.0,\n",
       " 0.03271028037383177,\n",
       " 0.0,\n",
       " 0.056074766355140186,\n",
       " 0.0,\n",
       " 0.02336448598130841,\n",
       " 0.0,\n",
       " 0.037383177570093455,\n",
       " 0.0,\n",
       " 0.02336448598130841,\n",
       " 0.0,\n",
       " 0.0,\n",
       " 0.0,\n",
       " 0.0,\n",
       " 0.0,\n",
       " 0.056074766355140186,\n",
       " 0.09728122344944774,\n",
       " 0.34151090342679125,\n",
       " 0.8139602803738317,\n",
       " 0.6267523364485981,\n",
       " 0.7922507788161994,\n",
       " 0.8755841121495327,\n",
       " 0.8755841121495327,\n",
       " 0.8755841121495327,\n",
       " 0.8779205607476636,\n",
       " 0.7755841121495327,\n",
       " 0.8820093457943925,\n",
       " 0.7624256584536958,\n",
       " 0.8189252336448598,\n",
       " 0.7635514018691589,\n",
       " 0.8130841121495327,\n",
       " 0.8755841121495327,\n",
       " 0.8820093457943925,\n",
       " 0.7624256584536958,\n",
       " 0.8142523364485981,\n",
       " 0.7922507788161994,\n",
       " 0.8755841121495327,\n",
       " 0.8814252336448598,\n",
       " 0.7630257009345794,\n",
       " 0.8755841121495327,\n",
       " 0.8761682242990654,\n",
       " 0.8142523364485981,\n",
       " 0.7922507788161994,\n",
       " 0.8755841121495327,\n",
       " 0.8785046728971962,\n",
       " 0.7725856697819314,\n",
       " 0.7922507788161994,\n",
       " 0.8755841121495327,\n",
       " 0.8796728971962617,\n",
       " 0.769713785046729,\n",
       " 0.7718068535825545,\n",
       " 0.8160046728971962,\n",
       " 0.7720015576323987,\n",
       " 0.8136682242990654,\n",
       " 0.8130841121495327,\n",
       " 0.8761682242990654,\n",
       " 0.8130841121495327,\n",
       " 0.0,\n",
       " 0.0,\n",
       " 0.0,\n",
       " 0.0,\n",
       " 0.0,\n",
       " 0.014018691588785047,\n",
       " 0.0,\n",
       " 0.037383177570093455,\n",
       " 0.0,\n",
       " 0.0,\n",
       " 0.056074766355140186,\n",
       " 0.0,\n",
       " 0.004672897196261682,\n",
       " 0.0,\n",
       " 0.037383177570093455,\n",
       " 0.028037383177570093,\n",
       " 0.0,\n",
       " 0.0,\n",
       " 0.0,\n",
       " 0.056074766355140186,\n",
       " 0.0,\n",
       " 0.0,\n",
       " 0.0,\n",
       " 0.004672897196261682,\n",
       " 0.007009345794392523,\n",
       " 0.0,\n",
       " 0.0,\n",
       " 0.0,\n",
       " 0.0,\n",
       " 0.0,\n",
       " 0.0,\n",
       " 0.0,\n",
       " 0.0,\n",
       " 0.037383177570093455,\n",
       " 0.0,\n",
       " 0.0,\n",
       " 0.004672897196261682,\n",
       " 0.0,\n",
       " 0.0,\n",
       " 0.0,\n",
       " 0.0,\n",
       " 0.056074766355140186,\n",
       " 0.0,\n",
       " 0.0,\n",
       " 0.0,\n",
       " 0.0,\n",
       " 0.037383177570093455,\n",
       " 0.0,\n",
       " 0.02336448598130841,\n",
       " 0.0,\n",
       " 0.0]"
      ]
     },
     "execution_count": 128,
     "metadata": {},
     "output_type": "execute_result"
    }
   ],
   "source": [
    "score"
   ]
  },
  {
   "cell_type": "code",
   "execution_count": 129,
   "id": "a7ece0dd",
   "metadata": {},
   "outputs": [
    {
     "data": {
      "text/plain": [
       "array([0.67733645, 0.78141225, 0.77132009, 0.87850467, 0.77141745,\n",
       "       0.88200935, 0.76295667, 0.94071262, 0.89558995, 0.27538233,\n",
       "       0.8076324 , 0.65683411, 0.87616822, 0.81308411, 0.87558411,\n",
       "       0.87616822, 0.91978193, 0.64120911, 0.87675234, 0.79225078,\n",
       "       0.87558411, 0.87792056, 0.77558411, 0.87558411, 0.87558411,\n",
       "       0.87558411, 0.88142523, 0.7635514 , 0.81308411, 0.8796729 ,\n",
       "       0.76679322, 0.81366822, 0.81308411, 0.87558411, 0.87675234,\n",
       "       0.94071262, 0.89558995, 0.29917162, 0.64985132, 0.78183411,\n",
       "       0.87558411, 0.87675234, 0.79225078, 0.87792056, 0.77558411,\n",
       "       0.87616822, 0.81308411, 0.87616822, 0.81308411, 0.        ,\n",
       "       0.03271028, 0.        , 0.05140187, 0.07523364, 0.        ,\n",
       "       0.        , 0.        , 0.02336449, 0.        , 0.02336449,\n",
       "       0.12564901, 0.00292056, 0.        , 0.05140187, 0.07523364,\n",
       "       0.        , 0.        , 0.        , 0.        , 0.02336449,\n",
       "       0.        , 0.        , 0.0046729 , 0.02803738, 0.        ,\n",
       "       0.        , 0.        , 0.        , 0.        , 0.        ,\n",
       "       0.03738318, 0.        , 0.        , 0.        , 0.05607477,\n",
       "       0.        , 0.        , 0.00934579, 0.        , 0.03271028,\n",
       "       0.        , 0.05607477, 0.        , 0.02336449, 0.        ,\n",
       "       0.03738318, 0.        , 0.02336449, 0.        , 0.        ,\n",
       "       0.        , 0.        , 0.        , 0.05607477, 0.09728122,\n",
       "       0.3415109 , 0.81396028, 0.62675234, 0.79225078, 0.87558411,\n",
       "       0.87558411, 0.87558411, 0.87792056, 0.77558411, 0.88200935,\n",
       "       0.76242566, 0.81892523, 0.7635514 , 0.81308411, 0.87558411,\n",
       "       0.88200935, 0.76242566, 0.81425234, 0.79225078, 0.87558411,\n",
       "       0.88142523, 0.7630257 , 0.87558411, 0.87616822, 0.81425234,\n",
       "       0.79225078, 0.87558411, 0.87850467, 0.77258567, 0.79225078,\n",
       "       0.87558411, 0.8796729 , 0.76971379, 0.77180685, 0.81600467,\n",
       "       0.77200156, 0.81366822, 0.81308411, 0.87616822, 0.81308411,\n",
       "       0.        , 0.        , 0.        , 0.        , 0.        ,\n",
       "       0.01401869, 0.        , 0.03738318, 0.        , 0.        ,\n",
       "       0.05607477, 0.        , 0.0046729 , 0.        , 0.03738318,\n",
       "       0.02803738, 0.        , 0.        , 0.        , 0.05607477,\n",
       "       0.        , 0.        , 0.        , 0.0046729 , 0.00700935,\n",
       "       0.        , 0.        , 0.        , 0.        , 0.        ,\n",
       "       0.        , 0.        , 0.        , 0.03738318, 0.        ,\n",
       "       0.        , 0.0046729 , 0.        , 0.        , 0.        ,\n",
       "       0.        , 0.05607477, 0.        , 0.        , 0.        ,\n",
       "       0.        , 0.03738318, 0.        , 0.02336449, 0.        ,\n",
       "       0.        ])"
      ]
     },
     "execution_count": 129,
     "metadata": {},
     "output_type": "execute_result"
    }
   ],
   "source": [
    "# Convert to numpy array\n",
    "score_np=np.array(score)\n",
    "score_np"
   ]
  },
  {
   "cell_type": "code",
   "execution_count": 143,
   "id": "638209b7",
   "metadata": {},
   "outputs": [],
   "source": [
    "# Set height and width of the graph\n",
    "width=8\n",
    "height=np.ceil(len(score_np)/width).astype(\"int32\")"
   ]
  },
  {
   "cell_type": "code",
   "execution_count": 144,
   "id": "14b5dbf6",
   "metadata": {},
   "outputs": [
    {
     "name": "stdout",
     "output_type": "stream",
     "text": [
      "25 8\n"
     ]
    }
   ],
   "source": [
    "print(height,width)"
   ]
  },
  {
   "cell_type": "code",
   "execution_count": 145,
   "id": "af9247d8",
   "metadata": {},
   "outputs": [],
   "source": [
    "# Copy the score_np to a new array with shape (height,width)\n",
    "a=np.zeros(width*height)\n",
    "a[:len(score_np)] = score_np\n",
    "diff = len(a) - len(score_np)"
   ]
  },
  {
   "cell_type": "code",
   "execution_count": 146,
   "id": "0e0c3b08",
   "metadata": {},
   "outputs": [],
   "source": [
    "# Apply gaussian filter to the array\n",
    "a = gaussian_filter(a, sigma=1.0)\n",
    "a=a*1.093 # To make the probabilties better (which have been lowered because of the gaussian filter)\n",
    "# Reshape to fit rectangular shape\n",
    "a = a.reshape(-1,width)"
   ]
  },
  {
   "cell_type": "code",
   "execution_count": 147,
   "id": "d461ef68",
   "metadata": {},
   "outputs": [],
   "source": [
    "# format labels\n",
    "labels = [\" \".join(testing_data[i:i+width]) for i in range(n-1, len(testing_data), width)]\n",
    "labels_individual = [x.split() for x in labels]\n",
    "labels_individual[-1] += [\"\"]*diff\n",
    "labels = [f\"{x:60.60}\" for x in labels]"
   ]
  },
  {
   "cell_type": "code",
   "execution_count": 150,
   "id": "c3b5ae6c",
   "metadata": {},
   "outputs": [],
   "source": [
    "# create heatmap of the Plagiarized Text\n",
    "fig = go.Figure(data=go.Heatmap(\n",
    "                z=a, x0=0, dx=1,\n",
    "                y=labels, zmin=0, zmax=1,\n",
    "                customdata=labels_individual,\n",
    "                hovertemplate='%{customdata} <br><b>Score:%{z:.3f}<extra></extra>',\n",
    "                colorscale='blues'))\n",
    "fig.update_layout({\"height\":height*25, \"width\":1000, \"font\":{\"family\":\"Courier New\"}})\n",
    "fig['layout']['yaxis']['autorange'] = \"reversed\""
   ]
  },
  {
   "cell_type": "code",
   "execution_count": 151,
   "id": "a4c57b62",
   "metadata": {},
   "outputs": [
    {
     "data": {
      "application/vnd.plotly.v1+json": {
       "config": {
        "plotlyServerURL": "https://plot.ly"
       },
       "data": [
        {
         "colorscale": [
          [
           0,
           "rgb(247,251,255)"
          ],
          [
           0.125,
           "rgb(222,235,247)"
          ],
          [
           0.25,
           "rgb(198,219,239)"
          ],
          [
           0.375,
           "rgb(158,202,225)"
          ],
          [
           0.5,
           "rgb(107,174,214)"
          ],
          [
           0.625,
           "rgb(66,146,198)"
          ],
          [
           0.75,
           "rgb(33,113,181)"
          ],
          [
           0.875,
           "rgb(8,81,156)"
          ],
          [
           1,
           "rgb(8,48,107)"
          ]
         ],
         "customdata": [
          [
           "it",
           "is",
           "challenging",
           "to",
           "understand",
           "the",
           "effects",
           "of"
          ],
          [
           "pollution",
           "it",
           "can",
           "affect",
           "nature",
           "human",
           "beings",
           "animals"
          ],
          [
           "and",
           "play",
           "a",
           "vital",
           "role",
           "in",
           "adverse",
           "climate"
          ],
          [
           "change",
           "depletion",
           "of",
           "natural",
           "resources",
           "and",
           "destroying",
           "habitats"
          ],
          [
           "are",
           "significant",
           "effects",
           "of",
           "pollution",
           "pollution",
           "can",
           "harm"
          ],
          [
           "humans",
           "by",
           "breathing",
           "in",
           "smoke",
           "or",
           "consuming",
           "contaminated"
          ],
          [
           "food",
           "winter",
           "is",
           "one",
           "of",
           "the",
           "most",
           "important"
          ],
          [
           "seasons",
           "in",
           "india",
           "it",
           "is",
           "a",
           "part",
           "of"
          ],
          [
           "the",
           "four",
           "seasons",
           "that",
           "occur",
           "in",
           "india",
           "winters"
          ],
          [
           "are",
           "the",
           "coolest",
           "season",
           "that",
           "starts",
           "from",
           "december"
          ],
          [
           "and",
           "last",
           "till",
           "march",
           "the",
           "peak",
           "time",
           "when"
          ],
          [
           "winter",
           "is",
           "experienced",
           "the",
           "most",
           "in",
           "december",
           "and"
          ],
          [
           "january",
           "in",
           "india",
           "winters",
           "hold",
           "great",
           "importance",
           "the"
          ],
          [
           "soil",
           "is",
           "polluted",
           "by",
           "dumping",
           "nonbiodegradable",
           "elements",
           "resulting"
          ],
          [
           "in",
           "toxicity",
           "the",
           "emission",
           "of",
           "harmful",
           "gases",
           "pollutes"
          ],
          [
           "the",
           "air",
           "a",
           "high",
           "amount",
           "of",
           "carbon",
           "dioxide"
          ],
          [
           "emission",
           "has",
           "led",
           "us",
           "to",
           "a",
           "dangerous",
           "point"
          ],
          [
           "and",
           "is",
           "harmful",
           "to",
           "every",
           "living",
           "thing",
           "on"
          ],
          [
           "earth",
           "during",
           "winters",
           "schools",
           "usually",
           "take",
           "a",
           "break"
          ],
          [
           "and",
           "close",
           "down",
           "the",
           "days",
           "are",
           "shorter",
           "and"
          ],
          [
           "the",
           "nights",
           "get",
           "longer",
           "the",
           "chilly",
           "mornings",
           "give"
          ],
          [
           "you",
           "a",
           "different",
           "sense",
           "altogether",
           "hot",
           "drinks",
           "like"
          ],
          [
           "coffee",
           "tea",
           "and",
           "hot",
           "chocolate",
           "are",
           "enjoyed",
           "more"
          ],
          [
           "during",
           "winters",
           "the",
           "sun",
           "rises",
           "quite",
           "late",
           "and"
          ],
          [
           "sometimes",
           "it",
           "does",
           "not",
           "",
           "",
           "",
           ""
          ]
         ],
         "dx": 1,
         "hovertemplate": "%{customdata} <br><b>Score:%{z:.3f}<extra></extra>",
         "type": "heatmap",
         "x0": 0,
         "y": [
          "it is challenging to understand the effects of              ",
          "pollution it can affect nature human beings animals         ",
          "and play a vital role in adverse climate                    ",
          "change depletion of natural resources and destroying habitat",
          "are significant effects of pollution pollution can harm     ",
          "humans by breathing in smoke or consuming contaminated      ",
          "food winter is one of the most important                    ",
          "seasons in india it is a part of                            ",
          "the four seasons that occur in india winters                ",
          "are the coolest season that starts from december            ",
          "and last till march the peak time when                      ",
          "winter is experienced the most in december and              ",
          "january in india winters hold great importance the          ",
          "soil is polluted by dumping nonbiodegradable elements result",
          "in toxicity the emission of harmful gases pollutes          ",
          "the air a high amount of carbon dioxide                     ",
          "emission has led us to a dangerous point                    ",
          "and is harmful to every living thing on                     ",
          "earth during winters schools usually take a break           ",
          "and close down the days are shorter and                     ",
          "the nights get longer the chilly mornings give              ",
          "you a different sense altogether hot drinks like            ",
          "coffee tea and hot chocolate are enjoyed more               ",
          "during winters the sun rises quite late and                 ",
          "sometimes it does not                                       "
         ],
         "z": [
          [
           0.7810150201425597,
           0.8234417624801038,
           0.8686103321330045,
           0.8964587800202711,
           0.9010977614799155,
           0.9059845629043343,
           0.9189419771090316,
           0.9250108907527403
          ],
          [
           0.8125234426249381,
           0.67300134461161,
           0.7120026323736922,
           0.8048104752749747,
           0.8759794407847318,
           0.9168034767153018,
           0.9410762104169107,
           0.951402366190933
          ],
          [
           0.9138164908519489,
           0.861921490288682,
           0.8761047230737797,
           0.9070219486191128,
           0.9286306566863461,
           0.926638436202963,
           0.9136242017073521,
           0.9307035517832888
          ],
          [
           0.9509163886684477,
           0.9511607416386905,
           0.9262315961101046,
           0.892882508676882,
           0.8948277947314113,
           0.9029546438489292,
           0.8863636762459174,
           0.8846505215034636
          ],
          [
           0.9073634305850001,
           0.9404685153038256,
           0.9690989911095961,
           0.9555780085455662,
           0.8167998193096841,
           0.6495787448932151,
           0.6828323611922072,
           0.8221901824851071
          ],
          [
           0.9114966452367094,
           0.928426655126229,
           0.915208541322136,
           0.9093322167981468,
           0.9055747133782934,
           0.9136290024098158,
           0.9161145596030122,
           0.8678779805204847
          ],
          [
           0.6405432651152015,
           0.27972275810525155,
           0.07000601878148996,
           0.030752016395612584,
           0.044360185721810996,
           0.04656163627125116,
           0.023048707978945922,
           0.006070912310914331
          ],
          [
           0.006682827761354499,
           0.012186843436344111,
           0.019787619884736922,
           0.04497762874246259,
           0.062113557963346916,
           0.039284479073222515,
           0.026334639551846627,
           0.04309535499673129
          ],
          [
           0.04643229599287711,
           0.022934589967481257,
           0.004801880666221815,
           0.0017507446515891065,
           0.006191006004843738,
           0.010214709093542017,
           0.006590889725646345,
           0.004269206145242026
          ],
          [
           0.009565953627923706,
           0.013464847880857351,
           0.007690939452742137,
           0.0016771861606339892,
           0.00014196560915187036,
           0.00018518625813914417,
           0.002206067374610464,
           0.009886908041221106
          ],
          [
           0.01630895803047741,
           0.010158535597334798,
           0.005515168436526161,
           0.015012814172817458,
           0.024501872937185035,
           0.015386663663002627,
           0.00593927747995396,
           0.006285327847612225
          ],
          [
           0.011402601543947469,
           0.018127196729900194,
           0.023639856005633113,
           0.027767069813325124,
           0.02134921403273696,
           0.015711343121122053,
           0.01645103127147869,
           0.01906654224874049
          ],
          [
           0.016179403715365,
           0.012397457301688003,
           0.00636040256317232,
           0.001392462844898261,
           0.0003990356976333927,
           0.0038337065469718707,
           0.022344501858456205,
           0.07436743231400357
          ],
          [
           0.19875596016514693,
           0.43417555922009354,
           0.668139087920087,
           0.7747671310254003,
           0.8485294679557921,
           0.9199097929777463,
           0.9505357979008137,
           0.9513046405678072
          ],
          [
           0.9313953006500941,
           0.908757571772657,
           0.8996825664667264,
           0.8815817278445026,
           0.8689579941587448,
           0.8700009152478245,
           0.8960620620002148,
           0.9282937316268822
          ],
          [
           0.9216253246440873,
           0.8879138596854633,
           0.8786847386799437,
           0.897608470488058,
           0.9257099208015095,
           0.9245540865330932,
           0.9087902549538385,
           0.9237085656094153
          ],
          [
           0.9295161242863333,
           0.907839624207129,
           0.90413486245427,
           0.9256479396518642,
           0.9209146468692425,
           0.890425985435815,
           0.8933092713485052,
           0.923232154911074
          ],
          [
           0.9189522145719473,
           0.8800386290249875,
           0.8618119551016704,
           0.8660083515557405,
           0.8693833494165876,
           0.8816601940718876,
           0.8990657731073526,
           0.8640048513756278
          ],
          [
           0.6383021616659562,
           0.2708025743959093,
           0.05234713197358951,
           0.004134669600489963,
           0.0009516789609560834,
           0.003888675552867043,
           0.00831885072049198,
           0.013602700998139053
          ],
          [
           0.017399658410609992,
           0.01326459952895356,
           0.01706111567648327,
           0.024913445137068193,
           0.01625688011943013,
           0.0076885766632101785,
           0.013048949633445285,
           0.023999897483219547
          ],
          [
           0.02214331280412031,
           0.009893559498428321,
           0.005144736630282672,
           0.014971644134195192,
           0.02445591814104442,
           0.014854022996690303,
           0.0036188129282562153,
           0.001921128694005792
          ],
          [
           0.003899592147816162,
           0.004292255178093397,
           0.002129553679555265,
           0.00043627326241560307,
           0.00003463698130254754,
           0.0000010253051825040612,
           0.000005468294306688325,
           0.00018108503740912795
          ],
          [
           0.002206067374610464,
           0.009887591578009442,
           0.016323391218693518,
           0.010162666463047414,
           0.003441930879763102,
           0.0022186794860363,
           0.0012495342409193592,
           0.00054738597794
          ],
          [
           0.0033317366915918373,
           0.014831045598619993,
           0.024451133383526065,
           0.014835830356138346,
           0.0034901860993248246,
           0.0024811126146658366,
           0.010008288631061844,
           0.017679547698148917
          ],
          [
           0.016066225566984296,
           0.012394039617746324,
           0.00636040256317232,
           0.0013842604034382286,
           0.00011317814838070497,
           0.000003417683941680204,
           0,
           0
          ]
         ],
         "zmax": 1,
         "zmin": 0
        }
       ],
       "layout": {
        "font": {
         "family": "Courier New"
        },
        "height": 625,
        "template": {
         "data": {
          "bar": [
           {
            "error_x": {
             "color": "#2a3f5f"
            },
            "error_y": {
             "color": "#2a3f5f"
            },
            "marker": {
             "line": {
              "color": "#E5ECF6",
              "width": 0.5
             },
             "pattern": {
              "fillmode": "overlay",
              "size": 10,
              "solidity": 0.2
             }
            },
            "type": "bar"
           }
          ],
          "barpolar": [
           {
            "marker": {
             "line": {
              "color": "#E5ECF6",
              "width": 0.5
             },
             "pattern": {
              "fillmode": "overlay",
              "size": 10,
              "solidity": 0.2
             }
            },
            "type": "barpolar"
           }
          ],
          "carpet": [
           {
            "aaxis": {
             "endlinecolor": "#2a3f5f",
             "gridcolor": "white",
             "linecolor": "white",
             "minorgridcolor": "white",
             "startlinecolor": "#2a3f5f"
            },
            "baxis": {
             "endlinecolor": "#2a3f5f",
             "gridcolor": "white",
             "linecolor": "white",
             "minorgridcolor": "white",
             "startlinecolor": "#2a3f5f"
            },
            "type": "carpet"
           }
          ],
          "choropleth": [
           {
            "colorbar": {
             "outlinewidth": 0,
             "ticks": ""
            },
            "type": "choropleth"
           }
          ],
          "contour": [
           {
            "colorbar": {
             "outlinewidth": 0,
             "ticks": ""
            },
            "colorscale": [
             [
              0,
              "#0d0887"
             ],
             [
              0.1111111111111111,
              "#46039f"
             ],
             [
              0.2222222222222222,
              "#7201a8"
             ],
             [
              0.3333333333333333,
              "#9c179e"
             ],
             [
              0.4444444444444444,
              "#bd3786"
             ],
             [
              0.5555555555555556,
              "#d8576b"
             ],
             [
              0.6666666666666666,
              "#ed7953"
             ],
             [
              0.7777777777777778,
              "#fb9f3a"
             ],
             [
              0.8888888888888888,
              "#fdca26"
             ],
             [
              1,
              "#f0f921"
             ]
            ],
            "type": "contour"
           }
          ],
          "contourcarpet": [
           {
            "colorbar": {
             "outlinewidth": 0,
             "ticks": ""
            },
            "type": "contourcarpet"
           }
          ],
          "heatmap": [
           {
            "colorbar": {
             "outlinewidth": 0,
             "ticks": ""
            },
            "colorscale": [
             [
              0,
              "#0d0887"
             ],
             [
              0.1111111111111111,
              "#46039f"
             ],
             [
              0.2222222222222222,
              "#7201a8"
             ],
             [
              0.3333333333333333,
              "#9c179e"
             ],
             [
              0.4444444444444444,
              "#bd3786"
             ],
             [
              0.5555555555555556,
              "#d8576b"
             ],
             [
              0.6666666666666666,
              "#ed7953"
             ],
             [
              0.7777777777777778,
              "#fb9f3a"
             ],
             [
              0.8888888888888888,
              "#fdca26"
             ],
             [
              1,
              "#f0f921"
             ]
            ],
            "type": "heatmap"
           }
          ],
          "heatmapgl": [
           {
            "colorbar": {
             "outlinewidth": 0,
             "ticks": ""
            },
            "colorscale": [
             [
              0,
              "#0d0887"
             ],
             [
              0.1111111111111111,
              "#46039f"
             ],
             [
              0.2222222222222222,
              "#7201a8"
             ],
             [
              0.3333333333333333,
              "#9c179e"
             ],
             [
              0.4444444444444444,
              "#bd3786"
             ],
             [
              0.5555555555555556,
              "#d8576b"
             ],
             [
              0.6666666666666666,
              "#ed7953"
             ],
             [
              0.7777777777777778,
              "#fb9f3a"
             ],
             [
              0.8888888888888888,
              "#fdca26"
             ],
             [
              1,
              "#f0f921"
             ]
            ],
            "type": "heatmapgl"
           }
          ],
          "histogram": [
           {
            "marker": {
             "pattern": {
              "fillmode": "overlay",
              "size": 10,
              "solidity": 0.2
             }
            },
            "type": "histogram"
           }
          ],
          "histogram2d": [
           {
            "colorbar": {
             "outlinewidth": 0,
             "ticks": ""
            },
            "colorscale": [
             [
              0,
              "#0d0887"
             ],
             [
              0.1111111111111111,
              "#46039f"
             ],
             [
              0.2222222222222222,
              "#7201a8"
             ],
             [
              0.3333333333333333,
              "#9c179e"
             ],
             [
              0.4444444444444444,
              "#bd3786"
             ],
             [
              0.5555555555555556,
              "#d8576b"
             ],
             [
              0.6666666666666666,
              "#ed7953"
             ],
             [
              0.7777777777777778,
              "#fb9f3a"
             ],
             [
              0.8888888888888888,
              "#fdca26"
             ],
             [
              1,
              "#f0f921"
             ]
            ],
            "type": "histogram2d"
           }
          ],
          "histogram2dcontour": [
           {
            "colorbar": {
             "outlinewidth": 0,
             "ticks": ""
            },
            "colorscale": [
             [
              0,
              "#0d0887"
             ],
             [
              0.1111111111111111,
              "#46039f"
             ],
             [
              0.2222222222222222,
              "#7201a8"
             ],
             [
              0.3333333333333333,
              "#9c179e"
             ],
             [
              0.4444444444444444,
              "#bd3786"
             ],
             [
              0.5555555555555556,
              "#d8576b"
             ],
             [
              0.6666666666666666,
              "#ed7953"
             ],
             [
              0.7777777777777778,
              "#fb9f3a"
             ],
             [
              0.8888888888888888,
              "#fdca26"
             ],
             [
              1,
              "#f0f921"
             ]
            ],
            "type": "histogram2dcontour"
           }
          ],
          "mesh3d": [
           {
            "colorbar": {
             "outlinewidth": 0,
             "ticks": ""
            },
            "type": "mesh3d"
           }
          ],
          "parcoords": [
           {
            "line": {
             "colorbar": {
              "outlinewidth": 0,
              "ticks": ""
             }
            },
            "type": "parcoords"
           }
          ],
          "pie": [
           {
            "automargin": true,
            "type": "pie"
           }
          ],
          "scatter": [
           {
            "fillpattern": {
             "fillmode": "overlay",
             "size": 10,
             "solidity": 0.2
            },
            "type": "scatter"
           }
          ],
          "scatter3d": [
           {
            "line": {
             "colorbar": {
              "outlinewidth": 0,
              "ticks": ""
             }
            },
            "marker": {
             "colorbar": {
              "outlinewidth": 0,
              "ticks": ""
             }
            },
            "type": "scatter3d"
           }
          ],
          "scattercarpet": [
           {
            "marker": {
             "colorbar": {
              "outlinewidth": 0,
              "ticks": ""
             }
            },
            "type": "scattercarpet"
           }
          ],
          "scattergeo": [
           {
            "marker": {
             "colorbar": {
              "outlinewidth": 0,
              "ticks": ""
             }
            },
            "type": "scattergeo"
           }
          ],
          "scattergl": [
           {
            "marker": {
             "colorbar": {
              "outlinewidth": 0,
              "ticks": ""
             }
            },
            "type": "scattergl"
           }
          ],
          "scattermapbox": [
           {
            "marker": {
             "colorbar": {
              "outlinewidth": 0,
              "ticks": ""
             }
            },
            "type": "scattermapbox"
           }
          ],
          "scatterpolar": [
           {
            "marker": {
             "colorbar": {
              "outlinewidth": 0,
              "ticks": ""
             }
            },
            "type": "scatterpolar"
           }
          ],
          "scatterpolargl": [
           {
            "marker": {
             "colorbar": {
              "outlinewidth": 0,
              "ticks": ""
             }
            },
            "type": "scatterpolargl"
           }
          ],
          "scatterternary": [
           {
            "marker": {
             "colorbar": {
              "outlinewidth": 0,
              "ticks": ""
             }
            },
            "type": "scatterternary"
           }
          ],
          "surface": [
           {
            "colorbar": {
             "outlinewidth": 0,
             "ticks": ""
            },
            "colorscale": [
             [
              0,
              "#0d0887"
             ],
             [
              0.1111111111111111,
              "#46039f"
             ],
             [
              0.2222222222222222,
              "#7201a8"
             ],
             [
              0.3333333333333333,
              "#9c179e"
             ],
             [
              0.4444444444444444,
              "#bd3786"
             ],
             [
              0.5555555555555556,
              "#d8576b"
             ],
             [
              0.6666666666666666,
              "#ed7953"
             ],
             [
              0.7777777777777778,
              "#fb9f3a"
             ],
             [
              0.8888888888888888,
              "#fdca26"
             ],
             [
              1,
              "#f0f921"
             ]
            ],
            "type": "surface"
           }
          ],
          "table": [
           {
            "cells": {
             "fill": {
              "color": "#EBF0F8"
             },
             "line": {
              "color": "white"
             }
            },
            "header": {
             "fill": {
              "color": "#C8D4E3"
             },
             "line": {
              "color": "white"
             }
            },
            "type": "table"
           }
          ]
         },
         "layout": {
          "annotationdefaults": {
           "arrowcolor": "#2a3f5f",
           "arrowhead": 0,
           "arrowwidth": 1
          },
          "autotypenumbers": "strict",
          "coloraxis": {
           "colorbar": {
            "outlinewidth": 0,
            "ticks": ""
           }
          },
          "colorscale": {
           "diverging": [
            [
             0,
             "#8e0152"
            ],
            [
             0.1,
             "#c51b7d"
            ],
            [
             0.2,
             "#de77ae"
            ],
            [
             0.3,
             "#f1b6da"
            ],
            [
             0.4,
             "#fde0ef"
            ],
            [
             0.5,
             "#f7f7f7"
            ],
            [
             0.6,
             "#e6f5d0"
            ],
            [
             0.7,
             "#b8e186"
            ],
            [
             0.8,
             "#7fbc41"
            ],
            [
             0.9,
             "#4d9221"
            ],
            [
             1,
             "#276419"
            ]
           ],
           "sequential": [
            [
             0,
             "#0d0887"
            ],
            [
             0.1111111111111111,
             "#46039f"
            ],
            [
             0.2222222222222222,
             "#7201a8"
            ],
            [
             0.3333333333333333,
             "#9c179e"
            ],
            [
             0.4444444444444444,
             "#bd3786"
            ],
            [
             0.5555555555555556,
             "#d8576b"
            ],
            [
             0.6666666666666666,
             "#ed7953"
            ],
            [
             0.7777777777777778,
             "#fb9f3a"
            ],
            [
             0.8888888888888888,
             "#fdca26"
            ],
            [
             1,
             "#f0f921"
            ]
           ],
           "sequentialminus": [
            [
             0,
             "#0d0887"
            ],
            [
             0.1111111111111111,
             "#46039f"
            ],
            [
             0.2222222222222222,
             "#7201a8"
            ],
            [
             0.3333333333333333,
             "#9c179e"
            ],
            [
             0.4444444444444444,
             "#bd3786"
            ],
            [
             0.5555555555555556,
             "#d8576b"
            ],
            [
             0.6666666666666666,
             "#ed7953"
            ],
            [
             0.7777777777777778,
             "#fb9f3a"
            ],
            [
             0.8888888888888888,
             "#fdca26"
            ],
            [
             1,
             "#f0f921"
            ]
           ]
          },
          "colorway": [
           "#636efa",
           "#EF553B",
           "#00cc96",
           "#ab63fa",
           "#FFA15A",
           "#19d3f3",
           "#FF6692",
           "#B6E880",
           "#FF97FF",
           "#FECB52"
          ],
          "font": {
           "color": "#2a3f5f"
          },
          "geo": {
           "bgcolor": "white",
           "lakecolor": "white",
           "landcolor": "#E5ECF6",
           "showlakes": true,
           "showland": true,
           "subunitcolor": "white"
          },
          "hoverlabel": {
           "align": "left"
          },
          "hovermode": "closest",
          "mapbox": {
           "style": "light"
          },
          "paper_bgcolor": "white",
          "plot_bgcolor": "#E5ECF6",
          "polar": {
           "angularaxis": {
            "gridcolor": "white",
            "linecolor": "white",
            "ticks": ""
           },
           "bgcolor": "#E5ECF6",
           "radialaxis": {
            "gridcolor": "white",
            "linecolor": "white",
            "ticks": ""
           }
          },
          "scene": {
           "xaxis": {
            "backgroundcolor": "#E5ECF6",
            "gridcolor": "white",
            "gridwidth": 2,
            "linecolor": "white",
            "showbackground": true,
            "ticks": "",
            "zerolinecolor": "white"
           },
           "yaxis": {
            "backgroundcolor": "#E5ECF6",
            "gridcolor": "white",
            "gridwidth": 2,
            "linecolor": "white",
            "showbackground": true,
            "ticks": "",
            "zerolinecolor": "white"
           },
           "zaxis": {
            "backgroundcolor": "#E5ECF6",
            "gridcolor": "white",
            "gridwidth": 2,
            "linecolor": "white",
            "showbackground": true,
            "ticks": "",
            "zerolinecolor": "white"
           }
          },
          "shapedefaults": {
           "line": {
            "color": "#2a3f5f"
           }
          },
          "ternary": {
           "aaxis": {
            "gridcolor": "white",
            "linecolor": "white",
            "ticks": ""
           },
           "baxis": {
            "gridcolor": "white",
            "linecolor": "white",
            "ticks": ""
           },
           "bgcolor": "#E5ECF6",
           "caxis": {
            "gridcolor": "white",
            "linecolor": "white",
            "ticks": ""
           }
          },
          "title": {
           "x": 0.05
          },
          "xaxis": {
           "automargin": true,
           "gridcolor": "white",
           "linecolor": "white",
           "ticks": "",
           "title": {
            "standoff": 15
           },
           "zerolinecolor": "white",
           "zerolinewidth": 2
          },
          "yaxis": {
           "automargin": true,
           "gridcolor": "white",
           "linecolor": "white",
           "ticks": "",
           "title": {
            "standoff": 15
           },
           "zerolinecolor": "white",
           "zerolinewidth": 2
          }
         }
        },
        "width": 1000,
        "yaxis": {
         "autorange": "reversed"
        }
       }
      }
     },
     "metadata": {},
     "output_type": "display_data"
    }
   ],
   "source": [
    "fig.show()"
   ]
  },
  {
   "cell_type": "code",
   "execution_count": 152,
   "id": "86636d94",
   "metadata": {},
   "outputs": [],
   "source": [
    "# Reshape a to linear array\n",
    "a = a.reshape(-1)\n",
    "\n",
    "plagScore=np.sum(a[n-1:a.shape[0]-diff])/(a.shape[0]-diff-n) # Avg. Score (excluding the padding and blank text)\n",
    "plagPercentage=plagScore*100"
   ]
  },
  {
   "cell_type": "code",
   "execution_count": 153,
   "id": "df043768",
   "metadata": {},
   "outputs": [
    {
     "data": {
      "text/plain": [
       "40.453775994373075"
      ]
     },
     "execution_count": 153,
     "metadata": {},
     "output_type": "execute_result"
    }
   ],
   "source": [
    "plagPercentage"
   ]
  },
  {
   "cell_type": "code",
   "execution_count": 163,
   "id": "c0ff2419",
   "metadata": {},
   "outputs": [],
   "source": [
    "plID=[] \n",
    "# The index of the tokens which are plagiarized (index wrt to plagiarized text)\n",
    "for i in range(len(score)-1):\n",
    "    if(score[i-1]>0.65 or score[i]>0.7 or score[i+1]>0.65):\n",
    "        #pl.append(testing_data[i+n-1])\n",
    "        plID.append(i)\n"
   ]
  },
  {
   "cell_type": "code",
   "execution_count": 164,
   "id": "be0f0b87",
   "metadata": {},
   "outputs": [],
   "source": [
    "# To note the fact that plagiarism can be scattered\n",
    "# Anytime the indexes difference > 4, then it means those two plagiarised words came from different parts of original doc (Flaw exists but we'll improve)\n",
    "\n",
    "jumpStates=[]\n",
    "jumpStates.append(plID[0])\n",
    "for i in range(len(plID)):\n",
    "    if(plID[i]-plID[i-1]>4):\n",
    "        jumpStates.append(plID[i-1])\n",
    "        jumpStates.append(plID[i])\n",
    "\n",
    "jumpStates.append(plID[-1])"
   ]
  },
  {
   "cell_type": "code",
   "execution_count": 183,
   "id": "461461fa",
   "metadata": {},
   "outputs": [],
   "source": [
    "\n",
    "originalScore=[]\n",
    "# Fill originalScore with zeros\n",
    "for i in range(len(training_data)):\n",
    "    originalScore.append(0)\n",
    "\n",
    "# Fill originalScore with scores of plagiarized words whenever we detect the phrase in original text\n",
    "for i in range(0,len(jumpStates),2):\n",
    "    id=jumpStates[i]\n",
    "    fin=jumpStates[i+1]\n",
    "\n",
    "    for j in range(len(training_data)-3):\n",
    "        if((testing_data[id]==training_data[j] and testing_data[id+1]==training_data[j+1] and testing_data[id+2]==training_data[j+2])\n",
    "            or\n",
    "            (testing_data[id+1]==training_data[j] and testing_data[id+2]==training_data[j+1] and testing_data[id+3]==training_data[j+2])): #and pl[id+3]==training_data[j+3]):\n",
    "            originalScore[j:j+fin-id+1]=a[id:fin+1]\n",
    "            break\n",
    "    \n"
   ]
  },
  {
   "cell_type": "code",
   "execution_count": 184,
   "id": "b2a8c8af",
   "metadata": {},
   "outputs": [
    {
     "data": {
      "text/plain": [
       "['importance',\n",
       " 'the',\n",
       " 'soil',\n",
       " 'is',\n",
       " 'polluted',\n",
       " 'by',\n",
       " 'dumping',\n",
       " 'nonbiodegradable',\n",
       " 'elements',\n",
       " 'resulting',\n",
       " 'in',\n",
       " 'toxicity',\n",
       " 'the',\n",
       " 'emission',\n",
       " 'of',\n",
       " 'harmful',\n",
       " 'gases',\n",
       " 'pollutes',\n",
       " 'the',\n",
       " 'air',\n",
       " 'a',\n",
       " 'high',\n",
       " 'amount',\n",
       " 'of',\n",
       " 'carbon',\n",
       " 'dioxide',\n",
       " 'emission',\n",
       " 'has',\n",
       " 'led',\n",
       " 'us',\n",
       " 'to',\n",
       " 'a',\n",
       " 'dangerous',\n",
       " 'point',\n",
       " 'and',\n",
       " 'is',\n",
       " 'harmful',\n",
       " 'to',\n",
       " 'every',\n",
       " 'living',\n",
       " 'thing',\n",
       " 'on',\n",
       " 'earth',\n",
       " 'during',\n",
       " 'winters']"
      ]
     },
     "execution_count": 184,
     "metadata": {},
     "output_type": "execute_result"
    }
   ],
   "source": [
    "testing_data[105:150]\n"
   ]
  },
  {
   "cell_type": "code",
   "execution_count": 185,
   "id": "f885e900",
   "metadata": {},
   "outputs": [],
   "source": [
    "originalScore_np=np.array(originalScore)"
   ]
  },
  {
   "cell_type": "code",
   "execution_count": 186,
   "id": "ea920579",
   "metadata": {},
   "outputs": [],
   "source": [
    "# Set height and width of the graph\n",
    "width=8\n",
    "height=np.ceil(len(originalScore_np)/width).astype(\"int32\")"
   ]
  },
  {
   "cell_type": "code",
   "execution_count": 187,
   "id": "ae906236",
   "metadata": {},
   "outputs": [
    {
     "name": "stdout",
     "output_type": "stream",
     "text": [
      "27 8\n"
     ]
    }
   ],
   "source": [
    "print(height,width)"
   ]
  },
  {
   "cell_type": "code",
   "execution_count": 188,
   "id": "3c806259",
   "metadata": {},
   "outputs": [],
   "source": [
    "# Copy the score_np to a new array with shape (height,width)\n",
    "b=np.zeros(width*height)\n",
    "b[:len(originalScore_np)] = originalScore_np\n",
    "d = len(b) - len(originalScore_np)"
   ]
  },
  {
   "cell_type": "code",
   "execution_count": 189,
   "id": "10652f09",
   "metadata": {},
   "outputs": [],
   "source": [
    "# Apply gaussian filter to the array\n",
    "b = gaussian_filter(b, sigma=1.0)\n",
    "# Reshape to fit rectangular shape\n",
    "b = b.reshape(-1,width)"
   ]
  },
  {
   "cell_type": "code",
   "execution_count": 190,
   "id": "1ec34bf3",
   "metadata": {},
   "outputs": [],
   "source": [
    "labels = [\" \".join(training_data[i:i+width]) for i in range(n-1, len(training_data), width)]\n",
    "labels_individual = [x.split() for x in labels]\n",
    "labels_individual[-1] += [\"\"]*d\n",
    "labels = [f\"{x:60.60}\" for x in labels]"
   ]
  },
  {
   "cell_type": "code",
   "execution_count": 191,
   "id": "655d2bc8",
   "metadata": {},
   "outputs": [],
   "source": [
    "# create heatmap for original text\n",
    "fig = go.Figure(data=go.Heatmap(\n",
    "                z=b, x0=0, dx=1,\n",
    "                y=labels, zmin=0, zmax=1,\n",
    "                customdata=labels_individual,\n",
    "                hovertemplate='%{customdata} <br><b>Score:%{z:.3f}<extra></extra>',\n",
    "                colorscale='blues'))\n",
    "fig.update_layout({\"height\":height*25, \"width\":1000, \"font\":{\"family\":\"Courier New\"}})\n",
    "fig['layout']['yaxis']['autorange'] = \"reversed\""
   ]
  },
  {
   "cell_type": "code",
   "execution_count": 192,
   "metadata": {},
   "outputs": [
    {
     "data": {
      "application/vnd.plotly.v1+json": {
       "config": {
        "plotlyServerURL": "https://plot.ly"
       },
       "data": [
        {
         "colorscale": [
          [
           0,
           "rgb(247,251,255)"
          ],
          [
           0.125,
           "rgb(222,235,247)"
          ],
          [
           0.25,
           "rgb(198,219,239)"
          ],
          [
           0.375,
           "rgb(158,202,225)"
          ],
          [
           0.5,
           "rgb(107,174,214)"
          ],
          [
           0.625,
           "rgb(66,146,198)"
          ],
          [
           0.75,
           "rgb(33,113,181)"
          ],
          [
           0.875,
           "rgb(8,81,156)"
          ],
          [
           1,
           "rgb(8,48,107)"
          ]
         ],
         "customdata": [
          [
           "it",
           "is",
           "challenging",
           "to",
           "understand",
           "the",
           "effects",
           "of"
          ],
          [
           "pollution",
           "it",
           "can",
           "affect",
           "nature",
           "human",
           "beings",
           "animals"
          ],
          [
           "and",
           "play",
           "a",
           "vital",
           "role",
           "in",
           "adverse",
           "climate"
          ],
          [
           "change",
           "depletion",
           "of",
           "natural",
           "resources",
           "and",
           "destroying",
           "habitats"
          ],
          [
           "are",
           "significant",
           "effects",
           "of",
           "pollution",
           "pollution",
           "can",
           "harm"
          ],
          [
           "humans",
           "by",
           "breathing",
           "in",
           "smoke",
           "or",
           "consuming",
           "contaminated"
          ],
          [
           "food",
           "moreover",
           "it",
           "can",
           "cause",
           "health",
           "problems",
           "such"
          ],
          [
           "as",
           "asthma",
           "cancer",
           "and",
           "heart",
           "diseases",
           "it",
           "also"
          ],
          [
           "affects",
           "nature",
           "by",
           "destroying",
           "plants",
           "animals",
           "and",
           "natural"
          ],
          [
           "habitats",
           "once",
           "kids",
           "have",
           "understood",
           "the",
           "meaning",
           "and"
          ],
          [
           "effects",
           "of",
           "pollution",
           "you",
           "can",
           "ask",
           "them",
           "to"
          ],
          [
           "write",
           "an",
           "essay",
           "on",
           "pollution",
           "pollution",
           "is",
           "omnipresent"
          ],
          [
           "and",
           "has",
           "affected",
           "the",
           "environment",
           "in",
           "all",
           "aspects"
          ],
          [
           "be",
           "it",
           "water",
           "soil",
           "or",
           "air",
           "every",
           "element"
          ],
          [
           "of",
           "the",
           "environment",
           "is",
           "polluted",
           "water",
           "is",
           "polluted"
          ],
          [
           "due",
           "to",
           "the",
           "release",
           "of",
           "industrial",
           "waste",
           "into"
          ],
          [
           "rivers",
           "and",
           "water",
           "bodies",
           "when",
           "the",
           "water",
           "is"
          ],
          [
           "contaminated",
           "the",
           "supply",
           "of",
           "drinking",
           "water",
           "decreases",
           "the"
          ],
          [
           "soil",
           "is",
           "polluted",
           "by",
           "dumping",
           "nonbiodegradable",
           "elements",
           "resulting"
          ],
          [
           "in",
           "toxicity",
           "the",
           "emission",
           "of",
           "harmful",
           "gases",
           "pollutes"
          ],
          [
           "the",
           "air",
           "a",
           "high",
           "amount",
           "of",
           "carbon",
           "dioxide"
          ],
          [
           "emission",
           "has",
           "led",
           "us",
           "to",
           "a",
           "dangerous",
           "point"
          ],
          [
           "and",
           "is",
           "harmful",
           "to",
           "every",
           "living",
           "thing",
           "on"
          ],
          [
           "earth",
           "excessive",
           "usage",
           "of",
           "pesticides",
           "for",
           "crops",
           "has"
          ],
          [
           "harmed",
           "the",
           "microorganisms",
           "living",
           "in",
           "the",
           "soil",
           "when"
          ],
          [
           "we",
           "follow",
           "incorrect",
           "ways",
           "of",
           "waste",
           "management",
           "we"
          ],
          [
           "contribute",
           "to",
           "pollution",
           "",
           ""
          ]
         ],
         "dx": 1,
         "hovertemplate": "%{customdata} <br><b>Score:%{z:.3f}<extra></extra>",
         "type": "heatmap",
         "x0": 0,
         "y": [
          "it is challenging to understand the effects of              ",
          "pollution it can affect nature human beings animals         ",
          "and play a vital role in adverse climate                    ",
          "change depletion of natural resources and destroying habitat",
          "are significant effects of pollution pollution can harm     ",
          "humans by breathing in smoke or consuming contaminated      ",
          "food moreover it can cause health problems such             ",
          "as asthma cancer and heart diseases it also                 ",
          "affects nature by destroying plants animals and natural     ",
          "habitats once kids have understood the meaning and          ",
          "effects of pollution you can ask them to                    ",
          "write an essay on pollution pollution is omnipresent        ",
          "and has affected the environment in all aspects             ",
          "be it water soil or air every element                       ",
          "of the environment is polluted water is polluted            ",
          "due to the release of industrial waste into                 ",
          "rivers and water bodies when the water is                   ",
          "contaminated the supply of drinking water decreases the     ",
          "soil is polluted by dumping nonbiodegradable elements result",
          "in toxicity the emission of harmful gases pollutes          ",
          "the air a high amount of carbon dioxide                     ",
          "emission has led us to a dangerous point                    ",
          "and is harmful to every living thing on                     ",
          "earth excessive usage of pesticides for crops has           ",
          "harmed the microorganisms living in the soil when           ",
          "we follow incorrect ways of waste management we             ",
          "contribute to pollution                                     "
         ],
         "z": [
          [
           0.7992324793519499,
           0.8261180621796009,
           0.8612221386119574,
           0.8869911714213659,
           0.9001010175509794,
           0.9078282946648167,
           0.9093420226893804,
           0.8806201936465552
          ],
          [
           0.8067006243501083,
           0.7389750636023535,
           0.7412128309468375,
           0.799178388338978,
           0.8627294540674508,
           0.9076590788348222,
           0.9317210399347914,
           0.9324162856890095
          ],
          [
           0.909769817538544,
           0.8858391884636863,
           0.8855972903158583,
           0.9034621264020157,
           0.9189882970029687,
           0.9230100462591364,
           0.9238634149908458,
           0.9323095558768346
          ],
          [
           0.9423630952134681,
           0.9403927097052047,
           0.9237410797870065,
           0.9053453201723997,
           0.8977758354065202,
           0.8955757431893471,
           0.8918395536343946,
           0.8949928302559883
          ],
          [
           0.9122577558180418,
           0.9363560717040484,
           0.9455038480778314,
           0.9064825224088013,
           0.8115039685642391,
           0.7265817287348137,
           0.7304520668458283,
           0.8069133925113636
          ],
          [
           0.8806543350556242,
           0.9131358975302948,
           0.9158142714126521,
           0.9111302702889403,
           0.9094215624377258,
           0.908293257174781,
           0.8854206036650369,
           0.791466482040871
          ],
          [
           0.5868594910793364,
           0.3176268225701103,
           0.10623749250355755,
           0.018057494840187524,
           0.0013254168611590874,
           0.00003743547143618413,
           0,
           0
          ],
          [
           0,
           0,
           0,
           0,
           0,
           0,
           0,
           0
          ],
          [
           0,
           0,
           0,
           0,
           0,
           0,
           0,
           0
          ],
          [
           0,
           0,
           0,
           0,
           0,
           0,
           0,
           0
          ],
          [
           0,
           0,
           0,
           0,
           0,
           0,
           0,
           0
          ],
          [
           0,
           0,
           0,
           0,
           0,
           0,
           0,
           0
          ],
          [
           0,
           0,
           0,
           0,
           0,
           0,
           0,
           0
          ],
          [
           0,
           0,
           0,
           0,
           0,
           0,
           0,
           0
          ],
          [
           0,
           0,
           0,
           0,
           0,
           0,
           0,
           0
          ],
          [
           0,
           0,
           0,
           0,
           0,
           0,
           0,
           0
          ],
          [
           0,
           0,
           0,
           0,
           0,
           0,
           0,
           0
          ],
          [
           0,
           0,
           0,
           0,
           0,
           0,
           0.00005810598628287992,
           0.0020136234687290135
          ],
          [
           0.026506415490479496,
           0.1446788903050495,
           0.3805963130858423,
           0.6090965225515049,
           0.7535273218459904,
           0.842237702769743,
           0.9027756291188223,
           0.9357616266292965
          ],
          [
           0.9415916789868736,
           0.9297652041310132,
           0.9128743481402904,
           0.8976554826081049,
           0.8840495484240064,
           0.8758419263743416,
           0.8801950888223247,
           0.897369834904846
          ],
          [
           0.9130603880717447,
           0.911041343321188,
           0.8967475905248778,
           0.8907837798750509,
           0.9009242126400863,
           0.915001625021266,
           0.9193304574594091,
           0.9181885608935033
          ],
          [
           0.9206117807138607,
           0.9203355960115132,
           0.9140686109603424,
           0.9125383481578904,
           0.9163071434206076,
           0.9122393909490938,
           0.9023620793516816,
           0.9028087589866969
          ],
          [
           0.9105629272373139,
           0.9057348675544842,
           0.8866320256851052,
           0.8711009244840546,
           0.867800703632941,
           0.8727302356170871,
           0.8798544466192983,
           0.8676326794653169
          ],
          [
           0.7828798839494391,
           0.5818027930364296,
           0.31323693961502863,
           0.10393861623184222,
           0.017565433461264435,
           0.0012855839130595868,
           0.00003624167767868461,
           0
          ],
          [
           0,
           0,
           0,
           0,
           0,
           0,
           0,
           0
          ],
          [
           0,
           0,
           0,
           0,
           0,
           0,
           0,
           0
          ],
          [
           0,
           0,
           0,
           0,
           0,
           0,
           0,
           0
          ]
         ],
         "zmax": 1,
         "zmin": 0
        }
       ],
       "layout": {
        "font": {
         "family": "Courier New"
        },
        "height": 675,
        "template": {
         "data": {
          "bar": [
           {
            "error_x": {
             "color": "#2a3f5f"
            },
            "error_y": {
             "color": "#2a3f5f"
            },
            "marker": {
             "line": {
              "color": "#E5ECF6",
              "width": 0.5
             },
             "pattern": {
              "fillmode": "overlay",
              "size": 10,
              "solidity": 0.2
             }
            },
            "type": "bar"
           }
          ],
          "barpolar": [
           {
            "marker": {
             "line": {
              "color": "#E5ECF6",
              "width": 0.5
             },
             "pattern": {
              "fillmode": "overlay",
              "size": 10,
              "solidity": 0.2
             }
            },
            "type": "barpolar"
           }
          ],
          "carpet": [
           {
            "aaxis": {
             "endlinecolor": "#2a3f5f",
             "gridcolor": "white",
             "linecolor": "white",
             "minorgridcolor": "white",
             "startlinecolor": "#2a3f5f"
            },
            "baxis": {
             "endlinecolor": "#2a3f5f",
             "gridcolor": "white",
             "linecolor": "white",
             "minorgridcolor": "white",
             "startlinecolor": "#2a3f5f"
            },
            "type": "carpet"
           }
          ],
          "choropleth": [
           {
            "colorbar": {
             "outlinewidth": 0,
             "ticks": ""
            },
            "type": "choropleth"
           }
          ],
          "contour": [
           {
            "colorbar": {
             "outlinewidth": 0,
             "ticks": ""
            },
            "colorscale": [
             [
              0,
              "#0d0887"
             ],
             [
              0.1111111111111111,
              "#46039f"
             ],
             [
              0.2222222222222222,
              "#7201a8"
             ],
             [
              0.3333333333333333,
              "#9c179e"
             ],
             [
              0.4444444444444444,
              "#bd3786"
             ],
             [
              0.5555555555555556,
              "#d8576b"
             ],
             [
              0.6666666666666666,
              "#ed7953"
             ],
             [
              0.7777777777777778,
              "#fb9f3a"
             ],
             [
              0.8888888888888888,
              "#fdca26"
             ],
             [
              1,
              "#f0f921"
             ]
            ],
            "type": "contour"
           }
          ],
          "contourcarpet": [
           {
            "colorbar": {
             "outlinewidth": 0,
             "ticks": ""
            },
            "type": "contourcarpet"
           }
          ],
          "heatmap": [
           {
            "colorbar": {
             "outlinewidth": 0,
             "ticks": ""
            },
            "colorscale": [
             [
              0,
              "#0d0887"
             ],
             [
              0.1111111111111111,
              "#46039f"
             ],
             [
              0.2222222222222222,
              "#7201a8"
             ],
             [
              0.3333333333333333,
              "#9c179e"
             ],
             [
              0.4444444444444444,
              "#bd3786"
             ],
             [
              0.5555555555555556,
              "#d8576b"
             ],
             [
              0.6666666666666666,
              "#ed7953"
             ],
             [
              0.7777777777777778,
              "#fb9f3a"
             ],
             [
              0.8888888888888888,
              "#fdca26"
             ],
             [
              1,
              "#f0f921"
             ]
            ],
            "type": "heatmap"
           }
          ],
          "heatmapgl": [
           {
            "colorbar": {
             "outlinewidth": 0,
             "ticks": ""
            },
            "colorscale": [
             [
              0,
              "#0d0887"
             ],
             [
              0.1111111111111111,
              "#46039f"
             ],
             [
              0.2222222222222222,
              "#7201a8"
             ],
             [
              0.3333333333333333,
              "#9c179e"
             ],
             [
              0.4444444444444444,
              "#bd3786"
             ],
             [
              0.5555555555555556,
              "#d8576b"
             ],
             [
              0.6666666666666666,
              "#ed7953"
             ],
             [
              0.7777777777777778,
              "#fb9f3a"
             ],
             [
              0.8888888888888888,
              "#fdca26"
             ],
             [
              1,
              "#f0f921"
             ]
            ],
            "type": "heatmapgl"
           }
          ],
          "histogram": [
           {
            "marker": {
             "pattern": {
              "fillmode": "overlay",
              "size": 10,
              "solidity": 0.2
             }
            },
            "type": "histogram"
           }
          ],
          "histogram2d": [
           {
            "colorbar": {
             "outlinewidth": 0,
             "ticks": ""
            },
            "colorscale": [
             [
              0,
              "#0d0887"
             ],
             [
              0.1111111111111111,
              "#46039f"
             ],
             [
              0.2222222222222222,
              "#7201a8"
             ],
             [
              0.3333333333333333,
              "#9c179e"
             ],
             [
              0.4444444444444444,
              "#bd3786"
             ],
             [
              0.5555555555555556,
              "#d8576b"
             ],
             [
              0.6666666666666666,
              "#ed7953"
             ],
             [
              0.7777777777777778,
              "#fb9f3a"
             ],
             [
              0.8888888888888888,
              "#fdca26"
             ],
             [
              1,
              "#f0f921"
             ]
            ],
            "type": "histogram2d"
           }
          ],
          "histogram2dcontour": [
           {
            "colorbar": {
             "outlinewidth": 0,
             "ticks": ""
            },
            "colorscale": [
             [
              0,
              "#0d0887"
             ],
             [
              0.1111111111111111,
              "#46039f"
             ],
             [
              0.2222222222222222,
              "#7201a8"
             ],
             [
              0.3333333333333333,
              "#9c179e"
             ],
             [
              0.4444444444444444,
              "#bd3786"
             ],
             [
              0.5555555555555556,
              "#d8576b"
             ],
             [
              0.6666666666666666,
              "#ed7953"
             ],
             [
              0.7777777777777778,
              "#fb9f3a"
             ],
             [
              0.8888888888888888,
              "#fdca26"
             ],
             [
              1,
              "#f0f921"
             ]
            ],
            "type": "histogram2dcontour"
           }
          ],
          "mesh3d": [
           {
            "colorbar": {
             "outlinewidth": 0,
             "ticks": ""
            },
            "type": "mesh3d"
           }
          ],
          "parcoords": [
           {
            "line": {
             "colorbar": {
              "outlinewidth": 0,
              "ticks": ""
             }
            },
            "type": "parcoords"
           }
          ],
          "pie": [
           {
            "automargin": true,
            "type": "pie"
           }
          ],
          "scatter": [
           {
            "fillpattern": {
             "fillmode": "overlay",
             "size": 10,
             "solidity": 0.2
            },
            "type": "scatter"
           }
          ],
          "scatter3d": [
           {
            "line": {
             "colorbar": {
              "outlinewidth": 0,
              "ticks": ""
             }
            },
            "marker": {
             "colorbar": {
              "outlinewidth": 0,
              "ticks": ""
             }
            },
            "type": "scatter3d"
           }
          ],
          "scattercarpet": [
           {
            "marker": {
             "colorbar": {
              "outlinewidth": 0,
              "ticks": ""
             }
            },
            "type": "scattercarpet"
           }
          ],
          "scattergeo": [
           {
            "marker": {
             "colorbar": {
              "outlinewidth": 0,
              "ticks": ""
             }
            },
            "type": "scattergeo"
           }
          ],
          "scattergl": [
           {
            "marker": {
             "colorbar": {
              "outlinewidth": 0,
              "ticks": ""
             }
            },
            "type": "scattergl"
           }
          ],
          "scattermapbox": [
           {
            "marker": {
             "colorbar": {
              "outlinewidth": 0,
              "ticks": ""
             }
            },
            "type": "scattermapbox"
           }
          ],
          "scatterpolar": [
           {
            "marker": {
             "colorbar": {
              "outlinewidth": 0,
              "ticks": ""
             }
            },
            "type": "scatterpolar"
           }
          ],
          "scatterpolargl": [
           {
            "marker": {
             "colorbar": {
              "outlinewidth": 0,
              "ticks": ""
             }
            },
            "type": "scatterpolargl"
           }
          ],
          "scatterternary": [
           {
            "marker": {
             "colorbar": {
              "outlinewidth": 0,
              "ticks": ""
             }
            },
            "type": "scatterternary"
           }
          ],
          "surface": [
           {
            "colorbar": {
             "outlinewidth": 0,
             "ticks": ""
            },
            "colorscale": [
             [
              0,
              "#0d0887"
             ],
             [
              0.1111111111111111,
              "#46039f"
             ],
             [
              0.2222222222222222,
              "#7201a8"
             ],
             [
              0.3333333333333333,
              "#9c179e"
             ],
             [
              0.4444444444444444,
              "#bd3786"
             ],
             [
              0.5555555555555556,
              "#d8576b"
             ],
             [
              0.6666666666666666,
              "#ed7953"
             ],
             [
              0.7777777777777778,
              "#fb9f3a"
             ],
             [
              0.8888888888888888,
              "#fdca26"
             ],
             [
              1,
              "#f0f921"
             ]
            ],
            "type": "surface"
           }
          ],
          "table": [
           {
            "cells": {
             "fill": {
              "color": "#EBF0F8"
             },
             "line": {
              "color": "white"
             }
            },
            "header": {
             "fill": {
              "color": "#C8D4E3"
             },
             "line": {
              "color": "white"
             }
            },
            "type": "table"
           }
          ]
         },
         "layout": {
          "annotationdefaults": {
           "arrowcolor": "#2a3f5f",
           "arrowhead": 0,
           "arrowwidth": 1
          },
          "autotypenumbers": "strict",
          "coloraxis": {
           "colorbar": {
            "outlinewidth": 0,
            "ticks": ""
           }
          },
          "colorscale": {
           "diverging": [
            [
             0,
             "#8e0152"
            ],
            [
             0.1,
             "#c51b7d"
            ],
            [
             0.2,
             "#de77ae"
            ],
            [
             0.3,
             "#f1b6da"
            ],
            [
             0.4,
             "#fde0ef"
            ],
            [
             0.5,
             "#f7f7f7"
            ],
            [
             0.6,
             "#e6f5d0"
            ],
            [
             0.7,
             "#b8e186"
            ],
            [
             0.8,
             "#7fbc41"
            ],
            [
             0.9,
             "#4d9221"
            ],
            [
             1,
             "#276419"
            ]
           ],
           "sequential": [
            [
             0,
             "#0d0887"
            ],
            [
             0.1111111111111111,
             "#46039f"
            ],
            [
             0.2222222222222222,
             "#7201a8"
            ],
            [
             0.3333333333333333,
             "#9c179e"
            ],
            [
             0.4444444444444444,
             "#bd3786"
            ],
            [
             0.5555555555555556,
             "#d8576b"
            ],
            [
             0.6666666666666666,
             "#ed7953"
            ],
            [
             0.7777777777777778,
             "#fb9f3a"
            ],
            [
             0.8888888888888888,
             "#fdca26"
            ],
            [
             1,
             "#f0f921"
            ]
           ],
           "sequentialminus": [
            [
             0,
             "#0d0887"
            ],
            [
             0.1111111111111111,
             "#46039f"
            ],
            [
             0.2222222222222222,
             "#7201a8"
            ],
            [
             0.3333333333333333,
             "#9c179e"
            ],
            [
             0.4444444444444444,
             "#bd3786"
            ],
            [
             0.5555555555555556,
             "#d8576b"
            ],
            [
             0.6666666666666666,
             "#ed7953"
            ],
            [
             0.7777777777777778,
             "#fb9f3a"
            ],
            [
             0.8888888888888888,
             "#fdca26"
            ],
            [
             1,
             "#f0f921"
            ]
           ]
          },
          "colorway": [
           "#636efa",
           "#EF553B",
           "#00cc96",
           "#ab63fa",
           "#FFA15A",
           "#19d3f3",
           "#FF6692",
           "#B6E880",
           "#FF97FF",
           "#FECB52"
          ],
          "font": {
           "color": "#2a3f5f"
          },
          "geo": {
           "bgcolor": "white",
           "lakecolor": "white",
           "landcolor": "#E5ECF6",
           "showlakes": true,
           "showland": true,
           "subunitcolor": "white"
          },
          "hoverlabel": {
           "align": "left"
          },
          "hovermode": "closest",
          "mapbox": {
           "style": "light"
          },
          "paper_bgcolor": "white",
          "plot_bgcolor": "#E5ECF6",
          "polar": {
           "angularaxis": {
            "gridcolor": "white",
            "linecolor": "white",
            "ticks": ""
           },
           "bgcolor": "#E5ECF6",
           "radialaxis": {
            "gridcolor": "white",
            "linecolor": "white",
            "ticks": ""
           }
          },
          "scene": {
           "xaxis": {
            "backgroundcolor": "#E5ECF6",
            "gridcolor": "white",
            "gridwidth": 2,
            "linecolor": "white",
            "showbackground": true,
            "ticks": "",
            "zerolinecolor": "white"
           },
           "yaxis": {
            "backgroundcolor": "#E5ECF6",
            "gridcolor": "white",
            "gridwidth": 2,
            "linecolor": "white",
            "showbackground": true,
            "ticks": "",
            "zerolinecolor": "white"
           },
           "zaxis": {
            "backgroundcolor": "#E5ECF6",
            "gridcolor": "white",
            "gridwidth": 2,
            "linecolor": "white",
            "showbackground": true,
            "ticks": "",
            "zerolinecolor": "white"
           }
          },
          "shapedefaults": {
           "line": {
            "color": "#2a3f5f"
           }
          },
          "ternary": {
           "aaxis": {
            "gridcolor": "white",
            "linecolor": "white",
            "ticks": ""
           },
           "baxis": {
            "gridcolor": "white",
            "linecolor": "white",
            "ticks": ""
           },
           "bgcolor": "#E5ECF6",
           "caxis": {
            "gridcolor": "white",
            "linecolor": "white",
            "ticks": ""
           }
          },
          "title": {
           "x": 0.05
          },
          "xaxis": {
           "automargin": true,
           "gridcolor": "white",
           "linecolor": "white",
           "ticks": "",
           "title": {
            "standoff": 15
           },
           "zerolinecolor": "white",
           "zerolinewidth": 2
          },
          "yaxis": {
           "automargin": true,
           "gridcolor": "white",
           "linecolor": "white",
           "ticks": "",
           "title": {
            "standoff": 15
           },
           "zerolinecolor": "white",
           "zerolinewidth": 2
          }
         }
        },
        "width": 1000,
        "yaxis": {
         "autorange": "reversed"
        }
       }
      }
     },
     "metadata": {},
     "output_type": "display_data"
    }
   ],
   "source": [
    "fig.show()"
   ]
  }
 ],
 "metadata": {
  "kernelspec": {
   "display_name": "Python 3.9.5 ('base')",
   "language": "python",
   "name": "python3"
  },
  "language_info": {
   "codemirror_mode": {
    "name": "ipython",
    "version": 3
   },
   "file_extension": ".py",
   "mimetype": "text/x-python",
   "name": "python",
   "nbconvert_exporter": "python",
   "pygments_lexer": "ipython3",
   "version": "3.9.5"
  },
  "vscode": {
   "interpreter": {
    "hash": "4ded07237dbfafc8373e566cfe932557d647581b6f69415d805b7b9e9b0c4bcc"
   }
  }
 },
 "nbformat": 4,
 "nbformat_minor": 5
}
