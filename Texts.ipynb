{
 "cells": [
  {
   "cell_type": "code",
   "execution_count": null,
   "id": "d657c57f",
   "metadata": {},
   "outputs": [],
   "source": [
    "%pip install tk"
   ]
  },
  {
   "cell_type": "code",
   "execution_count": 40,
   "id": "bbd4c268",
   "metadata": {},
   "outputs": [],
   "source": [
    "from deep_translator import GoogleTranslator\n"
   ]
  },
  {
   "cell_type": "code",
   "execution_count": 42,
   "id": "c9b7ba29",
   "metadata": {},
   "outputs": [],
   "source": [
    "translated = GoogleTranslator(source='english', target='hindi').translate_file('Plag.txt')"
   ]
  },
  {
   "cell_type": "code",
   "execution_count": null,
   "id": "82b8712d",
   "metadata": {},
   "outputs": [],
   "source": [
    "print(translated)"
   ]
  },
  {
   "cell_type": "code",
   "execution_count": 1,
   "id": "e07ff0bd",
   "metadata": {},
   "outputs": [],
   "source": [
    "\n",
    "A=\"\"\"Do you know what the Mexicans say about Pacific?\n",
    "    They say it has no memory.\n",
    "    That is the place I want to live the rest of my life;\n",
    "    a warm place with no memory.\n",
    "    Open up a little Hotel, take my guests out for fishing.\n",
    "    Charter fishing! They call it.\"\"\"\n",
    "\n",
    "B=\"That is the place I want\""
   ]
  },
  {
   "cell_type": "code",
   "execution_count": 1,
   "id": "e677f523",
   "metadata": {},
   "outputs": [],
   "source": [
    "import numpy as np\n",
    "import re\n",
    "import nltk\n",
    "from numpy.linalg import norm"
   ]
  },
  {
   "cell_type": "code",
   "execution_count": 2,
   "id": "3b812617",
   "metadata": {},
   "outputs": [],
   "source": [
    "def preProcess(text):\n",
    "    text = text.lower()\n",
    "    text = re.sub(r'[^\\w\\s]', '', text)\n",
    "    text = text.replace('\\n', ' ')\n",
    "    text = re.sub(r'\\[.*?\\]|\\{.*\\}', '', text)\n",
    "\n",
    "    return text\n"
   ]
  },
  {
   "cell_type": "code",
   "execution_count": 3,
   "id": "6ba0d51d",
   "metadata": {},
   "outputs": [
    {
     "name": "stdout",
     "output_type": "stream",
     "text": [
      "^C\n"
     ]
    }
   ],
   "source": [
    "# Downloading the vocabulary of entire English language\n",
    "!python -m spacy download en_core_web_md"
   ]
  },
  {
   "cell_type": "code",
   "execution_count": null,
   "id": "cb3c7e37",
   "metadata": {},
   "outputs": [],
   "source": [
    "# Downloading the vocabulary of entire English language\n",
    "!python -m spacy download en_core_web_lg"
   ]
  },
  {
   "cell_type": "code",
   "execution_count": null,
   "id": "ad80c265",
   "metadata": {},
   "outputs": [],
   "source": [
    "import spacy"
   ]
  },
  {
   "cell_type": "code",
   "execution_count": null,
   "id": "a0e119d9",
   "metadata": {},
   "outputs": [],
   "source": [
    "# Load the language library\n",
    "nlp = spacy.load('en_core_web_lg')"
   ]
  },
  {
   "cell_type": "code",
   "execution_count": null,
   "id": "1ac313ba",
   "metadata": {},
   "outputs": [
    {
     "data": {
      "text/plain": [
       "Do you know what the Mexicans say about Pacific?\n",
       "    They say it has no memory.\n",
       "    That is the place I want to live the rest of my life;\n",
       "    a warm place with no memory.\n",
       "    Open up a little Hotel, take my guests out for fishing.\n",
       "    Charter fishing! They call it."
      ]
     },
     "execution_count": 8,
     "metadata": {},
     "output_type": "execute_result"
    }
   ],
   "source": [
    "# The vector representation of the paragraph A\n",
    "vecA = nlp(A)\n",
    "vecA"
   ]
  },
  {
   "cell_type": "code",
   "execution_count": null,
   "id": "567d4ed2",
   "metadata": {},
   "outputs": [],
   "source": [
    "# The vector representation of the paragraph B\n",
    "vecB = nlp(B)"
   ]
  },
  {
   "cell_type": "code",
   "execution_count": null,
   "id": "4d587377",
   "metadata": {},
   "outputs": [],
   "source": [
    "# Vector for the test Text 'B'\n",
    "X=vecB.vector"
   ]
  },
  {
   "cell_type": "code",
   "execution_count": null,
   "id": "08031561",
   "metadata": {},
   "outputs": [],
   "source": [
    "# Finding the index in vecA where cosine similarity is maximum with vecB\n",
    "n = len(vecB) # Number of tokens in B\n",
    "ID=0\n",
    "for i in range(len(vecA)-n):\n",
    "    Y=vecA[i:i+n].vector\n",
    "\n",
    "    # Computing the Cosine Similartity between the corresponding 3 words\n",
    "    cosSim = np.dot(X,Y)/(norm(X)*norm(Y))\n",
    "\n",
    "    if(cosSim>0.98):\n",
    "        ID=i\n",
    "        break\n"
   ]
  },
  {
   "cell_type": "code",
   "execution_count": null,
   "id": "607cc752",
   "metadata": {},
   "outputs": [
    {
     "data": {
      "text/plain": [
       "\n",
       "    That is the place I"
      ]
     },
     "execution_count": 12,
     "metadata": {},
     "output_type": "execute_result"
    }
   ],
   "source": [
    "# The corresponding text in A\n",
    "vecA[ID:ID+n]"
   ]
  },
  {
   "cell_type": "code",
   "execution_count": 757,
   "id": "488607eb",
   "metadata": {},
   "outputs": [],
   "source": [
    "import re\n",
    "import nltk\n",
    "from nltk.util import ngrams, pad_sequence, everygrams\n",
    "from nltk.lm import MLE, WittenBellInterpolated\n",
    "from scipy.ndimage import gaussian_filter\n",
    "import numpy as np\n",
    "import pandas as pd\n",
    "import plotly.graph_objects as go\n",
    "import plotly.express as px\n",
    "import spacy\n"
   ]
  },
  {
   "cell_type": "code",
   "execution_count": 457,
   "id": "1b2a8e43",
   "metadata": {},
   "outputs": [],
   "source": [
    "P1 = \"\"\"Summer is hot for many reasons these include some natural factors and some manmade factors. \n",
    "These factors also cause many changes in climate conditions. Although the season is quite dry the kids love it.\n",
    "Moreover, too much hotness is very bad for certain things and results in many problems.\n",
    "One problem that it causes in human which is very common is dehydration. It not only causes weakness and dizziness but also can lead to death.\n",
    "So, to keep the body hydrated we need to drink plenty of water.\n",
    "Small ponds, rivers, and wells dry up in this season. The groundwater level declines and in some areas conditions like drought occurs.\"\"\"\n",
    "\n",
    "P2 = \"\"\"The foundations of our learning are laid by our schools. \n",
    "School is the place that instills in us a sense of responsibility and hardworking spirit. \n",
    "We become better versions of ourselves through the rigorous tests that we are put through at schools. \n",
    "Each exam, each activity, and each lesson is aimed towards making us learn and grow. \n",
    "Right from the beginning, we are taught to be morally responsible for all our actions.\n",
    "The various subjects introduce us to the world’s diversity and allow us to explore our surroundings with a unique perspective. \n",
    "We never know what problems await us when we grow up; schools are the training grounds that prepare us to face the unknown. \n",
    "We can overcome any hardship with the right motivation, and schools do that for us. \n",
    "We are not only taught to be responsible citizens but also hardworking individuals who strive hard to face the challenges that life throws at us.\"\"\"\n",
    "\n",
    "# Remove new lines, tabs and punctuation and lowercase the text\n",
    "#P1 = P1.lower()\n",
    "P1 = P1.replace('\\n', ' ')\n",
    "P1 = P1.replace('\\t', '')\n",
    "P1 = re.sub(r'[^\\w\\s]', '', P1)\n",
    "P1 = \" \".join(P1.split())\n",
    "\n",
    "#P2 = P2.lower()\n",
    "P2 = P2.replace('\\n', ' ')\n",
    "P2 = P2.replace('\\t', '')\n",
    "P2 = re.sub(r'[^\\w\\s]', '', P2)\n",
    "P2 = \" \".join(P2.split())"
   ]
  },
  {
   "cell_type": "code",
   "execution_count": 524,
   "id": "721ec9b6",
   "metadata": {},
   "outputs": [],
   "source": [
    "# PC copied from P1 and P2\n",
    "PC = \"\"\"On that weekend at Silverstone, Lewis Hamilton was under pressure for a win as he was lagging by a lot of points.\n",
    "Sunday's race begins and Max takes the lead. They go through the Wellington Straight and Lewis almost catches up\n",
    "with Max but he manages to stay ahead. However Hamilton gets a lovely slipstream out of Brooklands and Luffield.\n",
    "Moreover, too much hotness is very bad for certain things and results in many problems.\n",
    "One problem that it causes in human which is very common is dehydration. It not only causes weakness and dizziness but also can lead to death.\n",
    "They get side by side and Max thinks he has the Woodcotes corner but Hamilton turns up on the inside and his front\n",
    "left wheel touched Max's right rear and sends him barrelling out into the barriers for a massive 51G crash.\n",
    "We become better versions of ourselves through the rigorous tests that we are put through at schools. \n",
    "Each exam, each activity, and each lesson is aimed towards making us learn and grow. \n",
    "Right from the beginning, we are taught to be morally responsible for all our actions.\n",
    "Charles Leclerc manages to surge ahead in front of a slowing Hamilton and takes the lead of the race.\n",
    "However, he is plagued by engine problems throughout the race and in no way could he keep the charging Lewis behind him.\n",
    "Lewis soon catches him and overtakes him on the inside at the same Woodcotes corner ironically where he sent Max to his doom.\n",
    "Eventually, Lewis wins the British Grand Prix in front of his ecstatic fans.\n",
    "So, to keep the body hydrated we need to drink plenty of water.\n",
    "Small ponds, rivers, and wells dry up in this season. The groundwater level declines and in some areas conditions like drought occurs.\"\"\"\n",
    "\n",
    "# PC = \"\"\"These factors also cause many changes in climate conditions. Although the season is quite dry the kids love it.\n",
    "# Moreover, too much hotness is very bad for certain things and results in many problems.\n",
    "# One problem that it causes in human which is very common is dehydration. It not only causes weakness and dizziness but also can lead to death.\n",
    "# Each exam, each activity, and each lesson is aimed towards making us learn and grow. \n",
    "# Right from the beginning, we are taught to be morally responsible for all our actions.\n",
    "# The various subjects introduce us to the world’s diversity and allow us to explore our surroundings with a unique perspective. \n",
    "# We never know what problems await us when we grow up; schools are the training grounds that prepare us to face the unknown.\"\"\"\n",
    "\n",
    "#PC = PC.lower()\n",
    "PC = PC.replace('\\n', ' ')\n",
    "PC = PC.replace('\\t', '')\n",
    "PC = re.sub(r'[^\\w\\s]', '', PC)\n",
    "PC = \" \".join(PC.split())\n"
   ]
  },
  {
   "cell_type": "code",
   "execution_count": 659,
   "id": "b46848d6",
   "metadata": {},
   "outputs": [],
   "source": [
    "reference = {0:\"Summer Diaries\",1:\"British GP Drama\"}"
   ]
  },
  {
   "cell_type": "code",
   "execution_count": 574,
   "id": "5415b787",
   "metadata": {},
   "outputs": [],
   "source": [
    "# Load the language library\n",
    "nlp = spacy.load('en_core_web_lg')"
   ]
  },
  {
   "cell_type": "code",
   "execution_count": 660,
   "id": "d38aff71",
   "metadata": {},
   "outputs": [],
   "source": [
    "vP1 = nlp(P1)\n",
    "vP2 = nlp(P2)\n",
    "\n",
    "vP = nlp(P1+' '+P2)"
   ]
  },
  {
   "cell_type": "code",
   "execution_count": 661,
   "id": "6a9abccd",
   "metadata": {},
   "outputs": [],
   "source": [
    "n=5"
   ]
  },
  {
   "cell_type": "code",
   "execution_count": 662,
   "id": "03c6fcf8",
   "metadata": {},
   "outputs": [],
   "source": [
    "words = [w.text for w in vP]\n",
    "training_data = list(pad_sequence(words, n, \n",
    "                                  pad_left=True, \n",
    "                                  left_pad_symbol=\"<s>\"))"
   ]
  },
  {
   "cell_type": "code",
   "execution_count": 663,
   "id": "50356c98",
   "metadata": {},
   "outputs": [],
   "source": [
    "# Generate n-grams from the training data\n",
    "ngrams = list(everygrams(training_data, max_len=n))\n",
    "# Build n-gram language model\n",
    "model = WittenBellInterpolated(n)\n",
    "model.fit([ngrams],vocabulary_text=training_data)"
   ]
  },
  {
   "cell_type": "code",
   "execution_count": 664,
   "id": "65bedcec",
   "metadata": {},
   "outputs": [],
   "source": [
    "vPC = nlp(PC)\n",
    "wordsPlag = [w.text for w in vPC]"
   ]
  },
  {
   "cell_type": "code",
   "execution_count": 665,
   "id": "35677eea",
   "metadata": {},
   "outputs": [],
   "source": [
    "test_data = list(pad_sequence(wordsPlag, n, \n",
    "                                  pad_left=True, \n",
    "                                  left_pad_symbol=\"<s>\"))"
   ]
  },
  {
   "cell_type": "code",
   "execution_count": 666,
   "id": "3e78008e",
   "metadata": {},
   "outputs": [],
   "source": [
    "score=[]\n",
    "#source = []\n",
    "# Generate score\n",
    "for i,ele in enumerate(test_data[n-1:]):\n",
    "    s = model.score(ele,test_data[i:i+n-1])\n",
    "    score.append(s)\n",
    "\n",
    "# Convert to numpy array\n",
    "score_np=np.array(score)\n",
    "#source_np=np.array(source)"
   ]
  },
  {
   "cell_type": "code",
   "execution_count": 712,
   "id": "b534f740",
   "metadata": {},
   "outputs": [],
   "source": [
    "# Set height and width of the graph\n",
    "width=18\n",
    "height=np.ceil(len(score_np)/width).astype(\"int32\")"
   ]
  },
  {
   "cell_type": "code",
   "execution_count": 713,
   "id": "930b4a6c",
   "metadata": {},
   "outputs": [],
   "source": [
    "# Copy the score_np to a new array with shape (height,width)\n",
    "a=np.zeros(width*height)\n",
    "# source label to be used to identify original source of plagiarised portions\n",
    "sourceLabel = [\"Unplagiarised\"]*(width*height)\n",
    "a[:len(score_np)] = score_np\n",
    "\n",
    "diff = len(a) - len(score_np)"
   ]
  },
  {
   "cell_type": "code",
   "execution_count": 714,
   "id": "03fcb2db",
   "metadata": {},
   "outputs": [],
   "source": [
    "# Apply gaussian filter to the array\n",
    "a = gaussian_filter(a, sigma=1.0)\n",
    "# a=a*1.093 # To make the probabilties better (which have been lowered because of the gaussian filter)\n",
    "# Reshape to fit rectangular shape\n",
    "a = a.reshape(-1,width)"
   ]
  },
  {
   "cell_type": "code",
   "execution_count": 715,
   "id": "98ada2dd",
   "metadata": {},
   "outputs": [],
   "source": [
    "# format labels\n",
    "labels = [\" \".join(vPC[i:i+width].text.split()) for i in range(0, len(vPC), width)]\n",
    "labels_individual = [x.split() for x in labels]\n",
    "labels_individual[-1] += [\"\"]*diff\n",
    "labels = [f\"{x:60.60}\" for x in labels]"
   ]
  },
  {
   "cell_type": "code",
   "execution_count": 716,
   "id": "423da99d",
   "metadata": {},
   "outputs": [
    {
     "data": {
      "text/plain": [
       "40.59405940594059"
      ]
     },
     "execution_count": 716,
     "metadata": {},
     "output_type": "execute_result"
    }
   ],
   "source": [
    "a = a.reshape(-1)\n",
    "\n",
    "# plagScore=np.sum(a[0:a.shape[0]-diff])/(a.shape[0]-diff) # Avg. Score (excluding the padding and blank text)\n",
    "# plagPercentage=plagScore*100\n",
    "# plagPercentage\n",
    "\n",
    "plagWds = 0\n",
    "# If a[i] > 0.62 or a[i-1]>0.58 or a[i+1]>0.58, then increase plagWds by 1\n",
    "for i in range(0,a.shape[0]-2): \n",
    "    if a[i] > 0.62 or a[i+1]>0.58 or a[i+2]>0.58:\n",
    "        plagWds += 1\n",
    "\n",
    "plagPercentage = plagWds*100/(len(a)-diff)\n",
    "plagPercentage"
   ]
  },
  {
   "cell_type": "code",
   "execution_count": 717,
   "id": "f41916af",
   "metadata": {},
   "outputs": [],
   "source": [
    "# The entire corpus of Original Documents\n",
    "corpus = []\n",
    "corpus.append(vP1)\n",
    "corpus.append(vP2)\n"
   ]
  },
  {
   "cell_type": "code",
   "execution_count": 718,
   "id": "67480789",
   "metadata": {},
   "outputs": [],
   "source": [
    "# Dict to store which plagiarised portion belongs to which Document\n",
    "plag_dict = {}"
   ]
  },
  {
   "cell_type": "code",
   "execution_count": 719,
   "id": "11c72c86",
   "metadata": {},
   "outputs": [],
   "source": [
    "def check_plagiarised(j,vecO,vecP,id,fin,plag_dict):\n",
    "    for k in range(len(vecO)-3):\n",
    "        # X is Vector of the plagiarized text present between indexes id and fin\n",
    "        X=vecP[id:fin+1]\n",
    "        # Y is Vector of the original text present between indexes j and j+l\n",
    "        Y=vecO[k:k+fin-id+1]\n",
    "        \n",
    "        #Computing cosine similarity\n",
    "        sim = X.similarity(Y)\n",
    "\n",
    "        # If the cosine similarity is greater than 0.997, then we get a match from original text\n",
    "        if(sim>0.997):\n",
    "            if(j in plag_dict):\n",
    "                a=[id,fin]\n",
    "                b=[k,k+fin-id+1]\n",
    "                plag_dict[j].append([a,b])\n",
    "            else:\n",
    "                a=[id,fin]\n",
    "                b=[k,k+fin-id+1]\n",
    "                plag_dict[j] = [[a,b]]\n",
    "            break\n",
    "    \n",
    "    return plag_dict"
   ]
  },
  {
   "cell_type": "code",
   "execution_count": 720,
   "id": "ad6fd768",
   "metadata": {},
   "outputs": [],
   "source": [
    "plID=[] \n",
    "# The index of the tokens which are plagiarized (index wrt to plagiarized text)\n",
    "for i in range(len(a)-2):\n",
    "    if(a[i]>0.62 or a[i+1]>0.58 or a[i+2]>0.58):\n",
    "        #pl.append(testing_data[i+n-1])\n",
    "        plID.append(i)"
   ]
  },
  {
   "cell_type": "code",
   "execution_count": 721,
   "id": "09075444",
   "metadata": {},
   "outputs": [],
   "source": [
    "# To note the fact that plagiarism can be scattered\n",
    "# Anytime the indexes difference > 4, then it means those two plagiarised words came from different parts of original doc (Flaw exists but we'll improve)\n",
    "jumpStates=[]\n",
    "jumpStates.append(plID[0])\n",
    "for i in range(len(plID)):\n",
    "    if(plID[i]-plID[i-1]>4):\n",
    "        jumpStates.append(plID[i-1])\n",
    "        jumpStates.append(plID[i])\n",
    "\n",
    "jumpStates.append(plID[-1])"
   ]
  },
  {
   "cell_type": "code",
   "execution_count": 722,
   "id": "6fff2260",
   "metadata": {},
   "outputs": [],
   "source": [
    "# Fill plag_dict with the plagiarised portions\n",
    "for i in range(0,len(jumpStates),2):\n",
    "    id=jumpStates[i]\n",
    "    fin=jumpStates[i+1]\n",
    "\n",
    "    # Checking which document the plagiarised portion belongs to\n",
    "    for j,vec in enumerate(corpus):\n",
    "        plag_dict=check_plagiarised(j,corpus[j],vPC,id,fin,plag_dict)\n",
    "        "
   ]
  },
  {
   "cell_type": "code",
   "execution_count": 723,
   "id": "8e41e5ba",
   "metadata": {},
   "outputs": [],
   "source": [
    "# Iterate over plag_dict\n",
    "for i in plag_dict:\n",
    "    v = plag_dict[i]\n",
    "    for j in v:\n",
    "        # Extracting the plagiarised portions\n",
    "        st = j[0][0]\n",
    "        en = j[0][1]\n",
    "\n",
    "        # Labelling those portions\n",
    "        sourceLabel[st:en+1] = [reference[i] for x in sourceLabel[st:en+1]]\n"
   ]
  },
  {
   "cell_type": "code",
   "execution_count": 724,
   "id": "99194df5",
   "metadata": {},
   "outputs": [],
   "source": [
    "sourceLabel = np.array(sourceLabel)\n",
    "sourceLabel = sourceLabel.reshape(-1,width)"
   ]
  },
  {
   "cell_type": "code",
   "execution_count": 725,
   "id": "bac62d65",
   "metadata": {},
   "outputs": [],
   "source": [
    "# create heatmap of the Plagiarized Text\n",
    "a=a.reshape(-1,width)\n",
    "fig = go.Figure(data=go.Heatmap(\n",
    "                z=a, x0=0, dx=1,\n",
    "                #y=labels, \n",
    "                zmin=0, zmax=1,\n",
    "                customdata=sourceLabel,\n",
    "                hovertemplate='%{customdata} <br><b>Score:%{z:.3f}<extra></extra>',\n",
    "                text=labels_individual,\n",
    "                texttemplate='%{text}',\n",
    "                textfont={\"size\":9},\n",
    "                colorscale='reds'\n",
    "                ))\n",
    "fig.update_layout({\"height\":height*25, \"width\":1000, \"font\":{\"family\":\"sans-serif\"}})\n",
    "fig['layout']['yaxis']['autorange'] = \"reversed\""
   ]
  },
  {
   "cell_type": "code",
   "execution_count": 726,
   "id": "fe45cd6e",
   "metadata": {},
   "outputs": [
    {
     "data": {
      "application/vnd.plotly.v1+json": {
       "config": {
        "plotlyServerURL": "https://plot.ly"
       },
       "data": [
        {
         "colorscale": [
          [
           0,
           "rgb(255,245,240)"
          ],
          [
           0.125,
           "rgb(254,224,210)"
          ],
          [
           0.25,
           "rgb(252,187,161)"
          ],
          [
           0.375,
           "rgb(252,146,114)"
          ],
          [
           0.5,
           "rgb(251,106,74)"
          ],
          [
           0.625,
           "rgb(239,59,44)"
          ],
          [
           0.75,
           "rgb(203,24,29)"
          ],
          [
           0.875,
           "rgb(165,15,21)"
          ],
          [
           1,
           "rgb(103,0,13)"
          ]
         ],
         "customdata": [
          [
           "Unplagiarised",
           "Unplagiarised",
           "Unplagiarised",
           "Unplagiarised",
           "Unplagiarised",
           "Unplagiarised",
           "Unplagiarised",
           "Unplagiarised",
           "Unplagiarised",
           "Unplagiarised",
           "Unplagiarised",
           "Unplagiarised",
           "Unplagiarised",
           "Unplagiarised",
           "Unplagiarised",
           "Unplagiarised",
           "Unplagiarised",
           "Unplagiarised"
          ],
          [
           "Unplagiarised",
           "Unplagiarised",
           "Unplagiarised",
           "Unplagiarised",
           "Unplagiarised",
           "Unplagiarised",
           "Unplagiarised",
           "Unplagiarised",
           "Unplagiarised",
           "Unplagiarised",
           "Unplagiarised",
           "Unplagiarised",
           "Unplagiarised",
           "Unplagiarised",
           "Unplagiarised",
           "Unplagiarised",
           "Unplagiarised",
           "Unplagiarised"
          ],
          [
           "Unplagiarised",
           "Unplagiarised",
           "Unplagiarised",
           "Unplagiarised",
           "Unplagiarised",
           "Unplagiarised",
           "Unplagiarised",
           "Unplagiarised",
           "Unplagiarised",
           "Unplagiarised",
           "Unplagiarised",
           "Unplagiarised",
           "Unplagiarised",
           "Unplagiarised",
           "Unplagiarised",
           "Unplagiarised",
           "Unplagiarised",
           "Unplagiarised"
          ],
          [
           "Unplagiarised",
           "Unplagiarised",
           "Unplagiarised",
           "Unplagiarised",
           "Unplagiarised",
           "Unplagiarised",
           "Summer Diaries",
           "Summer Diaries",
           "Summer Diaries",
           "Summer Diaries",
           "Summer Diaries",
           "Summer Diaries",
           "Summer Diaries",
           "Summer Diaries",
           "Summer Diaries",
           "Summer Diaries",
           "Summer Diaries",
           "Summer Diaries"
          ],
          [
           "Summer Diaries",
           "Summer Diaries",
           "Summer Diaries",
           "Summer Diaries",
           "Summer Diaries",
           "Summer Diaries",
           "Summer Diaries",
           "Summer Diaries",
           "Summer Diaries",
           "Summer Diaries",
           "Summer Diaries",
           "Summer Diaries",
           "Summer Diaries",
           "Summer Diaries",
           "Summer Diaries",
           "Summer Diaries",
           "Summer Diaries",
           "Summer Diaries"
          ],
          [
           "Summer Diaries",
           "Summer Diaries",
           "Summer Diaries",
           "Summer Diaries",
           "Summer Diaries",
           "Summer Diaries",
           "Summer Diaries",
           "Summer Diaries",
           "Summer Diaries",
           "Summer Diaries",
           "Summer Diaries",
           "Unplagiarised",
           "Unplagiarised",
           "Unplagiarised",
           "Unplagiarised",
           "Unplagiarised",
           "Unplagiarised",
           "Unplagiarised"
          ],
          [
           "Unplagiarised",
           "Unplagiarised",
           "Unplagiarised",
           "Unplagiarised",
           "Unplagiarised",
           "Unplagiarised",
           "Unplagiarised",
           "Unplagiarised",
           "Unplagiarised",
           "Unplagiarised",
           "Unplagiarised",
           "Unplagiarised",
           "Unplagiarised",
           "Unplagiarised",
           "Unplagiarised",
           "Unplagiarised",
           "Unplagiarised",
           "Unplagiarised"
          ],
          [
           "Unplagiarised",
           "Unplagiarised",
           "Unplagiarised",
           "Unplagiarised",
           "Unplagiarised",
           "Unplagiarised",
           "Unplagiarised",
           "Unplagiarised",
           "Unplagiarised",
           "Unplagiarised",
           "Unplagiarised",
           "Unplagiarised",
           "Unplagiarised",
           "Unplagiarised",
           "Unplagiarised",
           "Unplagiarised",
           "Unplagiarised",
           "Unplagiarised"
          ],
          [
           "British GP Drama",
           "British GP Drama",
           "British GP Drama",
           "British GP Drama",
           "British GP Drama",
           "British GP Drama",
           "British GP Drama",
           "British GP Drama",
           "British GP Drama",
           "British GP Drama",
           "British GP Drama",
           "British GP Drama",
           "British GP Drama",
           "British GP Drama",
           "British GP Drama",
           "British GP Drama",
           "British GP Drama",
           "British GP Drama"
          ],
          [
           "British GP Drama",
           "British GP Drama",
           "British GP Drama",
           "British GP Drama",
           "British GP Drama",
           "British GP Drama",
           "British GP Drama",
           "British GP Drama",
           "British GP Drama",
           "British GP Drama",
           "British GP Drama",
           "British GP Drama",
           "British GP Drama",
           "British GP Drama",
           "British GP Drama",
           "British GP Drama",
           "British GP Drama",
           "British GP Drama"
          ],
          [
           "British GP Drama",
           "British GP Drama",
           "British GP Drama",
           "British GP Drama",
           "British GP Drama",
           "British GP Drama",
           "British GP Drama",
           "British GP Drama",
           "British GP Drama",
           "British GP Drama",
           "British GP Drama",
           "Unplagiarised",
           "Unplagiarised",
           "Unplagiarised",
           "Unplagiarised",
           "Unplagiarised",
           "Unplagiarised",
           "Unplagiarised"
          ],
          [
           "Unplagiarised",
           "Unplagiarised",
           "Unplagiarised",
           "Unplagiarised",
           "Unplagiarised",
           "Unplagiarised",
           "Unplagiarised",
           "Unplagiarised",
           "Unplagiarised",
           "Unplagiarised",
           "Unplagiarised",
           "Unplagiarised",
           "Unplagiarised",
           "Unplagiarised",
           "Unplagiarised",
           "Unplagiarised",
           "Unplagiarised",
           "Unplagiarised"
          ],
          [
           "Unplagiarised",
           "Unplagiarised",
           "Unplagiarised",
           "Unplagiarised",
           "Unplagiarised",
           "Unplagiarised",
           "Unplagiarised",
           "Unplagiarised",
           "Unplagiarised",
           "Unplagiarised",
           "Unplagiarised",
           "Unplagiarised",
           "Unplagiarised",
           "Unplagiarised",
           "Unplagiarised",
           "Unplagiarised",
           "Unplagiarised",
           "Unplagiarised"
          ],
          [
           "Unplagiarised",
           "Unplagiarised",
           "Unplagiarised",
           "Unplagiarised",
           "Unplagiarised",
           "Unplagiarised",
           "Unplagiarised",
           "Unplagiarised",
           "Unplagiarised",
           "Unplagiarised",
           "Unplagiarised",
           "Unplagiarised",
           "Unplagiarised",
           "Unplagiarised",
           "Unplagiarised",
           "Unplagiarised",
           "Unplagiarised",
           "Unplagiarised"
          ],
          [
           "Unplagiarised",
           "Unplagiarised",
           "Unplagiarised",
           "Unplagiarised",
           "Unplagiarised",
           "Unplagiarised",
           "Unplagiarised",
           "Unplagiarised",
           "Unplagiarised",
           "Unplagiarised",
           "Unplagiarised",
           "Unplagiarised",
           "Unplagiarised",
           "Unplagiarised",
           "Unplagiarised",
           "Unplagiarised",
           "Summer Diaries",
           "Summer Diaries"
          ],
          [
           "Summer Diaries",
           "Summer Diaries",
           "Summer Diaries",
           "Summer Diaries",
           "Summer Diaries",
           "Summer Diaries",
           "Summer Diaries",
           "Summer Diaries",
           "Summer Diaries",
           "Summer Diaries",
           "Summer Diaries",
           "Summer Diaries",
           "Summer Diaries",
           "Summer Diaries",
           "Summer Diaries",
           "Summer Diaries",
           "Summer Diaries",
           "Summer Diaries"
          ],
          [
           "Summer Diaries",
           "Summer Diaries",
           "Summer Diaries",
           "Summer Diaries",
           "Summer Diaries",
           "Summer Diaries",
           "Summer Diaries",
           "Summer Diaries",
           "Summer Diaries",
           "Summer Diaries",
           "Summer Diaries",
           "Summer Diaries",
           "Summer Diaries",
           "Summer Diaries",
           "Summer Diaries",
           "Unplagiarised",
           "Unplagiarised",
           "Unplagiarised"
          ]
         ],
         "dx": 1,
         "hovertemplate": "%{customdata} <br><b>Score:%{z:.3f}<extra></extra>",
         "text": [
          [
           "On",
           "that",
           "weekend",
           "at",
           "Silverstone",
           "Lewis",
           "Hamilton",
           "was",
           "under",
           "pressure",
           "for",
           "a",
           "win",
           "as",
           "he",
           "was",
           "lagging",
           "by"
          ],
          [
           "a",
           "lot",
           "of",
           "points",
           "Sundays",
           "race",
           "begins",
           "and",
           "Max",
           "takes",
           "the",
           "lead",
           "They",
           "go",
           "through",
           "the",
           "Wellington",
           "Straight"
          ],
          [
           "and",
           "Lewis",
           "almost",
           "catches",
           "up",
           "with",
           "Max",
           "but",
           "he",
           "manages",
           "to",
           "stay",
           "ahead",
           "However",
           "Hamilton",
           "gets",
           "a",
           "lovely"
          ],
          [
           "slipstream",
           "out",
           "of",
           "Brooklands",
           "and",
           "Luffield",
           "Moreover",
           "too",
           "much",
           "hotness",
           "is",
           "very",
           "bad",
           "for",
           "certain",
           "things",
           "and",
           "results"
          ],
          [
           "in",
           "many",
           "problems",
           "One",
           "problem",
           "that",
           "it",
           "causes",
           "in",
           "human",
           "which",
           "is",
           "very",
           "common",
           "is",
           "dehydration",
           "It",
           "not"
          ],
          [
           "only",
           "causes",
           "weakness",
           "and",
           "dizziness",
           "but",
           "also",
           "can",
           "lead",
           "to",
           "death",
           "They",
           "get",
           "side",
           "by",
           "side",
           "and",
           "Max"
          ],
          [
           "thinks",
           "he",
           "has",
           "the",
           "Woodcotes",
           "corner",
           "but",
           "Hamilton",
           "turns",
           "up",
           "on",
           "the",
           "inside",
           "and",
           "his",
           "front",
           "left",
           "wheel"
          ],
          [
           "touched",
           "Maxs",
           "right",
           "rear",
           "and",
           "sends",
           "him",
           "barrelling",
           "out",
           "into",
           "the",
           "barriers",
           "for",
           "a",
           "massive",
           "51G",
           "crash"
          ],
          [
           "We",
           "become",
           "better",
           "versions",
           "of",
           "ourselves",
           "through",
           "the",
           "rigorous",
           "tests",
           "that",
           "we",
           "are",
           "put",
           "through",
           "at",
           "schools",
           "Each"
          ],
          [
           "exam",
           "each",
           "activity",
           "and",
           "each",
           "lesson",
           "is",
           "aimed",
           "towards",
           "making",
           "us",
           "learn",
           "and",
           "grow",
           "Right",
           "from",
           "the",
           "beginning"
          ],
          [
           "we",
           "are",
           "taught",
           "to",
           "be",
           "morally",
           "responsible",
           "for",
           "all",
           "our",
           "actions",
           "Charles",
           "Leclerc",
           "manages",
           "to",
           "surge",
           "ahead",
           "in"
          ],
          [
           "front",
           "of",
           "a",
           "slowing",
           "Hamilton",
           "and",
           "takes",
           "the",
           "lead",
           "of",
           "the",
           "race",
           "However",
           "he",
           "is",
           "plagued",
           "by",
           "engine"
          ],
          [
           "problems",
           "throughout",
           "the",
           "race",
           "and",
           "in",
           "no",
           "way",
           "could",
           "he",
           "keep",
           "the",
           "charging",
           "Lewis",
           "behind",
           "him",
           "Lewis",
           "soon"
          ],
          [
           "catches",
           "him",
           "and",
           "overtakes",
           "him",
           "on",
           "the",
           "inside",
           "at",
           "the",
           "same",
           "Woodcotes",
           "corner",
           "ironically",
           "where",
           "he",
           "sent",
           "Max"
          ],
          [
           "to",
           "his",
           "doom",
           "Eventually",
           "Lewis",
           "wins",
           "the",
           "British",
           "Grand",
           "Prix",
           "in",
           "front",
           "of",
           "his",
           "ecstatic",
           "fans",
           "So",
           "to"
          ],
          [
           "keep",
           "the",
           "body",
           "hydrated",
           "we",
           "need",
           "to",
           "drink",
           "plenty",
           "of",
           "water",
           "Small",
           "ponds",
           "rivers",
           "and",
           "wells",
           "dry",
           "up"
          ],
          [
           "in",
           "this",
           "season",
           "The",
           "groundwater",
           "level",
           "declines",
           "and",
           "in",
           "some",
           "areas",
           "conditions",
           "like",
           "drought",
           "occurs",
           "",
           "",
           ""
          ]
         ],
         "textfont": {
          "size": 9
         },
         "texttemplate": "%{text}",
         "type": "heatmap",
         "x0": 0,
         "z": [
          [
           0.006635341349268114,
           0.009398640299993245,
           0.007199161892195145,
           0.004170385513890044,
           0.0018978961376705911,
           0.0004044060914092835,
           0.00003494069047777508,
           0.00006739382287720924,
           0.0008193173654381,
           0.0037987989221082053,
           0.006831767000301084,
           0.005081149635622679,
           0.0017023641462431908,
           0.0002671093105035101,
           0.000035438202093443266,
           0.00021768334448085656,
           0.001102222660132952,
           0.002448484615214957
          ],
          [
           0.003185425370615301,
           0.004698321024920847,
           0.00614943073035363,
           0.003620036361030469,
           0.0009680927751217287,
           0.002073006396606577,
           0.009002683702361444,
           0.015012089541612005,
           0.011211274308564206,
           0.012002203494944253,
           0.016929182762806385,
           0.010710393473336762,
           0.004257577368604953,
           0.016682317668030272,
           0.06842504083329674,
           0.10985675025457968,
           0.06784875910991137,
           0.02362986133703463
          ],
          [
           0.016031181966233127,
           0.009064863153797051,
           0.0024250014522991976,
           0.002165502959789769,
           0.003903570311728647,
           0.003683526451712669,
           0.0031044649346942143,
           0.003348061501684921,
           0.003622909148582906,
           0.008497617458644722,
           0.013380501663364096,
           0.008096693948545116,
           0.001807389620950071,
           0.00018122854208306287,
           0.00040589862625628806,
           0.001799044205625284,
           0.0029681124952068935,
           0.0018649454936554887
          ],
          [
           0.001209238181302505,
           0.0037957922753411822,
           0.007940842540911819,
           0.012676948829499747,
           0.018158830615393674,
           0.040501742415765485,
           0.169476785657047,
           0.4345301417779902,
           0.6878394435559678,
           0.837488238466777,
           0.8955918604504585,
           0.8937830643313445,
           0.8873214553000316,
           0.9016572257100433,
           0.9138119166133138,
           0.9234735328961845,
           0.9222437886742347,
           0.9128964409932383
          ],
          [
           0.9098257103973729,
           0.9026797953760787,
           0.9009624608586271,
           0.9122788811489946,
           0.925045151664909,
           0.9219565814215105,
           0.9078230730696413,
           0.9027777720750695,
           0.9028268170828927,
           0.907641037889566,
           0.9209572369051888,
           0.9198540364658646,
           0.8978072509240766,
           0.8874584273314237,
           0.9004872418756946,
           0.9118048897425457,
           0.9253520427502839,
           0.9348348722106651
          ],
          [
           0.9215824253525349,
           0.8977913902080195,
           0.9012396112279077,
           0.912529638412581,
           0.9144276464321474,
           0.9235235416059828,
           0.9163252133767084,
           0.8933000000275312,
           0.8944612370337011,
           0.8572436602332401,
           0.6323936930505756,
           0.2685396584352338,
           0.05216615689460911,
           0.005103425214354427,
           0.003608340888907666,
           0.009894743130939063,
           0.015031322754578745,
           0.009017168977906323
          ],
          [
           0.002188831162275103,
           0.002372568839509521,
           0.00990071327032708,
           0.01634662411210832,
           0.010296164152654337,
           0.0040078548482906295,
           0.003180301634842386,
           0.0022114104828852583,
           0.0023816937694236214,
           0.005211863828350014,
           0.011859535579871197,
           0.018722199598384864,
           0.018922914803080587,
           0.017039422886386456,
           0.009176449570209484,
           0.0020125777363487222,
           0.00016525073169117993,
           0.000021450438164233022
          ],
          [
           0.00020568562701431904,
           0.0010642753228881537,
           0.0034901663329484824,
           0.009894743130939063,
           0.015031322754578745,
           0.009011696350133972,
           0.0020130752479643904,
           0.0003459817621585746,
           0.002214780782053364,
           0.009961141930584935,
           0.017132990833531318,
           0.01369354205304727,
           0.009039582619735092,
           0.0052623781777057415,
           0.0017098268204782136,
           0.0003494906708027234,
           0.0014840251217734298,
           0.0138930111368983
          ],
          [
           0.08117748877047111,
           0.2874565558618808,
           0.5976554007845745,
           0.8173295894004158,
           0.8976748610024521,
           0.9131448527162276,
           0.9161523648527878,
           0.909962307574582,
           0.907702089694957,
           0.9197932549398933,
           0.9206624074600129,
           0.9048837514074888,
           0.8876212142706763,
           0.8820251528007826,
           0.899607970020907,
           0.9092943136116589,
           0.9062029584031022,
           0.9098245436178507
          ],
          [
           0.9229736739976455,
           0.9274534888408881,
           0.9224529618480285,
           0.9157684292198809,
           0.906483453600549,
           0.9091661758108562,
           0.9149068371391587,
           0.9150295877926673,
           0.9247178173869222,
           0.9324592558734318,
           0.9253953168181128,
           0.9146680777010927,
           0.9108007398375637,
           0.9055246090846288,
           0.9114665315164013,
           0.9246426998228312,
           0.9228829534043679,
           0.9137503838948959
          ],
          [
           0.9121212782095084,
           0.8984088938408978,
           0.890225789121859,
           0.9036072807378754,
           0.8796772212721142,
           0.8468377724890435,
           0.8744889513235281,
           0.9021080244680364,
           0.9040370344048042,
           0.8587371340587822,
           0.6347237212442822,
           0.2704467412464554,
           0.05418299995751688,
           0.012172431046453843,
           0.013565626945917786,
           0.009301952036922275,
           0.00726992601424046,
           0.009865962609738724
          ],
          [
           0.00920040914352507,
           0.008041005181603588,
           0.005344754787743497,
           0.0037179269522859223,
           0.009443310124905159,
           0.01706612591586045,
           0.01902650388401125,
           0.019262574920832717,
           0.013703978978542919,
           0.010576045801210764,
           0.01024094731849345,
           0.005477830130013789,
           0.0025425782971590693,
           0.006404739335968914,
           0.010585870418579923,
           0.007229127466516238,
           0.0032949284498631952,
           0.002995122104573847
          ],
          [
           0.005383106276502226,
           0.011883199944725153,
           0.018993716157024748,
           0.02222460270668872,
           0.031836561477654415,
           0.03357280671113071,
           0.016810213839232355,
           0.003552568071884741,
           0.0027832497550957,
           0.029007177688959596,
           0.127416155618142,
           0.2085280935149081,
           0.12613380490462753,
           0.028115946842076762,
           0.0023070425926728323,
           0.0000696516261935459,
           0.000004975116156681849,
           0.00016475322007551173
          ],
          [
           0.002007105108576372,
           0.00899522102812642,
           0.014836084871493458,
           0.009176449570209484,
           0.004215915751241718,
           0.010095183308915852,
           0.016810683877006707,
           0.012797695146281353,
           0.010121309633647761,
           0.010137109481754955,
           0.005354265214957156,
           0.0011368584537321071,
           0.00009160929427286782,
           0.000002736313886175017,
           0.000004477604541013664,
           0.00014827789806796054,
           0.0018063945977187348,
           0.008095698925313779
          ],
          [
           0.013347551019348994,
           0.008095698925313779,
           0.0018118672254910848,
           0.0003295064401510234,
           0.002212293223975023,
           0.009894743130939063,
           0.016316658537787226,
           0.00999359506298437,
           0.003414068731042505,
           0.00564426244698912,
           0.009706682017435563,
           0.008995221028126419,
           0.007137005474249934,
           0.003782569779881304,
           0.0033678137330243173,
           0.031340000737394624,
           0.1592637412058692,
           0.38733693366327815
          ],
          [
           0.6023023176153322,
           0.7758378887513881,
           0.8770690262389809,
           0.9167762038500993,
           0.9236806108276552,
           0.917313909226883,
           0.9144505485607739,
           0.9137741642462806,
           0.9220327778256807,
           0.9237160552776456,
           0.9189585597359382,
           0.9264219803599691,
           0.9350682355731725,
           0.9349905506379237,
           0.9248204485217204,
           0.9140389773629133,
           0.9149663559039676,
           0.9122909012826439
          ],
          [
           0.9052548121276625,
           0.9062017780147389,
           0.9137616205787851,
           0.912475561519251,
           0.9134401164516344,
           0.9258439717112414,
           0.9326436658455826,
           0.9220764109871911,
           0.9015126113885579,
           0.8937144306284317,
           0.9040234441378876,
           0.9170249718827587,
           0.9185544119197826,
           0.875081086035384,
           0.6542254986273528,
           0.28167660949863504,
           0.05490644143827686,
           0.004406894586509383
          ]
         ],
         "zmax": 1,
         "zmin": 0
        }
       ],
       "layout": {
        "font": {
         "family": "sans-serif"
        },
        "height": 425,
        "template": {
         "data": {
          "bar": [
           {
            "error_x": {
             "color": "#2a3f5f"
            },
            "error_y": {
             "color": "#2a3f5f"
            },
            "marker": {
             "line": {
              "color": "#E5ECF6",
              "width": 0.5
             },
             "pattern": {
              "fillmode": "overlay",
              "size": 10,
              "solidity": 0.2
             }
            },
            "type": "bar"
           }
          ],
          "barpolar": [
           {
            "marker": {
             "line": {
              "color": "#E5ECF6",
              "width": 0.5
             },
             "pattern": {
              "fillmode": "overlay",
              "size": 10,
              "solidity": 0.2
             }
            },
            "type": "barpolar"
           }
          ],
          "carpet": [
           {
            "aaxis": {
             "endlinecolor": "#2a3f5f",
             "gridcolor": "white",
             "linecolor": "white",
             "minorgridcolor": "white",
             "startlinecolor": "#2a3f5f"
            },
            "baxis": {
             "endlinecolor": "#2a3f5f",
             "gridcolor": "white",
             "linecolor": "white",
             "minorgridcolor": "white",
             "startlinecolor": "#2a3f5f"
            },
            "type": "carpet"
           }
          ],
          "choropleth": [
           {
            "colorbar": {
             "outlinewidth": 0,
             "ticks": ""
            },
            "type": "choropleth"
           }
          ],
          "contour": [
           {
            "colorbar": {
             "outlinewidth": 0,
             "ticks": ""
            },
            "colorscale": [
             [
              0,
              "#0d0887"
             ],
             [
              0.1111111111111111,
              "#46039f"
             ],
             [
              0.2222222222222222,
              "#7201a8"
             ],
             [
              0.3333333333333333,
              "#9c179e"
             ],
             [
              0.4444444444444444,
              "#bd3786"
             ],
             [
              0.5555555555555556,
              "#d8576b"
             ],
             [
              0.6666666666666666,
              "#ed7953"
             ],
             [
              0.7777777777777778,
              "#fb9f3a"
             ],
             [
              0.8888888888888888,
              "#fdca26"
             ],
             [
              1,
              "#f0f921"
             ]
            ],
            "type": "contour"
           }
          ],
          "contourcarpet": [
           {
            "colorbar": {
             "outlinewidth": 0,
             "ticks": ""
            },
            "type": "contourcarpet"
           }
          ],
          "heatmap": [
           {
            "colorbar": {
             "outlinewidth": 0,
             "ticks": ""
            },
            "colorscale": [
             [
              0,
              "#0d0887"
             ],
             [
              0.1111111111111111,
              "#46039f"
             ],
             [
              0.2222222222222222,
              "#7201a8"
             ],
             [
              0.3333333333333333,
              "#9c179e"
             ],
             [
              0.4444444444444444,
              "#bd3786"
             ],
             [
              0.5555555555555556,
              "#d8576b"
             ],
             [
              0.6666666666666666,
              "#ed7953"
             ],
             [
              0.7777777777777778,
              "#fb9f3a"
             ],
             [
              0.8888888888888888,
              "#fdca26"
             ],
             [
              1,
              "#f0f921"
             ]
            ],
            "type": "heatmap"
           }
          ],
          "heatmapgl": [
           {
            "colorbar": {
             "outlinewidth": 0,
             "ticks": ""
            },
            "colorscale": [
             [
              0,
              "#0d0887"
             ],
             [
              0.1111111111111111,
              "#46039f"
             ],
             [
              0.2222222222222222,
              "#7201a8"
             ],
             [
              0.3333333333333333,
              "#9c179e"
             ],
             [
              0.4444444444444444,
              "#bd3786"
             ],
             [
              0.5555555555555556,
              "#d8576b"
             ],
             [
              0.6666666666666666,
              "#ed7953"
             ],
             [
              0.7777777777777778,
              "#fb9f3a"
             ],
             [
              0.8888888888888888,
              "#fdca26"
             ],
             [
              1,
              "#f0f921"
             ]
            ],
            "type": "heatmapgl"
           }
          ],
          "histogram": [
           {
            "marker": {
             "pattern": {
              "fillmode": "overlay",
              "size": 10,
              "solidity": 0.2
             }
            },
            "type": "histogram"
           }
          ],
          "histogram2d": [
           {
            "colorbar": {
             "outlinewidth": 0,
             "ticks": ""
            },
            "colorscale": [
             [
              0,
              "#0d0887"
             ],
             [
              0.1111111111111111,
              "#46039f"
             ],
             [
              0.2222222222222222,
              "#7201a8"
             ],
             [
              0.3333333333333333,
              "#9c179e"
             ],
             [
              0.4444444444444444,
              "#bd3786"
             ],
             [
              0.5555555555555556,
              "#d8576b"
             ],
             [
              0.6666666666666666,
              "#ed7953"
             ],
             [
              0.7777777777777778,
              "#fb9f3a"
             ],
             [
              0.8888888888888888,
              "#fdca26"
             ],
             [
              1,
              "#f0f921"
             ]
            ],
            "type": "histogram2d"
           }
          ],
          "histogram2dcontour": [
           {
            "colorbar": {
             "outlinewidth": 0,
             "ticks": ""
            },
            "colorscale": [
             [
              0,
              "#0d0887"
             ],
             [
              0.1111111111111111,
              "#46039f"
             ],
             [
              0.2222222222222222,
              "#7201a8"
             ],
             [
              0.3333333333333333,
              "#9c179e"
             ],
             [
              0.4444444444444444,
              "#bd3786"
             ],
             [
              0.5555555555555556,
              "#d8576b"
             ],
             [
              0.6666666666666666,
              "#ed7953"
             ],
             [
              0.7777777777777778,
              "#fb9f3a"
             ],
             [
              0.8888888888888888,
              "#fdca26"
             ],
             [
              1,
              "#f0f921"
             ]
            ],
            "type": "histogram2dcontour"
           }
          ],
          "mesh3d": [
           {
            "colorbar": {
             "outlinewidth": 0,
             "ticks": ""
            },
            "type": "mesh3d"
           }
          ],
          "parcoords": [
           {
            "line": {
             "colorbar": {
              "outlinewidth": 0,
              "ticks": ""
             }
            },
            "type": "parcoords"
           }
          ],
          "pie": [
           {
            "automargin": true,
            "type": "pie"
           }
          ],
          "scatter": [
           {
            "fillpattern": {
             "fillmode": "overlay",
             "size": 10,
             "solidity": 0.2
            },
            "type": "scatter"
           }
          ],
          "scatter3d": [
           {
            "line": {
             "colorbar": {
              "outlinewidth": 0,
              "ticks": ""
             }
            },
            "marker": {
             "colorbar": {
              "outlinewidth": 0,
              "ticks": ""
             }
            },
            "type": "scatter3d"
           }
          ],
          "scattercarpet": [
           {
            "marker": {
             "colorbar": {
              "outlinewidth": 0,
              "ticks": ""
             }
            },
            "type": "scattercarpet"
           }
          ],
          "scattergeo": [
           {
            "marker": {
             "colorbar": {
              "outlinewidth": 0,
              "ticks": ""
             }
            },
            "type": "scattergeo"
           }
          ],
          "scattergl": [
           {
            "marker": {
             "colorbar": {
              "outlinewidth": 0,
              "ticks": ""
             }
            },
            "type": "scattergl"
           }
          ],
          "scattermapbox": [
           {
            "marker": {
             "colorbar": {
              "outlinewidth": 0,
              "ticks": ""
             }
            },
            "type": "scattermapbox"
           }
          ],
          "scatterpolar": [
           {
            "marker": {
             "colorbar": {
              "outlinewidth": 0,
              "ticks": ""
             }
            },
            "type": "scatterpolar"
           }
          ],
          "scatterpolargl": [
           {
            "marker": {
             "colorbar": {
              "outlinewidth": 0,
              "ticks": ""
             }
            },
            "type": "scatterpolargl"
           }
          ],
          "scatterternary": [
           {
            "marker": {
             "colorbar": {
              "outlinewidth": 0,
              "ticks": ""
             }
            },
            "type": "scatterternary"
           }
          ],
          "surface": [
           {
            "colorbar": {
             "outlinewidth": 0,
             "ticks": ""
            },
            "colorscale": [
             [
              0,
              "#0d0887"
             ],
             [
              0.1111111111111111,
              "#46039f"
             ],
             [
              0.2222222222222222,
              "#7201a8"
             ],
             [
              0.3333333333333333,
              "#9c179e"
             ],
             [
              0.4444444444444444,
              "#bd3786"
             ],
             [
              0.5555555555555556,
              "#d8576b"
             ],
             [
              0.6666666666666666,
              "#ed7953"
             ],
             [
              0.7777777777777778,
              "#fb9f3a"
             ],
             [
              0.8888888888888888,
              "#fdca26"
             ],
             [
              1,
              "#f0f921"
             ]
            ],
            "type": "surface"
           }
          ],
          "table": [
           {
            "cells": {
             "fill": {
              "color": "#EBF0F8"
             },
             "line": {
              "color": "white"
             }
            },
            "header": {
             "fill": {
              "color": "#C8D4E3"
             },
             "line": {
              "color": "white"
             }
            },
            "type": "table"
           }
          ]
         },
         "layout": {
          "annotationdefaults": {
           "arrowcolor": "#2a3f5f",
           "arrowhead": 0,
           "arrowwidth": 1
          },
          "autotypenumbers": "strict",
          "coloraxis": {
           "colorbar": {
            "outlinewidth": 0,
            "ticks": ""
           }
          },
          "colorscale": {
           "diverging": [
            [
             0,
             "#8e0152"
            ],
            [
             0.1,
             "#c51b7d"
            ],
            [
             0.2,
             "#de77ae"
            ],
            [
             0.3,
             "#f1b6da"
            ],
            [
             0.4,
             "#fde0ef"
            ],
            [
             0.5,
             "#f7f7f7"
            ],
            [
             0.6,
             "#e6f5d0"
            ],
            [
             0.7,
             "#b8e186"
            ],
            [
             0.8,
             "#7fbc41"
            ],
            [
             0.9,
             "#4d9221"
            ],
            [
             1,
             "#276419"
            ]
           ],
           "sequential": [
            [
             0,
             "#0d0887"
            ],
            [
             0.1111111111111111,
             "#46039f"
            ],
            [
             0.2222222222222222,
             "#7201a8"
            ],
            [
             0.3333333333333333,
             "#9c179e"
            ],
            [
             0.4444444444444444,
             "#bd3786"
            ],
            [
             0.5555555555555556,
             "#d8576b"
            ],
            [
             0.6666666666666666,
             "#ed7953"
            ],
            [
             0.7777777777777778,
             "#fb9f3a"
            ],
            [
             0.8888888888888888,
             "#fdca26"
            ],
            [
             1,
             "#f0f921"
            ]
           ],
           "sequentialminus": [
            [
             0,
             "#0d0887"
            ],
            [
             0.1111111111111111,
             "#46039f"
            ],
            [
             0.2222222222222222,
             "#7201a8"
            ],
            [
             0.3333333333333333,
             "#9c179e"
            ],
            [
             0.4444444444444444,
             "#bd3786"
            ],
            [
             0.5555555555555556,
             "#d8576b"
            ],
            [
             0.6666666666666666,
             "#ed7953"
            ],
            [
             0.7777777777777778,
             "#fb9f3a"
            ],
            [
             0.8888888888888888,
             "#fdca26"
            ],
            [
             1,
             "#f0f921"
            ]
           ]
          },
          "colorway": [
           "#636efa",
           "#EF553B",
           "#00cc96",
           "#ab63fa",
           "#FFA15A",
           "#19d3f3",
           "#FF6692",
           "#B6E880",
           "#FF97FF",
           "#FECB52"
          ],
          "font": {
           "color": "#2a3f5f"
          },
          "geo": {
           "bgcolor": "white",
           "lakecolor": "white",
           "landcolor": "#E5ECF6",
           "showlakes": true,
           "showland": true,
           "subunitcolor": "white"
          },
          "hoverlabel": {
           "align": "left"
          },
          "hovermode": "closest",
          "mapbox": {
           "style": "light"
          },
          "paper_bgcolor": "white",
          "plot_bgcolor": "#E5ECF6",
          "polar": {
           "angularaxis": {
            "gridcolor": "white",
            "linecolor": "white",
            "ticks": ""
           },
           "bgcolor": "#E5ECF6",
           "radialaxis": {
            "gridcolor": "white",
            "linecolor": "white",
            "ticks": ""
           }
          },
          "scene": {
           "xaxis": {
            "backgroundcolor": "#E5ECF6",
            "gridcolor": "white",
            "gridwidth": 2,
            "linecolor": "white",
            "showbackground": true,
            "ticks": "",
            "zerolinecolor": "white"
           },
           "yaxis": {
            "backgroundcolor": "#E5ECF6",
            "gridcolor": "white",
            "gridwidth": 2,
            "linecolor": "white",
            "showbackground": true,
            "ticks": "",
            "zerolinecolor": "white"
           },
           "zaxis": {
            "backgroundcolor": "#E5ECF6",
            "gridcolor": "white",
            "gridwidth": 2,
            "linecolor": "white",
            "showbackground": true,
            "ticks": "",
            "zerolinecolor": "white"
           }
          },
          "shapedefaults": {
           "line": {
            "color": "#2a3f5f"
           }
          },
          "ternary": {
           "aaxis": {
            "gridcolor": "white",
            "linecolor": "white",
            "ticks": ""
           },
           "baxis": {
            "gridcolor": "white",
            "linecolor": "white",
            "ticks": ""
           },
           "bgcolor": "#E5ECF6",
           "caxis": {
            "gridcolor": "white",
            "linecolor": "white",
            "ticks": ""
           }
          },
          "title": {
           "x": 0.05
          },
          "xaxis": {
           "automargin": true,
           "gridcolor": "white",
           "linecolor": "white",
           "ticks": "",
           "title": {
            "standoff": 15
           },
           "zerolinecolor": "white",
           "zerolinewidth": 2
          },
          "yaxis": {
           "automargin": true,
           "gridcolor": "white",
           "linecolor": "white",
           "ticks": "",
           "title": {
            "standoff": 15
           },
           "zerolinecolor": "white",
           "zerolinewidth": 2
          }
         }
        },
        "width": 1000,
        "yaxis": {
         "autorange": "reversed"
        }
       }
      }
     },
     "metadata": {},
     "output_type": "display_data"
    }
   ],
   "source": [
    "fig.show() # Hover over the plagiarised portions to see the source"
   ]
  },
  {
   "cell_type": "code",
   "execution_count": 727,
   "id": "fca0e3ce",
   "metadata": {},
   "outputs": [],
   "source": [
    "pieLabels =[]\n",
    "pieLabels.append(\"Unplagiarised\")\n",
    "\n",
    "for i in reference:\n",
    "    pieLabels.append(reference[i])"
   ]
  },
  {
   "cell_type": "code",
   "execution_count": 730,
   "id": "45682a0f",
   "metadata": {},
   "outputs": [],
   "source": [
    "pieVals = []\n",
    "pieVals.append(len(score_np)-plagWds)\n",
    "\n",
    "# Iterate over plag_dict\n",
    "for i in plag_dict:\n",
    "    v = plag_dict[i]\n",
    "    s=0\n",
    "    for j in v:\n",
    "        # Extracting the plagiarised portions\n",
    "        st = j[0][0]\n",
    "        en = j[0][1]\n",
    "\n",
    "        s=s+en-st+1\n",
    "    pieVals.append(s)"
   ]
  },
  {
   "cell_type": "code",
   "execution_count": 758,
   "id": "b60e3481",
   "metadata": {},
   "outputs": [],
   "source": [
    "# Create pandas dataframe of pieVals and pieLabels\n",
    "df = pd.DataFrame({'Source':pieLabels, 'No. of Words':pieVals})\n"
   ]
  },
  {
   "cell_type": "code",
   "execution_count": 767,
   "id": "69d848db",
   "metadata": {},
   "outputs": [
    {
     "data": {
      "application/vnd.plotly.v1+json": {
       "config": {
        "plotlyServerURL": "https://plot.ly"
       },
       "data": [
        {
         "domain": {
          "x": [
           0,
           1
          ],
          "y": [
           0,
           1
          ]
         },
         "hole": 0.5,
         "hovertemplate": "Source=%{label}<br>No. of Words=%{value}<extra></extra>",
         "labels": [
          "Unplagiarised",
          "Summer Diaries",
          "British GP Drama"
         ],
         "legendgroup": "",
         "name": "",
         "showlegend": true,
         "type": "pie",
         "values": [
          180,
          76,
          47
         ]
        }
       ],
       "layout": {
        "font": {
         "family": "sans-serif"
        },
        "height": 476,
        "legend": {
         "tracegroupgap": 0
        },
        "piecolorway": [
         "rgb(8,48,107)",
         "rgb(8,81,156)",
         "rgb(33,113,181)",
         "rgb(66,146,198)",
         "rgb(107,174,214)",
         "rgb(158,202,225)",
         "rgb(198,219,239)",
         "rgb(222,235,247)",
         "rgb(247,251,255)"
        ],
        "template": {
         "data": {
          "bar": [
           {
            "error_x": {
             "color": "#2a3f5f"
            },
            "error_y": {
             "color": "#2a3f5f"
            },
            "marker": {
             "line": {
              "color": "#E5ECF6",
              "width": 0.5
             },
             "pattern": {
              "fillmode": "overlay",
              "size": 10,
              "solidity": 0.2
             }
            },
            "type": "bar"
           }
          ],
          "barpolar": [
           {
            "marker": {
             "line": {
              "color": "#E5ECF6",
              "width": 0.5
             },
             "pattern": {
              "fillmode": "overlay",
              "size": 10,
              "solidity": 0.2
             }
            },
            "type": "barpolar"
           }
          ],
          "carpet": [
           {
            "aaxis": {
             "endlinecolor": "#2a3f5f",
             "gridcolor": "white",
             "linecolor": "white",
             "minorgridcolor": "white",
             "startlinecolor": "#2a3f5f"
            },
            "baxis": {
             "endlinecolor": "#2a3f5f",
             "gridcolor": "white",
             "linecolor": "white",
             "minorgridcolor": "white",
             "startlinecolor": "#2a3f5f"
            },
            "type": "carpet"
           }
          ],
          "choropleth": [
           {
            "colorbar": {
             "outlinewidth": 0,
             "ticks": ""
            },
            "type": "choropleth"
           }
          ],
          "contour": [
           {
            "colorbar": {
             "outlinewidth": 0,
             "ticks": ""
            },
            "colorscale": [
             [
              0,
              "#0d0887"
             ],
             [
              0.1111111111111111,
              "#46039f"
             ],
             [
              0.2222222222222222,
              "#7201a8"
             ],
             [
              0.3333333333333333,
              "#9c179e"
             ],
             [
              0.4444444444444444,
              "#bd3786"
             ],
             [
              0.5555555555555556,
              "#d8576b"
             ],
             [
              0.6666666666666666,
              "#ed7953"
             ],
             [
              0.7777777777777778,
              "#fb9f3a"
             ],
             [
              0.8888888888888888,
              "#fdca26"
             ],
             [
              1,
              "#f0f921"
             ]
            ],
            "type": "contour"
           }
          ],
          "contourcarpet": [
           {
            "colorbar": {
             "outlinewidth": 0,
             "ticks": ""
            },
            "type": "contourcarpet"
           }
          ],
          "heatmap": [
           {
            "colorbar": {
             "outlinewidth": 0,
             "ticks": ""
            },
            "colorscale": [
             [
              0,
              "#0d0887"
             ],
             [
              0.1111111111111111,
              "#46039f"
             ],
             [
              0.2222222222222222,
              "#7201a8"
             ],
             [
              0.3333333333333333,
              "#9c179e"
             ],
             [
              0.4444444444444444,
              "#bd3786"
             ],
             [
              0.5555555555555556,
              "#d8576b"
             ],
             [
              0.6666666666666666,
              "#ed7953"
             ],
             [
              0.7777777777777778,
              "#fb9f3a"
             ],
             [
              0.8888888888888888,
              "#fdca26"
             ],
             [
              1,
              "#f0f921"
             ]
            ],
            "type": "heatmap"
           }
          ],
          "heatmapgl": [
           {
            "colorbar": {
             "outlinewidth": 0,
             "ticks": ""
            },
            "colorscale": [
             [
              0,
              "#0d0887"
             ],
             [
              0.1111111111111111,
              "#46039f"
             ],
             [
              0.2222222222222222,
              "#7201a8"
             ],
             [
              0.3333333333333333,
              "#9c179e"
             ],
             [
              0.4444444444444444,
              "#bd3786"
             ],
             [
              0.5555555555555556,
              "#d8576b"
             ],
             [
              0.6666666666666666,
              "#ed7953"
             ],
             [
              0.7777777777777778,
              "#fb9f3a"
             ],
             [
              0.8888888888888888,
              "#fdca26"
             ],
             [
              1,
              "#f0f921"
             ]
            ],
            "type": "heatmapgl"
           }
          ],
          "histogram": [
           {
            "marker": {
             "pattern": {
              "fillmode": "overlay",
              "size": 10,
              "solidity": 0.2
             }
            },
            "type": "histogram"
           }
          ],
          "histogram2d": [
           {
            "colorbar": {
             "outlinewidth": 0,
             "ticks": ""
            },
            "colorscale": [
             [
              0,
              "#0d0887"
             ],
             [
              0.1111111111111111,
              "#46039f"
             ],
             [
              0.2222222222222222,
              "#7201a8"
             ],
             [
              0.3333333333333333,
              "#9c179e"
             ],
             [
              0.4444444444444444,
              "#bd3786"
             ],
             [
              0.5555555555555556,
              "#d8576b"
             ],
             [
              0.6666666666666666,
              "#ed7953"
             ],
             [
              0.7777777777777778,
              "#fb9f3a"
             ],
             [
              0.8888888888888888,
              "#fdca26"
             ],
             [
              1,
              "#f0f921"
             ]
            ],
            "type": "histogram2d"
           }
          ],
          "histogram2dcontour": [
           {
            "colorbar": {
             "outlinewidth": 0,
             "ticks": ""
            },
            "colorscale": [
             [
              0,
              "#0d0887"
             ],
             [
              0.1111111111111111,
              "#46039f"
             ],
             [
              0.2222222222222222,
              "#7201a8"
             ],
             [
              0.3333333333333333,
              "#9c179e"
             ],
             [
              0.4444444444444444,
              "#bd3786"
             ],
             [
              0.5555555555555556,
              "#d8576b"
             ],
             [
              0.6666666666666666,
              "#ed7953"
             ],
             [
              0.7777777777777778,
              "#fb9f3a"
             ],
             [
              0.8888888888888888,
              "#fdca26"
             ],
             [
              1,
              "#f0f921"
             ]
            ],
            "type": "histogram2dcontour"
           }
          ],
          "mesh3d": [
           {
            "colorbar": {
             "outlinewidth": 0,
             "ticks": ""
            },
            "type": "mesh3d"
           }
          ],
          "parcoords": [
           {
            "line": {
             "colorbar": {
              "outlinewidth": 0,
              "ticks": ""
             }
            },
            "type": "parcoords"
           }
          ],
          "pie": [
           {
            "automargin": true,
            "type": "pie"
           }
          ],
          "scatter": [
           {
            "fillpattern": {
             "fillmode": "overlay",
             "size": 10,
             "solidity": 0.2
            },
            "type": "scatter"
           }
          ],
          "scatter3d": [
           {
            "line": {
             "colorbar": {
              "outlinewidth": 0,
              "ticks": ""
             }
            },
            "marker": {
             "colorbar": {
              "outlinewidth": 0,
              "ticks": ""
             }
            },
            "type": "scatter3d"
           }
          ],
          "scattercarpet": [
           {
            "marker": {
             "colorbar": {
              "outlinewidth": 0,
              "ticks": ""
             }
            },
            "type": "scattercarpet"
           }
          ],
          "scattergeo": [
           {
            "marker": {
             "colorbar": {
              "outlinewidth": 0,
              "ticks": ""
             }
            },
            "type": "scattergeo"
           }
          ],
          "scattergl": [
           {
            "marker": {
             "colorbar": {
              "outlinewidth": 0,
              "ticks": ""
             }
            },
            "type": "scattergl"
           }
          ],
          "scattermapbox": [
           {
            "marker": {
             "colorbar": {
              "outlinewidth": 0,
              "ticks": ""
             }
            },
            "type": "scattermapbox"
           }
          ],
          "scatterpolar": [
           {
            "marker": {
             "colorbar": {
              "outlinewidth": 0,
              "ticks": ""
             }
            },
            "type": "scatterpolar"
           }
          ],
          "scatterpolargl": [
           {
            "marker": {
             "colorbar": {
              "outlinewidth": 0,
              "ticks": ""
             }
            },
            "type": "scatterpolargl"
           }
          ],
          "scatterternary": [
           {
            "marker": {
             "colorbar": {
              "outlinewidth": 0,
              "ticks": ""
             }
            },
            "type": "scatterternary"
           }
          ],
          "surface": [
           {
            "colorbar": {
             "outlinewidth": 0,
             "ticks": ""
            },
            "colorscale": [
             [
              0,
              "#0d0887"
             ],
             [
              0.1111111111111111,
              "#46039f"
             ],
             [
              0.2222222222222222,
              "#7201a8"
             ],
             [
              0.3333333333333333,
              "#9c179e"
             ],
             [
              0.4444444444444444,
              "#bd3786"
             ],
             [
              0.5555555555555556,
              "#d8576b"
             ],
             [
              0.6666666666666666,
              "#ed7953"
             ],
             [
              0.7777777777777778,
              "#fb9f3a"
             ],
             [
              0.8888888888888888,
              "#fdca26"
             ],
             [
              1,
              "#f0f921"
             ]
            ],
            "type": "surface"
           }
          ],
          "table": [
           {
            "cells": {
             "fill": {
              "color": "#EBF0F8"
             },
             "line": {
              "color": "white"
             }
            },
            "header": {
             "fill": {
              "color": "#C8D4E3"
             },
             "line": {
              "color": "white"
             }
            },
            "type": "table"
           }
          ]
         },
         "layout": {
          "annotationdefaults": {
           "arrowcolor": "#2a3f5f",
           "arrowhead": 0,
           "arrowwidth": 1
          },
          "autotypenumbers": "strict",
          "coloraxis": {
           "colorbar": {
            "outlinewidth": 0,
            "ticks": ""
           }
          },
          "colorscale": {
           "diverging": [
            [
             0,
             "#8e0152"
            ],
            [
             0.1,
             "#c51b7d"
            ],
            [
             0.2,
             "#de77ae"
            ],
            [
             0.3,
             "#f1b6da"
            ],
            [
             0.4,
             "#fde0ef"
            ],
            [
             0.5,
             "#f7f7f7"
            ],
            [
             0.6,
             "#e6f5d0"
            ],
            [
             0.7,
             "#b8e186"
            ],
            [
             0.8,
             "#7fbc41"
            ],
            [
             0.9,
             "#4d9221"
            ],
            [
             1,
             "#276419"
            ]
           ],
           "sequential": [
            [
             0,
             "#0d0887"
            ],
            [
             0.1111111111111111,
             "#46039f"
            ],
            [
             0.2222222222222222,
             "#7201a8"
            ],
            [
             0.3333333333333333,
             "#9c179e"
            ],
            [
             0.4444444444444444,
             "#bd3786"
            ],
            [
             0.5555555555555556,
             "#d8576b"
            ],
            [
             0.6666666666666666,
             "#ed7953"
            ],
            [
             0.7777777777777778,
             "#fb9f3a"
            ],
            [
             0.8888888888888888,
             "#fdca26"
            ],
            [
             1,
             "#f0f921"
            ]
           ],
           "sequentialminus": [
            [
             0,
             "#0d0887"
            ],
            [
             0.1111111111111111,
             "#46039f"
            ],
            [
             0.2222222222222222,
             "#7201a8"
            ],
            [
             0.3333333333333333,
             "#9c179e"
            ],
            [
             0.4444444444444444,
             "#bd3786"
            ],
            [
             0.5555555555555556,
             "#d8576b"
            ],
            [
             0.6666666666666666,
             "#ed7953"
            ],
            [
             0.7777777777777778,
             "#fb9f3a"
            ],
            [
             0.8888888888888888,
             "#fdca26"
            ],
            [
             1,
             "#f0f921"
            ]
           ]
          },
          "colorway": [
           "#636efa",
           "#EF553B",
           "#00cc96",
           "#ab63fa",
           "#FFA15A",
           "#19d3f3",
           "#FF6692",
           "#B6E880",
           "#FF97FF",
           "#FECB52"
          ],
          "font": {
           "color": "#2a3f5f"
          },
          "geo": {
           "bgcolor": "white",
           "lakecolor": "white",
           "landcolor": "#E5ECF6",
           "showlakes": true,
           "showland": true,
           "subunitcolor": "white"
          },
          "hoverlabel": {
           "align": "left"
          },
          "hovermode": "closest",
          "mapbox": {
           "style": "light"
          },
          "paper_bgcolor": "white",
          "plot_bgcolor": "#E5ECF6",
          "polar": {
           "angularaxis": {
            "gridcolor": "white",
            "linecolor": "white",
            "ticks": ""
           },
           "bgcolor": "#E5ECF6",
           "radialaxis": {
            "gridcolor": "white",
            "linecolor": "white",
            "ticks": ""
           }
          },
          "scene": {
           "xaxis": {
            "backgroundcolor": "#E5ECF6",
            "gridcolor": "white",
            "gridwidth": 2,
            "linecolor": "white",
            "showbackground": true,
            "ticks": "",
            "zerolinecolor": "white"
           },
           "yaxis": {
            "backgroundcolor": "#E5ECF6",
            "gridcolor": "white",
            "gridwidth": 2,
            "linecolor": "white",
            "showbackground": true,
            "ticks": "",
            "zerolinecolor": "white"
           },
           "zaxis": {
            "backgroundcolor": "#E5ECF6",
            "gridcolor": "white",
            "gridwidth": 2,
            "linecolor": "white",
            "showbackground": true,
            "ticks": "",
            "zerolinecolor": "white"
           }
          },
          "shapedefaults": {
           "line": {
            "color": "#2a3f5f"
           }
          },
          "ternary": {
           "aaxis": {
            "gridcolor": "white",
            "linecolor": "white",
            "ticks": ""
           },
           "baxis": {
            "gridcolor": "white",
            "linecolor": "white",
            "ticks": ""
           },
           "bgcolor": "#E5ECF6",
           "caxis": {
            "gridcolor": "white",
            "linecolor": "white",
            "ticks": ""
           }
          },
          "title": {
           "x": 0.05
          },
          "xaxis": {
           "automargin": true,
           "gridcolor": "white",
           "linecolor": "white",
           "ticks": "",
           "title": {
            "standoff": 15
           },
           "zerolinecolor": "white",
           "zerolinewidth": 2
          },
          "yaxis": {
           "automargin": true,
           "gridcolor": "white",
           "linecolor": "white",
           "ticks": "",
           "title": {
            "standoff": 15
           },
           "zerolinecolor": "white",
           "zerolinewidth": 2
          }
         }
        },
        "title": {
         "text": "Plagiarism Data"
        },
        "width": 500
       }
      }
     },
     "metadata": {},
     "output_type": "display_data"
    }
   ],
   "source": [
    "# Constructing the pie chart\n",
    "fig = px.pie(df,values='No. of Words', names='Source',\n",
    "             title = \"Plagiarism Data\",\n",
    "             color_discrete_sequence=px.colors.sequential.Blues_r,\n",
    "             hole=0.5)\n",
    "fig.update_layout({\"height\":height*28, \"width\":500, \"font\":{\"family\":\"sans-serif\"}})\n",
    "fig.show()\n"
   ]
  }
 ],
 "metadata": {
  "kernelspec": {
   "display_name": "Python 3.9.5 ('base')",
   "language": "python",
   "name": "python3"
  },
  "language_info": {
   "codemirror_mode": {
    "name": "ipython",
    "version": 3
   },
   "file_extension": ".py",
   "mimetype": "text/x-python",
   "name": "python",
   "nbconvert_exporter": "python",
   "pygments_lexer": "ipython3",
   "version": "3.9.5"
  },
  "vscode": {
   "interpreter": {
    "hash": "4ded07237dbfafc8373e566cfe932557d647581b6f69415d805b7b9e9b0c4bcc"
   }
  }
 },
 "nbformat": 4,
 "nbformat_minor": 5
}
