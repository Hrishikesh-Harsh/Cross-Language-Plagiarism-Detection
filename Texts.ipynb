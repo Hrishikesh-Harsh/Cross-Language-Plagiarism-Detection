{
 "cells": [
  {
   "cell_type": "code",
   "execution_count": null,
   "id": "d657c57f",
   "metadata": {},
   "outputs": [],
   "source": [
    "%pip install tk"
   ]
  },
  {
   "cell_type": "code",
   "execution_count": 40,
   "id": "bbd4c268",
   "metadata": {},
   "outputs": [],
   "source": [
    "from deep_translator import GoogleTranslator\n"
   ]
  },
  {
   "cell_type": "code",
   "execution_count": 42,
   "id": "c9b7ba29",
   "metadata": {},
   "outputs": [],
   "source": [
    "translated = GoogleTranslator(source='english', target='hindi').translate_file('Plag.txt')"
   ]
  },
  {
   "cell_type": "code",
   "execution_count": null,
   "id": "82b8712d",
   "metadata": {},
   "outputs": [],
   "source": [
    "print(translated)"
   ]
  },
  {
   "cell_type": "code",
   "execution_count": 1,
   "id": "e07ff0bd",
   "metadata": {},
   "outputs": [],
   "source": [
    "\n",
    "A=\"\"\"Do you know what the Mexicans say about Pacific?\n",
    "    They say it has no memory.\n",
    "    That is the place I want to live the rest of my life;\n",
    "    a warm place with no memory.\n",
    "    Open up a little Hotel, take my guests out for fishing.\n",
    "    Charter fishing! They call it.\"\"\"\n",
    "\n",
    "B=\"That is the place I want\""
   ]
  },
  {
   "cell_type": "code",
   "execution_count": 1,
   "id": "e677f523",
   "metadata": {},
   "outputs": [],
   "source": [
    "import numpy as np\n",
    "import re\n",
    "import nltk\n",
    "from numpy.linalg import norm"
   ]
  },
  {
   "cell_type": "code",
   "execution_count": 2,
   "id": "3b812617",
   "metadata": {},
   "outputs": [],
   "source": [
    "def preProcess(text):\n",
    "    text = text.lower()\n",
    "    text = re.sub(r'[^\\w\\s]', '', text)\n",
    "    text = text.replace('\\n', ' ')\n",
    "    text = re.sub(r'\\[.*?\\]|\\{.*\\}', '', text)\n",
    "\n",
    "    return text\n"
   ]
  },
  {
   "cell_type": "code",
   "execution_count": 3,
   "id": "6ba0d51d",
   "metadata": {},
   "outputs": [
    {
     "name": "stdout",
     "output_type": "stream",
     "text": [
      "^C\n"
     ]
    }
   ],
   "source": [
    "# Downloading the vocabulary of entire English language\n",
    "!python -m spacy download en_core_web_md"
   ]
  },
  {
   "cell_type": "code",
   "execution_count": null,
   "id": "cb3c7e37",
   "metadata": {},
   "outputs": [],
   "source": [
    "# Downloading the vocabulary of entire English language\n",
    "!python -m spacy download en_core_web_lg"
   ]
  },
  {
   "cell_type": "code",
   "execution_count": null,
   "id": "ad80c265",
   "metadata": {},
   "outputs": [],
   "source": [
    "import spacy"
   ]
  },
  {
   "cell_type": "code",
   "execution_count": null,
   "id": "a0e119d9",
   "metadata": {},
   "outputs": [],
   "source": [
    "# Load the language library\n",
    "nlp = spacy.load('en_core_web_lg')"
   ]
  },
  {
   "cell_type": "code",
   "execution_count": null,
   "id": "1ac313ba",
   "metadata": {},
   "outputs": [
    {
     "data": {
      "text/plain": [
       "Do you know what the Mexicans say about Pacific?\n",
       "    They say it has no memory.\n",
       "    That is the place I want to live the rest of my life;\n",
       "    a warm place with no memory.\n",
       "    Open up a little Hotel, take my guests out for fishing.\n",
       "    Charter fishing! They call it."
      ]
     },
     "execution_count": 8,
     "metadata": {},
     "output_type": "execute_result"
    }
   ],
   "source": [
    "# The vector representation of the paragraph A\n",
    "vecA = nlp(A)\n",
    "vecA"
   ]
  },
  {
   "cell_type": "code",
   "execution_count": null,
   "id": "567d4ed2",
   "metadata": {},
   "outputs": [],
   "source": [
    "# The vector representation of the paragraph B\n",
    "vecB = nlp(B)"
   ]
  },
  {
   "cell_type": "code",
   "execution_count": null,
   "id": "4d587377",
   "metadata": {},
   "outputs": [],
   "source": [
    "# Vector for the test Text 'B'\n",
    "X=vecB.vector"
   ]
  },
  {
   "cell_type": "code",
   "execution_count": null,
   "id": "08031561",
   "metadata": {},
   "outputs": [],
   "source": [
    "# Finding the index in vecA where cosine similarity is maximum with vecB\n",
    "n = len(vecB) # Number of tokens in B\n",
    "ID=0\n",
    "for i in range(len(vecA)-n):\n",
    "    Y=vecA[i:i+n].vector\n",
    "\n",
    "    # Computing the Cosine Similartity between the corresponding 3 words\n",
    "    cosSim = np.dot(X,Y)/(norm(X)*norm(Y))\n",
    "\n",
    "    if(cosSim>0.98):\n",
    "        ID=i\n",
    "        break\n"
   ]
  },
  {
   "cell_type": "code",
   "execution_count": null,
   "id": "607cc752",
   "metadata": {},
   "outputs": [
    {
     "data": {
      "text/plain": [
       "\n",
       "    That is the place I"
      ]
     },
     "execution_count": 12,
     "metadata": {},
     "output_type": "execute_result"
    }
   ],
   "source": [
    "# The corresponding text in A\n",
    "vecA[ID:ID+n]"
   ]
  },
  {
   "cell_type": "code",
   "execution_count": 39,
   "id": "488607eb",
   "metadata": {},
   "outputs": [],
   "source": [
    "import re\n",
    "import nltk\n",
    "from nltk.util import ngrams, pad_sequence, everygrams\n",
    "from nltk.lm import MLE, WittenBellInterpolated\n",
    "from scipy.ndimage import gaussian_filter\n",
    "import numpy as np\n",
    "import plotly.graph_objects as go\n",
    "import spacy"
   ]
  },
  {
   "cell_type": "code",
   "execution_count": 353,
   "id": "1b2a8e43",
   "metadata": {},
   "outputs": [],
   "source": [
    "P1 = \"\"\"Summer is hot for many reasons these include some natural factors and some manmade factors. \n",
    "These factors also cause many changes in climate conditions. Although the season is quite dry the kids love it.\n",
    "Moreover, too much hotness is very bad for certain things and results in many problems.\n",
    "One problem that it causes in human which is very common is dehydration. It not only causes weakness and dizziness but also can lead to death.\n",
    "So, to keep the body hydrated we need to drink plenty of water.\n",
    "Small ponds, rivers, and wells dry up in this season. The groundwater level declines and in some areas conditions like drought occurs.\"\"\"\n",
    "\n",
    "P2 = \"\"\"The foundations of our learning are laid by our schools. \n",
    "School is the place that instills in us a sense of responsibility and hardworking spirit. \n",
    "We become better versions of ourselves through the rigorous tests that we are put through at schools. \n",
    "Each exam, each activity, and each lesson is aimed towards making us learn and grow. \n",
    "Right from the beginning, we are taught to be morally responsible for all our actions.\n",
    "The various subjects introduce us to the world’s diversity and allow us to explore our surroundings with a unique perspective. \n",
    "We never know what problems await us when we grow up; schools are the training grounds that prepare us to face the unknown. \n",
    "We can overcome any hardship with the right motivation, and schools do that for us. \n",
    "We are not only taught to be responsible citizens but also hardworking individuals who strive hard to face the challenges that life throws at us.\"\"\"\n",
    "\n",
    "# Remove new lines, tabs and punctuation and lowercase the text\n",
    "#P1 = P1.lower()\n",
    "P1 = P1.replace('\\n', ' ')\n",
    "P1 = P1.replace('\\t', '')\n",
    "P1 = re.sub(r'[^\\w\\s]', '', P1)\n",
    "\n",
    "#P2 = P2.lower()\n",
    "P2 = P2.replace('\\n', ' ')\n",
    "P2 = P2.replace('\\t', '')\n",
    "P2 = re.sub(r'[^\\w\\s]', '', P2)"
   ]
  },
  {
   "cell_type": "code",
   "execution_count": 377,
   "id": "721ec9b6",
   "metadata": {},
   "outputs": [],
   "source": [
    "# PC copied from P1 and P2\n",
    "PC = \"\"\"On that weekend at Silverstone, Lewis Hamilton was under pressure for a win as he was lagging by a lot of points.\n",
    "Sunday's race begins and Max takes the lead. They go through the Wellington Straight and Lewis almost catches up\n",
    "with Max but he manages to stay ahead. However Hamilton gets a lovely slipstream out of Brooklands and Luffield.\n",
    "Moreover, too much hotness is very bad for certain things and results in many problems.\n",
    "One problem that it causes in human which is very common is dehydration. It not only causes weakness and dizziness but also can lead to death.\n",
    "They get side by side and Max thinks he has the Woodcotes corner but Hamilton turns up on the inside and his front\n",
    "left wheel touched Max's right rear and sends him barrelling out into the barriers for a massive 51G crash.\n",
    "We become better versions of ourselves through the rigorous tests that we are put through at schools. \n",
    "Each exam, each activity, and each lesson is aimed towards making us learn and grow. \n",
    "Right from the beginning, we are taught to be morally responsible for all our actions.\n",
    "Charles Leclerc manages to surge ahead in front of a slowing Hamilton and takes the lead of the race.\n",
    "However, he is plagued by engine problems throughout the race and in no way could he keep the charging Lewis behind him.\n",
    "Lewis soon catches him and overtakes him on the inside at the same Woodcotes corner ironically where he sent Max to his doom.\n",
    "Eventually, Lewis wins the British Grand Prix in front of his ecstatic fans.\n",
    "So, to keep the body hydrated we need to drink plenty of water.\n",
    "Small ponds, rivers, and wells dry up in this season. The groundwater level declines and in some areas conditions like drought occurs.\"\"\"\n",
    "\n",
    "# PC = \"\"\"These factors also cause many changes in climate conditions. Although the season is quite dry the kids love it.\n",
    "# Moreover, too much hotness is very bad for certain things and results in many problems.\n",
    "# One problem that it causes in human which is very common is dehydration. It not only causes weakness and dizziness but also can lead to death.\n",
    "# Each exam, each activity, and each lesson is aimed towards making us learn and grow. \n",
    "# Right from the beginning, we are taught to be morally responsible for all our actions.\n",
    "# The various subjects introduce us to the world’s diversity and allow us to explore our surroundings with a unique perspective. \n",
    "# We never know what problems await us when we grow up; schools are the training grounds that prepare us to face the unknown.\"\"\"\n",
    "\n",
    "#PC = PC.lower()\n",
    "PC = PC.replace('\\n', ' ')\n",
    "PC = PC.replace('\\t', '')\n",
    "PC = re.sub(r'[^\\w\\s]', '', PC)\n"
   ]
  },
  {
   "cell_type": "code",
   "execution_count": 408,
   "id": "b46848d6",
   "metadata": {},
   "outputs": [],
   "source": [
    "reference = {0:'P1',1:'P2'}"
   ]
  },
  {
   "cell_type": "code",
   "execution_count": 378,
   "id": "5415b787",
   "metadata": {},
   "outputs": [],
   "source": [
    "# Load the language library\n",
    "nlp = spacy.load('en_core_web_lg')"
   ]
  },
  {
   "cell_type": "code",
   "execution_count": 379,
   "id": "d38aff71",
   "metadata": {},
   "outputs": [],
   "source": [
    "vP1 = nlp(P1)\n",
    "vP2 = nlp(P2)\n",
    "\n",
    "vP = nlp(P1+' '+P2)"
   ]
  },
  {
   "cell_type": "code",
   "execution_count": 380,
   "id": "6a9abccd",
   "metadata": {},
   "outputs": [],
   "source": [
    "n=5"
   ]
  },
  {
   "cell_type": "code",
   "execution_count": 381,
   "id": "03c6fcf8",
   "metadata": {},
   "outputs": [],
   "source": [
    "words = [w.text for w in vP]\n",
    "training_data = list(pad_sequence(words, n, \n",
    "                                  pad_left=True, \n",
    "                                  left_pad_symbol=\"<s>\"))"
   ]
  },
  {
   "cell_type": "code",
   "execution_count": 382,
   "id": "50356c98",
   "metadata": {},
   "outputs": [],
   "source": [
    "# Generate n-grams from the training data\n",
    "ngrams = list(everygrams(training_data, max_len=n))\n",
    "# Build n-gram language model\n",
    "model = WittenBellInterpolated(n)\n",
    "model.fit([ngrams],vocabulary_text=training_data)"
   ]
  },
  {
   "cell_type": "code",
   "execution_count": 383,
   "id": "65bedcec",
   "metadata": {},
   "outputs": [],
   "source": [
    "vPC = nlp(PC)\n",
    "wordsPlag = [w.text for w in vPC]"
   ]
  },
  {
   "cell_type": "code",
   "execution_count": 384,
   "id": "35677eea",
   "metadata": {},
   "outputs": [],
   "source": [
    "test_data = list(pad_sequence(wordsPlag, n, \n",
    "                                  pad_left=True, \n",
    "                                  left_pad_symbol=\"<s>\"))"
   ]
  },
  {
   "cell_type": "code",
   "execution_count": 417,
   "id": "3e78008e",
   "metadata": {},
   "outputs": [],
   "source": [
    "score=[]\n",
    "#source = []\n",
    "# Generate score\n",
    "for i,ele in enumerate(test_data[n-1:]):\n",
    "    s = model.score(ele,test_data[i:i+n-1])\n",
    "    score.append(s)\n",
    "\n",
    "# Convert to numpy array\n",
    "score_np=np.array(score)\n",
    "#source_np=np.array(source)"
   ]
  },
  {
   "cell_type": "code",
   "execution_count": 418,
   "id": "b534f740",
   "metadata": {},
   "outputs": [],
   "source": [
    "# Set height and width of the graph\n",
    "width=12\n",
    "height=np.ceil(len(score_np)/width).astype(\"int32\")"
   ]
  },
  {
   "cell_type": "code",
   "execution_count": 419,
   "id": "930b4a6c",
   "metadata": {},
   "outputs": [],
   "source": [
    "# Copy the score_np to a new array with shape (height,width)\n",
    "a=np.zeros(width*height)\n",
    "sourceLabel = ['NA']*(width*height) # source label to be used to identify original source of plagiarised portions\n",
    "a[:len(score_np)] = score_np\n",
    "sourceLabel = np.array(sourceLabel)\n",
    "diff = len(a) - len(score_np)"
   ]
  },
  {
   "cell_type": "code",
   "execution_count": 420,
   "id": "03fcb2db",
   "metadata": {},
   "outputs": [],
   "source": [
    "# Apply gaussian filter to the array\n",
    "a = gaussian_filter(a, sigma=1.0)\n",
    "# a=a*1.093 # To make the probabilties better (which have been lowered because of the gaussian filter)\n",
    "# Reshape to fit rectangular shape\n",
    "a = a.reshape(-1,width)"
   ]
  },
  {
   "cell_type": "code",
   "execution_count": 421,
   "id": "98ada2dd",
   "metadata": {},
   "outputs": [],
   "source": [
    "# format labels\n",
    "labels = [\" \".join(vPC[i:i+width].text.split()) for i in range(0, len(vPC), width)]\n",
    "labels_individual = [x.split() for x in labels]\n",
    "labels_individual[-1] += [\"\"]*diff\n",
    "labels = [f\"{x:60.60}\" for x in labels]"
   ]
  },
  {
   "cell_type": "code",
   "execution_count": 422,
   "id": "423da99d",
   "metadata": {},
   "outputs": [
    {
     "data": {
      "text/plain": [
       "36.170554774500744"
      ]
     },
     "execution_count": 422,
     "metadata": {},
     "output_type": "execute_result"
    }
   ],
   "source": [
    "a = a.reshape(-1)\n",
    "\n",
    "plagScore=np.sum(a[0:a.shape[0]-diff])/(a.shape[0]-diff) # Avg. Score (excluding the padding and blank text)\n",
    "plagPercentage=plagScore*100\n",
    "plagPercentage"
   ]
  },
  {
   "cell_type": "code",
   "execution_count": 423,
   "id": "f41916af",
   "metadata": {},
   "outputs": [],
   "source": [
    "# The entire corpus of Original Documents\n",
    "corpus = []\n",
    "corpus.append(vP1)\n",
    "corpus.append(vP2)\n"
   ]
  },
  {
   "cell_type": "code",
   "execution_count": 424,
   "id": "67480789",
   "metadata": {},
   "outputs": [],
   "source": [
    "# Dict to store which plagiarised portion belongs to which Document\n",
    "plag_dict = {}"
   ]
  },
  {
   "cell_type": "code",
   "execution_count": 425,
   "id": "11c72c86",
   "metadata": {},
   "outputs": [],
   "source": [
    "def check_plagiarised(j,vecO,vecP,id,fin,plag_dict):\n",
    "    for k in range(len(vecO)-3):\n",
    "        # X is Vector of the plagiarized text present between indexes id and fin\n",
    "        X=vecP[id:fin+1]\n",
    "        # Y is Vector of the original text present between indexes j and j+l\n",
    "        Y=vecO[k:k+fin-id+1]\n",
    "        \n",
    "        #Computing cosine similarity\n",
    "        sim = X.similarity(Y)\n",
    "\n",
    "        # If the cosine similarity is greater than 0.997, then we get a match from original text\n",
    "        if(sim>0.997):\n",
    "            if(j in plag_dict):\n",
    "                a=[id,fin]\n",
    "                b=[k,k+fin-id+1]\n",
    "                plag_dict[j].append([a,b])\n",
    "            else:\n",
    "                a=[id,fin]\n",
    "                b=[k,k+fin-id+1]\n",
    "                plag_dict[j] = [[a,b]]\n",
    "            break\n",
    "    \n",
    "    return plag_dict"
   ]
  },
  {
   "cell_type": "code",
   "execution_count": 426,
   "id": "ad6fd768",
   "metadata": {},
   "outputs": [],
   "source": [
    "plID=[] \n",
    "# The index of the tokens which are plagiarized (index wrt to plagiarized text)\n",
    "for i in range(len(a)-2):\n",
    "    if(a[i-1]>0.58 or a[i]>0.62 or a[i+1]>0.58):\n",
    "        #pl.append(testing_data[i+n-1])\n",
    "        plID.append(i)"
   ]
  },
  {
   "cell_type": "code",
   "execution_count": 427,
   "id": "09075444",
   "metadata": {},
   "outputs": [],
   "source": [
    "# To note the fact that plagiarism can be scattered\n",
    "# Anytime the indexes difference > 4, then it means those two plagiarised words came from different parts of original doc (Flaw exists but we'll improve)\n",
    "jumpStates=[]\n",
    "jumpStates.append(plID[0])\n",
    "for i in range(len(plID)):\n",
    "    if(plID[i]-plID[i-1]>4):\n",
    "        jumpStates.append(plID[i-1])\n",
    "        jumpStates.append(plID[i])\n",
    "\n",
    "jumpStates.append(plID[-1])"
   ]
  },
  {
   "cell_type": "code",
   "execution_count": 428,
   "id": "6fff2260",
   "metadata": {},
   "outputs": [],
   "source": [
    "# Fill plag_dict with the plagiarised portions\n",
    "for i in range(0,len(jumpStates),2):\n",
    "    id=jumpStates[i]\n",
    "    fin=jumpStates[i+1]\n",
    "\n",
    "    # Checking which document the plagiarised portion belongs to\n",
    "    for j,vec in enumerate(corpus):\n",
    "        plag_dict=check_plagiarised(j,corpus[j],vPC,id,fin,plag_dict)\n",
    "        "
   ]
  },
  {
   "cell_type": "code",
   "execution_count": 429,
   "id": "8e41e5ba",
   "metadata": {},
   "outputs": [],
   "source": [
    "# Iterate over plag_dict\n",
    "for i in plag_dict:\n",
    "    v = plag_dict[i]\n",
    "    for j in v:\n",
    "        # Extracting the plagiarised portions\n",
    "        st = j[0][0]\n",
    "        en = j[0][1]\n",
    "\n",
    "        # Labelling those portions\n",
    "        sourceLabel[st:en+1] = reference[i]*(en-st+1)\n"
   ]
  },
  {
   "cell_type": "code",
   "execution_count": 430,
   "id": "99194df5",
   "metadata": {},
   "outputs": [],
   "source": [
    "sourceLabel = sourceLabel.reshape(-1,width)"
   ]
  },
  {
   "cell_type": "code",
   "execution_count": 431,
   "id": "bac62d65",
   "metadata": {},
   "outputs": [],
   "source": [
    "# create heatmap of the Plagiarized Text\n",
    "a=a.reshape(-1,width)\n",
    "fig = go.Figure(data=go.Heatmap(\n",
    "                z=a, x0=0, dx=1,\n",
    "                #y=labels, \n",
    "                zmin=0, zmax=1,\n",
    "                customdata=sourceLabel,\n",
    "                hovertemplate='%{customdata} <br><b>Score:%{z:.3f}<extra></extra>',\n",
    "                text=labels_individual,\n",
    "                texttemplate='%{text}',\n",
    "                textfont={\"size\":8},\n",
    "                colorscale='reds'\n",
    "                ))\n",
    "fig.update_layout({\"height\":height*25, \"width\":1000, \"font\":{\"family\":\"sans-serif\"}})\n",
    "fig['layout']['yaxis']['autorange'] = \"reversed\""
   ]
  },
  {
   "cell_type": "code",
   "execution_count": 432,
   "id": "fe45cd6e",
   "metadata": {},
   "outputs": [
    {
     "data": {
      "application/vnd.plotly.v1+json": {
       "config": {
        "plotlyServerURL": "https://plot.ly"
       },
       "data": [
        {
         "colorscale": [
          [
           0,
           "rgb(255,245,240)"
          ],
          [
           0.125,
           "rgb(254,224,210)"
          ],
          [
           0.25,
           "rgb(252,187,161)"
          ],
          [
           0.375,
           "rgb(252,146,114)"
          ],
          [
           0.5,
           "rgb(251,106,74)"
          ],
          [
           0.625,
           "rgb(239,59,44)"
          ],
          [
           0.75,
           "rgb(203,24,29)"
          ],
          [
           0.875,
           "rgb(165,15,21)"
          ],
          [
           1,
           "rgb(103,0,13)"
          ]
         ],
         "customdata": [
          [
           "NA",
           "NA",
           "NA",
           "NA",
           "NA",
           "NA",
           "NA",
           "NA",
           "NA",
           "NA",
           "NA",
           "NA"
          ],
          [
           "NA",
           "NA",
           "NA",
           "NA",
           "NA",
           "NA",
           "NA",
           "NA",
           "NA",
           "NA",
           "NA",
           "NA"
          ],
          [
           "NA",
           "NA",
           "NA",
           "NA",
           "NA",
           "NA",
           "NA",
           "NA",
           "NA",
           "NA",
           "NA",
           "NA"
          ],
          [
           "NA",
           "NA",
           "NA",
           "NA",
           "NA",
           "NA",
           "NA",
           "NA",
           "NA",
           "NA",
           "NA",
           "NA"
          ],
          [
           "NA",
           "NA",
           "NA",
           "NA",
           "NA",
           "NA",
           "NA",
           "NA",
           "NA",
           "NA",
           "NA",
           "NA"
          ],
          [
           "NA",
           "P1",
           "P1",
           "P1",
           "P1",
           "P1",
           "P1",
           "P1",
           "P1",
           "P1",
           "P1",
           "P1"
          ],
          [
           "P1",
           "P1",
           "P1",
           "P1",
           "P1",
           "P1",
           "P1",
           "P1",
           "P1",
           "P1",
           "P1",
           "P1"
          ],
          [
           "P1",
           "P1",
           "P1",
           "P1",
           "P1",
           "P1",
           "P1",
           "P1",
           "P1",
           "P1",
           "P1",
           "P1"
          ],
          [
           "P1",
           "P1",
           "P1",
           "P1",
           "P1",
           "P1",
           "NA",
           "NA",
           "NA",
           "NA",
           "NA",
           "NA"
          ],
          [
           "NA",
           "NA",
           "NA",
           "NA",
           "NA",
           "NA",
           "NA",
           "NA",
           "NA",
           "NA",
           "NA",
           "NA"
          ],
          [
           "NA",
           "NA",
           "NA",
           "NA",
           "NA",
           "NA",
           "NA",
           "NA",
           "NA",
           "NA",
           "NA",
           "NA"
          ],
          [
           "NA",
           "NA",
           "NA",
           "NA",
           "NA",
           "NA",
           "NA",
           "NA",
           "NA",
           "NA",
           "NA",
           "NA"
          ],
          [
           "NA",
           "P2",
           "P2",
           "P2",
           "P2",
           "P2",
           "P2",
           "P2",
           "P2",
           "P2",
           "P2",
           "P2"
          ],
          [
           "P2",
           "P2",
           "P2",
           "P2",
           "P2",
           "P2",
           "P2",
           "P2",
           "P2",
           "P2",
           "P2",
           "P2"
          ],
          [
           "P2",
           "P2",
           "P2",
           "P2",
           "P2",
           "P2",
           "P2",
           "P2",
           "P2",
           "P2",
           "P2",
           "P2"
          ],
          [
           "P2",
           "P2",
           "P2",
           "P2",
           "P2",
           "P2",
           "P2",
           "P2",
           "P2",
           "P2",
           "P2",
           "P2"
          ],
          [
           "P2",
           "P2",
           "NA",
           "NA",
           "NA",
           "NA",
           "NA",
           "NA",
           "NA",
           "NA",
           "NA",
           "NA"
          ],
          [
           "NA",
           "NA",
           "NA",
           "NA",
           "NA",
           "NA",
           "NA",
           "NA",
           "NA",
           "NA",
           "NA",
           "NA"
          ],
          [
           "NA",
           "NA",
           "NA",
           "NA",
           "NA",
           "NA",
           "NA",
           "NA",
           "NA",
           "NA",
           "NA",
           "NA"
          ],
          [
           "NA",
           "NA",
           "NA",
           "NA",
           "NA",
           "NA",
           "NA",
           "NA",
           "NA",
           "NA",
           "NA",
           "NA"
          ],
          [
           "NA",
           "NA",
           "NA",
           "NA",
           "NA",
           "NA",
           "NA",
           "NA",
           "NA",
           "NA",
           "NA",
           "NA"
          ],
          [
           "NA",
           "NA",
           "NA",
           "NA",
           "NA",
           "NA",
           "NA",
           "NA",
           "NA",
           "NA",
           "NA",
           "NA"
          ],
          [
           "NA",
           "NA",
           "NA",
           "NA",
           "NA",
           "NA",
           "NA",
           "P1",
           "P1",
           "P1",
           "P1",
           "P1"
          ],
          [
           "P1",
           "P1",
           "P1",
           "P1",
           "P1",
           "P1",
           "P1",
           "P1",
           "P1",
           "P1",
           "P1",
           "P1"
          ],
          [
           "P1",
           "P1",
           "P1",
           "P1",
           "P1",
           "P1",
           "P1",
           "P1",
           "P1",
           "P1",
           "P1",
           "P1"
          ],
          [
           "P1",
           "P1",
           "P1",
           "P1",
           "P1",
           "P1",
           "NA",
           "NA",
           "NA",
           "NA",
           "NA",
           "NA"
          ]
         ],
         "dx": 1,
         "hovertemplate": "%{customdata} <br><b>Score:%{z:.3f}<extra></extra>",
         "text": [
          [
           "On",
           "that",
           "weekend",
           "at",
           "Silverstone",
           "Lewis",
           "Hamilton",
           "was",
           "under",
           "pressure",
           "for",
           "a"
          ],
          [
           "win",
           "as",
           "he",
           "was",
           "lagging",
           "by",
           "a",
           "lot",
           "of",
           "points",
           "Sundays",
           "race"
          ],
          [
           "begins",
           "and",
           "Max",
           "takes",
           "the",
           "lead",
           "They",
           "go",
           "through",
           "the",
           "Wellington",
           "Straight"
          ],
          [
           "and",
           "Lewis",
           "almost",
           "catches",
           "up",
           "with",
           "Max",
           "but",
           "he",
           "manages",
           "to",
           "stay"
          ],
          [
           "ahead",
           "However",
           "Hamilton",
           "gets",
           "a",
           "lovely",
           "slipstream",
           "out",
           "of",
           "Brooklands",
           "and",
           "Luffield"
          ],
          [
           "Moreover",
           "too",
           "much",
           "hotness",
           "is",
           "very",
           "bad",
           "for",
           "certain",
           "things",
           "and",
           "results"
          ],
          [
           "in",
           "many",
           "problems",
           "One",
           "problem",
           "that",
           "it",
           "causes",
           "in",
           "human",
           "which",
           "is"
          ],
          [
           "very",
           "common",
           "is",
           "dehydration",
           "It",
           "not",
           "only",
           "causes",
           "weakness",
           "and",
           "dizziness",
           "but"
          ],
          [
           "also",
           "can",
           "lead",
           "to",
           "death",
           "They",
           "get",
           "side",
           "by",
           "side",
           "and",
           "Max"
          ],
          [
           "thinks",
           "he",
           "has",
           "the",
           "Woodcotes",
           "corner",
           "but",
           "Hamilton",
           "turns",
           "up",
           "on",
           "the"
          ],
          [
           "inside",
           "and",
           "his",
           "front",
           "left",
           "wheel",
           "touched",
           "Maxs",
           "right",
           "rear",
           "and",
           "sends"
          ],
          [
           "him",
           "barrelling",
           "out",
           "into",
           "the",
           "barriers",
           "for",
           "a",
           "massive",
           "51G",
           "crash"
          ],
          [
           "We",
           "become",
           "better",
           "versions",
           "of",
           "ourselves",
           "through",
           "the",
           "rigorous",
           "tests",
           "that",
           "we"
          ],
          [
           "are",
           "put",
           "through",
           "at",
           "schools",
           "Each",
           "exam",
           "each",
           "activity",
           "and",
           "each"
          ],
          [
           "lesson",
           "is",
           "aimed",
           "towards",
           "making",
           "us",
           "learn",
           "and",
           "grow",
           "Right",
           "from"
          ],
          [
           "the",
           "beginning",
           "we",
           "are",
           "taught",
           "to",
           "be",
           "morally",
           "responsible",
           "for",
           "all",
           "our"
          ],
          [
           "actions",
           "Charles",
           "Leclerc",
           "manages",
           "to",
           "surge",
           "ahead",
           "in",
           "front",
           "of",
           "a",
           "slowing"
          ],
          [
           "Hamilton",
           "and",
           "takes",
           "the",
           "lead",
           "of",
           "the",
           "race",
           "However",
           "he",
           "is",
           "plagued"
          ],
          [
           "by",
           "engine",
           "problems",
           "throughout",
           "the",
           "race",
           "and",
           "in",
           "no",
           "way",
           "could",
           "he"
          ],
          [
           "keep",
           "the",
           "charging",
           "Lewis",
           "behind",
           "him",
           "Lewis",
           "soon",
           "catches",
           "him",
           "and",
           "overtakes"
          ],
          [
           "him",
           "on",
           "the",
           "inside",
           "at",
           "the",
           "same",
           "Woodcotes",
           "corner",
           "ironically",
           "where",
           "he"
          ],
          [
           "sent",
           "Max",
           "to",
           "his",
           "doom",
           "Eventually",
           "Lewis",
           "wins",
           "the",
           "British",
           "Grand",
           "Prix"
          ],
          [
           "in",
           "front",
           "of",
           "his",
           "ecstatic",
           "fans",
           "So",
           "to",
           "keep",
           "the",
           "body",
           "hydrated"
          ],
          [
           "we",
           "need",
           "to",
           "drink",
           "plenty",
           "of",
           "water",
           "Small",
           "ponds",
           "rivers",
           "and",
           "wells"
          ],
          [
           "dry",
           "up",
           "in",
           "this",
           "season",
           "The",
           "groundwater",
           "level",
           "declines",
           "and",
           "in",
           "some"
          ],
          [
           "areas",
           "conditions",
           "like",
           "drought",
           "occurs",
           "",
           "",
           "",
           "",
           "",
           "",
           ""
          ]
         ],
         "textfont": {
          "size": 8
         },
         "texttemplate": "%{text}",
         "type": "heatmap",
         "x0": 0,
         "z": [
          [
           0.006443706942069036,
           0.009127199424903188,
           0.00699124385920756,
           0.004049941166918491,
           0.0018430832528281193,
           0.0003927264931014342,
           0.00003393157306325451,
           0.00006544743088075555,
           0.0007956547700463859,
           0.003689086317859593,
           0.006634459650111884,
           0.0049344016317057786
          ],
          [
           0.001653198394727142,
           0.00025939496218571915,
           0.0000344147161124052,
           0.00021139646088574158,
           0.0010703895147139498,
           0.002377770258096836,
           0.0030934275259765923,
           0.0045626294429736754,
           0.005971829842834393,
           0.0035154865744303114,
           0.0009401334169954694,
           0.0020131361757659534
          ],
          [
           0.008742678396878081,
           0.014578527388785664,
           0.010887482992793398,
           0.011655569458989186,
           0.016440253296732557,
           0.0104020343161618,
           0.004166613846190595,
           0.016590345514590443,
           0.06819595261902536,
           0.10956445038698241,
           0.06763631441111681,
           0.02333723810290153
          ],
          [
           0.015600186542082214,
           0.008804028337980637,
           0.002354965309272506,
           0.002102961358062989,
           0.0037908318189711415,
           0.0035771430162841447,
           0.003014805297591133,
           0.0032513665846687504,
           0.003518276393389176,
           0.008252198903882417,
           0.012994061182111704,
           0.007862854412125038
          ],
          [
           0.0017551906427276862,
           0.00017599450476658452,
           0.0003941759222488862,
           0.001747086250228164,
           0.0028823908346955036,
           0.0018110842519614674,
           0.001174314334911097,
           0.0036861665056562385,
           0.007711504128177903,
           0.01231276013586242,
           0.01770128471396647,
           0.04021105127659287
          ],
          [
           0.16936142472895707,
           0.43447055937703144,
           0.6878039664385951,
           0.8374609475594328,
           0.895564692863668,
           0.8937628021412981,
           0.887306285839669,
           0.9016417309174358,
           0.913797039634415,
           0.9234509713525356,
           0.9222110243243895,
           0.9128662421296339
          ],
          [
           0.909798744824169,
           0.9026577168695069,
           0.9009478571008123,
           0.9122678318398945,
           0.9250295002123153,
           0.9219343199453196,
           0.9078021313439624,
           0.9027568258592136,
           0.9028044079486545,
           0.9076236137745006,
           0.9209386305023654,
           0.91982956234793
          ],
          [
           0.897786357447568,
           0.8874384542986989,
           0.9004640794740353,
           0.9117882396547723,
           0.9253415087014103,
           0.9348244227976297,
           0.921571304656323,
           0.8977778379726506,
           0.9012164829881852,
           0.9124980690871672,
           0.9144042772622211,
           0.9235088996598472
          ],
          [
           0.9163120733120258,
           0.8932857249901276,
           0.8944395975116258,
           0.85721573690896,
           0.6323762995598525,
           0.2685344697133294,
           0.05215963096114537,
           0.005072653917102607,
           0.0035075410754603024,
           0.009608974376254903,
           0.014597205129897768,
           0.008756745325114803
          ],
          [
           0.0021256158218483853,
           0.002304046995769174,
           0.009614772092844712,
           0.015874519444610605,
           0.009998802011061434,
           0.003892104527762381,
           0.003088451768132137,
           0.0021475430321160095,
           0.0023129083898012787,
           0.005061340685292974,
           0.011517021916914626,
           0.018181486252583135
          ],
          [
           0.018376404628262375,
           0.01654730959002872,
           0.008911425755907405,
           0.0019544527475733077,
           0.00016047814738240937,
           0.00002083093092483279,
           0.00019974524789477194,
           0.0010335381294473407,
           0.0033893673052821007,
           0.009608974376254903,
           0.014597205129897768,
           0.008751430751574146
          ],
          [
           0.0019549358906224583,
           0.0003359895090998432,
           0.002150815994124025,
           0.009673455521037357,
           0.01663817521379034,
           0.013298060694114497,
           0.008778511641547799,
           0.005110396136472363,
           0.0016604455404644024,
           0.00033988022047129,
           0.0014600635491869036,
           0.013786061759345986
          ],
          [
           0.0809916586659292,
           0.2873238847199898,
           0.5976037884181319,
           0.8173060126174749,
           0.8976564847503866,
           0.9131275670037782,
           0.91612561694427,
           0.9099269620888635,
           0.9076768739740291,
           0.9197735890052416,
           0.9206359515571512,
           0.9048555171351433
          ],
          [
           0.8875986309046098,
           0.8820126622499307,
           0.899674029042102,
           0.9099226962748764,
           0.9051376668704813,
           0.890544394173487,
           0.8835971379370038,
           0.9066476397409973,
           0.9237617010153809,
           0.9221264722094639,
           0.9157262859325315,
           0.9064572519700016
          ],
          [
           0.9091448661002464,
           0.9148835535354628,
           0.9150130955176399,
           0.9247065182100604,
           0.9324408211023876,
           0.9253670560487997,
           0.9146353876602086,
           0.9106164032126742,
           0.9030221336289992,
           0.8994045384912105,
           0.9062747616800471,
           0.9205442984686596
          ],
          [
           0.9217863880711937,
           0.9136287547782134,
           0.9120941655717674,
           0.8983847791700619,
           0.890201791337756,
           0.90358397912793,
           0.8796610322247727,
           0.8468262342197348,
           0.8744743938298616,
           0.9020905640973489,
           0.9040202502435557,
           0.8587216691141935
          ],
          [
           0.6347139371321333,
           0.2704393526618276,
           0.05413034756965767,
           0.011938500704777678,
           0.013177282280333083,
           0.00903330360264293,
           0.007059964252096332,
           0.00958102506144302,
           0.00893469335598644,
           0.007808773985022981,
           0.005190393638638992,
           0.0036105500005953538
          ],
          [
           0.009170579146568549,
           0.016573241412875313,
           0.018477001966783486,
           0.018706255067523467,
           0.013308196192159009,
           0.010270600435110817,
           0.009945179886912413,
           0.005319625649724583,
           0.0024691464329811906,
           0.006219764914713493,
           0.010280141309018047,
           0.007020344001779307
          ],
          [
           0.003199768061419493,
           0.0029086203831421124,
           0.005227637503173643,
           0.01154019609162784,
           0.018451560977933826,
           0.02166070245150739,
           0.031266511248201005,
           0.03317928661746065,
           0.01667413754879474,
           0.0035298649270893,
           0.0027732648925952374,
           0.02894927379156243
          ],
          [
           0.12723043914767723,
           0.20826653802503492,
           0.12598512383383106,
           0.028083589206503484,
           0.0023044112054480754,
           0.00006957259907769967,
           0.000004831430491506922,
           0.00015999500433325868,
           0.00194913817403265,
           0.00873543125114082,
           0.01440760588603516,
           0.008911425755907405
          ],
          [
           0.004094156451566866,
           0.009803625668225142,
           0.01632517676142528,
           0.012428086622201025,
           0.009828997442062268,
           0.009844340976866726,
           0.0051996293964746395,
           0.0011040249965846094,
           0.00008896353848159366,
           0.0000026572867703288076,
           0.000004348287442356229,
           0.0001439955038999328
          ],
          [
           0.0017542243566293849,
           0.007861888126026737,
           0.012962062181245052,
           0.007861888126026737,
           0.0017595389301700425,
           0.00031999000866651735,
           0.0021484002788782716,
           0.009608974376254903,
           0.01584541930203886,
           0.009704971378854859,
           0.003315467468052108,
           0.00548125125718438
          ],
          [
           0.009426344630650419,
           0.00873543125114082,
           0.006930882572466542,
           0.003675258459518158,
           0.0033365997141454116,
           0.031285909510106166,
           0.15910202305944385,
           0.38710452627477254,
           0.602134129283197,
           0.7757446450752687,
           0.8770240981142516,
           0.9167566902431639
          ],
          [
           0.923662580136595,
           0.9172897446044541,
           0.914421681095084,
           0.9137536748043007,
           0.9220185026972172,
           0.9237011215258745,
           0.918946966889892,
           0.9264139157040836,
           0.9350581745800419,
           0.9349691938934963,
           0.9247892487084908,
           0.9140155192757871
          ],
          [
           0.9149502719687514,
           0.9122714727371503,
           0.9052323010272765,
           0.9061842090407489,
           0.9137471438586826,
           0.9124617159084267,
           0.9134295199176096,
           0.9258330960168486,
           0.9326204111120117,
           0.922036761985009,
           0.9014746258349589,
           0.8936906250143696
          ],
          [
           0.9040097837247473,
           0.9170147041732497,
           0.9185460446642044,
           0.875074404637715,
           0.6542207752663534,
           0.28167459198426875,
           0.05490604850805217,
           0.004281366644573287,
           0.0001254964070168923,
           0,
           0,
           0
          ]
         ],
         "zmax": 1,
         "zmin": 0
        }
       ],
       "layout": {
        "font": {
         "family": "sans-serif"
        },
        "height": 650,
        "template": {
         "data": {
          "bar": [
           {
            "error_x": {
             "color": "#2a3f5f"
            },
            "error_y": {
             "color": "#2a3f5f"
            },
            "marker": {
             "line": {
              "color": "#E5ECF6",
              "width": 0.5
             },
             "pattern": {
              "fillmode": "overlay",
              "size": 10,
              "solidity": 0.2
             }
            },
            "type": "bar"
           }
          ],
          "barpolar": [
           {
            "marker": {
             "line": {
              "color": "#E5ECF6",
              "width": 0.5
             },
             "pattern": {
              "fillmode": "overlay",
              "size": 10,
              "solidity": 0.2
             }
            },
            "type": "barpolar"
           }
          ],
          "carpet": [
           {
            "aaxis": {
             "endlinecolor": "#2a3f5f",
             "gridcolor": "white",
             "linecolor": "white",
             "minorgridcolor": "white",
             "startlinecolor": "#2a3f5f"
            },
            "baxis": {
             "endlinecolor": "#2a3f5f",
             "gridcolor": "white",
             "linecolor": "white",
             "minorgridcolor": "white",
             "startlinecolor": "#2a3f5f"
            },
            "type": "carpet"
           }
          ],
          "choropleth": [
           {
            "colorbar": {
             "outlinewidth": 0,
             "ticks": ""
            },
            "type": "choropleth"
           }
          ],
          "contour": [
           {
            "colorbar": {
             "outlinewidth": 0,
             "ticks": ""
            },
            "colorscale": [
             [
              0,
              "#0d0887"
             ],
             [
              0.1111111111111111,
              "#46039f"
             ],
             [
              0.2222222222222222,
              "#7201a8"
             ],
             [
              0.3333333333333333,
              "#9c179e"
             ],
             [
              0.4444444444444444,
              "#bd3786"
             ],
             [
              0.5555555555555556,
              "#d8576b"
             ],
             [
              0.6666666666666666,
              "#ed7953"
             ],
             [
              0.7777777777777778,
              "#fb9f3a"
             ],
             [
              0.8888888888888888,
              "#fdca26"
             ],
             [
              1,
              "#f0f921"
             ]
            ],
            "type": "contour"
           }
          ],
          "contourcarpet": [
           {
            "colorbar": {
             "outlinewidth": 0,
             "ticks": ""
            },
            "type": "contourcarpet"
           }
          ],
          "heatmap": [
           {
            "colorbar": {
             "outlinewidth": 0,
             "ticks": ""
            },
            "colorscale": [
             [
              0,
              "#0d0887"
             ],
             [
              0.1111111111111111,
              "#46039f"
             ],
             [
              0.2222222222222222,
              "#7201a8"
             ],
             [
              0.3333333333333333,
              "#9c179e"
             ],
             [
              0.4444444444444444,
              "#bd3786"
             ],
             [
              0.5555555555555556,
              "#d8576b"
             ],
             [
              0.6666666666666666,
              "#ed7953"
             ],
             [
              0.7777777777777778,
              "#fb9f3a"
             ],
             [
              0.8888888888888888,
              "#fdca26"
             ],
             [
              1,
              "#f0f921"
             ]
            ],
            "type": "heatmap"
           }
          ],
          "heatmapgl": [
           {
            "colorbar": {
             "outlinewidth": 0,
             "ticks": ""
            },
            "colorscale": [
             [
              0,
              "#0d0887"
             ],
             [
              0.1111111111111111,
              "#46039f"
             ],
             [
              0.2222222222222222,
              "#7201a8"
             ],
             [
              0.3333333333333333,
              "#9c179e"
             ],
             [
              0.4444444444444444,
              "#bd3786"
             ],
             [
              0.5555555555555556,
              "#d8576b"
             ],
             [
              0.6666666666666666,
              "#ed7953"
             ],
             [
              0.7777777777777778,
              "#fb9f3a"
             ],
             [
              0.8888888888888888,
              "#fdca26"
             ],
             [
              1,
              "#f0f921"
             ]
            ],
            "type": "heatmapgl"
           }
          ],
          "histogram": [
           {
            "marker": {
             "pattern": {
              "fillmode": "overlay",
              "size": 10,
              "solidity": 0.2
             }
            },
            "type": "histogram"
           }
          ],
          "histogram2d": [
           {
            "colorbar": {
             "outlinewidth": 0,
             "ticks": ""
            },
            "colorscale": [
             [
              0,
              "#0d0887"
             ],
             [
              0.1111111111111111,
              "#46039f"
             ],
             [
              0.2222222222222222,
              "#7201a8"
             ],
             [
              0.3333333333333333,
              "#9c179e"
             ],
             [
              0.4444444444444444,
              "#bd3786"
             ],
             [
              0.5555555555555556,
              "#d8576b"
             ],
             [
              0.6666666666666666,
              "#ed7953"
             ],
             [
              0.7777777777777778,
              "#fb9f3a"
             ],
             [
              0.8888888888888888,
              "#fdca26"
             ],
             [
              1,
              "#f0f921"
             ]
            ],
            "type": "histogram2d"
           }
          ],
          "histogram2dcontour": [
           {
            "colorbar": {
             "outlinewidth": 0,
             "ticks": ""
            },
            "colorscale": [
             [
              0,
              "#0d0887"
             ],
             [
              0.1111111111111111,
              "#46039f"
             ],
             [
              0.2222222222222222,
              "#7201a8"
             ],
             [
              0.3333333333333333,
              "#9c179e"
             ],
             [
              0.4444444444444444,
              "#bd3786"
             ],
             [
              0.5555555555555556,
              "#d8576b"
             ],
             [
              0.6666666666666666,
              "#ed7953"
             ],
             [
              0.7777777777777778,
              "#fb9f3a"
             ],
             [
              0.8888888888888888,
              "#fdca26"
             ],
             [
              1,
              "#f0f921"
             ]
            ],
            "type": "histogram2dcontour"
           }
          ],
          "mesh3d": [
           {
            "colorbar": {
             "outlinewidth": 0,
             "ticks": ""
            },
            "type": "mesh3d"
           }
          ],
          "parcoords": [
           {
            "line": {
             "colorbar": {
              "outlinewidth": 0,
              "ticks": ""
             }
            },
            "type": "parcoords"
           }
          ],
          "pie": [
           {
            "automargin": true,
            "type": "pie"
           }
          ],
          "scatter": [
           {
            "fillpattern": {
             "fillmode": "overlay",
             "size": 10,
             "solidity": 0.2
            },
            "type": "scatter"
           }
          ],
          "scatter3d": [
           {
            "line": {
             "colorbar": {
              "outlinewidth": 0,
              "ticks": ""
             }
            },
            "marker": {
             "colorbar": {
              "outlinewidth": 0,
              "ticks": ""
             }
            },
            "type": "scatter3d"
           }
          ],
          "scattercarpet": [
           {
            "marker": {
             "colorbar": {
              "outlinewidth": 0,
              "ticks": ""
             }
            },
            "type": "scattercarpet"
           }
          ],
          "scattergeo": [
           {
            "marker": {
             "colorbar": {
              "outlinewidth": 0,
              "ticks": ""
             }
            },
            "type": "scattergeo"
           }
          ],
          "scattergl": [
           {
            "marker": {
             "colorbar": {
              "outlinewidth": 0,
              "ticks": ""
             }
            },
            "type": "scattergl"
           }
          ],
          "scattermapbox": [
           {
            "marker": {
             "colorbar": {
              "outlinewidth": 0,
              "ticks": ""
             }
            },
            "type": "scattermapbox"
           }
          ],
          "scatterpolar": [
           {
            "marker": {
             "colorbar": {
              "outlinewidth": 0,
              "ticks": ""
             }
            },
            "type": "scatterpolar"
           }
          ],
          "scatterpolargl": [
           {
            "marker": {
             "colorbar": {
              "outlinewidth": 0,
              "ticks": ""
             }
            },
            "type": "scatterpolargl"
           }
          ],
          "scatterternary": [
           {
            "marker": {
             "colorbar": {
              "outlinewidth": 0,
              "ticks": ""
             }
            },
            "type": "scatterternary"
           }
          ],
          "surface": [
           {
            "colorbar": {
             "outlinewidth": 0,
             "ticks": ""
            },
            "colorscale": [
             [
              0,
              "#0d0887"
             ],
             [
              0.1111111111111111,
              "#46039f"
             ],
             [
              0.2222222222222222,
              "#7201a8"
             ],
             [
              0.3333333333333333,
              "#9c179e"
             ],
             [
              0.4444444444444444,
              "#bd3786"
             ],
             [
              0.5555555555555556,
              "#d8576b"
             ],
             [
              0.6666666666666666,
              "#ed7953"
             ],
             [
              0.7777777777777778,
              "#fb9f3a"
             ],
             [
              0.8888888888888888,
              "#fdca26"
             ],
             [
              1,
              "#f0f921"
             ]
            ],
            "type": "surface"
           }
          ],
          "table": [
           {
            "cells": {
             "fill": {
              "color": "#EBF0F8"
             },
             "line": {
              "color": "white"
             }
            },
            "header": {
             "fill": {
              "color": "#C8D4E3"
             },
             "line": {
              "color": "white"
             }
            },
            "type": "table"
           }
          ]
         },
         "layout": {
          "annotationdefaults": {
           "arrowcolor": "#2a3f5f",
           "arrowhead": 0,
           "arrowwidth": 1
          },
          "autotypenumbers": "strict",
          "coloraxis": {
           "colorbar": {
            "outlinewidth": 0,
            "ticks": ""
           }
          },
          "colorscale": {
           "diverging": [
            [
             0,
             "#8e0152"
            ],
            [
             0.1,
             "#c51b7d"
            ],
            [
             0.2,
             "#de77ae"
            ],
            [
             0.3,
             "#f1b6da"
            ],
            [
             0.4,
             "#fde0ef"
            ],
            [
             0.5,
             "#f7f7f7"
            ],
            [
             0.6,
             "#e6f5d0"
            ],
            [
             0.7,
             "#b8e186"
            ],
            [
             0.8,
             "#7fbc41"
            ],
            [
             0.9,
             "#4d9221"
            ],
            [
             1,
             "#276419"
            ]
           ],
           "sequential": [
            [
             0,
             "#0d0887"
            ],
            [
             0.1111111111111111,
             "#46039f"
            ],
            [
             0.2222222222222222,
             "#7201a8"
            ],
            [
             0.3333333333333333,
             "#9c179e"
            ],
            [
             0.4444444444444444,
             "#bd3786"
            ],
            [
             0.5555555555555556,
             "#d8576b"
            ],
            [
             0.6666666666666666,
             "#ed7953"
            ],
            [
             0.7777777777777778,
             "#fb9f3a"
            ],
            [
             0.8888888888888888,
             "#fdca26"
            ],
            [
             1,
             "#f0f921"
            ]
           ],
           "sequentialminus": [
            [
             0,
             "#0d0887"
            ],
            [
             0.1111111111111111,
             "#46039f"
            ],
            [
             0.2222222222222222,
             "#7201a8"
            ],
            [
             0.3333333333333333,
             "#9c179e"
            ],
            [
             0.4444444444444444,
             "#bd3786"
            ],
            [
             0.5555555555555556,
             "#d8576b"
            ],
            [
             0.6666666666666666,
             "#ed7953"
            ],
            [
             0.7777777777777778,
             "#fb9f3a"
            ],
            [
             0.8888888888888888,
             "#fdca26"
            ],
            [
             1,
             "#f0f921"
            ]
           ]
          },
          "colorway": [
           "#636efa",
           "#EF553B",
           "#00cc96",
           "#ab63fa",
           "#FFA15A",
           "#19d3f3",
           "#FF6692",
           "#B6E880",
           "#FF97FF",
           "#FECB52"
          ],
          "font": {
           "color": "#2a3f5f"
          },
          "geo": {
           "bgcolor": "white",
           "lakecolor": "white",
           "landcolor": "#E5ECF6",
           "showlakes": true,
           "showland": true,
           "subunitcolor": "white"
          },
          "hoverlabel": {
           "align": "left"
          },
          "hovermode": "closest",
          "mapbox": {
           "style": "light"
          },
          "paper_bgcolor": "white",
          "plot_bgcolor": "#E5ECF6",
          "polar": {
           "angularaxis": {
            "gridcolor": "white",
            "linecolor": "white",
            "ticks": ""
           },
           "bgcolor": "#E5ECF6",
           "radialaxis": {
            "gridcolor": "white",
            "linecolor": "white",
            "ticks": ""
           }
          },
          "scene": {
           "xaxis": {
            "backgroundcolor": "#E5ECF6",
            "gridcolor": "white",
            "gridwidth": 2,
            "linecolor": "white",
            "showbackground": true,
            "ticks": "",
            "zerolinecolor": "white"
           },
           "yaxis": {
            "backgroundcolor": "#E5ECF6",
            "gridcolor": "white",
            "gridwidth": 2,
            "linecolor": "white",
            "showbackground": true,
            "ticks": "",
            "zerolinecolor": "white"
           },
           "zaxis": {
            "backgroundcolor": "#E5ECF6",
            "gridcolor": "white",
            "gridwidth": 2,
            "linecolor": "white",
            "showbackground": true,
            "ticks": "",
            "zerolinecolor": "white"
           }
          },
          "shapedefaults": {
           "line": {
            "color": "#2a3f5f"
           }
          },
          "ternary": {
           "aaxis": {
            "gridcolor": "white",
            "linecolor": "white",
            "ticks": ""
           },
           "baxis": {
            "gridcolor": "white",
            "linecolor": "white",
            "ticks": ""
           },
           "bgcolor": "#E5ECF6",
           "caxis": {
            "gridcolor": "white",
            "linecolor": "white",
            "ticks": ""
           }
          },
          "title": {
           "x": 0.05
          },
          "xaxis": {
           "automargin": true,
           "gridcolor": "white",
           "linecolor": "white",
           "ticks": "",
           "title": {
            "standoff": 15
           },
           "zerolinecolor": "white",
           "zerolinewidth": 2
          },
          "yaxis": {
           "automargin": true,
           "gridcolor": "white",
           "linecolor": "white",
           "ticks": "",
           "title": {
            "standoff": 15
           },
           "zerolinecolor": "white",
           "zerolinewidth": 2
          }
         }
        },
        "width": 1000,
        "yaxis": {
         "autorange": "reversed"
        }
       }
      }
     },
     "metadata": {},
     "output_type": "display_data"
    }
   ],
   "source": [
    "fig.show() # Hover over the plagiarised portions to see the source"
   ]
  }
 ],
 "metadata": {
  "kernelspec": {
   "display_name": "Python 3.9.5 ('base')",
   "language": "python",
   "name": "python3"
  },
  "language_info": {
   "codemirror_mode": {
    "name": "ipython",
    "version": 3
   },
   "file_extension": ".py",
   "mimetype": "text/x-python",
   "name": "python",
   "nbconvert_exporter": "python",
   "pygments_lexer": "ipython3",
   "version": "3.9.5"
  },
  "vscode": {
   "interpreter": {
    "hash": "4ded07237dbfafc8373e566cfe932557d647581b6f69415d805b7b9e9b0c4bcc"
   }
  }
 },
 "nbformat": 4,
 "nbformat_minor": 5
}
