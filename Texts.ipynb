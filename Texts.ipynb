{
 "cells": [
  {
   "cell_type": "code",
   "execution_count": null,
   "id": "d657c57f",
   "metadata": {},
   "outputs": [],
   "source": [
    "%pip install tk"
   ]
  },
  {
   "cell_type": "code",
   "execution_count": 40,
   "id": "bbd4c268",
   "metadata": {},
   "outputs": [],
   "source": [
    "from deep_translator import GoogleTranslator\n"
   ]
  },
  {
   "cell_type": "code",
   "execution_count": 42,
   "id": "c9b7ba29",
   "metadata": {},
   "outputs": [],
   "source": [
    "translated = GoogleTranslator(source='english', target='hindi').translate_file('Plag.txt')"
   ]
  },
  {
   "cell_type": "code",
   "execution_count": 43,
   "id": "82b8712d",
   "metadata": {},
   "outputs": [
    {
     "name": "stdout",
     "output_type": "stream",
     "text": [
      "प्रदूषण के प्रभावों को समझना चुनौतीपूर्ण है।\n",
      "यह प्रकृति, मनुष्य, जानवरों को प्रभावित कर सकता है और प्रतिकूल जलवायु परिवर्तन में महत्वपूर्ण भूमिका निभा सकता है।\n",
      "प्राकृतिक संसाधनों का ह्रास और आवासों को नष्ट करना प्रदूषण के महत्वपूर्ण प्रभाव हैं।\n",
      "धुएं में सांस लेने या दूषित भोजन का सेवन करने से प्रदूषण इंसानों को नुकसान पहुंचा सकता है।\n",
      "इसके अलावा, यह अस्थमा, कैंसर और हृदय रोग जैसी स्वास्थ्य समस्याओं का कारण बन सकता है।\n",
      "यह पौधों, जानवरों और प्राकृतिक आवासों को नष्ट करके प्रकृति को भी प्रभावित करता है।\n",
      "एक बार जब बच्चे प्रदूषण के अर्थ और प्रभावों को समझ गए हैं, तो आप उन्हें प्रदूषण पर एक निबंध लिखने के लिए कह सकते हैं।\n",
      "प्रदूषण सर्वव्यापी है और इसने पर्यावरण को हर तरह से प्रभावित किया है।\n",
      "पानी हो, मिट्टी हो या हवा, पर्यावरण का हर तत्व प्रदूषित है।\n",
      "औद्योगिक कचरे को नदियों और जलाशयों में छोड़े जाने से जल प्रदूषित होता है।\n",
      "पानी दूषित होने पर पीने के पानी की आपूर्ति कम हो जाती है।\n",
      "गैर-बायोडिग्रेडेबल तत्वों को डंप करके मिट्टी प्रदूषित होती है, जिसके परिणामस्वरूप विषाक्तता होती है।\n",
      "हानिकारक गैसों के उत्सर्जन से वायु प्रदूषित होती है।\n",
      "कार्बन डाइऑक्साइड उत्सर्जन की एक उच्च मात्रा ने हमें एक खतरनाक बिंदु पर पहुंचा दिया है और यह पृथ्वी पर रहने वाले हर जीव के लिए हानिकारक है।\n",
      "फसलों के लिए कीटनाशकों के अत्यधिक उपयोग ने मिट्टी में रहने वाले सूक्ष्मजीवों को नुकसान पहुंचाया है।\n",
      "जब हम अपशिष्ट प्रबंधन के गलत तरीकों का पालन करते हैं, तो हम प्रदूषण में योगदान करते हैं।\n"
     ]
    }
   ],
   "source": [
    "print(translated)"
   ]
  },
  {
   "cell_type": "code",
   "execution_count": 270,
   "id": "e07ff0bd",
   "metadata": {},
   "outputs": [],
   "source": [
    "\n",
    "A=\"\"\"Do you know what the Mexicans say about Pacific?\n",
    "    They say it has no memory.\n",
    "    That is the place I want to live the rest of my life;\n",
    "    a warm place with no memory.\n",
    "    Open up a little Hotel, take my guests out for fishing.\n",
    "    Charter fishing! They call it.\"\"\"\n",
    "\n",
    "B=\"That is the place I want\""
   ]
  },
  {
   "cell_type": "code",
   "execution_count": 114,
   "id": "e677f523",
   "metadata": {},
   "outputs": [],
   "source": [
    "import numpy as np\n",
    "import re\n",
    "import nltk\n",
    "from numpy.linalg import norm"
   ]
  },
  {
   "cell_type": "code",
   "execution_count": 179,
   "id": "3b812617",
   "metadata": {},
   "outputs": [],
   "source": [
    "def preProcess(text):\n",
    "    text = text.lower()\n",
    "    text = re.sub(r'[^\\w\\s]', '', text)\n",
    "    text = text.replace('\\n', ' ')\n",
    "    text = re.sub(r'\\[.*?\\]|\\{.*\\}', '', text)\n",
    "\n",
    "    return text\n"
   ]
  },
  {
   "cell_type": "code",
   "execution_count": null,
   "id": "6ba0d51d",
   "metadata": {},
   "outputs": [],
   "source": [
    "# Downloading the vocabulary of entire English language\n",
    "!python -m spacy download en_core_web_md"
   ]
  },
  {
   "cell_type": "code",
   "execution_count": null,
   "id": "cb3c7e37",
   "metadata": {},
   "outputs": [],
   "source": [
    "# Downloading the vocabulary of entire English language\n",
    "!python -m spacy download en_core_web_lg"
   ]
  },
  {
   "cell_type": "code",
   "execution_count": 181,
   "id": "ad80c265",
   "metadata": {},
   "outputs": [],
   "source": [
    "import spacy"
   ]
  },
  {
   "cell_type": "code",
   "execution_count": 182,
   "id": "a0e119d9",
   "metadata": {},
   "outputs": [],
   "source": [
    "# Load the language library\n",
    "nlp = spacy.load('en_core_web_lg')"
   ]
  },
  {
   "cell_type": "code",
   "execution_count": 265,
   "id": "1ac313ba",
   "metadata": {},
   "outputs": [
    {
     "data": {
      "text/plain": [
       "Do you know what the Mexicans say about Pacific?\n",
       "    They say it has no memory.\n",
       "    That is the place I want to live the rest of my life;\n",
       "    a warm place with no memory.\n",
       "    Open up a little Hotel, take my guests out for fishing.\n",
       "    Charter fishing! They call it."
      ]
     },
     "execution_count": 265,
     "metadata": {},
     "output_type": "execute_result"
    }
   ],
   "source": [
    "# The vector representation of the paragraph A\n",
    "vecA = nlp(A)\n",
    "vecA"
   ]
  },
  {
   "cell_type": "code",
   "execution_count": 271,
   "id": "567d4ed2",
   "metadata": {},
   "outputs": [],
   "source": [
    "# The vector representation of the paragraph B\n",
    "vecB = nlp(B)"
   ]
  },
  {
   "cell_type": "code",
   "execution_count": 272,
   "id": "4d587377",
   "metadata": {},
   "outputs": [],
   "source": [
    "# Vector for the test Text 'B'\n",
    "X=vecB.vector"
   ]
  },
  {
   "cell_type": "code",
   "execution_count": 278,
   "id": "08031561",
   "metadata": {},
   "outputs": [],
   "source": [
    "# Finding the index in vecA where cosine similarity is maximum with vecB\n",
    "n = len(vecB) # Number of tokens in B\n",
    "ID=0\n",
    "for i in range(len(vecA)-n):\n",
    "    Y=vecA[i:i+n].vector\n",
    "\n",
    "    # Computing the Cosine Similartity between the corresponding 3 words\n",
    "    cosSim = np.dot(X,Y)/(norm(X)*norm(Y))\n",
    "\n",
    "    if(cosSim>0.98):\n",
    "        ID=i\n",
    "        break\n"
   ]
  },
  {
   "cell_type": "code",
   "execution_count": 279,
   "id": "607cc752",
   "metadata": {},
   "outputs": [
    {
     "data": {
      "text/plain": [
       "\n",
       "    That is the place I"
      ]
     },
     "execution_count": 279,
     "metadata": {},
     "output_type": "execute_result"
    }
   ],
   "source": [
    "# The corresponding text in A\n",
    "vecA[ID:ID+n]"
   ]
  }
 ],
 "metadata": {
  "kernelspec": {
   "display_name": "Python 3.9.5 ('base')",
   "language": "python",
   "name": "python3"
  },
  "language_info": {
   "codemirror_mode": {
    "name": "ipython",
    "version": 3
   },
   "file_extension": ".py",
   "mimetype": "text/x-python",
   "name": "python",
   "nbconvert_exporter": "python",
   "pygments_lexer": "ipython3",
   "version": "3.9.5"
  },
  "vscode": {
   "interpreter": {
    "hash": "4ded07237dbfafc8373e566cfe932557d647581b6f69415d805b7b9e9b0c4bcc"
   }
  }
 },
 "nbformat": 4,
 "nbformat_minor": 5
}
